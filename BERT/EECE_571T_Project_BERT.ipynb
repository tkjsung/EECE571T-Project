{
  "cells": [
    {
      "cell_type": "markdown",
      "metadata": {
        "id": "ELaILu9SPaoy"
      },
      "source": [
        "# EECE 571T Project - NLP with Emotion Dataset (BERT)\n",
        "\n",
        "Focus: BERT\n",
        "<br>\n",
        "Author: Tom Sung\n",
        "\n",
        "Last updated:\n",
        "* Date: March 11, 2022\n",
        "* Time: 1:37pm"
      ]
    },
    {
      "cell_type": "code",
      "source": [
        "# Check detected system hardware resources.\n",
        "# import os\n",
        "# os.environ['TF_CPP_MIN_LOG_LEVEL'] = '2'\n",
        "import tensorflow as tf\n",
        "print(\"TensorFlow version:\", tf.__version__)\n",
        "print(\"Num GPUs Available: \", len(tf.config.experimental.list_physical_devices('GPU')))\n",
        "print(\"Num CPUs Available: \", len(tf.config.experimental.list_physical_devices('CPU')))"
      ],
      "metadata": {
        "colab": {
          "base_uri": "https://localhost:8080/"
        },
        "id": "TEI9wPQ8ylyo",
        "outputId": "766b8481-a29b-41c1-e420-7903c93737e5"
      },
      "execution_count": null,
      "outputs": [
        {
          "output_type": "stream",
          "name": "stdout",
          "text": [
            "TensorFlow version: 2.8.0\n",
            "Num GPUs Available:  1\n",
            "Num CPUs Available:  1\n"
          ]
        }
      ]
    },
    {
      "cell_type": "markdown",
      "metadata": {
        "id": "ifCzi282UO64",
        "tags": []
      },
      "source": [
        "## References\n",
        "\n",
        "* Text Classification tutorial: https://github.com/adsieg/Multi_Text_Classification\n",
        "* From same author:\n",
        "    * [**Feb.17**] This is used for the Word Embedding part: https://towardsdatascience.com/text-classification-with-nlp-tf-idf-vs-word2vec-vs-bert-41ff868d1794 (Try following these instructions next)\n",
        "    * [**Feb.17**] https://towardsdatascience.com/text-analysis-feature-engineering-with-nlp-502d6ea9225d\n",
        "* Different Pre-Processing Techniques with Bag of Words w/ TF-IDF, Word Embedding, and BERT: https://towardsdatascience.com/text-classification-with-nlp-tf-idf-vs-word2vec-vs-bert-41ff868d1794"
      ]
    },
    {
      "cell_type": "markdown",
      "metadata": {
        "id": "UFTJfJkrO06u",
        "tags": []
      },
      "source": [
        "## Get data from GitHub repo\n",
        "\n",
        "**Only run this once even after if notebook environment is cleared via** `%reset -f`. The code written here imports the Kaggle data set, which I have placed on my public GitHub repo."
      ]
    },
    {
      "cell_type": "code",
      "execution_count": null,
      "metadata": {
        "id": "724_Q82ZOihs",
        "colab": {
          "base_uri": "https://localhost:8080/"
        },
        "outputId": "62b976ea-8066-477b-8505-5ea8f8fc8b6f"
      },
      "outputs": [
        {
          "output_type": "stream",
          "name": "stdout",
          "text": [
            "--2022-03-11 23:51:15--  https://github.com/tkjsung/EECE571T_Dataset/archive/refs/heads/master.zip\n",
            "Resolving github.com (github.com)... 140.82.113.4\n",
            "Connecting to github.com (github.com)|140.82.113.4|:443... connected.\n",
            "HTTP request sent, awaiting response... 302 Found\n",
            "Location: https://codeload.github.com/tkjsung/EECE571T_Dataset/zip/refs/heads/master [following]\n",
            "--2022-03-11 23:51:15--  https://codeload.github.com/tkjsung/EECE571T_Dataset/zip/refs/heads/master\n",
            "Resolving codeload.github.com (codeload.github.com)... 140.82.112.9\n",
            "Connecting to codeload.github.com (codeload.github.com)|140.82.112.9|:443... connected.\n",
            "HTTP request sent, awaiting response... 200 OK\n",
            "Length: unspecified [application/zip]\n",
            "Saving to: ‘master.zip’\n",
            "\n",
            "master.zip              [  <=>               ] 798.87K  3.41MB/s    in 0.2s    \n",
            "\n",
            "2022-03-11 23:51:16 (3.41 MB/s) - ‘master.zip’ saved [818042]\n",
            "\n",
            "Archive:  /content/master.zip\n",
            "f84fef58c648047c03c671498e0375bf224f000e\n",
            "   creating: EECE571T_Dataset-master/\n",
            "  inflating: EECE571T_Dataset-master/.gitignore  \n",
            "   creating: EECE571T_Dataset-master/Assignment 1/\n",
            "  inflating: EECE571T_Dataset-master/Assignment 1/.DS_Store  \n",
            "   creating: EECE571T_Dataset-master/Assignment 1/Section 2/\n",
            "  inflating: EECE571T_Dataset-master/Assignment 1/Section 2/README.md  \n",
            "  inflating: EECE571T_Dataset-master/Assignment 1/Section 2/winequality-red.csv  \n",
            "  inflating: EECE571T_Dataset-master/Assignment 1/Section 2/winequality-white.csv  \n",
            "   creating: EECE571T_Dataset-master/Project/\n",
            "  inflating: EECE571T_Dataset-master/Project/test.txt  \n",
            "  inflating: EECE571T_Dataset-master/Project/train.txt  \n",
            "  inflating: EECE571T_Dataset-master/Project/val.txt  \n",
            "  inflating: EECE571T_Dataset-master/README.md  \n"
          ]
        }
      ],
      "source": [
        "!wget https://github.com/tkjsung/EECE571T_Dataset/archive/refs/heads/master.zip\n",
        "!unzip /content/master.zip\n",
        "# For local computer use:\n",
        "# !unzip master.zip"
      ]
    },
    {
      "cell_type": "markdown",
      "metadata": {
        "id": "LWVt__H7R9zl",
        "tags": []
      },
      "source": [
        "## Import Data"
      ]
    },
    {
      "cell_type": "code",
      "execution_count": null,
      "metadata": {
        "id": "iKV__yZmPWsQ"
      },
      "outputs": [],
      "source": [
        "# Import libraries for data import\n",
        "import pandas as pd\n",
        "import matplotlib.pyplot as plt\n",
        "import numpy as np\n",
        "\n",
        "%matplotlib inline"
      ]
    },
    {
      "cell_type": "code",
      "execution_count": null,
      "metadata": {
        "id": "mMWomGTaPSES"
      },
      "outputs": [],
      "source": [
        "# Read CSV\n",
        "# data_train = pd.read_csv('/content/EECE571T_Dataset-master/Project/train.txt',sep=';', header=None)\n",
        "# data_test = pd.read_csv('/content/EECE571T_Dataset-master/Project/test.txt',sep=';', header=None)\n",
        "# data_val = pd.read_csv('/content/EECE571T_Dataset-master/Project/val.txt',sep=';', header=None)\n",
        "\n",
        "# Read CSV on local computer\n",
        "data_train = pd.read_csv('EECE571T_Dataset-master/Project/train.txt',sep=';', header=None)\n",
        "data_test = pd.read_csv('EECE571T_Dataset-master/Project/test.txt',sep=';', header=None)\n",
        "data_val = pd.read_csv('EECE571T_Dataset-master/Project/val.txt',sep=';', header=None)"
      ]
    },
    {
      "cell_type": "code",
      "execution_count": null,
      "metadata": {
        "id": "AtXW9_Z2Pbtq"
      },
      "outputs": [],
      "source": [
        "col_names = [\"sentence\",\"emotion\"]\n",
        "data_train.columns = col_names\n",
        "data_test.columns = col_names\n",
        "data_val.columns = col_names"
      ]
    },
    {
      "cell_type": "code",
      "execution_count": null,
      "metadata": {
        "id": "GC4V-55GSaVT",
        "colab": {
          "base_uri": "https://localhost:8080/",
          "height": 557
        },
        "outputId": "bb7b3d9f-67cc-4a37-8c24-fc62059cec9a"
      },
      "outputs": [
        {
          "output_type": "execute_result",
          "data": {
            "text/plain": [
              "                                            sentence  emotion\n",
              "0                            i didnt feel humiliated  sadness\n",
              "1  i can go from feeling so hopeless to so damned...  sadness\n",
              "2   im grabbing a minute to post i feel greedy wrong    anger\n",
              "3  i am ever feeling nostalgic about the fireplac...     love\n",
              "4                               i am feeling grouchy    anger"
            ],
            "text/html": [
              "\n",
              "  <div id=\"df-e5589733-76ee-4ed7-93bd-45a94fda5827\">\n",
              "    <div class=\"colab-df-container\">\n",
              "      <div>\n",
              "<style scoped>\n",
              "    .dataframe tbody tr th:only-of-type {\n",
              "        vertical-align: middle;\n",
              "    }\n",
              "\n",
              "    .dataframe tbody tr th {\n",
              "        vertical-align: top;\n",
              "    }\n",
              "\n",
              "    .dataframe thead th {\n",
              "        text-align: right;\n",
              "    }\n",
              "</style>\n",
              "<table border=\"1\" class=\"dataframe\">\n",
              "  <thead>\n",
              "    <tr style=\"text-align: right;\">\n",
              "      <th></th>\n",
              "      <th>sentence</th>\n",
              "      <th>emotion</th>\n",
              "    </tr>\n",
              "  </thead>\n",
              "  <tbody>\n",
              "    <tr>\n",
              "      <th>0</th>\n",
              "      <td>i didnt feel humiliated</td>\n",
              "      <td>sadness</td>\n",
              "    </tr>\n",
              "    <tr>\n",
              "      <th>1</th>\n",
              "      <td>i can go from feeling so hopeless to so damned...</td>\n",
              "      <td>sadness</td>\n",
              "    </tr>\n",
              "    <tr>\n",
              "      <th>2</th>\n",
              "      <td>im grabbing a minute to post i feel greedy wrong</td>\n",
              "      <td>anger</td>\n",
              "    </tr>\n",
              "    <tr>\n",
              "      <th>3</th>\n",
              "      <td>i am ever feeling nostalgic about the fireplac...</td>\n",
              "      <td>love</td>\n",
              "    </tr>\n",
              "    <tr>\n",
              "      <th>4</th>\n",
              "      <td>i am feeling grouchy</td>\n",
              "      <td>anger</td>\n",
              "    </tr>\n",
              "  </tbody>\n",
              "</table>\n",
              "</div>\n",
              "      <button class=\"colab-df-convert\" onclick=\"convertToInteractive('df-e5589733-76ee-4ed7-93bd-45a94fda5827')\"\n",
              "              title=\"Convert this dataframe to an interactive table.\"\n",
              "              style=\"display:none;\">\n",
              "        \n",
              "  <svg xmlns=\"http://www.w3.org/2000/svg\" height=\"24px\"viewBox=\"0 0 24 24\"\n",
              "       width=\"24px\">\n",
              "    <path d=\"M0 0h24v24H0V0z\" fill=\"none\"/>\n",
              "    <path d=\"M18.56 5.44l.94 2.06.94-2.06 2.06-.94-2.06-.94-.94-2.06-.94 2.06-2.06.94zm-11 1L8.5 8.5l.94-2.06 2.06-.94-2.06-.94L8.5 2.5l-.94 2.06-2.06.94zm10 10l.94 2.06.94-2.06 2.06-.94-2.06-.94-.94-2.06-.94 2.06-2.06.94z\"/><path d=\"M17.41 7.96l-1.37-1.37c-.4-.4-.92-.59-1.43-.59-.52 0-1.04.2-1.43.59L10.3 9.45l-7.72 7.72c-.78.78-.78 2.05 0 2.83L4 21.41c.39.39.9.59 1.41.59.51 0 1.02-.2 1.41-.59l7.78-7.78 2.81-2.81c.8-.78.8-2.07 0-2.86zM5.41 20L4 18.59l7.72-7.72 1.47 1.35L5.41 20z\"/>\n",
              "  </svg>\n",
              "      </button>\n",
              "      \n",
              "  <style>\n",
              "    .colab-df-container {\n",
              "      display:flex;\n",
              "      flex-wrap:wrap;\n",
              "      gap: 12px;\n",
              "    }\n",
              "\n",
              "    .colab-df-convert {\n",
              "      background-color: #E8F0FE;\n",
              "      border: none;\n",
              "      border-radius: 50%;\n",
              "      cursor: pointer;\n",
              "      display: none;\n",
              "      fill: #1967D2;\n",
              "      height: 32px;\n",
              "      padding: 0 0 0 0;\n",
              "      width: 32px;\n",
              "    }\n",
              "\n",
              "    .colab-df-convert:hover {\n",
              "      background-color: #E2EBFA;\n",
              "      box-shadow: 0px 1px 2px rgba(60, 64, 67, 0.3), 0px 1px 3px 1px rgba(60, 64, 67, 0.15);\n",
              "      fill: #174EA6;\n",
              "    }\n",
              "\n",
              "    [theme=dark] .colab-df-convert {\n",
              "      background-color: #3B4455;\n",
              "      fill: #D2E3FC;\n",
              "    }\n",
              "\n",
              "    [theme=dark] .colab-df-convert:hover {\n",
              "      background-color: #434B5C;\n",
              "      box-shadow: 0px 1px 3px 1px rgba(0, 0, 0, 0.15);\n",
              "      filter: drop-shadow(0px 1px 2px rgba(0, 0, 0, 0.3));\n",
              "      fill: #FFFFFF;\n",
              "    }\n",
              "  </style>\n",
              "\n",
              "      <script>\n",
              "        const buttonEl =\n",
              "          document.querySelector('#df-e5589733-76ee-4ed7-93bd-45a94fda5827 button.colab-df-convert');\n",
              "        buttonEl.style.display =\n",
              "          google.colab.kernel.accessAllowed ? 'block' : 'none';\n",
              "\n",
              "        async function convertToInteractive(key) {\n",
              "          const element = document.querySelector('#df-e5589733-76ee-4ed7-93bd-45a94fda5827');\n",
              "          const dataTable =\n",
              "            await google.colab.kernel.invokeFunction('convertToInteractive',\n",
              "                                                     [key], {});\n",
              "          if (!dataTable) return;\n",
              "\n",
              "          const docLinkHtml = 'Like what you see? Visit the ' +\n",
              "            '<a target=\"_blank\" href=https://colab.research.google.com/notebooks/data_table.ipynb>data table notebook</a>'\n",
              "            + ' to learn more about interactive tables.';\n",
              "          element.innerHTML = '';\n",
              "          dataTable['output_type'] = 'display_data';\n",
              "          await google.colab.output.renderOutput(dataTable, element);\n",
              "          const docLink = document.createElement('div');\n",
              "          docLink.innerHTML = docLinkHtml;\n",
              "          element.appendChild(docLink);\n",
              "        }\n",
              "      </script>\n",
              "    </div>\n",
              "  </div>\n",
              "  "
            ]
          },
          "metadata": {},
          "execution_count": 6
        }
      ],
      "source": [
        "# See the data head to make sure data is imported correctly.\n",
        "data_train.head()\n",
        "# data_test.head()\n",
        "# data_val.head()"
      ]
    },
    {
      "cell_type": "markdown",
      "metadata": {
        "id": "PLR3Zasdel1c",
        "jp-MarkdownHeadingCollapsed": true,
        "tags": []
      },
      "source": [
        "## Encode the emotion labels with unique identifiers"
      ]
    },
    {
      "cell_type": "code",
      "execution_count": null,
      "metadata": {
        "id": "oFJvTfXTdrN6"
      },
      "outputs": [],
      "source": [
        "from sklearn.preprocessing import LabelEncoder\n",
        "# Encode the emotion labels with unique identifiers\n",
        "data_train['emotion'].unique()\n",
        "labelencoder = LabelEncoder()\n",
        "data_train['emotion_enc'] = labelencoder.fit_transform(data_train['emotion'])\n",
        "data_test['emotion_enc'] = labelencoder.fit_transform(data_test['emotion'])\n",
        "data_val['emotion_enc'] = labelencoder.fit_transform(data_val['emotion'])\n",
        "# For data_test and data_val, use the same labelencoder. Make sure it's the same by using the display code below."
      ]
    },
    {
      "cell_type": "markdown",
      "metadata": {
        "id": "X-bBnrKVoiBT"
      },
      "source": [
        "Display the encoded emotion labels"
      ]
    },
    {
      "cell_type": "code",
      "execution_count": null,
      "metadata": {
        "id": "kkm7wEN1fnMX",
        "colab": {
          "base_uri": "https://localhost:8080/",
          "height": 299
        },
        "outputId": "9a303980-ed6b-4e8f-976e-90f1215ff099"
      },
      "outputs": [
        {
          "output_type": "execute_result",
          "data": {
            "text/plain": [
              "    emotion  emotion_enc\n",
              "0   sadness            4\n",
              "2     anger            0\n",
              "3      love            3\n",
              "6  surprise            5\n",
              "7      fear            1\n",
              "8       joy            2"
            ],
            "text/html": [
              "\n",
              "  <div id=\"df-cdab53c3-22be-44a7-a527-592d8dbd5fc4\">\n",
              "    <div class=\"colab-df-container\">\n",
              "      <div>\n",
              "<style scoped>\n",
              "    .dataframe tbody tr th:only-of-type {\n",
              "        vertical-align: middle;\n",
              "    }\n",
              "\n",
              "    .dataframe tbody tr th {\n",
              "        vertical-align: top;\n",
              "    }\n",
              "\n",
              "    .dataframe thead th {\n",
              "        text-align: right;\n",
              "    }\n",
              "</style>\n",
              "<table border=\"1\" class=\"dataframe\">\n",
              "  <thead>\n",
              "    <tr style=\"text-align: right;\">\n",
              "      <th></th>\n",
              "      <th>emotion</th>\n",
              "      <th>emotion_enc</th>\n",
              "    </tr>\n",
              "  </thead>\n",
              "  <tbody>\n",
              "    <tr>\n",
              "      <th>0</th>\n",
              "      <td>sadness</td>\n",
              "      <td>4</td>\n",
              "    </tr>\n",
              "    <tr>\n",
              "      <th>2</th>\n",
              "      <td>anger</td>\n",
              "      <td>0</td>\n",
              "    </tr>\n",
              "    <tr>\n",
              "      <th>3</th>\n",
              "      <td>love</td>\n",
              "      <td>3</td>\n",
              "    </tr>\n",
              "    <tr>\n",
              "      <th>6</th>\n",
              "      <td>surprise</td>\n",
              "      <td>5</td>\n",
              "    </tr>\n",
              "    <tr>\n",
              "      <th>7</th>\n",
              "      <td>fear</td>\n",
              "      <td>1</td>\n",
              "    </tr>\n",
              "    <tr>\n",
              "      <th>8</th>\n",
              "      <td>joy</td>\n",
              "      <td>2</td>\n",
              "    </tr>\n",
              "  </tbody>\n",
              "</table>\n",
              "</div>\n",
              "      <button class=\"colab-df-convert\" onclick=\"convertToInteractive('df-cdab53c3-22be-44a7-a527-592d8dbd5fc4')\"\n",
              "              title=\"Convert this dataframe to an interactive table.\"\n",
              "              style=\"display:none;\">\n",
              "        \n",
              "  <svg xmlns=\"http://www.w3.org/2000/svg\" height=\"24px\"viewBox=\"0 0 24 24\"\n",
              "       width=\"24px\">\n",
              "    <path d=\"M0 0h24v24H0V0z\" fill=\"none\"/>\n",
              "    <path d=\"M18.56 5.44l.94 2.06.94-2.06 2.06-.94-2.06-.94-.94-2.06-.94 2.06-2.06.94zm-11 1L8.5 8.5l.94-2.06 2.06-.94-2.06-.94L8.5 2.5l-.94 2.06-2.06.94zm10 10l.94 2.06.94-2.06 2.06-.94-2.06-.94-.94-2.06-.94 2.06-2.06.94z\"/><path d=\"M17.41 7.96l-1.37-1.37c-.4-.4-.92-.59-1.43-.59-.52 0-1.04.2-1.43.59L10.3 9.45l-7.72 7.72c-.78.78-.78 2.05 0 2.83L4 21.41c.39.39.9.59 1.41.59.51 0 1.02-.2 1.41-.59l7.78-7.78 2.81-2.81c.8-.78.8-2.07 0-2.86zM5.41 20L4 18.59l7.72-7.72 1.47 1.35L5.41 20z\"/>\n",
              "  </svg>\n",
              "      </button>\n",
              "      \n",
              "  <style>\n",
              "    .colab-df-container {\n",
              "      display:flex;\n",
              "      flex-wrap:wrap;\n",
              "      gap: 12px;\n",
              "    }\n",
              "\n",
              "    .colab-df-convert {\n",
              "      background-color: #E8F0FE;\n",
              "      border: none;\n",
              "      border-radius: 50%;\n",
              "      cursor: pointer;\n",
              "      display: none;\n",
              "      fill: #1967D2;\n",
              "      height: 32px;\n",
              "      padding: 0 0 0 0;\n",
              "      width: 32px;\n",
              "    }\n",
              "\n",
              "    .colab-df-convert:hover {\n",
              "      background-color: #E2EBFA;\n",
              "      box-shadow: 0px 1px 2px rgba(60, 64, 67, 0.3), 0px 1px 3px 1px rgba(60, 64, 67, 0.15);\n",
              "      fill: #174EA6;\n",
              "    }\n",
              "\n",
              "    [theme=dark] .colab-df-convert {\n",
              "      background-color: #3B4455;\n",
              "      fill: #D2E3FC;\n",
              "    }\n",
              "\n",
              "    [theme=dark] .colab-df-convert:hover {\n",
              "      background-color: #434B5C;\n",
              "      box-shadow: 0px 1px 3px 1px rgba(0, 0, 0, 0.15);\n",
              "      filter: drop-shadow(0px 1px 2px rgba(0, 0, 0, 0.3));\n",
              "      fill: #FFFFFF;\n",
              "    }\n",
              "  </style>\n",
              "\n",
              "      <script>\n",
              "        const buttonEl =\n",
              "          document.querySelector('#df-cdab53c3-22be-44a7-a527-592d8dbd5fc4 button.colab-df-convert');\n",
              "        buttonEl.style.display =\n",
              "          google.colab.kernel.accessAllowed ? 'block' : 'none';\n",
              "\n",
              "        async function convertToInteractive(key) {\n",
              "          const element = document.querySelector('#df-cdab53c3-22be-44a7-a527-592d8dbd5fc4');\n",
              "          const dataTable =\n",
              "            await google.colab.kernel.invokeFunction('convertToInteractive',\n",
              "                                                     [key], {});\n",
              "          if (!dataTable) return;\n",
              "\n",
              "          const docLinkHtml = 'Like what you see? Visit the ' +\n",
              "            '<a target=\"_blank\" href=https://colab.research.google.com/notebooks/data_table.ipynb>data table notebook</a>'\n",
              "            + ' to learn more about interactive tables.';\n",
              "          element.innerHTML = '';\n",
              "          dataTable['output_type'] = 'display_data';\n",
              "          await google.colab.output.renderOutput(dataTable, element);\n",
              "          const docLink = document.createElement('div');\n",
              "          docLink.innerHTML = docLinkHtml;\n",
              "          element.appendChild(docLink);\n",
              "        }\n",
              "      </script>\n",
              "    </div>\n",
              "  </div>\n",
              "  "
            ]
          },
          "metadata": {},
          "execution_count": 8
        }
      ],
      "source": [
        "data_train[['emotion','emotion_enc']].drop_duplicates(keep='first')\n",
        "# data_test[['emotion','emotion_enc']].drop_duplicates(keep='first')\n",
        "# data_val[['emotion','emotion_enc']].drop_duplicates(keep='first')"
      ]
    },
    {
      "cell_type": "markdown",
      "metadata": {
        "id": "zhyCE_IromWn"
      },
      "source": [
        "[OLD-Don't need this] ~Add sentence length to each sentence. It should calculate number of characters, including spaces and punctuation.~"
      ]
    },
    {
      "cell_type": "code",
      "execution_count": null,
      "metadata": {
        "id": "L0bFupawluI7"
      },
      "outputs": [],
      "source": [
        "# data_train['length'] = [len(x) for x in data_train['sentence']]\n",
        "# data_test['length'] = [len(x) for x in data_test['sentence']]\n",
        "# data_val['length'] = [len(x) for x in data_val['sentence']]"
      ]
    },
    {
      "cell_type": "code",
      "execution_count": null,
      "metadata": {
        "id": "lLROznaxHPNU",
        "colab": {
          "base_uri": "https://localhost:8080/",
          "height": 557
        },
        "outputId": "d40da90e-1d49-4156-af0b-015a26202b1f"
      },
      "outputs": [
        {
          "output_type": "execute_result",
          "data": {
            "text/plain": [
              "                                            sentence  emotion  emotion_enc\n",
              "0  im feeling quite sad and sorry for myself but ...  sadness            4\n",
              "1  i feel like i am still looking at a blank canv...  sadness            4\n",
              "2                     i feel like a faithful servant     love            3\n",
              "3                  i am just feeling cranky and blue    anger            0\n",
              "4  i can have for a treat or if i am feeling festive      joy            2"
            ],
            "text/html": [
              "\n",
              "  <div id=\"df-716e2e74-1bd6-47b4-a262-e22b0db8e636\">\n",
              "    <div class=\"colab-df-container\">\n",
              "      <div>\n",
              "<style scoped>\n",
              "    .dataframe tbody tr th:only-of-type {\n",
              "        vertical-align: middle;\n",
              "    }\n",
              "\n",
              "    .dataframe tbody tr th {\n",
              "        vertical-align: top;\n",
              "    }\n",
              "\n",
              "    .dataframe thead th {\n",
              "        text-align: right;\n",
              "    }\n",
              "</style>\n",
              "<table border=\"1\" class=\"dataframe\">\n",
              "  <thead>\n",
              "    <tr style=\"text-align: right;\">\n",
              "      <th></th>\n",
              "      <th>sentence</th>\n",
              "      <th>emotion</th>\n",
              "      <th>emotion_enc</th>\n",
              "    </tr>\n",
              "  </thead>\n",
              "  <tbody>\n",
              "    <tr>\n",
              "      <th>0</th>\n",
              "      <td>im feeling quite sad and sorry for myself but ...</td>\n",
              "      <td>sadness</td>\n",
              "      <td>4</td>\n",
              "    </tr>\n",
              "    <tr>\n",
              "      <th>1</th>\n",
              "      <td>i feel like i am still looking at a blank canv...</td>\n",
              "      <td>sadness</td>\n",
              "      <td>4</td>\n",
              "    </tr>\n",
              "    <tr>\n",
              "      <th>2</th>\n",
              "      <td>i feel like a faithful servant</td>\n",
              "      <td>love</td>\n",
              "      <td>3</td>\n",
              "    </tr>\n",
              "    <tr>\n",
              "      <th>3</th>\n",
              "      <td>i am just feeling cranky and blue</td>\n",
              "      <td>anger</td>\n",
              "      <td>0</td>\n",
              "    </tr>\n",
              "    <tr>\n",
              "      <th>4</th>\n",
              "      <td>i can have for a treat or if i am feeling festive</td>\n",
              "      <td>joy</td>\n",
              "      <td>2</td>\n",
              "    </tr>\n",
              "  </tbody>\n",
              "</table>\n",
              "</div>\n",
              "      <button class=\"colab-df-convert\" onclick=\"convertToInteractive('df-716e2e74-1bd6-47b4-a262-e22b0db8e636')\"\n",
              "              title=\"Convert this dataframe to an interactive table.\"\n",
              "              style=\"display:none;\">\n",
              "        \n",
              "  <svg xmlns=\"http://www.w3.org/2000/svg\" height=\"24px\"viewBox=\"0 0 24 24\"\n",
              "       width=\"24px\">\n",
              "    <path d=\"M0 0h24v24H0V0z\" fill=\"none\"/>\n",
              "    <path d=\"M18.56 5.44l.94 2.06.94-2.06 2.06-.94-2.06-.94-.94-2.06-.94 2.06-2.06.94zm-11 1L8.5 8.5l.94-2.06 2.06-.94-2.06-.94L8.5 2.5l-.94 2.06-2.06.94zm10 10l.94 2.06.94-2.06 2.06-.94-2.06-.94-.94-2.06-.94 2.06-2.06.94z\"/><path d=\"M17.41 7.96l-1.37-1.37c-.4-.4-.92-.59-1.43-.59-.52 0-1.04.2-1.43.59L10.3 9.45l-7.72 7.72c-.78.78-.78 2.05 0 2.83L4 21.41c.39.39.9.59 1.41.59.51 0 1.02-.2 1.41-.59l7.78-7.78 2.81-2.81c.8-.78.8-2.07 0-2.86zM5.41 20L4 18.59l7.72-7.72 1.47 1.35L5.41 20z\"/>\n",
              "  </svg>\n",
              "      </button>\n",
              "      \n",
              "  <style>\n",
              "    .colab-df-container {\n",
              "      display:flex;\n",
              "      flex-wrap:wrap;\n",
              "      gap: 12px;\n",
              "    }\n",
              "\n",
              "    .colab-df-convert {\n",
              "      background-color: #E8F0FE;\n",
              "      border: none;\n",
              "      border-radius: 50%;\n",
              "      cursor: pointer;\n",
              "      display: none;\n",
              "      fill: #1967D2;\n",
              "      height: 32px;\n",
              "      padding: 0 0 0 0;\n",
              "      width: 32px;\n",
              "    }\n",
              "\n",
              "    .colab-df-convert:hover {\n",
              "      background-color: #E2EBFA;\n",
              "      box-shadow: 0px 1px 2px rgba(60, 64, 67, 0.3), 0px 1px 3px 1px rgba(60, 64, 67, 0.15);\n",
              "      fill: #174EA6;\n",
              "    }\n",
              "\n",
              "    [theme=dark] .colab-df-convert {\n",
              "      background-color: #3B4455;\n",
              "      fill: #D2E3FC;\n",
              "    }\n",
              "\n",
              "    [theme=dark] .colab-df-convert:hover {\n",
              "      background-color: #434B5C;\n",
              "      box-shadow: 0px 1px 3px 1px rgba(0, 0, 0, 0.15);\n",
              "      filter: drop-shadow(0px 1px 2px rgba(0, 0, 0, 0.3));\n",
              "      fill: #FFFFFF;\n",
              "    }\n",
              "  </style>\n",
              "\n",
              "      <script>\n",
              "        const buttonEl =\n",
              "          document.querySelector('#df-716e2e74-1bd6-47b4-a262-e22b0db8e636 button.colab-df-convert');\n",
              "        buttonEl.style.display =\n",
              "          google.colab.kernel.accessAllowed ? 'block' : 'none';\n",
              "\n",
              "        async function convertToInteractive(key) {\n",
              "          const element = document.querySelector('#df-716e2e74-1bd6-47b4-a262-e22b0db8e636');\n",
              "          const dataTable =\n",
              "            await google.colab.kernel.invokeFunction('convertToInteractive',\n",
              "                                                     [key], {});\n",
              "          if (!dataTable) return;\n",
              "\n",
              "          const docLinkHtml = 'Like what you see? Visit the ' +\n",
              "            '<a target=\"_blank\" href=https://colab.research.google.com/notebooks/data_table.ipynb>data table notebook</a>'\n",
              "            + ' to learn more about interactive tables.';\n",
              "          element.innerHTML = '';\n",
              "          dataTable['output_type'] = 'display_data';\n",
              "          await google.colab.output.renderOutput(dataTable, element);\n",
              "          const docLink = document.createElement('div');\n",
              "          docLink.innerHTML = docLinkHtml;\n",
              "          element.appendChild(docLink);\n",
              "        }\n",
              "      </script>\n",
              "    </div>\n",
              "  </div>\n",
              "  "
            ]
          },
          "metadata": {},
          "execution_count": 10
        }
      ],
      "source": [
        "data_train.head()\n",
        "data_test.head()\n",
        "data_val.head()"
      ]
    },
    {
      "cell_type": "markdown",
      "metadata": {
        "id": "9IU3wyOOocsQ"
      },
      "source": [
        "[OLD-Unncessary] ~Finding the maximum sentence length. It seems to be 300. From the testing and validation set, they are 296 and 295, respectively.~"
      ]
    },
    {
      "cell_type": "code",
      "execution_count": null,
      "metadata": {
        "id": "hhBSqPnQoL-l"
      },
      "outputs": [],
      "source": [
        "# max_len = data_train['length'].max()\n",
        "# print(max_len)"
      ]
    },
    {
      "cell_type": "markdown",
      "metadata": {
        "id": "0DW_8szfEo1T",
        "jp-MarkdownHeadingCollapsed": true,
        "tags": []
      },
      "source": [
        "## Data Cleaning"
      ]
    },
    {
      "cell_type": "markdown",
      "metadata": {
        "id": "xKULabmoEqMt"
      },
      "source": [
        "We need to do some data cleaning first~, otherwise it would be a nightmare to do pre-processing with at least 15212 vocabulary words...~"
      ]
    },
    {
      "cell_type": "markdown",
      "source": [
        "**Data Cleaning Process:** Keep only words, convert all words to lowercase, split all words, remove stopwords, lemmization for word root.<br>\n",
        "The result of all of this work is a cleaned data vocab list."
      ],
      "metadata": {
        "id": "6uE7b3QZrB6O"
      }
    },
    {
      "cell_type": "markdown",
      "metadata": {
        "id": "hHVXM1f4iYf6"
      },
      "source": [
        "Replace stemming with lemmization, which keeps the actual form of the word better. This is necessary for using pre-existing word embedding models.\n",
        "Source: https://blog.bitext.com/what-is-the-difference-between-stemming-and-lemmatization/"
      ]
    },
    {
      "cell_type": "code",
      "execution_count": null,
      "metadata": {
        "id": "pJWWXLcFdzc1",
        "colab": {
          "base_uri": "https://localhost:8080/"
        },
        "outputId": "bc71910f-0fda-4a84-faa0-cf36c5228ca8"
      },
      "outputs": [
        {
          "output_type": "stream",
          "name": "stdout",
          "text": [
            "[nltk_data] Downloading package punkt to /root/nltk_data...\n",
            "[nltk_data]   Unzipping tokenizers/punkt.zip.\n",
            "[nltk_data] Downloading package stopwords to /root/nltk_data...\n",
            "[nltk_data]   Unzipping corpora/stopwords.zip.\n",
            "[nltk_data] Downloading package wordnet to /root/nltk_data...\n",
            "[nltk_data]   Unzipping corpora/wordnet.zip.\n",
            "[nltk_data] Downloading package omw-1.4 to /root/nltk_data...\n",
            "[nltk_data]   Unzipping corpora/omw-1.4.zip.\n"
          ]
        }
      ],
      "source": [
        "import re\n",
        "import pandas as pd\n",
        "import nltk\n",
        "from nltk.corpus import stopwords\n",
        "from nltk.stem import PorterStemmer\n",
        "from nltk.tokenize import sent_tokenize, word_tokenize\n",
        "from nltk.corpus import stopwords\n",
        "from nltk.stem import WordNetLemmatizer\n",
        "nltk.download('punkt')\n",
        "nltk.download('stopwords')\n",
        "nltk.download('wordnet')\n",
        "nltk.download('omw-1.4')\n",
        "\n",
        "# Attempting data cleaning here\n",
        "def preprocess(raw_text):\n",
        "    # keep only words\n",
        "    letters_only_text = re.sub(\"[^a-zA-Z]\", \" \", raw_text)\n",
        "\n",
        "    # convert to lower case and split \n",
        "    words = letters_only_text.lower().split()\n",
        "\n",
        "    # remove stopwords\n",
        "    stopword_set = set(stopwords.words(\"english\"))\n",
        "    meaningful_words = [w for w in words if w not in stopword_set]\n",
        "    \n",
        "    # stemmed words (looks like this is causing some words to be weird)\n",
        "    # ps = PorterStemmer()\n",
        "    # stemmed_words = [ps.stem(word) for word in meaningful_words]\n",
        "\n",
        "    # lemmed words (trying this because this gets the root word?)\n",
        "    lem = WordNetLemmatizer()\n",
        "    lemmed_words = [lem.lemmatize(word) for word in meaningful_words]\n",
        "    \n",
        "    # join the cleaned words in a list\n",
        "    # cleaned_word_list = \" \".join(stemmed_words)\n",
        "    cleaned_word_list = \" \".join(lemmed_words)\n",
        "    # cleaned_word_list = \" \".join(meaningful_words)\n",
        "\n",
        "    return cleaned_word_list"
      ]
    },
    {
      "cell_type": "markdown",
      "metadata": {
        "id": "8BmRPEeBpYZN"
      },
      "source": [
        "Apply data cleaning to all data sets."
      ]
    },
    {
      "cell_type": "code",
      "execution_count": null,
      "metadata": {
        "id": "schsncvleDrh"
      },
      "outputs": [],
      "source": [
        "data_train['sentence_cleaned'] = data_train['sentence'].apply(lambda line : preprocess(line))\n",
        "data_test['sentence_cleaned'] = data_test['sentence'].apply(lambda line : preprocess(line))\n",
        "data_val['sentence_cleaned'] = data_val['sentence'].apply(lambda line : preprocess(line))"
      ]
    },
    {
      "cell_type": "markdown",
      "metadata": {
        "id": "Rb9vzfUAqXoZ",
        "tags": []
      },
      "source": [
        "## Pre-Processing and Training\n",
        "\n",
        "Pre-processing and training is bundled together as the different methods use different pre-processing steps.<br>\n",
        "There are several methods available: Bag-of-words with TF-IDF, Word Embedding using ~Word2Vec~ [I used GloVe, not Word2Vec] (unknown NN), and BERT."
      ]
    },
    {
      "cell_type": "markdown",
      "source": [
        "### METHOD 2: BERT\n"
      ],
      "metadata": {
        "id": "8cEZB9u7ZOvR"
      }
    },
    {
      "cell_type": "markdown",
      "source": [
        "#### BERT Model (Using Google's Tensorflow Tutorial)\n",
        "\n",
        "[Link](https://colab.research.google.com/github/tensorflow/text/blob/master/docs/tutorials/classify_text_with_bert.ipynb#scrollTo=_OoF9mebuSZc)"
      ],
      "metadata": {
        "id": "gHqmgSCPXHv9"
      }
    },
    {
      "cell_type": "code",
      "source": [
        "# A dependency of the preprocessing for BERT inputs\n",
        "!pip install -q -U \"tensorflow-text==2.8.*\"\n",
        "!pip install -q tf-models-official==2.7.0\n",
        "\n",
        "import os\n",
        "import shutil\n",
        "\n",
        "import tensorflow as tf\n",
        "import tensorflow_hub as hub\n",
        "import tensorflow_text as text\n",
        "from official.nlp import optimization  # to create AdamW optimizer\n",
        "\n",
        "import matplotlib.pyplot as plt\n",
        "\n",
        "tf.get_logger().setLevel('ERROR')"
      ],
      "metadata": {
        "colab": {
          "base_uri": "https://localhost:8080/"
        },
        "id": "XzC5ycXzXLzY",
        "outputId": "90185bfb-7efc-4002-d02c-2567aa8a84af"
      },
      "execution_count": null,
      "outputs": [
        {
          "output_type": "stream",
          "name": "stdout",
          "text": [
            "\u001b[K     |████████████████████████████████| 4.9 MB 5.2 MB/s \n",
            "\u001b[K     |████████████████████████████████| 462 kB 37.2 MB/s \n",
            "\u001b[K     |████████████████████████████████| 1.8 MB 5.3 MB/s \n",
            "\u001b[K     |████████████████████████████████| 352 kB 45.7 MB/s \n",
            "\u001b[K     |████████████████████████████████| 99 kB 7.2 MB/s \n",
            "\u001b[K     |████████████████████████████████| 234 kB 45.4 MB/s \n",
            "\u001b[K     |████████████████████████████████| 596 kB 48.3 MB/s \n",
            "\u001b[K     |████████████████████████████████| 47.8 MB 55 kB/s \n",
            "\u001b[K     |████████████████████████████████| 1.2 MB 38.9 MB/s \n",
            "\u001b[K     |████████████████████████████████| 43 kB 1.7 MB/s \n",
            "\u001b[K     |████████████████████████████████| 1.1 MB 28.4 MB/s \n",
            "\u001b[K     |████████████████████████████████| 90 kB 8.4 MB/s \n",
            "\u001b[?25h  Building wheel for py-cpuinfo (setup.py) ... \u001b[?25l\u001b[?25hdone\n",
            "  Building wheel for seqeval (setup.py) ... \u001b[?25l\u001b[?25hdone\n"
          ]
        }
      ]
    },
    {
      "cell_type": "markdown",
      "source": [
        "Defining Model"
      ],
      "metadata": {
        "id": "114Q7mGjUNRI"
      }
    },
    {
      "cell_type": "code",
      "source": [
        "# Get BERT Model\n",
        "\n",
        "# bert_model_name = 'small_bert/bert_en_uncased_L-2_H-128_A-2'\n",
        "\n",
        "# \n",
        "tfhub_handle_encoder = 'https://tfhub.dev/tensorflow/small_bert/bert_en_uncased_L-2_H-128_A-2/1'\n",
        "tfhub_handle_preprocess = 'https://tfhub.dev/tensorflow/bert_en_uncased_preprocess/3'\n",
        "\n",
        "# These will be used in the NN model. These will be layers in the NN model\n",
        "# bert_preprocess_model = hub.KerasLayer(tfhub_handle_preprocess) # This is the pre-processing model\n",
        "# bert_model = hub.KerasLayer(tfhub_handle_encoder) # This is the actual BERT model"
      ],
      "metadata": {
        "id": "pc9E55PfXo-7"
      },
      "execution_count": null,
      "outputs": []
    },
    {
      "cell_type": "code",
      "source": [
        "def build_classifier_model():\n",
        "    # Input\n",
        "    text_input = tf.keras.layers.Input(shape=(), dtype=tf.string, name='txt')\n",
        "\n",
        "    # BERT Pre-Processing Layer\n",
        "    bert_preprocess_model = hub.KerasLayer(tfhub_handle_preprocess, name='preprocessing') # This is the pre-processing model\n",
        "    encoder_inputs = bert_preprocess_model(text_input)\n",
        "\n",
        "    # BERT Model Layer\n",
        "    bert_model = hub.KerasLayer(tfhub_handle_encoder, trainable=True, name='BERT_encoder') # This is the actual BERT model\n",
        "    outputs = bert_model(encoder_inputs)\n",
        "\n",
        "    # Fine-tuning. First, Average pooling\n",
        "    net = outputs['pooled_output']\n",
        "    net = tf.keras.layers.Dropout(0.1)(net)\n",
        "    net = tf.keras.layers.Dense(6, activation='softmax', name='classifier')(net)\n",
        "    model = tf.keras.Model(text_input, net)\n",
        "    return model"
      ],
      "metadata": {
        "id": "5ggXtbHm9tAY"
      },
      "execution_count": null,
      "outputs": []
    },
    {
      "cell_type": "code",
      "source": [
        "classifier_model = build_classifier_model()\n",
        "# bert_raw_result = classifier_model(tf.constant(text_test))\n",
        "# print(tf.sigmoid(bert_raw_result))"
      ],
      "metadata": {
        "id": "irM9EJzvTTl_"
      },
      "execution_count": null,
      "outputs": []
    },
    {
      "cell_type": "code",
      "source": [
        "tf.keras.utils.plot_model(classifier_model)"
      ],
      "metadata": {
        "colab": {
          "base_uri": "https://localhost:8080/",
          "height": 466
        },
        "id": "IuSDW-0RUBWS",
        "outputId": "7f28721a-66f5-4139-865f-c4567ebb6d1d"
      },
      "execution_count": null,
      "outputs": [
        {
          "output_type": "execute_result",
          "data": {
            "text/plain": [
              "<IPython.core.display.Image object>"
            ],
            "image/png": "[encoded data removed]"
          },
          "metadata": {},
          "execution_count": 27
        }
      ]
    },
    {
      "cell_type": "markdown",
      "source": [
        "Loss Function"
      ],
      "metadata": {
        "id": "M27mZ7BRVIwj"
      }
    },
    {
      "cell_type": "code",
      "source": [
        "loss = tf.keras.losses.SparseCategoricalCrossentropy(from_logits=False)\n",
        "metrics = tf.metrics.SparseCategoricalAccuracy()"
      ],
      "metadata": {
        "id": "W2Qj6dOXUTBe"
      },
      "execution_count": null,
      "outputs": []
    },
    {
      "cell_type": "markdown",
      "source": [
        "Optimizer"
      ],
      "metadata": {
        "id": "AJeP9srOVFc0"
      }
    },
    {
      "cell_type": "code",
      "source": [
        "# epochs = 5\n",
        "# init_lr = 3e-5\n",
        "# num_train_steps = 1\n",
        "# optimizer = optimization.create_optimizer(init_lr=init_lr,\n",
        "#                                           num_train_steps=1,\n",
        "#                                           num_warmup_steps=0,\n",
        "#                                           optimizer_type='adamw')"
      ],
      "metadata": {
        "id": "N1hisqBBVE5D"
      },
      "execution_count": null,
      "outputs": []
    },
    {
      "cell_type": "markdown",
      "source": [
        "Build Model"
      ],
      "metadata": {
        "id": "oIxvfOHcXdvu"
      }
    },
    {
      "cell_type": "code",
      "execution_count": null,
      "metadata": {
        "id": "-7GPDhR98jsD",
        "colab": {
          "base_uri": "https://localhost:8080/"
        },
        "outputId": "5258ab59-0311-4c7c-b133-483d77f6b21e"
      },
      "outputs": [
        {
          "output_type": "stream",
          "name": "stdout",
          "text": [
            "Model: \"model_1\"\n",
            "__________________________________________________________________________________________________\n",
            " Layer (type)                   Output Shape         Param #     Connected to                     \n",
            "==================================================================================================\n",
            " txt (InputLayer)               [(None,)]            0           []                               \n",
            "                                                                                                  \n",
            " preprocessing (KerasLayer)     {'input_mask': (Non  0           ['txt[0][0]']                    \n",
            "                                e, 128),                                                          \n",
            "                                 'input_word_ids':                                                \n",
            "                                (None, 128),                                                      \n",
            "                                 'input_type_ids':                                                \n",
            "                                (None, 128)}                                                      \n",
            "                                                                                                  \n",
            " BERT_encoder (KerasLayer)      {'default': (None,   4385921     ['preprocessing[0][0]',          \n",
            "                                128),                             'preprocessing[0][1]',          \n",
            "                                 'encoder_outputs':               'preprocessing[0][2]']          \n",
            "                                 [(None, 128, 128),                                               \n",
            "                                 (None, 128, 128)],                                               \n",
            "                                 'sequence_output':                                               \n",
            "                                 (None, 128, 128),                                                \n",
            "                                 'pooled_output': (                                               \n",
            "                                None, 128)}                                                       \n",
            "                                                                                                  \n",
            " dropout_1 (Dropout)            (None, 128)          0           ['BERT_encoder[0][3]']           \n",
            "                                                                                                  \n",
            " classifier (Dense)             (None, 6)            774         ['dropout_1[0][0]']              \n",
            "                                                                                                  \n",
            "==================================================================================================\n",
            "Total params: 4,386,695\n",
            "Trainable params: 4,386,694\n",
            "Non-trainable params: 1\n",
            "__________________________________________________________________________________________________\n"
          ]
        }
      ],
      "source": [
        "classifier_model.compile(optimizer='adam',\n",
        "                         loss=loss,\n",
        "                         metrics=['accuracy', tf.metrics.SparseCategoricalAccuracy()])\n",
        "\n",
        "classifier_model.summary()\n",
        "\n",
        "# model.compile(loss='sparse_categorical_crossentropy', \n",
        "#               optimizer='adam',\n",
        "#             #   optimizer=tf.keras.optimizers.Adam(learning_rate=3e-5, epsilon=1e-08, clipnorm=1.0), \n",
        "#               metrics=['accuracy'])"
      ]
    },
    {
      "cell_type": "code",
      "execution_count": null,
      "metadata": {
        "id": "HtfDFAnN_Neu",
        "colab": {
          "base_uri": "https://localhost:8080/"
        },
        "outputId": "58cc64c1-4802-475e-bcec-0cf1fd165f3e"
      },
      "outputs": [
        {
          "output_type": "stream",
          "name": "stdout",
          "text": [
            "Epoch 1/3\n",
            "160/160 [==============================] - 162s 971ms/step - loss: 0.6526 - accuracy: 0.7685 - sparse_categorical_accuracy: 0.7685 - val_loss: 0.3042 - val_accuracy: 0.8885 - val_sparse_categorical_accuracy: 0.8885\n",
            "Epoch 2/3\n",
            "160/160 [==============================] - 164s 1s/step - loss: 0.2530 - accuracy: 0.9050 - sparse_categorical_accuracy: 0.9050 - val_loss: 0.2708 - val_accuracy: 0.8935 - val_sparse_categorical_accuracy: 0.8935\n",
            "Epoch 3/3\n",
            "160/160 [==============================] - 161s 1s/step - loss: 0.1780 - accuracy: 0.9274 - sparse_categorical_accuracy: 0.9274 - val_loss: 0.3042 - val_accuracy: 0.8970 - val_sparse_categorical_accuracy: 0.8970\n"
          ]
        }
      ],
      "source": [
        "# print(f'Training model with {tfhub_handle_encoder}')\n",
        "history = classifier_model.fit(x=data_train[\"sentence_cleaned\"], y=data_train['emotion_enc'],\n",
        "                               batch_size=100, epochs=3, verbose=1,\n",
        "                               validation_data=[data_val[\"sentence_cleaned\"], data_val['emotion_enc']])\n",
        "\n",
        "\n",
        "\n",
        "# history = model.fit(x=X_train, y=data_train['emotion_enc'], batch_size=100, epochs=1,\n",
        "#                     shuffle=True, verbose=1, callbacks=get_callbacks(),\n",
        "#                     validation_data=[X_val, data_val['emotion_enc']])"
      ]
    },
    {
      "cell_type": "markdown",
      "source": [
        "##### Test\n",
        "\n",
        "This is test for the imported BERT model. Just for show. It won't be used for the NN itself."
      ],
      "metadata": {
        "id": "xNpWEEP49g9G"
      }
    },
    {
      "cell_type": "code",
      "source": [
        "# text_test = list([['this is such an amazing movie!'],['that was a disaster.']])\n",
        "text_test = ['this is such an amazing movie']\n",
        "text_preprocessed = bert_preprocess_model(text_test)\n",
        "# text_preprocessed = bert_preprocess_model(data_train[\"sentence_cleaned\"])\n",
        "\n",
        "bert_results = bert_model(text_preprocessed)\n",
        "\n",
        "print(f'Keys       : {list(text_preprocessed.keys())}')\n",
        "print(f'Shape      : {text_preprocessed[\"input_word_ids\"].shape}')\n",
        "print(f'Word Ids   : {text_preprocessed[\"input_word_ids\"][0, :12]}')\n",
        "print(f'Input Mask : {text_preprocessed[\"input_mask\"][0, :12]}')\n",
        "print(f'Type Ids   : {text_preprocessed[\"input_type_ids\"][0, :12]}')\n",
        "\n",
        "\n",
        "print(f'Loaded BERT: {tfhub_handle_encoder}')\n",
        "print(f'Pooled Outputs Shape:{bert_results[\"pooled_output\"].shape}')\n",
        "print(f'Pooled Outputs Values:{bert_results[\"pooled_output\"][0, :12]}')\n",
        "print(f'Sequence Outputs Shape:{bert_results[\"sequence_output\"].shape}')\n",
        "print(f'Sequence Outputs Values:{bert_results[\"sequence_output\"][0, :12]}')"
      ],
      "metadata": {
        "colab": {
          "base_uri": "https://localhost:8080/"
        },
        "id": "XA_zasFLYo3G",
        "outputId": "f3ad9539-101c-4c11-f9b8-5b6cc984d90e"
      },
      "execution_count": null,
      "outputs": [
        {
          "output_type": "stream",
          "name": "stdout",
          "text": [
            "Keys       : ['input_type_ids', 'input_mask', 'input_word_ids']\n",
            "Shape      : (1, 128)\n",
            "Word Ids   : [ 101 2023 2003 2107 2019 6429 3185  102    0    0    0    0]\n",
            "Input Mask : [1 1 1 1 1 1 1 1 0 0 0 0]\n",
            "Type Ids   : [0 0 0 0 0 0 0 0 0 0 0 0]\n",
            "Loaded BERT: https://tfhub.dev/tensorflow/small_bert/bert_en_uncased_L-2_H-128_A-2/1\n",
            "Pooled Outputs Shape:(1, 128)\n",
            "Pooled Outputs Values:[-0.99999577  0.1015164  -0.9988635   0.99792325 -0.9998011   0.9292674\n",
            " -0.9938249  -0.98257816  0.06439658  0.03355096 -0.7638861  -0.05925441]\n",
            "Sequence Outputs Shape:(1, 128, 128)\n",
            "Sequence Outputs Values:[[-0.06242192 -1.0242287  -2.6087496  ... -0.85842264 -2.0891283\n",
            "  -0.19394624]\n",
            " [-1.1977322  -0.30312902  0.4389882  ... -2.364897   -1.7449431\n",
            "   0.24714968]\n",
            " [-0.9510959  -0.2639731   0.25630438 ... -1.5122575  -1.9203639\n",
            "   0.0928443 ]\n",
            " ...\n",
            " [-0.22765982 -0.68478173  0.4465809  ... -1.9320936  -1.8750236\n",
            "   1.3991177 ]\n",
            " [ 0.4509836  -0.820126    0.45189857 ... -2.2655625  -1.6035308\n",
            "   0.4130368 ]\n",
            " [ 0.48539072 -0.6067901   0.4701258  ... -2.290802   -1.7192446\n",
            "   0.38348   ]]\n"
          ]
        }
      ]
    },
    {
      "cell_type": "markdown",
      "source": [
        "#### BERT Model (Using HuggingFace transformers library)"
      ],
      "metadata": {
        "id": "rj_ZNEvTknNt"
      }
    },
    {
      "cell_type": "code",
      "source": [
        "!pip install transformers\n",
        "import transformers"
      ],
      "metadata": {
        "id": "LNgE8FNJZUm9",
        "colab": {
          "base_uri": "https://localhost:8080/"
        },
        "outputId": "4ebec25d-1899-4069-ad0d-93b356759978"
      },
      "execution_count": null,
      "outputs": [
        {
          "output_type": "stream",
          "name": "stdout",
          "text": [
            "Collecting transformers\n",
            "  Downloading transformers-4.17.0-py3-none-any.whl (3.8 MB)\n",
            "\u001b[K     |████████████████████████████████| 3.8 MB 5.3 MB/s \n",
            "\u001b[?25hRequirement already satisfied: regex!=2019.12.17 in /usr/local/lib/python3.7/dist-packages (from transformers) (2019.12.20)\n",
            "Collecting pyyaml>=5.1\n",
            "  Downloading PyYAML-6.0-cp37-cp37m-manylinux_2_5_x86_64.manylinux1_x86_64.manylinux_2_12_x86_64.manylinux2010_x86_64.whl (596 kB)\n",
            "\u001b[K     |████████████████████████████████| 596 kB 42.3 MB/s \n",
            "\u001b[?25hRequirement already satisfied: requests in /usr/local/lib/python3.7/dist-packages (from transformers) (2.23.0)\n",
            "Collecting tokenizers!=0.11.3,>=0.11.1\n",
            "  Downloading tokenizers-0.11.6-cp37-cp37m-manylinux_2_12_x86_64.manylinux2010_x86_64.whl (6.5 MB)\n",
            "\u001b[K     |████████████████████████████████| 6.5 MB 39.2 MB/s \n",
            "\u001b[?25hRequirement already satisfied: tqdm>=4.27 in /usr/local/lib/python3.7/dist-packages (from transformers) (4.63.0)\n",
            "Requirement already satisfied: packaging>=20.0 in /usr/local/lib/python3.7/dist-packages (from transformers) (21.3)\n",
            "Requirement already satisfied: importlib-metadata in /usr/local/lib/python3.7/dist-packages (from transformers) (4.11.2)\n",
            "Collecting sacremoses\n",
            "  Downloading sacremoses-0.0.47-py2.py3-none-any.whl (895 kB)\n",
            "\u001b[K     |████████████████████████████████| 895 kB 38.8 MB/s \n",
            "\u001b[?25hRequirement already satisfied: filelock in /usr/local/lib/python3.7/dist-packages (from transformers) (3.6.0)\n",
            "Requirement already satisfied: numpy>=1.17 in /usr/local/lib/python3.7/dist-packages (from transformers) (1.21.5)\n",
            "Collecting huggingface-hub<1.0,>=0.1.0\n",
            "  Downloading huggingface_hub-0.4.0-py3-none-any.whl (67 kB)\n",
            "\u001b[K     |████████████████████████████████| 67 kB 5.1 MB/s \n",
            "\u001b[?25hRequirement already satisfied: typing-extensions>=3.7.4.3 in /usr/local/lib/python3.7/dist-packages (from huggingface-hub<1.0,>=0.1.0->transformers) (3.10.0.2)\n",
            "Requirement already satisfied: pyparsing!=3.0.5,>=2.0.2 in /usr/local/lib/python3.7/dist-packages (from packaging>=20.0->transformers) (3.0.7)\n",
            "Requirement already satisfied: zipp>=0.5 in /usr/local/lib/python3.7/dist-packages (from importlib-metadata->transformers) (3.7.0)\n",
            "Requirement already satisfied: chardet<4,>=3.0.2 in /usr/local/lib/python3.7/dist-packages (from requests->transformers) (3.0.4)\n",
            "Requirement already satisfied: idna<3,>=2.5 in /usr/local/lib/python3.7/dist-packages (from requests->transformers) (2.10)\n",
            "Requirement already satisfied: urllib3!=1.25.0,!=1.25.1,<1.26,>=1.21.1 in /usr/local/lib/python3.7/dist-packages (from requests->transformers) (1.24.3)\n",
            "Requirement already satisfied: certifi>=2017.4.17 in /usr/local/lib/python3.7/dist-packages (from requests->transformers) (2021.10.8)\n",
            "Requirement already satisfied: six in /usr/local/lib/python3.7/dist-packages (from sacremoses->transformers) (1.15.0)\n",
            "Requirement already satisfied: click in /usr/local/lib/python3.7/dist-packages (from sacremoses->transformers) (7.1.2)\n",
            "Requirement already satisfied: joblib in /usr/local/lib/python3.7/dist-packages (from sacremoses->transformers) (1.1.0)\n",
            "Installing collected packages: pyyaml, tokenizers, sacremoses, huggingface-hub, transformers\n",
            "  Attempting uninstall: pyyaml\n",
            "    Found existing installation: PyYAML 3.13\n",
            "    Uninstalling PyYAML-3.13:\n",
            "      Successfully uninstalled PyYAML-3.13\n",
            "Successfully installed huggingface-hub-0.4.0 pyyaml-6.0 sacremoses-0.0.47 tokenizers-0.11.6 transformers-4.17.0\n"
          ]
        }
      ]
    },
    {
      "cell_type": "code",
      "source": [
        "from transformers import pipeline\n",
        "\n",
        "# BERT tokenizer\n",
        "# tokenizer = transformers.BertTokenizer.from_pretrained('bert-base-uncased', do_lower_case=True)\n",
        "tokenizer = transformers.AutoTokenizer.from_pretrained('distilbert-base-uncased', num_labels=6, do_lower_case=True)\n",
        "# tokenizer = transformers.AutoTokenizer.from_pretrained(\"prajjwal1/bert-tiny\", num_labels=6, do_lower_case=True)\n",
        "# test_nlp_recognizer = pipeline(\"sentiment-analysis\", model=\"prajjwal1/bert-tiny\")\n",
        "\n",
        "# BERT Model\n",
        "config = transformers.DistilBertConfig(dropout=0.2, attention_dropout=0.2)\n",
        "# config = transformers.AutoConfig(dropout=0.2, attention_dropout=0.2)\n",
        "# config = transformers.AutoConfig.from_pretrained(\"prajjwal1/bert-tiny\", hidden_dropout_prob=0.2)\n",
        "config.output_hidden_states = False\n",
        "\n",
        "nlp = transformers.TFDistilBertModel.from_pretrained('distilbert-base-uncased', config=config)\n",
        "# nlp = transformers.AutoModel.from_pretrained(\"prajjwal1/bert-tiny\", config=config)"
      ],
      "metadata": {
        "colab": {
          "base_uri": "https://localhost:8080/",
          "height": 282,
          "referenced_widgets": [
            "3da77b6959b84682ad7799accefefe53",
            "27cbc006215c48ea9825f50eef3a4089",
            "4cab42886558436585bc957dac1302bd",
            "09cbc96353bb4c309cde6fbf585aa00f",
            "362e57e45970403d87d5bbfa876f16e9",
            "4a4e68dac4bd4b23bf15b9ead26b8484",
            "be68bddd62e24c71a23ed7f61de4945b",
            "d08912fb225c4480ace39791ba4b8126",
            "c759e84079f344adb6d625f57c5f577f",
            "8abf91ee0315497b95a8fa112c49bdf6",
            "ee73ef31995c4ca49bb4e0983a917e82",
            "0b204d55eb344bed9274de590d1c4a88",
            "353fa2648ce448978ea5439cbaf109b7",
            "4dcfca5df95348919e01c48631860559",
            "11e4795afed042c38ac72d96455e0edd",
            "457bf852c0ea4153883d62dee57f8719",
            "0aa769ba22a449b4812c369e76d8cf01",
            "c9a5596314214bdaa76f4f1bd4bb1e40",
            "029e2d61cd2e477d84b607b8e90c169a",
            "ba6fe3d79b734df592e205a8f84fc747",
            "b3d4bb30a84640b8840a4aec27068279",
            "301172d5d24542a4a1a6eae326f21c42",
            "b8975c42a7384b8db32ef4842e50ae6c",
            "790f2f51a8e74e2791484cc6c19574ab",
            "2aec81778efb4e4e99153926a053f5a1",
            "5a5c797b1a9b46c0b80b7881a5a84e24",
            "ddcda9ee9a904c4d80656c02ceac4a2c",
            "facb01d4aad441f1a7365dc5a800e47f",
            "f98aa35463d04c4b9af1718827961eaf",
            "bfb6dbe350694e6899918147b00630b6",
            "611dfdff884e4fbab8956a91f11724ca",
            "ce8b01801fb441eca6abcc995d5b2d4a",
            "1f922e0b21f84590991e474c0f8bd943",
            "e819c9803d9f4c7b8c0d05fb7055f143",
            "0b89cc2f1e8f4335b488502adcfcac67",
            "c3a0bd254ae74f63a64cc09a3390ade0",
            "377d1f46652247899f3efa538df957fb",
            "de3ff2e7129f4eaf9835596df3cb81fa",
            "014381e1e15f436cb6374f78fc917b2b",
            "33b9d6e907ff4c4e82f9914faef9733d",
            "5fc56f5abcb84f1482ca9139a27651fb",
            "aed09937a7584f7a8c21545c351642a9",
            "dfd36d44baa1468db88faf56dc0cd5af",
            "7174d4933b784e2089c0bc065836ab3f",
            "20a64b22c0234522823557360c5643cf",
            "a9e6e93975d74b9ebd8741b18359c8b4",
            "0b26908806d34e3e884fbaaffed76435",
            "b45e37f1b4ef40c4bc26769ceb36d2e9",
            "891882b39fef4e37a217589754f6ae97",
            "8f33daefa6b8467aafe654f0782c890d",
            "f6c4f2ccf5074b5db9f16e046bc8baaf",
            "cb00be1159fc45de8982e5168690d5c9",
            "2c80d6051df04a989bcb000cebac5933",
            "6d0fa99027094f93b865db975f79b37c",
            "1adb792da0c346d4b04d8b8090ebaf21"
          ]
        },
        "id": "ki2YxvB6aLFm",
        "outputId": "f0cc9f34-f850-4877-a2b3-6234344dd311"
      },
      "execution_count": null,
      "outputs": [
        {
          "output_type": "display_data",
          "data": {
            "text/plain": [
              "Downloading:   0%|          | 0.00/28.0 [00:00<?, ?B/s]"
            ],
            "application/vnd.jupyter.widget-view+json": {
              "version_major": 2,
              "version_minor": 0,
              "model_id": "3da77b6959b84682ad7799accefefe53"
            }
          },
          "metadata": {}
        },
        {
          "output_type": "display_data",
          "data": {
            "text/plain": [
              "Downloading:   0%|          | 0.00/483 [00:00<?, ?B/s]"
            ],
            "application/vnd.jupyter.widget-view+json": {
              "version_major": 2,
              "version_minor": 0,
              "model_id": "0b204d55eb344bed9274de590d1c4a88"
            }
          },
          "metadata": {}
        },
        {
          "output_type": "display_data",
          "data": {
            "text/plain": [
              "Downloading:   0%|          | 0.00/226k [00:00<?, ?B/s]"
            ],
            "application/vnd.jupyter.widget-view+json": {
              "version_major": 2,
              "version_minor": 0,
              "model_id": "b8975c42a7384b8db32ef4842e50ae6c"
            }
          },
          "metadata": {}
        },
        {
          "output_type": "display_data",
          "data": {
            "text/plain": [
              "Downloading:   0%|          | 0.00/455k [00:00<?, ?B/s]"
            ],
            "application/vnd.jupyter.widget-view+json": {
              "version_major": 2,
              "version_minor": 0,
              "model_id": "e819c9803d9f4c7b8c0d05fb7055f143"
            }
          },
          "metadata": {}
        },
        {
          "output_type": "display_data",
          "data": {
            "text/plain": [
              "Downloading:   0%|          | 0.00/347M [00:00<?, ?B/s]"
            ],
            "application/vnd.jupyter.widget-view+json": {
              "version_major": 2,
              "version_minor": 0,
              "model_id": "20a64b22c0234522823557360c5643cf"
            }
          },
          "metadata": {}
        },
        {
          "output_type": "stream",
          "name": "stderr",
          "text": [
            "Some layers from the model checkpoint at distilbert-base-uncased were not used when initializing TFDistilBertModel: ['vocab_transform', 'vocab_layer_norm', 'activation_13', 'vocab_projector']\n",
            "- This IS expected if you are initializing TFDistilBertModel from the checkpoint of a model trained on another task or with another architecture (e.g. initializing a BertForSequenceClassification model from a BertForPreTraining model).\n",
            "- This IS NOT expected if you are initializing TFDistilBertModel from the checkpoint of a model that you expect to be exactly identical (initializing a BertForSequenceClassification model from a BertForSequenceClassification model).\n",
            "All the layers of TFDistilBertModel were initialized from the model checkpoint at distilbert-base-uncased.\n",
            "If your task is similar to the task the model of the checkpoint was trained on, you can already use TFDistilBertModel for predictions without further training.\n"
          ]
        }
      ]
    },
    {
      "cell_type": "markdown",
      "source": [
        "From the website (https://towardsdatascience.com/text-classification-with-nlp-tf-idf-vs-word2vec-vs-bert-41ff868d1794): <br>\n",
        "*First of all, we need to select the sequence max length. This time I’m gonna choose a much larger number (i.e. 50) because BERT splits unknown words into sub-tokens until it finds a known unigrams. For example, if a made-up word like “zzdata” is given, BERT would split it into [“z”, “##z”, “##data”]. Moreover, we have to insert special tokens into the input text, then generate masks and segments. Finally, put all together in a tensor to get the feature matrix that will have the shape of 3 (ids, masks, segments) x Number of documents in the corpus x Sequence length*"
      ],
      "metadata": {
        "id": "gV9CPtK3lgLh"
      }
    },
    {
      "cell_type": "markdown",
      "source": [
        "So a summary of the large paragraph above:\n",
        "In BERT, we have three things to keep track of\n",
        "1. Token ID: The \"regular\" tokenization. \n",
        "    *  This includes text start token (101), unknown word (100) token, text end token (102), and padding token (0)\n",
        "2. Mask: Distinguishes between text and padding. 0 indicates padding\n",
        "3. Segment: Keeps track of the text end ([SEP]) token\n",
        "\n",
        "Now, we are not using code from the link above. I have directly used the tokenizer object itself."
      ],
      "metadata": {
        "id": "BIuzBeJQmpT9"
      }
    },
    {
      "cell_type": "code",
      "source": [
        "try:\n",
        "    del idx, masks, segments\n",
        "except:\n",
        "    pass\n",
        "\n",
        "histo_plot_data = np.zeros((3,87))\n",
        "# Set max length of the sentence\n",
        "maxlen=72\n",
        "\n",
        "# I really should be using data cleaning that I used for Word Embedding, but let's have something working first.\n",
        "def bert_tokenize(corpus, dataset_str):\n",
        "    histo_plot_data = np.zeros((87))\n",
        "    # corpus = data_train[\"sentence_cleaned\"]\n",
        "    idx, masks, segments = [], [], []\n",
        "    longest = 0\n",
        "    longest_index = 0;\n",
        "    feedback_sum = 0\n",
        "\n",
        "    for i, element in enumerate(corpus):\n",
        "\n",
        "        tmp = tokenizer(element)\n",
        "        idx.append(tmp[\"input_ids\"])\n",
        "        masks.append(tmp[\"attention_mask\"])\n",
        "        # segments.append(tmp[\"token_type_ids\"])\n",
        "        \n",
        "        if len(tmp[\"input_ids\"]) > longest:\n",
        "            longest = len(tmp[\"input_ids\"])\n",
        "            longest_index = i\n",
        "\n",
        "        histo_plot_data[len(tmp[\"input_ids\"])-1] += 1\n",
        "        feedback_sum += len(tmp[\"input_ids\"])\n",
        "\n",
        "        # corpus_tokenized.append(tmp)\n",
        "    print(f\"{dataset_str}: Longest sentence using BERT Tokenization is {longest} at index {longest_index}.\")\n",
        "    print(f\"Average ID length: {feedback_sum/len(corpus)}\")\n",
        "\n",
        "    for i, element in enumerate(idx):\n",
        "        tmp = maxlen - len(element)\n",
        "        if tmp > 0:\n",
        "            idx[i] += tmp*[0]\n",
        "            masks[i] += tmp*[0]\n",
        "            # segments[i] += tmp*[1]\n",
        "        else:\n",
        "            idx[i] = idx[i][0:maxlen]\n",
        "            idx[i][maxlen-1] = 102\n",
        "            masks[i] = masks[i][0:maxlen]\n",
        "            # segments[i] = segments[i][0:maxlen]\n",
        "    return [np.asarray(idx, dtype='int32'), np.asarray(masks, dtype='int32')], histo_plot_data\n",
        "\n",
        "X_train, histo_plot_data[0,:]  = bert_tokenize(data_train[\"sentence_cleaned\"], 'X_train')\n",
        "X_val, histo_plot_data[1,:] = bert_tokenize(data_val[\"sentence_cleaned\"], 'X_val')\n",
        "X_test, histo_plot_data[2,:] = bert_tokenize(data_test[\"sentence_cleaned\"], 'X_test')\n",
        "\n",
        "# X_train=[np.asarray(idx, dtype='int32'), \n",
        "#          np.asarray(masks, dtype='int32')]\n",
        "\n",
        "# Plotting the ID histogram to see the distribution\n",
        "import matplotlib.pyplot as plt\n",
        "plt.barh(range(1,maxlen+1), histo_plot_data[0,:])\n",
        "plt.barh(range(1,maxlen+1), histo_plot_data[1,:])\n",
        "plt.barh(range(1,maxlen+1), histo_plot_data[2,:])\n"
      ],
      "metadata": {
        "colab": {
          "base_uri": "https://localhost:8080/",
          "height": 384
        },
        "id": "3tWIPHkdAxZi",
        "outputId": "9b7d2dc3-73e6-4f70-c813-3dcd681eb505"
      },
      "execution_count": null,
      "outputs": [
        {
          "output_type": "stream",
          "name": "stdout",
          "text": [
            "X_train: Longest sentence using BERT Tokenization is 72 at index 9753.\n",
            "Average ID length: 12.403\n",
            "X_val: Longest sentence using BERT Tokenization is 57 at index 197.\n",
            "Average ID length: 12.1905\n",
            "X_test: Longest sentence using BERT Tokenization is 44 at index 591.\n",
            "Average ID length: 12.3155\n"
          ]
        },
        {
          "output_type": "execute_result",
          "data": {
            "text/plain": [
              "<BarContainer object of 87 artists>"
            ]
          },
          "metadata": {},
          "execution_count": 16
        },
        {
          "output_type": "display_data",
          "data": {
            "text/plain": [
              "<Figure size 432x288 with 1 Axes>"
            ],
            "image/png": "[encoded data removed]"
          },
          "metadata": {
            "needs_background": "light"
          }
        }
      ]
    },
    {
      "cell_type": "code",
      "source": [
        "# X_train=[np.asarray(idx, dtype='int32'), \n",
        "#          np.asarray(masks, dtype='int32')]#, \n",
        "#         #  np.asarray(segments, dtype='int32')]"
      ],
      "metadata": {
        "id": "07uPrJiyNOb4"
      },
      "execution_count": null,
      "outputs": []
    },
    {
      "cell_type": "markdown",
      "source": [
        "BERT NN"
      ],
      "metadata": {
        "id": "tIjDY0WsNHmv"
      }
    },
    {
      "cell_type": "code",
      "source": [
        "from keras.models import Sequential\n",
        "from keras import layers, models, optimizers\n",
        "import keras\n",
        "import tensorflow as tf\n",
        "\n",
        "# Inputs\n",
        "idx = layers.Input((maxlen), dtype='int32',name='input_idx')\n",
        "masks = layers.Input((maxlen), dtype='int32',name='input_masks')\n",
        "# segments = layers.Input((maxlen), dtype='int32',name='input_segments')\n",
        "\n",
        "# Pre-trained BERT\n",
        "# we already import nlp above, we are using that.\n",
        "\n",
        "# nlp = transformers.TFBertModel.from_pretrained('bert-base-uncased')\n",
        "bert_out = nlp([idx, masks])\n",
        "\n",
        "# fine-tuning\n",
        "x = layers.GlobalAveragePooling1D()(bert_out[0])\n",
        "# x = layers.Dense(64, activation='relu')(x)\n",
        "x = layers.Dense(64, activation='relu')(x)\n",
        "# x = layers.Dense(64, activation='sigmoid')(x)\n",
        "y_out = layers.Dense(6, activation='softmax')(x)\n",
        "\n",
        "model = models.Model([idx, masks], y_out)\n",
        "\n",
        "# The BERT model is pre-trained; we don't need to train that layer. Only train the last two Dense layers basically\n",
        "for layer in model.layers[:4]:\n",
        "    layer.trainable=False\n",
        "\n",
        "# model.compile(optimizer=tf.keras.optimizers.Adam(learning_rate=3e-5, epsilon=1e-08, clipnorm=1.0), \n",
        "            #   loss=tf.keras.losses.SparseCategoricalCrossentropy(from_logits=True), \n",
        "            #   metrics=[tf.keras.metrics.SparseCategoricalAccuracy('accuracy')])\n",
        "\n",
        "model.compile(loss='sparse_categorical_crossentropy', \n",
        "              optimizer='adam',\n",
        "            #   optimizer=tf.keras.optimizers.Adam(learning_rate=3e-5, epsilon=1e-08, clipnorm=1.0), \n",
        "              metrics=['accuracy'])\n",
        "model.summary()\n"
      ],
      "metadata": {
        "colab": {
          "base_uri": "https://localhost:8080/"
        },
        "id": "dwwmQlfFNG4g",
        "outputId": "fe076498-4d55-49ae-8441-e3d071d2130f"
      },
      "execution_count": null,
      "outputs": [
        {
          "output_type": "stream",
          "name": "stdout",
          "text": [
            "Model: \"model_1\"\n",
            "__________________________________________________________________________________________________\n",
            " Layer (type)                   Output Shape         Param #     Connected to                     \n",
            "==================================================================================================\n",
            " input_idx (InputLayer)         [(None, 72)]         0           []                               \n",
            "                                                                                                  \n",
            " input_masks (InputLayer)       [(None, 72)]         0           []                               \n",
            "                                                                                                  \n",
            " tf_distil_bert_model (TFDistil  TFBaseModelOutput(l  66362880   ['input_idx[0][0]',              \n",
            " BertModel)                     ast_hidden_state=(N               'input_masks[0][0]']            \n",
            "                                one, 72, 768),                                                    \n",
            "                                 hidden_states=None                                               \n",
            "                                , attentions=None)                                                \n",
            "                                                                                                  \n",
            " global_average_pooling1d_1 (Gl  (None, 768)         0           ['tf_distil_bert_model[1][0]']   \n",
            " obalAveragePooling1D)                                                                            \n",
            "                                                                                                  \n",
            " dense_2 (Dense)                (None, 64)           49216       ['global_average_pooling1d_1[0][0\n",
            "                                                                 ]']                              \n",
            "                                                                                                  \n",
            " dense_3 (Dense)                (None, 6)            390         ['dense_2[0][0]']                \n",
            "                                                                                                  \n",
            "==================================================================================================\n",
            "Total params: 66,412,486\n",
            "Trainable params: 49,606\n",
            "Non-trainable params: 66,362,880\n",
            "__________________________________________________________________________________________________\n"
          ]
        }
      ]
    },
    {
      "cell_type": "code",
      "source": [
        "from  IPython import display\n",
        "# from matplotlib import pyplot as plt\n",
        "\n",
        "# import numpy as np\n",
        "\n",
        "# import pathlib\n",
        "# import shutil\n",
        "# import tempfile\n",
        "\n",
        "# logdir = pathlib.Path(tempfile.mkdtemp())/\"tensorboard_logs\"\n",
        "# shutil.rmtree(logdir, ignore_errors=True)"
      ],
      "metadata": {
        "id": "ORSTXSHjye13"
      },
      "execution_count": null,
      "outputs": []
    },
    {
      "cell_type": "code",
      "source": [
        "# !pip install git+https://github.com/tensorflow/docs\n",
        "# import tensorflow_docs as tfdocs\n",
        "# import tensorflow_docs.modeling\n",
        "# import tensorflow_docs.plots"
      ],
      "metadata": {
        "id": "wlljgP7fzCZB"
      },
      "execution_count": null,
      "outputs": []
    },
    {
      "cell_type": "code",
      "source": [
        "# def get_callbacks(name):\n",
        "def get_callbacks():\n",
        "  return [\n",
        "    # tfdocs.modeling.EpochDots(),\n",
        "    tf.keras.callbacks.EarlyStopping(monitor='loss', patience=4),\n",
        "    # tf.keras.callbacks.TensorBoard(logdir/name),\n",
        "  ]"
      ],
      "metadata": {
        "id": "DbF76gLjwsoR"
      },
      "execution_count": null,
      "outputs": []
    },
    {
      "cell_type": "code",
      "source": [
        "history = model.fit(x=X_train, y=data_train['emotion_enc'], batch_size=100, epochs=1,\n",
        "                    shuffle=True, verbose=1, callbacks=get_callbacks(),\n",
        "                    validation_data=[X_val, data_val['emotion_enc']])"
      ],
      "metadata": {
        "id": "8xn3kRMqSBop",
        "colab": {
          "base_uri": "https://localhost:8080/"
        },
        "outputId": "1fe7300c-f4d6-4dc4-de4d-028a5e203b21"
      },
      "execution_count": null,
      "outputs": [
        {
          "output_type": "stream",
          "name": "stdout",
          "text": [
            "160/160 [==============================] - 102s 593ms/step - loss: 1.2564 - accuracy: 0.5331 - val_loss: 1.0691 - val_accuracy: 0.6005\n"
          ]
        }
      ]
    },
    {
      "cell_type": "markdown",
      "source": [
        "#### Doing some other testing here"
      ],
      "metadata": {
        "id": "fjW1a7SQwK57"
      }
    },
    {
      "cell_type": "code",
      "source": [
        "# Get feature matrix\n",
        "# import re\n",
        "\n",
        "# corpus = data_train[\"sentence\"]\n",
        "\n",
        "# # Choose large maximum length as BERT splits made-up word into subtokens until it recognizes a word\n",
        "# # In our case, the longest sentence is 300 characters, so I'm just going to set maxlen to 300 for now\n",
        "# maxlen = 50\n",
        "\n",
        "# # add special tokens\n",
        "# maxqnans = int((maxlen-20)/2)\n",
        "# corpus_tokenized = [\"[CLS] \"+\n",
        "#              \" \".join(tokenizer.tokenize(re.sub(r'[^\\w\\s]+|\\n', '', \n",
        "#              str(txt).lower().strip()))[:maxqnans])+\n",
        "#              \" [SEP] \" for txt in corpus]\n",
        "\n",
        "# # generate masks\n",
        "# masks = [[1]*len(txt.split(\" \")) + [0]*(maxlen - len(txt.split(\" \"))) for txt in corpus_tokenized]\n",
        "\n",
        "# # Padding\n",
        "# txt2seq = [txt + \" [PAD]\"*(maxlen-len(txt.split(\" \"))) if len(txt.split(\" \")) != maxlen else txt for txt in corpus_tokenized]\n",
        "\n",
        "# # Generate idx\n",
        "# idx = [tokenizer.encode(seq.split(\" \")) for seq in txt2seq]\n",
        "\n",
        "# ## generate segments\n",
        "# segments = [] \n",
        "# for seq in txt2seq:\n",
        "#     temp, i = [], 0\n",
        "#     for token in seq.split(\" \"):\n",
        "#         temp.append(i)\n",
        "#         if token == \"[SEP]\":\n",
        "#              i += 1\n",
        "#     segments.append(temp)\n",
        "\n",
        "# ## feature matrix\n",
        "# X_train = [np.asarray(idx, dtype='int32'), \n",
        "#            np.asarray(masks, dtype='int32'), \n",
        "#            np.asarray(segments, dtype='int32')]\n"
      ],
      "metadata": {
        "id": "rjxt-OnIlIh8"
      },
      "execution_count": null,
      "outputs": []
    },
    {
      "cell_type": "code",
      "source": [
        "# i = 3\n",
        "# print(\"txt: \", data_train[\"sentence\"].iloc[0])\n",
        "# print(\"tokenized:\", [tokenizer.convert_ids_to_tokens(idx) for idx in X_train[0][i].tolist()])\n",
        "# print(\"idx: \", X_train[0][i])\n",
        "# print(\"mask: \", X_train[1][i])\n",
        "# print(\"segment: \", X_train[2][i])"
      ],
      "metadata": {
        "id": "DHy-Bp8urB69"
      },
      "execution_count": null,
      "outputs": []
    },
    {
      "cell_type": "code",
      "source": [
        "# # Testing embedding with the BERT model\n",
        "# # Hidden layer with embeddings\n",
        "# txt = \"bank river\"\n",
        "# input_ids = np.array(tokenizer.encode(txt))[None, :]\n",
        "# embedding = nlp(input_ids)\n",
        "# embedding[0][0]"
      ],
      "metadata": {
        "id": "RiEieHRndTzF"
      },
      "execution_count": null,
      "outputs": []
    },
    {
      "cell_type": "code",
      "source": [
        "# !pip install \"tensorflow-text==2.8.*\"\n",
        "# !pip install tf-models-official==2.7.0\n",
        "# !pip install official.nlp\n",
        "\n",
        "# import tensorflow as tf\n",
        "# import tensorflow_hub as hub\n",
        "# import tensorflow_text as text\n",
        "# from official.nlp import optimization"
      ],
      "metadata": {
        "id": "qM3f-vhqwJxd"
      },
      "execution_count": null,
      "outputs": []
    },
    {
      "cell_type": "code",
      "source": [
        "#@title ~Commented Out: Choose a BERT model to fine-tune~\n",
        "\n",
        "# bert_model_name = 'small_bert/bert_en_uncased_L-4_H-512_A-8'  #@param [\"bert_en_uncased_L-12_H-768_A-12\", \"bert_en_cased_L-12_H-768_A-12\", \"bert_multi_cased_L-12_H-768_A-12\", \"small_bert/bert_en_uncased_L-2_H-128_A-2\", \"small_bert/bert_en_uncased_L-2_H-256_A-4\", \"small_bert/bert_en_uncased_L-2_H-512_A-8\", \"small_bert/bert_en_uncased_L-2_H-768_A-12\", \"small_bert/bert_en_uncased_L-4_H-128_A-2\", \"small_bert/bert_en_uncased_L-4_H-256_A-4\", \"small_bert/bert_en_uncased_L-4_H-512_A-8\", \"small_bert/bert_en_uncased_L-4_H-768_A-12\", \"small_bert/bert_en_uncased_L-6_H-128_A-2\", \"small_bert/bert_en_uncased_L-6_H-256_A-4\", \"small_bert/bert_en_uncased_L-6_H-512_A-8\", \"small_bert/bert_en_uncased_L-6_H-768_A-12\", \"small_bert/bert_en_uncased_L-8_H-128_A-2\", \"small_bert/bert_en_uncased_L-8_H-256_A-4\", \"small_bert/bert_en_uncased_L-8_H-512_A-8\", \"small_bert/bert_en_uncased_L-8_H-768_A-12\", \"small_bert/bert_en_uncased_L-10_H-128_A-2\", \"small_bert/bert_en_uncased_L-10_H-256_A-4\", \"small_bert/bert_en_uncased_L-10_H-512_A-8\", \"small_bert/bert_en_uncased_L-10_H-768_A-12\", \"small_bert/bert_en_uncased_L-12_H-128_A-2\", \"small_bert/bert_en_uncased_L-12_H-256_A-4\", \"small_bert/bert_en_uncased_L-12_H-512_A-8\", \"small_bert/bert_en_uncased_L-12_H-768_A-12\", \"albert_en_base\", \"electra_small\", \"electra_base\", \"experts_pubmed\", \"experts_wiki_books\", \"talking-heads_base\"]\n",
        "\n",
        "# map_name_to_handle = {\n",
        "#     'bert_en_uncased_L-12_H-768_A-12':\n",
        "#         'https://tfhub.dev/tensorflow/bert_en_uncased_L-12_H-768_A-12/3',\n",
        "#     'bert_en_cased_L-12_H-768_A-12':\n",
        "#         'https://tfhub.dev/tensorflow/bert_en_cased_L-12_H-768_A-12/3',\n",
        "#     'bert_multi_cased_L-12_H-768_A-12':\n",
        "#         'https://tfhub.dev/tensorflow/bert_multi_cased_L-12_H-768_A-12/3',\n",
        "#     'small_bert/bert_en_uncased_L-2_H-128_A-2':\n",
        "#         'https://tfhub.dev/tensorflow/small_bert/bert_en_uncased_L-2_H-128_A-2/1',\n",
        "#     'small_bert/bert_en_uncased_L-2_H-256_A-4':\n",
        "#         'https://tfhub.dev/tensorflow/small_bert/bert_en_uncased_L-2_H-256_A-4/1',\n",
        "#     'small_bert/bert_en_uncased_L-2_H-512_A-8':\n",
        "#         'https://tfhub.dev/tensorflow/small_bert/bert_en_uncased_L-2_H-512_A-8/1',\n",
        "#     'small_bert/bert_en_uncased_L-2_H-768_A-12':\n",
        "#         'https://tfhub.dev/tensorflow/small_bert/bert_en_uncased_L-2_H-768_A-12/1',\n",
        "#     'small_bert/bert_en_uncased_L-4_H-128_A-2':\n",
        "#         'https://tfhub.dev/tensorflow/small_bert/bert_en_uncased_L-4_H-128_A-2/1',\n",
        "#     'small_bert/bert_en_uncased_L-4_H-256_A-4':\n",
        "#         'https://tfhub.dev/tensorflow/small_bert/bert_en_uncased_L-4_H-256_A-4/1',\n",
        "#     'small_bert/bert_en_uncased_L-4_H-512_A-8':\n",
        "#         'https://tfhub.dev/tensorflow/small_bert/bert_en_uncased_L-4_H-512_A-8/1',\n",
        "#     'small_bert/bert_en_uncased_L-4_H-768_A-12':\n",
        "#         'https://tfhub.dev/tensorflow/small_bert/bert_en_uncased_L-4_H-768_A-12/1',\n",
        "#     'small_bert/bert_en_uncased_L-6_H-128_A-2':\n",
        "#         'https://tfhub.dev/tensorflow/small_bert/bert_en_uncased_L-6_H-128_A-2/1',\n",
        "#     'small_bert/bert_en_uncased_L-6_H-256_A-4':\n",
        "#         'https://tfhub.dev/tensorflow/small_bert/bert_en_uncased_L-6_H-256_A-4/1',\n",
        "#     'small_bert/bert_en_uncased_L-6_H-512_A-8':\n",
        "#         'https://tfhub.dev/tensorflow/small_bert/bert_en_uncased_L-6_H-512_A-8/1',\n",
        "#     'small_bert/bert_en_uncased_L-6_H-768_A-12':\n",
        "#         'https://tfhub.dev/tensorflow/small_bert/bert_en_uncased_L-6_H-768_A-12/1',\n",
        "#     'small_bert/bert_en_uncased_L-8_H-128_A-2':\n",
        "#         'https://tfhub.dev/tensorflow/small_bert/bert_en_uncased_L-8_H-128_A-2/1',\n",
        "#     'small_bert/bert_en_uncased_L-8_H-256_A-4':\n",
        "#         'https://tfhub.dev/tensorflow/small_bert/bert_en_uncased_L-8_H-256_A-4/1',\n",
        "#     'small_bert/bert_en_uncased_L-8_H-512_A-8':\n",
        "#         'https://tfhub.dev/tensorflow/small_bert/bert_en_uncased_L-8_H-512_A-8/1',\n",
        "#     'small_bert/bert_en_uncased_L-8_H-768_A-12':\n",
        "#         'https://tfhub.dev/tensorflow/small_bert/bert_en_uncased_L-8_H-768_A-12/1',\n",
        "#     'small_bert/bert_en_uncased_L-10_H-128_A-2':\n",
        "#         'https://tfhub.dev/tensorflow/small_bert/bert_en_uncased_L-10_H-128_A-2/1',\n",
        "#     'small_bert/bert_en_uncased_L-10_H-256_A-4':\n",
        "#         'https://tfhub.dev/tensorflow/small_bert/bert_en_uncased_L-10_H-256_A-4/1',\n",
        "#     'small_bert/bert_en_uncased_L-10_H-512_A-8':\n",
        "#         'https://tfhub.dev/tensorflow/small_bert/bert_en_uncased_L-10_H-512_A-8/1',\n",
        "#     'small_bert/bert_en_uncased_L-10_H-768_A-12':\n",
        "#         'https://tfhub.dev/tensorflow/small_bert/bert_en_uncased_L-10_H-768_A-12/1',\n",
        "#     'small_bert/bert_en_uncased_L-12_H-128_A-2':\n",
        "#         'https://tfhub.dev/tensorflow/small_bert/bert_en_uncased_L-12_H-128_A-2/1',\n",
        "#     'small_bert/bert_en_uncased_L-12_H-256_A-4':\n",
        "#         'https://tfhub.dev/tensorflow/small_bert/bert_en_uncased_L-12_H-256_A-4/1',\n",
        "#     'small_bert/bert_en_uncased_L-12_H-512_A-8':\n",
        "#         'https://tfhub.dev/tensorflow/small_bert/bert_en_uncased_L-12_H-512_A-8/1',\n",
        "#     'small_bert/bert_en_uncased_L-12_H-768_A-12':\n",
        "#         'https://tfhub.dev/tensorflow/small_bert/bert_en_uncased_L-12_H-768_A-12/1',\n",
        "#     'albert_en_base':\n",
        "#         'https://tfhub.dev/tensorflow/albert_en_base/2',\n",
        "#     'electra_small':\n",
        "#         'https://tfhub.dev/google/electra_small/2',\n",
        "#     'electra_base':\n",
        "#         'https://tfhub.dev/google/electra_base/2',\n",
        "#     'experts_pubmed':\n",
        "#         'https://tfhub.dev/google/experts/bert/pubmed/2',\n",
        "#     'experts_wiki_books':\n",
        "#         'https://tfhub.dev/google/experts/bert/wiki_books/2',\n",
        "#     'talking-heads_base':\n",
        "#         'https://tfhub.dev/tensorflow/talkheads_ggelu_bert_en_base/1',\n",
        "# }\n",
        "\n",
        "# map_model_to_preprocess = {\n",
        "#     'bert_en_uncased_L-12_H-768_A-12':\n",
        "#         'https://tfhub.dev/tensorflow/bert_en_uncased_preprocess/3',\n",
        "#     'bert_en_cased_L-12_H-768_A-12':\n",
        "#         'https://tfhub.dev/tensorflow/bert_en_cased_preprocess/3',\n",
        "#     'small_bert/bert_en_uncased_L-2_H-128_A-2':\n",
        "#         'https://tfhub.dev/tensorflow/bert_en_uncased_preprocess/3',\n",
        "#     'small_bert/bert_en_uncased_L-2_H-256_A-4':\n",
        "#         'https://tfhub.dev/tensorflow/bert_en_uncased_preprocess/3',\n",
        "#     'small_bert/bert_en_uncased_L-2_H-512_A-8':\n",
        "#         'https://tfhub.dev/tensorflow/bert_en_uncased_preprocess/3',\n",
        "#     'small_bert/bert_en_uncased_L-2_H-768_A-12':\n",
        "#         'https://tfhub.dev/tensorflow/bert_en_uncased_preprocess/3',\n",
        "#     'small_bert/bert_en_uncased_L-4_H-128_A-2':\n",
        "#         'https://tfhub.dev/tensorflow/bert_en_uncased_preprocess/3',\n",
        "#     'small_bert/bert_en_uncased_L-4_H-256_A-4':\n",
        "#         'https://tfhub.dev/tensorflow/bert_en_uncased_preprocess/3',\n",
        "#     'small_bert/bert_en_uncased_L-4_H-512_A-8':\n",
        "#         'https://tfhub.dev/tensorflow/bert_en_uncased_preprocess/3',\n",
        "#     'small_bert/bert_en_uncased_L-4_H-768_A-12':\n",
        "#         'https://tfhub.dev/tensorflow/bert_en_uncased_preprocess/3',\n",
        "#     'small_bert/bert_en_uncased_L-6_H-128_A-2':\n",
        "#         'https://tfhub.dev/tensorflow/bert_en_uncased_preprocess/3',\n",
        "#     'small_bert/bert_en_uncased_L-6_H-256_A-4':\n",
        "#         'https://tfhub.dev/tensorflow/bert_en_uncased_preprocess/3',\n",
        "#     'small_bert/bert_en_uncased_L-6_H-512_A-8':\n",
        "#         'https://tfhub.dev/tensorflow/bert_en_uncased_preprocess/3',\n",
        "#     'small_bert/bert_en_uncased_L-6_H-768_A-12':\n",
        "#         'https://tfhub.dev/tensorflow/bert_en_uncased_preprocess/3',\n",
        "#     'small_bert/bert_en_uncased_L-8_H-128_A-2':\n",
        "#         'https://tfhub.dev/tensorflow/bert_en_uncased_preprocess/3',\n",
        "#     'small_bert/bert_en_uncased_L-8_H-256_A-4':\n",
        "#         'https://tfhub.dev/tensorflow/bert_en_uncased_preprocess/3',\n",
        "#     'small_bert/bert_en_uncased_L-8_H-512_A-8':\n",
        "#         'https://tfhub.dev/tensorflow/bert_en_uncased_preprocess/3',\n",
        "#     'small_bert/bert_en_uncased_L-8_H-768_A-12':\n",
        "#         'https://tfhub.dev/tensorflow/bert_en_uncased_preprocess/3',\n",
        "#     'small_bert/bert_en_uncased_L-10_H-128_A-2':\n",
        "#         'https://tfhub.dev/tensorflow/bert_en_uncased_preprocess/3',\n",
        "#     'small_bert/bert_en_uncased_L-10_H-256_A-4':\n",
        "#         'https://tfhub.dev/tensorflow/bert_en_uncased_preprocess/3',\n",
        "#     'small_bert/bert_en_uncased_L-10_H-512_A-8':\n",
        "#         'https://tfhub.dev/tensorflow/bert_en_uncased_preprocess/3',\n",
        "#     'small_bert/bert_en_uncased_L-10_H-768_A-12':\n",
        "#         'https://tfhub.dev/tensorflow/bert_en_uncased_preprocess/3',\n",
        "#     'small_bert/bert_en_uncased_L-12_H-128_A-2':\n",
        "#         'https://tfhub.dev/tensorflow/bert_en_uncased_preprocess/3',\n",
        "#     'small_bert/bert_en_uncased_L-12_H-256_A-4':\n",
        "#         'https://tfhub.dev/tensorflow/bert_en_uncased_preprocess/3',\n",
        "#     'small_bert/bert_en_uncased_L-12_H-512_A-8':\n",
        "#         'https://tfhub.dev/tensorflow/bert_en_uncased_preprocess/3',\n",
        "#     'small_bert/bert_en_uncased_L-12_H-768_A-12':\n",
        "#         'https://tfhub.dev/tensorflow/bert_en_uncased_preprocess/3',\n",
        "#     'bert_multi_cased_L-12_H-768_A-12':\n",
        "#         'https://tfhub.dev/tensorflow/bert_multi_cased_preprocess/3',\n",
        "#     'albert_en_base':\n",
        "#         'https://tfhub.dev/tensorflow/albert_en_preprocess/3',\n",
        "#     'electra_small':\n",
        "#         'https://tfhub.dev/tensorflow/bert_en_uncased_preprocess/3',\n",
        "#     'electra_base':\n",
        "#         'https://tfhub.dev/tensorflow/bert_en_uncased_preprocess/3',\n",
        "#     'experts_pubmed':\n",
        "#         'https://tfhub.dev/tensorflow/bert_en_uncased_preprocess/3',\n",
        "#     'experts_wiki_books':\n",
        "#         'https://tfhub.dev/tensorflow/bert_en_uncased_preprocess/3',\n",
        "#     'talking-heads_base':\n",
        "#         'https://tfhub.dev/tensorflow/bert_en_uncased_preprocess/3',\n",
        "# }\n",
        "\n",
        "# tfhub_handle_encoder = map_name_to_handle[bert_model_name]\n",
        "# tfhub_handle_preprocess = map_model_to_preprocess[bert_model_name]\n",
        "\n",
        "# print(f'BERT model selected           : {tfhub_handle_encoder}')\n",
        "# print(f'Preprocess model auto-selected: {tfhub_handle_preprocess}')"
      ],
      "metadata": {
        "cellView": "form",
        "id": "lUUCZ6tWxyZ6"
      },
      "execution_count": null,
      "outputs": []
    },
    {
      "cell_type": "code",
      "source": [
        "# bert_preprocess_model = hub.KerasLayer(tfhub_handle_preprocess)\n",
        "# text_test = [\"this is an amazing movie\"]\n",
        "# text_preprocessed = bert_preprocess_model(text_test)\n",
        "\n",
        "# print(f'Keys       : {list(text_preprocessed.keys())}')\n",
        "# print(f'Shape      : {text_preprocessed[\"input_word_ids\"].shape}')\n",
        "# print(f'Word Ids   : {text_preprocessed[\"input_word_ids\"][0, :12]}')\n",
        "# print(f'Input Mask : {text_preprocessed[\"input_mask\"][0, :12]}')\n",
        "# print(f'Type Ids   : {text_preprocessed[\"input_type_ids\"][0, :12]}')"
      ],
      "metadata": {
        "id": "OM-23rpTxKiF"
      },
      "execution_count": null,
      "outputs": []
    },
    {
      "cell_type": "code",
      "source": [
        "# Testing the tokenizer model...\n",
        "\n",
        "# text_test = [\"this is an amazing movie\", \"this is a crappy move on your part\"]\n",
        "# # text_preprocessed = bert_preprocess_model(text_test)\n",
        "# text_preprocessed = tokenizer(text_test)\n",
        "# print(text_preprocessed)"
      ],
      "metadata": {
        "id": "lzhHn8vezOfu"
      },
      "execution_count": null,
      "outputs": []
    },
    {
      "cell_type": "markdown",
      "source": [
        "#### Histogram: Uncleaned Sentences\n",
        "\n",
        "Let's find out how long the uncleaned sentence is, since the example link does not do data cleaning on the sentences in the sense that common stop words are still provided."
      ],
      "metadata": {
        "id": "nMPQ0676j_BB"
      }
    },
    {
      "cell_type": "code",
      "source": [
        "from keras.preprocessing.text import Tokenizer\n",
        "from keras.preprocessing.sequence import pad_sequences\n",
        "import seaborn as sns\n",
        "\n",
        "tokenizer = Tokenizer()\n",
        "tokenizer.fit_on_texts(data_train[\"sentence\"])\n",
        "dic_vocabulary = tokenizer.word_index\n",
        "\n",
        "X_train = tokenizer.texts_to_sequences(data_train[\"sentence\"])\n",
        "X_test = tokenizer.texts_to_sequences(data_test[\"sentence\"])\n",
        "X_val = tokenizer.texts_to_sequences(data_val[\"sentence\"])\n",
        "\n",
        "vocab_size = len(tokenizer.word_index) + 1"
      ],
      "metadata": {
        "id": "Ylfhpf-EjyGA"
      },
      "execution_count": null,
      "outputs": []
    },
    {
      "cell_type": "code",
      "source": [
        "# string_name = ['X_train', 'X_test', 'X_val']\n",
        "dict_data = {'X_train': X_train,\n",
        "             'X_test': X_test,\n",
        "             'X_val': X_val}\n",
        "histo_plot_data = np.zeros((3,66))\n",
        "\n",
        "tmp_counter = 0;\n",
        "for key, value in dict_data.items():\n",
        "    feedback = 0;\n",
        "    feedback_sum = 0;\n",
        "    for i in value:\n",
        "        histo_plot_data[tmp_counter, len(i)-1] += 1\n",
        "        feedback_sum += len(i)\n",
        "        if len(i) > feedback:\n",
        "            feedback = len(i)\n",
        "    print(f\"{key}, Longest ID: {feedback}, Average ID length: {feedback_sum/len(value)}\")\n",
        "    tmp_counter += 1\n",
        "del tmp_counter\n",
        "\n",
        "# Longest sentence has 35 elements. Average is around 10.\n",
        "# TODO: This value, which influences padding, should be adjusted I think...\n",
        "# maxlen = 20\n",
        "\n",
        "# Delete unneeded variables\n",
        "del X_train, X_test, X_val, vocab_size, dic_vocabulary, tokenizer, feedback\n",
        "del feedback_sum, dict_data, tmp_counter, i, key, value"
      ],
      "metadata": {
        "colab": {
          "base_uri": "https://localhost:8080/"
        },
        "id": "QT27TvOxgWWi",
        "outputId": "b9fd15a0-19a8-4bb8-c1c0-1ab91174508f"
      },
      "execution_count": null,
      "outputs": [
        {
          "output_type": "stream",
          "name": "stdout",
          "text": [
            "X_train, Longest ID: 66, Average ID length: 19.1663125\n",
            "X_test, Longest ID: 60, Average ID length: 18.634\n",
            "X_val, Longest ID: 61, Average ID length: 18.3535\n"
          ]
        }
      ]
    },
    {
      "cell_type": "code",
      "source": [
        "# Plotting the ID histogram to see the distribution\n",
        "import matplotlib.pyplot as plt\n",
        "\n",
        "plt.barh(range(1,66+1), histo_plot_data[0,:])\n",
        "plt.barh(range(1,66+1), histo_plot_data[1,:])\n",
        "plt.barh(range(1,66+1), histo_plot_data[2,:])"
      ],
      "metadata": {
        "colab": {
          "base_uri": "https://localhost:8080/",
          "height": 282
        },
        "id": "F6fuYFdZkTdJ",
        "outputId": "85ea4de4-d3e4-40bf-eae0-f75cf59035d4"
      },
      "execution_count": null,
      "outputs": [
        {
          "output_type": "execute_result",
          "data": {
            "text/plain": [
              "<BarContainer object of 66 artists>"
            ]
          },
          "metadata": {},
          "execution_count": 44
        },
        {
          "output_type": "display_data",
          "data": {
            "image/png": "[encoded data removed]",
            "text/plain": [
              "<Figure size 432x288 with 1 Axes>"
            ]
          },
          "metadata": {
            "needs_background": "light"
          }
        }
      ]
    },
    {
      "cell_type": "markdown",
      "metadata": {
        "id": "WDtYhj0SaH7y",
        "tags": []
      },
      "source": [
        "### METHOD 1: Word Embedding\n",
        "\n",
        "I did pre-processing, word stemming, and stuff like that in Data Cleaning. The simplest way avoid words not being found in a database is if word stemming is not performed on the dataset (or as I just found out, use lemmization instead. More computationally complex but better for actually working with word embedding techniques (I think))."
      ]
    },
    {
      "cell_type": "markdown",
      "metadata": {
        "id": "IyQ0gXpbrWuW"
      },
      "source": [
        "Partial reference: Find words in the Word2VecKeyedVector (using 2.3 in source https://github.com/adsieg/Multi_Text_Classification/blob/master/%5BIntroduction%5D%20-%20Big%20tutorial%20-%20Text%20Classification.ipynb) by using `Word2VecKeyedVector.index2word`. This returns a list of the word2vec array."
      ]
    },
    {
      "cell_type": "markdown",
      "source": [
        "Instructions used for pre-processing (this part): https://towardsdatascience.com/text-classification-with-nlp-tf-idf-vs-word2vec-vs-bert-41ff868d1794 (as posted on Feb.17)"
      ],
      "metadata": {
        "id": "7otfrHqvs_4S"
      }
    },
    {
      "cell_type": "markdown",
      "metadata": {
        "id": "8rrmiLXAPbty"
      },
      "source": [
        "For CNN (not attempted): https://medium.com/saarthi-ai/sentence-classification-using-convolutional-neural-networks-ddad72c7048c"
      ]
    },
    {
      "cell_type": "code",
      "execution_count": null,
      "metadata": {
        "colab": {
          "base_uri": "https://localhost:8080/"
        },
        "id": "I4X05qMsQmcl",
        "outputId": "6fba3100-a00f-4acb-ebe9-8ce4d377524b",
        "tags": []
      },
      "outputs": [
        {
          "output_type": "stream",
          "name": "stdout",
          "text": [
            "[==================================================] 100.0% 104.8/104.8MB downloaded\n",
            "/root/gensim-data/glove-twitter-25/glove-twitter-25.gz\n"
          ]
        }
      ],
      "source": [
        "# DO NOT RUN THIS BLOCK MORE THAN ONCE IN ONE SESSION\n",
        "# Import gensim data\n",
        "import gensim.downloader as api\n",
        "import gensim\n",
        "# Load a pre-trained word embedding model\n",
        "# Gensim data obtained from https://github.com/RaRe-Technologies/gensim-data (official source)\n",
        "word_embed = api.load('glove-twitter-25')\n",
        "# word_embed = api.load('word2vec-google-news-300') # This is 1.6GB... good luck doing this on Google Colab...\n",
        "# model = gensim.models.KeyedVectors.load_word2vec_format('GoogleNews-vectors-negative300.bin', binary=True)\n",
        "\n",
        "print(api.load(\"glove-twitter-25\", return_path=True))\n",
        "# print(api.load('word2vec-google-news-300', return_path=True))\n",
        "\n",
        "# Check dimension of word vectors\n",
        "# model.vector_size"
      ]
    },
    {
      "cell_type": "markdown",
      "metadata": {
        "id": "zkZ0LrphPbtz"
      },
      "source": [
        "#### Pre-Processing\n",
        "Using Keras for Preprocessing. Steps taken:\n",
        "1. Called the Tokenizer object\n",
        "2. Added Training Set Vocabulary to the Tokenizer object (`fit_on_texts`)\n",
        "    * Viewed the added vocabulary using `tokenizer.word_index` command.\n",
        "3. Convert all text to numeric values using `text_to_sequences` method function\n",
        "4. Padded the length of every sample so that the input matrix would be equal in size"
      ]
    },
    {
      "cell_type": "code",
      "source": [
        "data_train.head()"
      ],
      "metadata": {
        "colab": {
          "base_uri": "https://localhost:8080/",
          "height": 204
        },
        "id": "GZJVqjx0gILU",
        "outputId": "2b5e3197-d430-483f-b937-7ef5e95c457d"
      },
      "execution_count": null,
      "outputs": [
        {
          "output_type": "execute_result",
          "data": {
            "text/html": [
              "\n",
              "  <div id=\"df-1e3475c6-1624-4ecd-84e0-3786bbfc8b31\">\n",
              "    <div class=\"colab-df-container\">\n",
              "      <div>\n",
              "<style scoped>\n",
              "    .dataframe tbody tr th:only-of-type {\n",
              "        vertical-align: middle;\n",
              "    }\n",
              "\n",
              "    .dataframe tbody tr th {\n",
              "        vertical-align: top;\n",
              "    }\n",
              "\n",
              "    .dataframe thead th {\n",
              "        text-align: right;\n",
              "    }\n",
              "</style>\n",
              "<table border=\"1\" class=\"dataframe\">\n",
              "  <thead>\n",
              "    <tr style=\"text-align: right;\">\n",
              "      <th></th>\n",
              "      <th>sentence</th>\n",
              "      <th>emotion</th>\n",
              "      <th>emotion_enc</th>\n",
              "      <th>sentence_cleaned</th>\n",
              "    </tr>\n",
              "  </thead>\n",
              "  <tbody>\n",
              "    <tr>\n",
              "      <th>0</th>\n",
              "      <td>i didnt feel humiliated</td>\n",
              "      <td>sadness</td>\n",
              "      <td>4</td>\n",
              "      <td>didnt feel humiliated</td>\n",
              "    </tr>\n",
              "    <tr>\n",
              "      <th>1</th>\n",
              "      <td>i can go from feeling so hopeless to so damned...</td>\n",
              "      <td>sadness</td>\n",
              "      <td>4</td>\n",
              "      <td>go feeling hopeless damned hopeful around some...</td>\n",
              "    </tr>\n",
              "    <tr>\n",
              "      <th>2</th>\n",
              "      <td>im grabbing a minute to post i feel greedy wrong</td>\n",
              "      <td>anger</td>\n",
              "      <td>0</td>\n",
              "      <td>im grabbing minute post feel greedy wrong</td>\n",
              "    </tr>\n",
              "    <tr>\n",
              "      <th>3</th>\n",
              "      <td>i am ever feeling nostalgic about the fireplac...</td>\n",
              "      <td>love</td>\n",
              "      <td>3</td>\n",
              "      <td>ever feeling nostalgic fireplace know still pr...</td>\n",
              "    </tr>\n",
              "    <tr>\n",
              "      <th>4</th>\n",
              "      <td>i am feeling grouchy</td>\n",
              "      <td>anger</td>\n",
              "      <td>0</td>\n",
              "      <td>feeling grouchy</td>\n",
              "    </tr>\n",
              "  </tbody>\n",
              "</table>\n",
              "</div>\n",
              "      <button class=\"colab-df-convert\" onclick=\"convertToInteractive('df-1e3475c6-1624-4ecd-84e0-3786bbfc8b31')\"\n",
              "              title=\"Convert this dataframe to an interactive table.\"\n",
              "              style=\"display:none;\">\n",
              "        \n",
              "  <svg xmlns=\"http://www.w3.org/2000/svg\" height=\"24px\"viewBox=\"0 0 24 24\"\n",
              "       width=\"24px\">\n",
              "    <path d=\"M0 0h24v24H0V0z\" fill=\"none\"/>\n",
              "    <path d=\"M18.56 5.44l.94 2.06.94-2.06 2.06-.94-2.06-.94-.94-2.06-.94 2.06-2.06.94zm-11 1L8.5 8.5l.94-2.06 2.06-.94-2.06-.94L8.5 2.5l-.94 2.06-2.06.94zm10 10l.94 2.06.94-2.06 2.06-.94-2.06-.94-.94-2.06-.94 2.06-2.06.94z\"/><path d=\"M17.41 7.96l-1.37-1.37c-.4-.4-.92-.59-1.43-.59-.52 0-1.04.2-1.43.59L10.3 9.45l-7.72 7.72c-.78.78-.78 2.05 0 2.83L4 21.41c.39.39.9.59 1.41.59.51 0 1.02-.2 1.41-.59l7.78-7.78 2.81-2.81c.8-.78.8-2.07 0-2.86zM5.41 20L4 18.59l7.72-7.72 1.47 1.35L5.41 20z\"/>\n",
              "  </svg>\n",
              "      </button>\n",
              "      \n",
              "  <style>\n",
              "    .colab-df-container {\n",
              "      display:flex;\n",
              "      flex-wrap:wrap;\n",
              "      gap: 12px;\n",
              "    }\n",
              "\n",
              "    .colab-df-convert {\n",
              "      background-color: #E8F0FE;\n",
              "      border: none;\n",
              "      border-radius: 50%;\n",
              "      cursor: pointer;\n",
              "      display: none;\n",
              "      fill: #1967D2;\n",
              "      height: 32px;\n",
              "      padding: 0 0 0 0;\n",
              "      width: 32px;\n",
              "    }\n",
              "\n",
              "    .colab-df-convert:hover {\n",
              "      background-color: #E2EBFA;\n",
              "      box-shadow: 0px 1px 2px rgba(60, 64, 67, 0.3), 0px 1px 3px 1px rgba(60, 64, 67, 0.15);\n",
              "      fill: #174EA6;\n",
              "    }\n",
              "\n",
              "    [theme=dark] .colab-df-convert {\n",
              "      background-color: #3B4455;\n",
              "      fill: #D2E3FC;\n",
              "    }\n",
              "\n",
              "    [theme=dark] .colab-df-convert:hover {\n",
              "      background-color: #434B5C;\n",
              "      box-shadow: 0px 1px 3px 1px rgba(0, 0, 0, 0.15);\n",
              "      filter: drop-shadow(0px 1px 2px rgba(0, 0, 0, 0.3));\n",
              "      fill: #FFFFFF;\n",
              "    }\n",
              "  </style>\n",
              "\n",
              "      <script>\n",
              "        const buttonEl =\n",
              "          document.querySelector('#df-1e3475c6-1624-4ecd-84e0-3786bbfc8b31 button.colab-df-convert');\n",
              "        buttonEl.style.display =\n",
              "          google.colab.kernel.accessAllowed ? 'block' : 'none';\n",
              "\n",
              "        async function convertToInteractive(key) {\n",
              "          const element = document.querySelector('#df-1e3475c6-1624-4ecd-84e0-3786bbfc8b31');\n",
              "          const dataTable =\n",
              "            await google.colab.kernel.invokeFunction('convertToInteractive',\n",
              "                                                     [key], {});\n",
              "          if (!dataTable) return;\n",
              "\n",
              "          const docLinkHtml = 'Like what you see? Visit the ' +\n",
              "            '<a target=\"_blank\" href=https://colab.research.google.com/notebooks/data_table.ipynb>data table notebook</a>'\n",
              "            + ' to learn more about interactive tables.';\n",
              "          element.innerHTML = '';\n",
              "          dataTable['output_type'] = 'display_data';\n",
              "          await google.colab.output.renderOutput(dataTable, element);\n",
              "          const docLink = document.createElement('div');\n",
              "          docLink.innerHTML = docLinkHtml;\n",
              "          element.appendChild(docLink);\n",
              "        }\n",
              "      </script>\n",
              "    </div>\n",
              "  </div>\n",
              "  "
            ],
            "text/plain": [
              "                                            sentence  emotion  emotion_enc  \\\n",
              "0                            i didnt feel humiliated  sadness            4   \n",
              "1  i can go from feeling so hopeless to so damned...  sadness            4   \n",
              "2   im grabbing a minute to post i feel greedy wrong    anger            0   \n",
              "3  i am ever feeling nostalgic about the fireplac...     love            3   \n",
              "4                               i am feeling grouchy    anger            0   \n",
              "\n",
              "                                    sentence_cleaned  \n",
              "0                              didnt feel humiliated  \n",
              "1  go feeling hopeless damned hopeful around some...  \n",
              "2          im grabbing minute post feel greedy wrong  \n",
              "3  ever feeling nostalgic fireplace know still pr...  \n",
              "4                                    feeling grouchy  "
            ]
          },
          "metadata": {},
          "execution_count": 67
        }
      ]
    },
    {
      "cell_type": "code",
      "execution_count": null,
      "metadata": {
        "id": "EUzjRawYPbtz"
      },
      "outputs": [],
      "source": [
        "from keras.preprocessing.text import Tokenizer\n",
        "from keras.preprocessing.sequence import pad_sequences\n",
        "import seaborn as sns\n",
        "\n",
        "tokenizer = Tokenizer()\n",
        "tokenizer.fit_on_texts(data_train[\"sentence_cleaned\"])\n",
        "dic_vocabulary = tokenizer.word_index\n",
        "\n",
        "X_train = tokenizer.texts_to_sequences(data_train[\"sentence_cleaned\"])\n",
        "X_test = tokenizer.texts_to_sequences(data_test[\"sentence_cleaned\"])\n",
        "X_val = tokenizer.texts_to_sequences(data_val[\"sentence_cleaned\"])\n",
        "\n",
        "vocab_size = len(tokenizer.word_index) + 1"
      ]
    },
    {
      "cell_type": "markdown",
      "source": [
        "Finding out which data set has the longest \"sentence\" a.k.a. useful words that we did not eliminate via lemmization."
      ],
      "metadata": {
        "id": "ffDRXRISyhsg"
      }
    },
    {
      "cell_type": "code",
      "source": [
        "# string_name = ['X_train', 'X_test', 'X_val']\n",
        "dict_data = {'X_train': X_train,\n",
        "             'X_test': X_test,\n",
        "             'X_val': X_val}\n",
        "histo_plot_data = np.zeros((3,35))\n",
        "\n",
        "tmp_counter = 0;\n",
        "for key, value in dict_data.items():\n",
        "    feedback = 0;\n",
        "    feedback_sum = 0;\n",
        "    for i in value:\n",
        "        histo_plot_data[tmp_counter, len(i)-1] += 1\n",
        "        feedback_sum += len(i)\n",
        "        if len(i) > feedback:\n",
        "            feedback = len(i)\n",
        "    print(f\"{key}, Longest ID: {feedback}, Average ID length: {feedback_sum/len(value)}\")\n",
        "    tmp_counter += 1\n",
        "del tmp_counter\n",
        "\n",
        "# Longest sentence has 35 elements. Average is around 10.\n",
        "# TODO: This value, which influences padding, should be adjusted I think...\n",
        "maxlen = 20"
      ],
      "metadata": {
        "colab": {
          "base_uri": "https://localhost:8080/"
        },
        "id": "TfsSVjnqwRRM",
        "outputId": "1ff3a568-c798-412d-c6b2-4625b079f76b"
      },
      "execution_count": null,
      "outputs": [
        {
          "output_type": "stream",
          "name": "stdout",
          "text": [
            "X_train, Longest ID: 35, Average ID length: 9.3530625\n",
            "X_test, Longest ID: 30, Average ID length: 8.85\n",
            "X_val, Longest ID: 28, Average ID length: 8.764\n"
          ]
        }
      ]
    },
    {
      "cell_type": "code",
      "source": [
        "# Plotting the ID histogram to see the distribution\n",
        "import matplotlib.pyplot as plt\n",
        "\n",
        "plt.barh(range(1,35+1), histo_plot_data[0,:])\n",
        "plt.barh(range(1,35+1), histo_plot_data[1,:])\n",
        "plt.barh(range(1,35+1), histo_plot_data[2,:])"
      ],
      "metadata": {
        "colab": {
          "base_uri": "https://localhost:8080/",
          "height": 282
        },
        "id": "uJKPzj9zObv0",
        "outputId": "2d9a792a-6304-44dc-8cec-fdaf373b998c"
      },
      "execution_count": null,
      "outputs": [
        {
          "output_type": "execute_result",
          "data": {
            "text/plain": [
              "<BarContainer object of 35 artists>"
            ]
          },
          "metadata": {},
          "execution_count": 71
        },
        {
          "output_type": "display_data",
          "data": {
            "image/png": "[encoded data removed]",
            "text/plain": [
              "<Figure size 432x288 with 1 Axes>"
            ]
          },
          "metadata": {
            "needs_background": "light"
          }
        }
      ]
    },
    {
      "cell_type": "markdown",
      "source": [
        "Pad each sample to the same length."
      ],
      "metadata": {
        "id": "Y3pBemRHwEN9"
      }
    },
    {
      "cell_type": "code",
      "source": [
        "X_train = pad_sequences(X_train, padding='post', maxlen=maxlen)\n",
        "X_test = pad_sequences(X_test, padding='post', maxlen=maxlen)\n",
        "X_val = pad_sequences(X_val, padding='post', maxlen=maxlen)\n",
        "\n",
        "# Honestly don't know what this is doing, I just followed the website's instructions\n",
        "# Looks like this shows the padding heat map or something similar to that\n",
        "sns.heatmap(X_train==0, vmin=0, vmax=1, cbar=False)\n",
        "plt.show()"
      ],
      "metadata": {
        "colab": {
          "base_uri": "https://localhost:8080/",
          "height": 270
        },
        "id": "WhQBTFT6v54X",
        "outputId": "befd3a4e-dd54-454d-c462-f728890b1890"
      },
      "execution_count": null,
      "outputs": [
        {
          "output_type": "display_data",
          "data": {
            "image/png": "[encoded data removed]",
            "text/plain": [
              "<Figure size 432x288 with 1 Axes>"
            ]
          },
          "metadata": {
            "needs_background": "light"
          }
        }
      ]
    },
    {
      "cell_type": "markdown",
      "source": [
        "Obtain the Embedding Matrix, which is necessary for the machine learning algorithm."
      ],
      "metadata": {
        "id": "sh1SpY8hvmmN"
      }
    },
    {
      "cell_type": "code",
      "source": [
        "embeddings = np.zeros((len(dic_vocabulary)+1, 25))\n",
        "counter=0\n",
        "for word, idx in dic_vocabulary.items():\n",
        "    # embeddings[idx] = word_embed[word]\n",
        "    try:\n",
        "        # Reminder: word_embed is the pre-trained word embedding model...\n",
        "        embeddings[idx] = word_embed[word]\n",
        "    except:\n",
        "        counter += 1\n",
        "        pass\n",
        "\n",
        "print(f\"Number of words in dictionary that have been assigned a matrix of 0's: {counter}\")\n",
        "\n",
        "# word = \"data\"\n",
        "# print(\"dic[word]:\", dic_vocabulary[word], \"|idx\")\n",
        "# print(\"embeddings[idx]:\", embeddings[dic_vocabulary[word]].shape, \n",
        "#       \"|vector\")"
      ],
      "metadata": {
        "id": "SjN7DmxxUp3b",
        "colab": {
          "base_uri": "https://localhost:8080/"
        },
        "outputId": "6af947d2-48e9-415d-e3e9-ebe5f31ced57"
      },
      "execution_count": null,
      "outputs": [
        {
          "output_type": "stream",
          "name": "stdout",
          "text": [
            "Number of words in dictionary that have been assigned a matrix of 0's: 872\n"
          ]
        }
      ]
    },
    {
      "cell_type": "markdown",
      "source": [
        "#### Neural Network\n",
        "\n",
        "Referencing source: https://towardsdatascience.com/text-classification-with-nlp-tf-idf-vs-word2vec-vs-bert-41ff868d1794"
      ],
      "metadata": {
        "id": "m_0cPtAOdcek"
      }
    },
    {
      "cell_type": "code",
      "source": [
        "from keras.models import Sequential\n",
        "from keras import layers, models, optimizers\n",
        "import keras\n",
        "\n",
        "def attention_layer(inputs, neurons):\n",
        "    x = layers.Permute((2,1))(inputs)\n",
        "    x = layers.Dense(neurons, activation=\"softmax\")(x)\n",
        "    x = layers.Permute((2,1), name='attention')(x)\n",
        "    x = layers.multiply([inputs, x])\n",
        "    return x\n",
        "\n",
        "# input\n",
        "x_in = layers.Input(shape=(maxlen,))\n",
        "\n",
        "# embedding\n",
        "# trainable=False means that these embedding weights will not change. What if they did though?\n",
        "x = layers.Embedding(input_dim=embeddings.shape[0],\n",
        "                     output_dim=embeddings.shape[1],\n",
        "                     weights=[embeddings],\n",
        "                     input_length=maxlen, trainable=True)(x_in)\n",
        "\n",
        "# apply attention\n",
        "x = attention_layer(x, neurons=maxlen)\n",
        "\n",
        "# 2 layers of bidirectional lstm\n",
        "x = layers.Bidirectional(layers.LSTM(units=maxlen, dropout=0.2, return_sequences=True))(x)\n",
        "x = layers.Bidirectional(layers.LSTM(units=maxlen, dropout=0.2))(x)\n",
        "\n",
        "# final dense layers\n",
        "x = layers.Dense(64, activation='relu')(x)\n",
        "y_out = layers.Dense(6, activation='softmax')(x)\n",
        "\n",
        "model = models.Model(x_in, y_out)\n",
        "model.compile(loss='sparse_categorical_crossentropy', optimizer='adam', metrics=['accuracy'])\n",
        "model.summary()"
      ],
      "metadata": {
        "colab": {
          "base_uri": "https://localhost:8080/"
        },
        "id": "Be-tKnSqdjLK",
        "outputId": "1f4e33f4-d45a-41a0-ee0d-c77a1b8f4dfe"
      },
      "execution_count": null,
      "outputs": [
        {
          "output_type": "stream",
          "name": "stdout",
          "text": [
            "Model: \"model_4\"\n",
            "__________________________________________________________________________________________________\n",
            " Layer (type)                   Output Shape         Param #     Connected to                     \n",
            "==================================================================================================\n",
            " input_5 (InputLayer)           [(None, 20)]         0           []                               \n",
            "                                                                                                  \n",
            " embedding_4 (Embedding)        (None, 20, 25)       336975      ['input_5[0][0]']                \n",
            "                                                                                                  \n",
            " permute_4 (Permute)            (None, 25, 20)       0           ['embedding_4[0][0]']            \n",
            "                                                                                                  \n",
            " dense_9 (Dense)                (None, 25, 20)       420         ['permute_4[0][0]']              \n",
            "                                                                                                  \n",
            " attention (Permute)            (None, 20, 25)       0           ['dense_9[0][0]']                \n",
            "                                                                                                  \n",
            " multiply_4 (Multiply)          (None, 20, 25)       0           ['embedding_4[0][0]',            \n",
            "                                                                  'attention[0][0]']              \n",
            "                                                                                                  \n",
            " bidirectional_8 (Bidirectional  (None, 20, 40)      7360        ['multiply_4[0][0]']             \n",
            " )                                                                                                \n",
            "                                                                                                  \n",
            " bidirectional_9 (Bidirectional  (None, 40)          9760        ['bidirectional_8[0][0]']        \n",
            " )                                                                                                \n",
            "                                                                                                  \n",
            " dense_10 (Dense)               (None, 64)           2624        ['bidirectional_9[0][0]']        \n",
            "                                                                                                  \n",
            " dense_11 (Dense)               (None, 6)            390         ['dense_10[0][0]']               \n",
            "                                                                                                  \n",
            "==================================================================================================\n",
            "Total params: 357,529\n",
            "Trainable params: 357,529\n",
            "Non-trainable params: 0\n",
            "__________________________________________________________________________________________________\n"
          ]
        }
      ]
    },
    {
      "cell_type": "code",
      "source": [
        "# The fitting method should be placed in a variable so that results can be easily extracted later...\n",
        "# For now, I would like to see training happening in real time, so making it verbose I guess.\n",
        "# Still need to adjust hyper-parameters for better results... if I can get better results.\n",
        "# batch_size=256 (default given on the website)\n",
        "model.fit(x=X_train, y=data_train['emotion_enc'], batch_size=32, epochs=20,\n",
        "                     shuffle=True, verbose=1, validation_data=[X_val, data_val['emotion_enc']])"
      ],
      "metadata": {
        "colab": {
          "base_uri": "https://localhost:8080/"
        },
        "id": "SGE2_s1_gB7B",
        "outputId": "46976649-cccd-4d09-c6f7-d1df10388115"
      },
      "execution_count": null,
      "outputs": [
        {
          "output_type": "stream",
          "name": "stdout",
          "text": [
            "Epoch 1/20\n",
            "500/500 [==============================] - 21s 29ms/step - loss: 1.4924 - accuracy: 0.4114 - val_loss: 1.3052 - val_accuracy: 0.5155\n",
            "Epoch 2/20\n",
            "500/500 [==============================] - 13s 25ms/step - loss: 1.2320 - accuracy: 0.5321 - val_loss: 1.1119 - val_accuracy: 0.5715\n",
            "Epoch 3/20\n",
            "500/500 [==============================] - 13s 25ms/step - loss: 1.0116 - accuracy: 0.6001 - val_loss: 0.8995 - val_accuracy: 0.6400\n",
            "Epoch 4/20\n",
            "500/500 [==============================] - 13s 25ms/step - loss: 0.7826 - accuracy: 0.6952 - val_loss: 0.7254 - val_accuracy: 0.7350\n",
            "Epoch 5/20\n",
            "500/500 [==============================] - 13s 25ms/step - loss: 0.6021 - accuracy: 0.7732 - val_loss: 0.5989 - val_accuracy: 0.7830\n",
            "Epoch 6/20\n",
            "500/500 [==============================] - 14s 29ms/step - loss: 0.4814 - accuracy: 0.8194 - val_loss: 0.4981 - val_accuracy: 0.8325\n",
            "Epoch 7/20\n",
            "500/500 [==============================] - 13s 26ms/step - loss: 0.3927 - accuracy: 0.8574 - val_loss: 0.4569 - val_accuracy: 0.8455\n",
            "Epoch 8/20\n",
            "500/500 [==============================] - 13s 26ms/step - loss: 0.3319 - accuracy: 0.8813 - val_loss: 0.4304 - val_accuracy: 0.8555\n",
            "Epoch 9/20\n",
            "500/500 [==============================] - 13s 25ms/step - loss: 0.2837 - accuracy: 0.8967 - val_loss: 0.4373 - val_accuracy: 0.8585\n",
            "Epoch 10/20\n",
            "500/500 [==============================] - 13s 26ms/step - loss: 0.2493 - accuracy: 0.9097 - val_loss: 0.4196 - val_accuracy: 0.8560\n",
            "Epoch 11/20\n",
            "500/500 [==============================] - 13s 26ms/step - loss: 0.2239 - accuracy: 0.9184 - val_loss: 0.4091 - val_accuracy: 0.8650\n",
            "Epoch 12/20\n",
            "500/500 [==============================] - 13s 26ms/step - loss: 0.1875 - accuracy: 0.9306 - val_loss: 0.4483 - val_accuracy: 0.8685\n",
            "Epoch 13/20\n",
            "500/500 [==============================] - 13s 26ms/step - loss: 0.1829 - accuracy: 0.9332 - val_loss: 0.3957 - val_accuracy: 0.8755\n",
            "Epoch 14/20\n",
            "500/500 [==============================] - 13s 26ms/step - loss: 0.1668 - accuracy: 0.9396 - val_loss: 0.3557 - val_accuracy: 0.8825\n",
            "Epoch 15/20\n",
            "500/500 [==============================] - 13s 26ms/step - loss: 0.1514 - accuracy: 0.9438 - val_loss: 0.3677 - val_accuracy: 0.8805\n",
            "Epoch 16/20\n",
            "500/500 [==============================] - 13s 26ms/step - loss: 0.1351 - accuracy: 0.9503 - val_loss: 0.3921 - val_accuracy: 0.8805\n",
            "Epoch 17/20\n",
            "500/500 [==============================] - 13s 25ms/step - loss: 0.1250 - accuracy: 0.9538 - val_loss: 0.3749 - val_accuracy: 0.8830\n",
            "Epoch 18/20\n",
            "500/500 [==============================] - 14s 28ms/step - loss: 0.1150 - accuracy: 0.9576 - val_loss: 0.3877 - val_accuracy: 0.8875\n",
            "Epoch 19/20\n",
            "500/500 [==============================] - 21s 41ms/step - loss: 0.1091 - accuracy: 0.9592 - val_loss: 0.4092 - val_accuracy: 0.8825\n",
            "Epoch 20/20\n",
            "500/500 [==============================] - 14s 29ms/step - loss: 0.1024 - accuracy: 0.9624 - val_loss: 0.4094 - val_accuracy: 0.8835\n"
          ]
        },
        {
          "output_type": "execute_result",
          "data": {
            "text/plain": [
              "<keras.callbacks.History at 0x7ff5cdce0dd0>"
            ]
          },
          "metadata": {},
          "execution_count": 77
        }
      ]
    },
    {
      "cell_type": "markdown",
      "source": [
        "Test data on the fitted model using `model.evaluate()`. Also get the probabilities of each sentence via `model.predict()`"
      ],
      "metadata": {
        "id": "vhTx_KSoc9Yn"
      }
    },
    {
      "cell_type": "code",
      "source": [
        "model.evaluate(X_test, data_test[\"emotion_enc\"], batch_size=1)\n",
        "model.predict(X_test)"
      ],
      "metadata": {
        "colab": {
          "base_uri": "https://localhost:8080/"
        },
        "id": "DsF5kG-Tc6Mc",
        "outputId": "a7e7c135-9db5-4fd4-decc-cfb64ce83f2a"
      },
      "execution_count": null,
      "outputs": [
        {
          "output_type": "stream",
          "name": "stdout",
          "text": [
            "2000/2000 [==============================] - 13s 5ms/step - loss: 0.4022 - accuracy: 0.8830\n"
          ]
        },
        {
          "output_type": "execute_result",
          "data": {
            "text/plain": [
              "array([[5.2568888e-05, 2.1097869e-05, 4.4417099e-04, 5.7640176e-07,\n",
              "        9.9948114e-01, 4.1913924e-07],\n",
              "       [8.9937239e-05, 5.2907642e-05, 2.0784813e-05, 1.3567708e-07,\n",
              "        9.9983609e-01, 1.5043787e-07],\n",
              "       [1.1101728e-05, 9.8037917e-06, 2.3443909e-05, 6.2540195e-08,\n",
              "        9.9995542e-01, 6.2094820e-08],\n",
              "       ...,\n",
              "       [4.5340485e-08, 1.3153849e-08, 9.9998450e-01, 1.3308581e-05,\n",
              "        2.1206949e-06, 1.0057495e-08],\n",
              "       [7.6205065e-06, 4.2420129e-06, 9.9926525e-01, 6.4096239e-04,\n",
              "        7.4186173e-05, 7.6518290e-06],\n",
              "       [4.0333030e-06, 4.6915185e-02, 8.8759256e-04, 6.3963824e-05,\n",
              "        1.4737179e-05, 9.5211440e-01]], dtype=float32)"
            ]
          },
          "metadata": {},
          "execution_count": 80
        }
      ]
    }
  ],
  "metadata": {
    "colab": {
      "collapsed_sections": [
        "UFTJfJkrO06u",
        "LWVt__H7R9zl",
        "PLR3Zasdel1c",
        "0DW_8szfEo1T",
        "xNpWEEP49g9G",
        "rj_ZNEvTknNt",
        "fjW1a7SQwK57",
        "nMPQ0676j_BB",
        "WDtYhj0SaH7y"
      ],
      "name": "EECE_571T_Project_BERT.ipynb",
      "provenance": []
    },
    "kernelspec": {
      "display_name": "Python 3",
      "name": "python3"
    },
    "language_info": {
      "name": "python"
    },
    "accelerator": "GPU",
    "widgets": {
      "application/vnd.jupyter.widget-state+json": {
        "3da77b6959b84682ad7799accefefe53": {
          "model_module": "@jupyter-widgets/controls",
          "model_name": "HBoxModel",
          "model_module_version": "1.5.0",
          "state": {
            "_dom_classes": [],
            "_model_module": "@jupyter-widgets/controls",
            "_model_module_version": "1.5.0",
            "_model_name": "HBoxModel",
            "_view_count": null,
            "_view_module": "@jupyter-widgets/controls",
            "_view_module_version": "1.5.0",
            "_view_name": "HBoxView",
            "box_style": "",
            "children": [
              "IPY_MODEL_27cbc006215c48ea9825f50eef3a4089",
              "IPY_MODEL_4cab42886558436585bc957dac1302bd",
              "IPY_MODEL_09cbc96353bb4c309cde6fbf585aa00f"
            ],
            "layout": "IPY_MODEL_362e57e45970403d87d5bbfa876f16e9"
          }
        },
        "27cbc006215c48ea9825f50eef3a4089": {
          "model_module": "@jupyter-widgets/controls",
          "model_name": "HTMLModel",
          "model_module_version": "1.5.0",
          "state": {
            "_dom_classes": [],
            "_model_module": "@jupyter-widgets/controls",
            "_model_module_version": "1.5.0",
            "_model_name": "HTMLModel",
            "_view_count": null,
            "_view_module": "@jupyter-widgets/controls",
            "_view_module_version": "1.5.0",
            "_view_name": "HTMLView",
            "description": "",
            "description_tooltip": null,
            "layout": "IPY_MODEL_4a4e68dac4bd4b23bf15b9ead26b8484",
            "placeholder": "​",
            "style": "IPY_MODEL_be68bddd62e24c71a23ed7f61de4945b",
            "value": "Downloading: 100%"
          }
        },
        "4cab42886558436585bc957dac1302bd": {
          "model_module": "@jupyter-widgets/controls",
          "model_name": "FloatProgressModel",
          "model_module_version": "1.5.0",
          "state": {
            "_dom_classes": [],
            "_model_module": "@jupyter-widgets/controls",
            "_model_module_version": "1.5.0",
            "_model_name": "FloatProgressModel",
            "_view_count": null,
            "_view_module": "@jupyter-widgets/controls",
            "_view_module_version": "1.5.0",
            "_view_name": "ProgressView",
            "bar_style": "success",
            "description": "",
            "description_tooltip": null,
            "layout": "IPY_MODEL_d08912fb225c4480ace39791ba4b8126",
            "max": 28,
            "min": 0,
            "orientation": "horizontal",
            "style": "IPY_MODEL_c759e84079f344adb6d625f57c5f577f",
            "value": 28
          }
        },
        "09cbc96353bb4c309cde6fbf585aa00f": {
          "model_module": "@jupyter-widgets/controls",
          "model_name": "HTMLModel",
          "model_module_version": "1.5.0",
          "state": {
            "_dom_classes": [],
            "_model_module": "@jupyter-widgets/controls",
            "_model_module_version": "1.5.0",
            "_model_name": "HTMLModel",
            "_view_count": null,
            "_view_module": "@jupyter-widgets/controls",
            "_view_module_version": "1.5.0",
            "_view_name": "HTMLView",
            "description": "",
            "description_tooltip": null,
            "layout": "IPY_MODEL_8abf91ee0315497b95a8fa112c49bdf6",
            "placeholder": "​",
            "style": "IPY_MODEL_ee73ef31995c4ca49bb4e0983a917e82",
            "value": " 28.0/28.0 [00:00&lt;00:00, 427B/s]"
          }
        },
        "362e57e45970403d87d5bbfa876f16e9": {
          "model_module": "@jupyter-widgets/base",
          "model_name": "LayoutModel",
          "model_module_version": "1.2.0",
          "state": {
            "_model_module": "@jupyter-widgets/base",
            "_model_module_version": "1.2.0",
            "_model_name": "LayoutModel",
            "_view_count": null,
            "_view_module": "@jupyter-widgets/base",
            "_view_module_version": "1.2.0",
            "_view_name": "LayoutView",
            "align_content": null,
            "align_items": null,
            "align_self": null,
            "border": null,
            "bottom": null,
            "display": null,
            "flex": null,
            "flex_flow": null,
            "grid_area": null,
            "grid_auto_columns": null,
            "grid_auto_flow": null,
            "grid_auto_rows": null,
            "grid_column": null,
            "grid_gap": null,
            "grid_row": null,
            "grid_template_areas": null,
            "grid_template_columns": null,
            "grid_template_rows": null,
            "height": null,
            "justify_content": null,
            "justify_items": null,
            "left": null,
            "margin": null,
            "max_height": null,
            "max_width": null,
            "min_height": null,
            "min_width": null,
            "object_fit": null,
            "object_position": null,
            "order": null,
            "overflow": null,
            "overflow_x": null,
            "overflow_y": null,
            "padding": null,
            "right": null,
            "top": null,
            "visibility": null,
            "width": null
          }
        },
        "4a4e68dac4bd4b23bf15b9ead26b8484": {
          "model_module": "@jupyter-widgets/base",
          "model_name": "LayoutModel",
          "model_module_version": "1.2.0",
          "state": {
            "_model_module": "@jupyter-widgets/base",
            "_model_module_version": "1.2.0",
            "_model_name": "LayoutModel",
            "_view_count": null,
            "_view_module": "@jupyter-widgets/base",
            "_view_module_version": "1.2.0",
            "_view_name": "LayoutView",
            "align_content": null,
            "align_items": null,
            "align_self": null,
            "border": null,
            "bottom": null,
            "display": null,
            "flex": null,
            "flex_flow": null,
            "grid_area": null,
            "grid_auto_columns": null,
            "grid_auto_flow": null,
            "grid_auto_rows": null,
            "grid_column": null,
            "grid_gap": null,
            "grid_row": null,
            "grid_template_areas": null,
            "grid_template_columns": null,
            "grid_template_rows": null,
            "height": null,
            "justify_content": null,
            "justify_items": null,
            "left": null,
            "margin": null,
            "max_height": null,
            "max_width": null,
            "min_height": null,
            "min_width": null,
            "object_fit": null,
            "object_position": null,
            "order": null,
            "overflow": null,
            "overflow_x": null,
            "overflow_y": null,
            "padding": null,
            "right": null,
            "top": null,
            "visibility": null,
            "width": null
          }
        },
        "be68bddd62e24c71a23ed7f61de4945b": {
          "model_module": "@jupyter-widgets/controls",
          "model_name": "DescriptionStyleModel",
          "model_module_version": "1.5.0",
          "state": {
            "_model_module": "@jupyter-widgets/controls",
            "_model_module_version": "1.5.0",
            "_model_name": "DescriptionStyleModel",
            "_view_count": null,
            "_view_module": "@jupyter-widgets/base",
            "_view_module_version": "1.2.0",
            "_view_name": "StyleView",
            "description_width": ""
          }
        },
        "d08912fb225c4480ace39791ba4b8126": {
          "model_module": "@jupyter-widgets/base",
          "model_name": "LayoutModel",
          "model_module_version": "1.2.0",
          "state": {
            "_model_module": "@jupyter-widgets/base",
            "_model_module_version": "1.2.0",
            "_model_name": "LayoutModel",
            "_view_count": null,
            "_view_module": "@jupyter-widgets/base",
            "_view_module_version": "1.2.0",
            "_view_name": "LayoutView",
            "align_content": null,
            "align_items": null,
            "align_self": null,
            "border": null,
            "bottom": null,
            "display": null,
            "flex": null,
            "flex_flow": null,
            "grid_area": null,
            "grid_auto_columns": null,
            "grid_auto_flow": null,
            "grid_auto_rows": null,
            "grid_column": null,
            "grid_gap": null,
            "grid_row": null,
            "grid_template_areas": null,
            "grid_template_columns": null,
            "grid_template_rows": null,
            "height": null,
            "justify_content": null,
            "justify_items": null,
            "left": null,
            "margin": null,
            "max_height": null,
            "max_width": null,
            "min_height": null,
            "min_width": null,
            "object_fit": null,
            "object_position": null,
            "order": null,
            "overflow": null,
            "overflow_x": null,
            "overflow_y": null,
            "padding": null,
            "right": null,
            "top": null,
            "visibility": null,
            "width": null
          }
        },
        "c759e84079f344adb6d625f57c5f577f": {
          "model_module": "@jupyter-widgets/controls",
          "model_name": "ProgressStyleModel",
          "model_module_version": "1.5.0",
          "state": {
            "_model_module": "@jupyter-widgets/controls",
            "_model_module_version": "1.5.0",
            "_model_name": "ProgressStyleModel",
            "_view_count": null,
            "_view_module": "@jupyter-widgets/base",
            "_view_module_version": "1.2.0",
            "_view_name": "StyleView",
            "bar_color": null,
            "description_width": ""
          }
        },
        "8abf91ee0315497b95a8fa112c49bdf6": {
          "model_module": "@jupyter-widgets/base",
          "model_name": "LayoutModel",
          "model_module_version": "1.2.0",
          "state": {
            "_model_module": "@jupyter-widgets/base",
            "_model_module_version": "1.2.0",
            "_model_name": "LayoutModel",
            "_view_count": null,
            "_view_module": "@jupyter-widgets/base",
            "_view_module_version": "1.2.0",
            "_view_name": "LayoutView",
            "align_content": null,
            "align_items": null,
            "align_self": null,
            "border": null,
            "bottom": null,
            "display": null,
            "flex": null,
            "flex_flow": null,
            "grid_area": null,
            "grid_auto_columns": null,
            "grid_auto_flow": null,
            "grid_auto_rows": null,
            "grid_column": null,
            "grid_gap": null,
            "grid_row": null,
            "grid_template_areas": null,
            "grid_template_columns": null,
            "grid_template_rows": null,
            "height": null,
            "justify_content": null,
            "justify_items": null,
            "left": null,
            "margin": null,
            "max_height": null,
            "max_width": null,
            "min_height": null,
            "min_width": null,
            "object_fit": null,
            "object_position": null,
            "order": null,
            "overflow": null,
            "overflow_x": null,
            "overflow_y": null,
            "padding": null,
            "right": null,
            "top": null,
            "visibility": null,
            "width": null
          }
        },
        "ee73ef31995c4ca49bb4e0983a917e82": {
          "model_module": "@jupyter-widgets/controls",
          "model_name": "DescriptionStyleModel",
          "model_module_version": "1.5.0",
          "state": {
            "_model_module": "@jupyter-widgets/controls",
            "_model_module_version": "1.5.0",
            "_model_name": "DescriptionStyleModel",
            "_view_count": null,
            "_view_module": "@jupyter-widgets/base",
            "_view_module_version": "1.2.0",
            "_view_name": "StyleView",
            "description_width": ""
          }
        },
        "0b204d55eb344bed9274de590d1c4a88": {
          "model_module": "@jupyter-widgets/controls",
          "model_name": "HBoxModel",
          "model_module_version": "1.5.0",
          "state": {
            "_dom_classes": [],
            "_model_module": "@jupyter-widgets/controls",
            "_model_module_version": "1.5.0",
            "_model_name": "HBoxModel",
            "_view_count": null,
            "_view_module": "@jupyter-widgets/controls",
            "_view_module_version": "1.5.0",
            "_view_name": "HBoxView",
            "box_style": "",
            "children": [
              "IPY_MODEL_353fa2648ce448978ea5439cbaf109b7",
              "IPY_MODEL_4dcfca5df95348919e01c48631860559",
              "IPY_MODEL_11e4795afed042c38ac72d96455e0edd"
            ],
            "layout": "IPY_MODEL_457bf852c0ea4153883d62dee57f8719"
          }
        },
        "353fa2648ce448978ea5439cbaf109b7": {
          "model_module": "@jupyter-widgets/controls",
          "model_name": "HTMLModel",
          "model_module_version": "1.5.0",
          "state": {
            "_dom_classes": [],
            "_model_module": "@jupyter-widgets/controls",
            "_model_module_version": "1.5.0",
            "_model_name": "HTMLModel",
            "_view_count": null,
            "_view_module": "@jupyter-widgets/controls",
            "_view_module_version": "1.5.0",
            "_view_name": "HTMLView",
            "description": "",
            "description_tooltip": null,
            "layout": "IPY_MODEL_0aa769ba22a449b4812c369e76d8cf01",
            "placeholder": "​",
            "style": "IPY_MODEL_c9a5596314214bdaa76f4f1bd4bb1e40",
            "value": "Downloading: 100%"
          }
        },
        "4dcfca5df95348919e01c48631860559": {
          "model_module": "@jupyter-widgets/controls",
          "model_name": "FloatProgressModel",
          "model_module_version": "1.5.0",
          "state": {
            "_dom_classes": [],
            "_model_module": "@jupyter-widgets/controls",
            "_model_module_version": "1.5.0",
            "_model_name": "FloatProgressModel",
            "_view_count": null,
            "_view_module": "@jupyter-widgets/controls",
            "_view_module_version": "1.5.0",
            "_view_name": "ProgressView",
            "bar_style": "success",
            "description": "",
            "description_tooltip": null,
            "layout": "IPY_MODEL_029e2d61cd2e477d84b607b8e90c169a",
            "max": 483,
            "min": 0,
            "orientation": "horizontal",
            "style": "IPY_MODEL_ba6fe3d79b734df592e205a8f84fc747",
            "value": 483
          }
        },
        "11e4795afed042c38ac72d96455e0edd": {
          "model_module": "@jupyter-widgets/controls",
          "model_name": "HTMLModel",
          "model_module_version": "1.5.0",
          "state": {
            "_dom_classes": [],
            "_model_module": "@jupyter-widgets/controls",
            "_model_module_version": "1.5.0",
            "_model_name": "HTMLModel",
            "_view_count": null,
            "_view_module": "@jupyter-widgets/controls",
            "_view_module_version": "1.5.0",
            "_view_name": "HTMLView",
            "description": "",
            "description_tooltip": null,
            "layout": "IPY_MODEL_b3d4bb30a84640b8840a4aec27068279",
            "placeholder": "​",
            "style": "IPY_MODEL_301172d5d24542a4a1a6eae326f21c42",
            "value": " 483/483 [00:00&lt;00:00, 13.3kB/s]"
          }
        },
        "457bf852c0ea4153883d62dee57f8719": {
          "model_module": "@jupyter-widgets/base",
          "model_name": "LayoutModel",
          "model_module_version": "1.2.0",
          "state": {
            "_model_module": "@jupyter-widgets/base",
            "_model_module_version": "1.2.0",
            "_model_name": "LayoutModel",
            "_view_count": null,
            "_view_module": "@jupyter-widgets/base",
            "_view_module_version": "1.2.0",
            "_view_name": "LayoutView",
            "align_content": null,
            "align_items": null,
            "align_self": null,
            "border": null,
            "bottom": null,
            "display": null,
            "flex": null,
            "flex_flow": null,
            "grid_area": null,
            "grid_auto_columns": null,
            "grid_auto_flow": null,
            "grid_auto_rows": null,
            "grid_column": null,
            "grid_gap": null,
            "grid_row": null,
            "grid_template_areas": null,
            "grid_template_columns": null,
            "grid_template_rows": null,
            "height": null,
            "justify_content": null,
            "justify_items": null,
            "left": null,
            "margin": null,
            "max_height": null,
            "max_width": null,
            "min_height": null,
            "min_width": null,
            "object_fit": null,
            "object_position": null,
            "order": null,
            "overflow": null,
            "overflow_x": null,
            "overflow_y": null,
            "padding": null,
            "right": null,
            "top": null,
            "visibility": null,
            "width": null
          }
        },
        "0aa769ba22a449b4812c369e76d8cf01": {
          "model_module": "@jupyter-widgets/base",
          "model_name": "LayoutModel",
          "model_module_version": "1.2.0",
          "state": {
            "_model_module": "@jupyter-widgets/base",
            "_model_module_version": "1.2.0",
            "_model_name": "LayoutModel",
            "_view_count": null,
            "_view_module": "@jupyter-widgets/base",
            "_view_module_version": "1.2.0",
            "_view_name": "LayoutView",
            "align_content": null,
            "align_items": null,
            "align_self": null,
            "border": null,
            "bottom": null,
            "display": null,
            "flex": null,
            "flex_flow": null,
            "grid_area": null,
            "grid_auto_columns": null,
            "grid_auto_flow": null,
            "grid_auto_rows": null,
            "grid_column": null,
            "grid_gap": null,
            "grid_row": null,
            "grid_template_areas": null,
            "grid_template_columns": null,
            "grid_template_rows": null,
            "height": null,
            "justify_content": null,
            "justify_items": null,
            "left": null,
            "margin": null,
            "max_height": null,
            "max_width": null,
            "min_height": null,
            "min_width": null,
            "object_fit": null,
            "object_position": null,
            "order": null,
            "overflow": null,
            "overflow_x": null,
            "overflow_y": null,
            "padding": null,
            "right": null,
            "top": null,
            "visibility": null,
            "width": null
          }
        },
        "c9a5596314214bdaa76f4f1bd4bb1e40": {
          "model_module": "@jupyter-widgets/controls",
          "model_name": "DescriptionStyleModel",
          "model_module_version": "1.5.0",
          "state": {
            "_model_module": "@jupyter-widgets/controls",
            "_model_module_version": "1.5.0",
            "_model_name": "DescriptionStyleModel",
            "_view_count": null,
            "_view_module": "@jupyter-widgets/base",
            "_view_module_version": "1.2.0",
            "_view_name": "StyleView",
            "description_width": ""
          }
        },
        "029e2d61cd2e477d84b607b8e90c169a": {
          "model_module": "@jupyter-widgets/base",
          "model_name": "LayoutModel",
          "model_module_version": "1.2.0",
          "state": {
            "_model_module": "@jupyter-widgets/base",
            "_model_module_version": "1.2.0",
            "_model_name": "LayoutModel",
            "_view_count": null,
            "_view_module": "@jupyter-widgets/base",
            "_view_module_version": "1.2.0",
            "_view_name": "LayoutView",
            "align_content": null,
            "align_items": null,
            "align_self": null,
            "border": null,
            "bottom": null,
            "display": null,
            "flex": null,
            "flex_flow": null,
            "grid_area": null,
            "grid_auto_columns": null,
            "grid_auto_flow": null,
            "grid_auto_rows": null,
            "grid_column": null,
            "grid_gap": null,
            "grid_row": null,
            "grid_template_areas": null,
            "grid_template_columns": null,
            "grid_template_rows": null,
            "height": null,
            "justify_content": null,
            "justify_items": null,
            "left": null,
            "margin": null,
            "max_height": null,
            "max_width": null,
            "min_height": null,
            "min_width": null,
            "object_fit": null,
            "object_position": null,
            "order": null,
            "overflow": null,
            "overflow_x": null,
            "overflow_y": null,
            "padding": null,
            "right": null,
            "top": null,
            "visibility": null,
            "width": null
          }
        },
        "ba6fe3d79b734df592e205a8f84fc747": {
          "model_module": "@jupyter-widgets/controls",
          "model_name": "ProgressStyleModel",
          "model_module_version": "1.5.0",
          "state": {
            "_model_module": "@jupyter-widgets/controls",
            "_model_module_version": "1.5.0",
            "_model_name": "ProgressStyleModel",
            "_view_count": null,
            "_view_module": "@jupyter-widgets/base",
            "_view_module_version": "1.2.0",
            "_view_name": "StyleView",
            "bar_color": null,
            "description_width": ""
          }
        },
        "b3d4bb30a84640b8840a4aec27068279": {
          "model_module": "@jupyter-widgets/base",
          "model_name": "LayoutModel",
          "model_module_version": "1.2.0",
          "state": {
            "_model_module": "@jupyter-widgets/base",
            "_model_module_version": "1.2.0",
            "_model_name": "LayoutModel",
            "_view_count": null,
            "_view_module": "@jupyter-widgets/base",
            "_view_module_version": "1.2.0",
            "_view_name": "LayoutView",
            "align_content": null,
            "align_items": null,
            "align_self": null,
            "border": null,
            "bottom": null,
            "display": null,
            "flex": null,
            "flex_flow": null,
            "grid_area": null,
            "grid_auto_columns": null,
            "grid_auto_flow": null,
            "grid_auto_rows": null,
            "grid_column": null,
            "grid_gap": null,
            "grid_row": null,
            "grid_template_areas": null,
            "grid_template_columns": null,
            "grid_template_rows": null,
            "height": null,
            "justify_content": null,
            "justify_items": null,
            "left": null,
            "margin": null,
            "max_height": null,
            "max_width": null,
            "min_height": null,
            "min_width": null,
            "object_fit": null,
            "object_position": null,
            "order": null,
            "overflow": null,
            "overflow_x": null,
            "overflow_y": null,
            "padding": null,
            "right": null,
            "top": null,
            "visibility": null,
            "width": null
          }
        },
        "301172d5d24542a4a1a6eae326f21c42": {
          "model_module": "@jupyter-widgets/controls",
          "model_name": "DescriptionStyleModel",
          "model_module_version": "1.5.0",
          "state": {
            "_model_module": "@jupyter-widgets/controls",
            "_model_module_version": "1.5.0",
            "_model_name": "DescriptionStyleModel",
            "_view_count": null,
            "_view_module": "@jupyter-widgets/base",
            "_view_module_version": "1.2.0",
            "_view_name": "StyleView",
            "description_width": ""
          }
        },
        "b8975c42a7384b8db32ef4842e50ae6c": {
          "model_module": "@jupyter-widgets/controls",
          "model_name": "HBoxModel",
          "model_module_version": "1.5.0",
          "state": {
            "_dom_classes": [],
            "_model_module": "@jupyter-widgets/controls",
            "_model_module_version": "1.5.0",
            "_model_name": "HBoxModel",
            "_view_count": null,
            "_view_module": "@jupyter-widgets/controls",
            "_view_module_version": "1.5.0",
            "_view_name": "HBoxView",
            "box_style": "",
            "children": [
              "IPY_MODEL_790f2f51a8e74e2791484cc6c19574ab",
              "IPY_MODEL_2aec81778efb4e4e99153926a053f5a1",
              "IPY_MODEL_5a5c797b1a9b46c0b80b7881a5a84e24"
            ],
            "layout": "IPY_MODEL_ddcda9ee9a904c4d80656c02ceac4a2c"
          }
        },
        "790f2f51a8e74e2791484cc6c19574ab": {
          "model_module": "@jupyter-widgets/controls",
          "model_name": "HTMLModel",
          "model_module_version": "1.5.0",
          "state": {
            "_dom_classes": [],
            "_model_module": "@jupyter-widgets/controls",
            "_model_module_version": "1.5.0",
            "_model_name": "HTMLModel",
            "_view_count": null,
            "_view_module": "@jupyter-widgets/controls",
            "_view_module_version": "1.5.0",
            "_view_name": "HTMLView",
            "description": "",
            "description_tooltip": null,
            "layout": "IPY_MODEL_facb01d4aad441f1a7365dc5a800e47f",
            "placeholder": "​",
            "style": "IPY_MODEL_f98aa35463d04c4b9af1718827961eaf",
            "value": "Downloading: 100%"
          }
        },
        "2aec81778efb4e4e99153926a053f5a1": {
          "model_module": "@jupyter-widgets/controls",
          "model_name": "FloatProgressModel",
          "model_module_version": "1.5.0",
          "state": {
            "_dom_classes": [],
            "_model_module": "@jupyter-widgets/controls",
            "_model_module_version": "1.5.0",
            "_model_name": "FloatProgressModel",
            "_view_count": null,
            "_view_module": "@jupyter-widgets/controls",
            "_view_module_version": "1.5.0",
            "_view_name": "ProgressView",
            "bar_style": "success",
            "description": "",
            "description_tooltip": null,
            "layout": "IPY_MODEL_bfb6dbe350694e6899918147b00630b6",
            "max": 231508,
            "min": 0,
            "orientation": "horizontal",
            "style": "IPY_MODEL_611dfdff884e4fbab8956a91f11724ca",
            "value": 231508
          }
        },
        "5a5c797b1a9b46c0b80b7881a5a84e24": {
          "model_module": "@jupyter-widgets/controls",
          "model_name": "HTMLModel",
          "model_module_version": "1.5.0",
          "state": {
            "_dom_classes": [],
            "_model_module": "@jupyter-widgets/controls",
            "_model_module_version": "1.5.0",
            "_model_name": "HTMLModel",
            "_view_count": null,
            "_view_module": "@jupyter-widgets/controls",
            "_view_module_version": "1.5.0",
            "_view_name": "HTMLView",
            "description": "",
            "description_tooltip": null,
            "layout": "IPY_MODEL_ce8b01801fb441eca6abcc995d5b2d4a",
            "placeholder": "​",
            "style": "IPY_MODEL_1f922e0b21f84590991e474c0f8bd943",
            "value": " 226k/226k [00:00&lt;00:00, 8.86kB/s]"
          }
        },
        "ddcda9ee9a904c4d80656c02ceac4a2c": {
          "model_module": "@jupyter-widgets/base",
          "model_name": "LayoutModel",
          "model_module_version": "1.2.0",
          "state": {
            "_model_module": "@jupyter-widgets/base",
            "_model_module_version": "1.2.0",
            "_model_name": "LayoutModel",
            "_view_count": null,
            "_view_module": "@jupyter-widgets/base",
            "_view_module_version": "1.2.0",
            "_view_name": "LayoutView",
            "align_content": null,
            "align_items": null,
            "align_self": null,
            "border": null,
            "bottom": null,
            "display": null,
            "flex": null,
            "flex_flow": null,
            "grid_area": null,
            "grid_auto_columns": null,
            "grid_auto_flow": null,
            "grid_auto_rows": null,
            "grid_column": null,
            "grid_gap": null,
            "grid_row": null,
            "grid_template_areas": null,
            "grid_template_columns": null,
            "grid_template_rows": null,
            "height": null,
            "justify_content": null,
            "justify_items": null,
            "left": null,
            "margin": null,
            "max_height": null,
            "max_width": null,
            "min_height": null,
            "min_width": null,
            "object_fit": null,
            "object_position": null,
            "order": null,
            "overflow": null,
            "overflow_x": null,
            "overflow_y": null,
            "padding": null,
            "right": null,
            "top": null,
            "visibility": null,
            "width": null
          }
        },
        "facb01d4aad441f1a7365dc5a800e47f": {
          "model_module": "@jupyter-widgets/base",
          "model_name": "LayoutModel",
          "model_module_version": "1.2.0",
          "state": {
            "_model_module": "@jupyter-widgets/base",
            "_model_module_version": "1.2.0",
            "_model_name": "LayoutModel",
            "_view_count": null,
            "_view_module": "@jupyter-widgets/base",
            "_view_module_version": "1.2.0",
            "_view_name": "LayoutView",
            "align_content": null,
            "align_items": null,
            "align_self": null,
            "border": null,
            "bottom": null,
            "display": null,
            "flex": null,
            "flex_flow": null,
            "grid_area": null,
            "grid_auto_columns": null,
            "grid_auto_flow": null,
            "grid_auto_rows": null,
            "grid_column": null,
            "grid_gap": null,
            "grid_row": null,
            "grid_template_areas": null,
            "grid_template_columns": null,
            "grid_template_rows": null,
            "height": null,
            "justify_content": null,
            "justify_items": null,
            "left": null,
            "margin": null,
            "max_height": null,
            "max_width": null,
            "min_height": null,
            "min_width": null,
            "object_fit": null,
            "object_position": null,
            "order": null,
            "overflow": null,
            "overflow_x": null,
            "overflow_y": null,
            "padding": null,
            "right": null,
            "top": null,
            "visibility": null,
            "width": null
          }
        },
        "f98aa35463d04c4b9af1718827961eaf": {
          "model_module": "@jupyter-widgets/controls",
          "model_name": "DescriptionStyleModel",
          "model_module_version": "1.5.0",
          "state": {
            "_model_module": "@jupyter-widgets/controls",
            "_model_module_version": "1.5.0",
            "_model_name": "DescriptionStyleModel",
            "_view_count": null,
            "_view_module": "@jupyter-widgets/base",
            "_view_module_version": "1.2.0",
            "_view_name": "StyleView",
            "description_width": ""
          }
        },
        "bfb6dbe350694e6899918147b00630b6": {
          "model_module": "@jupyter-widgets/base",
          "model_name": "LayoutModel",
          "model_module_version": "1.2.0",
          "state": {
            "_model_module": "@jupyter-widgets/base",
            "_model_module_version": "1.2.0",
            "_model_name": "LayoutModel",
            "_view_count": null,
            "_view_module": "@jupyter-widgets/base",
            "_view_module_version": "1.2.0",
            "_view_name": "LayoutView",
            "align_content": null,
            "align_items": null,
            "align_self": null,
            "border": null,
            "bottom": null,
            "display": null,
            "flex": null,
            "flex_flow": null,
            "grid_area": null,
            "grid_auto_columns": null,
            "grid_auto_flow": null,
            "grid_auto_rows": null,
            "grid_column": null,
            "grid_gap": null,
            "grid_row": null,
            "grid_template_areas": null,
            "grid_template_columns": null,
            "grid_template_rows": null,
            "height": null,
            "justify_content": null,
            "justify_items": null,
            "left": null,
            "margin": null,
            "max_height": null,
            "max_width": null,
            "min_height": null,
            "min_width": null,
            "object_fit": null,
            "object_position": null,
            "order": null,
            "overflow": null,
            "overflow_x": null,
            "overflow_y": null,
            "padding": null,
            "right": null,
            "top": null,
            "visibility": null,
            "width": null
          }
        },
        "611dfdff884e4fbab8956a91f11724ca": {
          "model_module": "@jupyter-widgets/controls",
          "model_name": "ProgressStyleModel",
          "model_module_version": "1.5.0",
          "state": {
            "_model_module": "@jupyter-widgets/controls",
            "_model_module_version": "1.5.0",
            "_model_name": "ProgressStyleModel",
            "_view_count": null,
            "_view_module": "@jupyter-widgets/base",
            "_view_module_version": "1.2.0",
            "_view_name": "StyleView",
            "bar_color": null,
            "description_width": ""
          }
        },
        "ce8b01801fb441eca6abcc995d5b2d4a": {
          "model_module": "@jupyter-widgets/base",
          "model_name": "LayoutModel",
          "model_module_version": "1.2.0",
          "state": {
            "_model_module": "@jupyter-widgets/base",
            "_model_module_version": "1.2.0",
            "_model_name": "LayoutModel",
            "_view_count": null,
            "_view_module": "@jupyter-widgets/base",
            "_view_module_version": "1.2.0",
            "_view_name": "LayoutView",
            "align_content": null,
            "align_items": null,
            "align_self": null,
            "border": null,
            "bottom": null,
            "display": null,
            "flex": null,
            "flex_flow": null,
            "grid_area": null,
            "grid_auto_columns": null,
            "grid_auto_flow": null,
            "grid_auto_rows": null,
            "grid_column": null,
            "grid_gap": null,
            "grid_row": null,
            "grid_template_areas": null,
            "grid_template_columns": null,
            "grid_template_rows": null,
            "height": null,
            "justify_content": null,
            "justify_items": null,
            "left": null,
            "margin": null,
            "max_height": null,
            "max_width": null,
            "min_height": null,
            "min_width": null,
            "object_fit": null,
            "object_position": null,
            "order": null,
            "overflow": null,
            "overflow_x": null,
            "overflow_y": null,
            "padding": null,
            "right": null,
            "top": null,
            "visibility": null,
            "width": null
          }
        },
        "1f922e0b21f84590991e474c0f8bd943": {
          "model_module": "@jupyter-widgets/controls",
          "model_name": "DescriptionStyleModel",
          "model_module_version": "1.5.0",
          "state": {
            "_model_module": "@jupyter-widgets/controls",
            "_model_module_version": "1.5.0",
            "_model_name": "DescriptionStyleModel",
            "_view_count": null,
            "_view_module": "@jupyter-widgets/base",
            "_view_module_version": "1.2.0",
            "_view_name": "StyleView",
            "description_width": ""
          }
        },
        "e819c9803d9f4c7b8c0d05fb7055f143": {
          "model_module": "@jupyter-widgets/controls",
          "model_name": "HBoxModel",
          "model_module_version": "1.5.0",
          "state": {
            "_dom_classes": [],
            "_model_module": "@jupyter-widgets/controls",
            "_model_module_version": "1.5.0",
            "_model_name": "HBoxModel",
            "_view_count": null,
            "_view_module": "@jupyter-widgets/controls",
            "_view_module_version": "1.5.0",
            "_view_name": "HBoxView",
            "box_style": "",
            "children": [
              "IPY_MODEL_0b89cc2f1e8f4335b488502adcfcac67",
              "IPY_MODEL_c3a0bd254ae74f63a64cc09a3390ade0",
              "IPY_MODEL_377d1f46652247899f3efa538df957fb"
            ],
            "layout": "IPY_MODEL_de3ff2e7129f4eaf9835596df3cb81fa"
          }
        },
        "0b89cc2f1e8f4335b488502adcfcac67": {
          "model_module": "@jupyter-widgets/controls",
          "model_name": "HTMLModel",
          "model_module_version": "1.5.0",
          "state": {
            "_dom_classes": [],
            "_model_module": "@jupyter-widgets/controls",
            "_model_module_version": "1.5.0",
            "_model_name": "HTMLModel",
            "_view_count": null,
            "_view_module": "@jupyter-widgets/controls",
            "_view_module_version": "1.5.0",
            "_view_name": "HTMLView",
            "description": "",
            "description_tooltip": null,
            "layout": "IPY_MODEL_014381e1e15f436cb6374f78fc917b2b",
            "placeholder": "​",
            "style": "IPY_MODEL_33b9d6e907ff4c4e82f9914faef9733d",
            "value": "Downloading: 100%"
          }
        },
        "c3a0bd254ae74f63a64cc09a3390ade0": {
          "model_module": "@jupyter-widgets/controls",
          "model_name": "FloatProgressModel",
          "model_module_version": "1.5.0",
          "state": {
            "_dom_classes": [],
            "_model_module": "@jupyter-widgets/controls",
            "_model_module_version": "1.5.0",
            "_model_name": "FloatProgressModel",
            "_view_count": null,
            "_view_module": "@jupyter-widgets/controls",
            "_view_module_version": "1.5.0",
            "_view_name": "ProgressView",
            "bar_style": "success",
            "description": "",
            "description_tooltip": null,
            "layout": "IPY_MODEL_5fc56f5abcb84f1482ca9139a27651fb",
            "max": 466062,
            "min": 0,
            "orientation": "horizontal",
            "style": "IPY_MODEL_aed09937a7584f7a8c21545c351642a9",
            "value": 466062
          }
        },
        "377d1f46652247899f3efa538df957fb": {
          "model_module": "@jupyter-widgets/controls",
          "model_name": "HTMLModel",
          "model_module_version": "1.5.0",
          "state": {
            "_dom_classes": [],
            "_model_module": "@jupyter-widgets/controls",
            "_model_module_version": "1.5.0",
            "_model_name": "HTMLModel",
            "_view_count": null,
            "_view_module": "@jupyter-widgets/controls",
            "_view_module_version": "1.5.0",
            "_view_name": "HTMLView",
            "description": "",
            "description_tooltip": null,
            "layout": "IPY_MODEL_dfd36d44baa1468db88faf56dc0cd5af",
            "placeholder": "​",
            "style": "IPY_MODEL_7174d4933b784e2089c0bc065836ab3f",
            "value": " 455k/455k [00:00&lt;00:00, 1.18MB/s]"
          }
        },
        "de3ff2e7129f4eaf9835596df3cb81fa": {
          "model_module": "@jupyter-widgets/base",
          "model_name": "LayoutModel",
          "model_module_version": "1.2.0",
          "state": {
            "_model_module": "@jupyter-widgets/base",
            "_model_module_version": "1.2.0",
            "_model_name": "LayoutModel",
            "_view_count": null,
            "_view_module": "@jupyter-widgets/base",
            "_view_module_version": "1.2.0",
            "_view_name": "LayoutView",
            "align_content": null,
            "align_items": null,
            "align_self": null,
            "border": null,
            "bottom": null,
            "display": null,
            "flex": null,
            "flex_flow": null,
            "grid_area": null,
            "grid_auto_columns": null,
            "grid_auto_flow": null,
            "grid_auto_rows": null,
            "grid_column": null,
            "grid_gap": null,
            "grid_row": null,
            "grid_template_areas": null,
            "grid_template_columns": null,
            "grid_template_rows": null,
            "height": null,
            "justify_content": null,
            "justify_items": null,
            "left": null,
            "margin": null,
            "max_height": null,
            "max_width": null,
            "min_height": null,
            "min_width": null,
            "object_fit": null,
            "object_position": null,
            "order": null,
            "overflow": null,
            "overflow_x": null,
            "overflow_y": null,
            "padding": null,
            "right": null,
            "top": null,
            "visibility": null,
            "width": null
          }
        },
        "014381e1e15f436cb6374f78fc917b2b": {
          "model_module": "@jupyter-widgets/base",
          "model_name": "LayoutModel",
          "model_module_version": "1.2.0",
          "state": {
            "_model_module": "@jupyter-widgets/base",
            "_model_module_version": "1.2.0",
            "_model_name": "LayoutModel",
            "_view_count": null,
            "_view_module": "@jupyter-widgets/base",
            "_view_module_version": "1.2.0",
            "_view_name": "LayoutView",
            "align_content": null,
            "align_items": null,
            "align_self": null,
            "border": null,
            "bottom": null,
            "display": null,
            "flex": null,
            "flex_flow": null,
            "grid_area": null,
            "grid_auto_columns": null,
            "grid_auto_flow": null,
            "grid_auto_rows": null,
            "grid_column": null,
            "grid_gap": null,
            "grid_row": null,
            "grid_template_areas": null,
            "grid_template_columns": null,
            "grid_template_rows": null,
            "height": null,
            "justify_content": null,
            "justify_items": null,
            "left": null,
            "margin": null,
            "max_height": null,
            "max_width": null,
            "min_height": null,
            "min_width": null,
            "object_fit": null,
            "object_position": null,
            "order": null,
            "overflow": null,
            "overflow_x": null,
            "overflow_y": null,
            "padding": null,
            "right": null,
            "top": null,
            "visibility": null,
            "width": null
          }
        },
        "33b9d6e907ff4c4e82f9914faef9733d": {
          "model_module": "@jupyter-widgets/controls",
          "model_name": "DescriptionStyleModel",
          "model_module_version": "1.5.0",
          "state": {
            "_model_module": "@jupyter-widgets/controls",
            "_model_module_version": "1.5.0",
            "_model_name": "DescriptionStyleModel",
            "_view_count": null,
            "_view_module": "@jupyter-widgets/base",
            "_view_module_version": "1.2.0",
            "_view_name": "StyleView",
            "description_width": ""
          }
        },
        "5fc56f5abcb84f1482ca9139a27651fb": {
          "model_module": "@jupyter-widgets/base",
          "model_name": "LayoutModel",
          "model_module_version": "1.2.0",
          "state": {
            "_model_module": "@jupyter-widgets/base",
            "_model_module_version": "1.2.0",
            "_model_name": "LayoutModel",
            "_view_count": null,
            "_view_module": "@jupyter-widgets/base",
            "_view_module_version": "1.2.0",
            "_view_name": "LayoutView",
            "align_content": null,
            "align_items": null,
            "align_self": null,
            "border": null,
            "bottom": null,
            "display": null,
            "flex": null,
            "flex_flow": null,
            "grid_area": null,
            "grid_auto_columns": null,
            "grid_auto_flow": null,
            "grid_auto_rows": null,
            "grid_column": null,
            "grid_gap": null,
            "grid_row": null,
            "grid_template_areas": null,
            "grid_template_columns": null,
            "grid_template_rows": null,
            "height": null,
            "justify_content": null,
            "justify_items": null,
            "left": null,
            "margin": null,
            "max_height": null,
            "max_width": null,
            "min_height": null,
            "min_width": null,
            "object_fit": null,
            "object_position": null,
            "order": null,
            "overflow": null,
            "overflow_x": null,
            "overflow_y": null,
            "padding": null,
            "right": null,
            "top": null,
            "visibility": null,
            "width": null
          }
        },
        "aed09937a7584f7a8c21545c351642a9": {
          "model_module": "@jupyter-widgets/controls",
          "model_name": "ProgressStyleModel",
          "model_module_version": "1.5.0",
          "state": {
            "_model_module": "@jupyter-widgets/controls",
            "_model_module_version": "1.5.0",
            "_model_name": "ProgressStyleModel",
            "_view_count": null,
            "_view_module": "@jupyter-widgets/base",
            "_view_module_version": "1.2.0",
            "_view_name": "StyleView",
            "bar_color": null,
            "description_width": ""
          }
        },
        "dfd36d44baa1468db88faf56dc0cd5af": {
          "model_module": "@jupyter-widgets/base",
          "model_name": "LayoutModel",
          "model_module_version": "1.2.0",
          "state": {
            "_model_module": "@jupyter-widgets/base",
            "_model_module_version": "1.2.0",
            "_model_name": "LayoutModel",
            "_view_count": null,
            "_view_module": "@jupyter-widgets/base",
            "_view_module_version": "1.2.0",
            "_view_name": "LayoutView",
            "align_content": null,
            "align_items": null,
            "align_self": null,
            "border": null,
            "bottom": null,
            "display": null,
            "flex": null,
            "flex_flow": null,
            "grid_area": null,
            "grid_auto_columns": null,
            "grid_auto_flow": null,
            "grid_auto_rows": null,
            "grid_column": null,
            "grid_gap": null,
            "grid_row": null,
            "grid_template_areas": null,
            "grid_template_columns": null,
            "grid_template_rows": null,
            "height": null,
            "justify_content": null,
            "justify_items": null,
            "left": null,
            "margin": null,
            "max_height": null,
            "max_width": null,
            "min_height": null,
            "min_width": null,
            "object_fit": null,
            "object_position": null,
            "order": null,
            "overflow": null,
            "overflow_x": null,
            "overflow_y": null,
            "padding": null,
            "right": null,
            "top": null,
            "visibility": null,
            "width": null
          }
        },
        "7174d4933b784e2089c0bc065836ab3f": {
          "model_module": "@jupyter-widgets/controls",
          "model_name": "DescriptionStyleModel",
          "model_module_version": "1.5.0",
          "state": {
            "_model_module": "@jupyter-widgets/controls",
            "_model_module_version": "1.5.0",
            "_model_name": "DescriptionStyleModel",
            "_view_count": null,
            "_view_module": "@jupyter-widgets/base",
            "_view_module_version": "1.2.0",
            "_view_name": "StyleView",
            "description_width": ""
          }
        },
        "20a64b22c0234522823557360c5643cf": {
          "model_module": "@jupyter-widgets/controls",
          "model_name": "HBoxModel",
          "model_module_version": "1.5.0",
          "state": {
            "_dom_classes": [],
            "_model_module": "@jupyter-widgets/controls",
            "_model_module_version": "1.5.0",
            "_model_name": "HBoxModel",
            "_view_count": null,
            "_view_module": "@jupyter-widgets/controls",
            "_view_module_version": "1.5.0",
            "_view_name": "HBoxView",
            "box_style": "",
            "children": [
              "IPY_MODEL_a9e6e93975d74b9ebd8741b18359c8b4",
              "IPY_MODEL_0b26908806d34e3e884fbaaffed76435",
              "IPY_MODEL_b45e37f1b4ef40c4bc26769ceb36d2e9"
            ],
            "layout": "IPY_MODEL_891882b39fef4e37a217589754f6ae97"
          }
        },
        "a9e6e93975d74b9ebd8741b18359c8b4": {
          "model_module": "@jupyter-widgets/controls",
          "model_name": "HTMLModel",
          "model_module_version": "1.5.0",
          "state": {
            "_dom_classes": [],
            "_model_module": "@jupyter-widgets/controls",
            "_model_module_version": "1.5.0",
            "_model_name": "HTMLModel",
            "_view_count": null,
            "_view_module": "@jupyter-widgets/controls",
            "_view_module_version": "1.5.0",
            "_view_name": "HTMLView",
            "description": "",
            "description_tooltip": null,
            "layout": "IPY_MODEL_8f33daefa6b8467aafe654f0782c890d",
            "placeholder": "​",
            "style": "IPY_MODEL_f6c4f2ccf5074b5db9f16e046bc8baaf",
            "value": "Downloading: 100%"
          }
        },
        "0b26908806d34e3e884fbaaffed76435": {
          "model_module": "@jupyter-widgets/controls",
          "model_name": "FloatProgressModel",
          "model_module_version": "1.5.0",
          "state": {
            "_dom_classes": [],
            "_model_module": "@jupyter-widgets/controls",
            "_model_module_version": "1.5.0",
            "_model_name": "FloatProgressModel",
            "_view_count": null,
            "_view_module": "@jupyter-widgets/controls",
            "_view_module_version": "1.5.0",
            "_view_name": "ProgressView",
            "bar_style": "success",
            "description": "",
            "description_tooltip": null,
            "layout": "IPY_MODEL_cb00be1159fc45de8982e5168690d5c9",
            "max": 363423424,
            "min": 0,
            "orientation": "horizontal",
            "style": "IPY_MODEL_2c80d6051df04a989bcb000cebac5933",
            "value": 363423424
          }
        },
        "b45e37f1b4ef40c4bc26769ceb36d2e9": {
          "model_module": "@jupyter-widgets/controls",
          "model_name": "HTMLModel",
          "model_module_version": "1.5.0",
          "state": {
            "_dom_classes": [],
            "_model_module": "@jupyter-widgets/controls",
            "_model_module_version": "1.5.0",
            "_model_name": "HTMLModel",
            "_view_count": null,
            "_view_module": "@jupyter-widgets/controls",
            "_view_module_version": "1.5.0",
            "_view_name": "HTMLView",
            "description": "",
            "description_tooltip": null,
            "layout": "IPY_MODEL_6d0fa99027094f93b865db975f79b37c",
            "placeholder": "​",
            "style": "IPY_MODEL_1adb792da0c346d4b04d8b8090ebaf21",
            "value": " 347M/347M [00:28&lt;00:00, 13.6MB/s]"
          }
        },
        "891882b39fef4e37a217589754f6ae97": {
          "model_module": "@jupyter-widgets/base",
          "model_name": "LayoutModel",
          "model_module_version": "1.2.0",
          "state": {
            "_model_module": "@jupyter-widgets/base",
            "_model_module_version": "1.2.0",
            "_model_name": "LayoutModel",
            "_view_count": null,
            "_view_module": "@jupyter-widgets/base",
            "_view_module_version": "1.2.0",
            "_view_name": "LayoutView",
            "align_content": null,
            "align_items": null,
            "align_self": null,
            "border": null,
            "bottom": null,
            "display": null,
            "flex": null,
            "flex_flow": null,
            "grid_area": null,
            "grid_auto_columns": null,
            "grid_auto_flow": null,
            "grid_auto_rows": null,
            "grid_column": null,
            "grid_gap": null,
            "grid_row": null,
            "grid_template_areas": null,
            "grid_template_columns": null,
            "grid_template_rows": null,
            "height": null,
            "justify_content": null,
            "justify_items": null,
            "left": null,
            "margin": null,
            "max_height": null,
            "max_width": null,
            "min_height": null,
            "min_width": null,
            "object_fit": null,
            "object_position": null,
            "order": null,
            "overflow": null,
            "overflow_x": null,
            "overflow_y": null,
            "padding": null,
            "right": null,
            "top": null,
            "visibility": null,
            "width": null
          }
        },
        "8f33daefa6b8467aafe654f0782c890d": {
          "model_module": "@jupyter-widgets/base",
          "model_name": "LayoutModel",
          "model_module_version": "1.2.0",
          "state": {
            "_model_module": "@jupyter-widgets/base",
            "_model_module_version": "1.2.0",
            "_model_name": "LayoutModel",
            "_view_count": null,
            "_view_module": "@jupyter-widgets/base",
            "_view_module_version": "1.2.0",
            "_view_name": "LayoutView",
            "align_content": null,
            "align_items": null,
            "align_self": null,
            "border": null,
            "bottom": null,
            "display": null,
            "flex": null,
            "flex_flow": null,
            "grid_area": null,
            "grid_auto_columns": null,
            "grid_auto_flow": null,
            "grid_auto_rows": null,
            "grid_column": null,
            "grid_gap": null,
            "grid_row": null,
            "grid_template_areas": null,
            "grid_template_columns": null,
            "grid_template_rows": null,
            "height": null,
            "justify_content": null,
            "justify_items": null,
            "left": null,
            "margin": null,
            "max_height": null,
            "max_width": null,
            "min_height": null,
            "min_width": null,
            "object_fit": null,
            "object_position": null,
            "order": null,
            "overflow": null,
            "overflow_x": null,
            "overflow_y": null,
            "padding": null,
            "right": null,
            "top": null,
            "visibility": null,
            "width": null
          }
        },
        "f6c4f2ccf5074b5db9f16e046bc8baaf": {
          "model_module": "@jupyter-widgets/controls",
          "model_name": "DescriptionStyleModel",
          "model_module_version": "1.5.0",
          "state": {
            "_model_module": "@jupyter-widgets/controls",
            "_model_module_version": "1.5.0",
            "_model_name": "DescriptionStyleModel",
            "_view_count": null,
            "_view_module": "@jupyter-widgets/base",
            "_view_module_version": "1.2.0",
            "_view_name": "StyleView",
            "description_width": ""
          }
        },
        "cb00be1159fc45de8982e5168690d5c9": {
          "model_module": "@jupyter-widgets/base",
          "model_name": "LayoutModel",
          "model_module_version": "1.2.0",
          "state": {
            "_model_module": "@jupyter-widgets/base",
            "_model_module_version": "1.2.0",
            "_model_name": "LayoutModel",
            "_view_count": null,
            "_view_module": "@jupyter-widgets/base",
            "_view_module_version": "1.2.0",
            "_view_name": "LayoutView",
            "align_content": null,
            "align_items": null,
            "align_self": null,
            "border": null,
            "bottom": null,
            "display": null,
            "flex": null,
            "flex_flow": null,
            "grid_area": null,
            "grid_auto_columns": null,
            "grid_auto_flow": null,
            "grid_auto_rows": null,
            "grid_column": null,
            "grid_gap": null,
            "grid_row": null,
            "grid_template_areas": null,
            "grid_template_columns": null,
            "grid_template_rows": null,
            "height": null,
            "justify_content": null,
            "justify_items": null,
            "left": null,
            "margin": null,
            "max_height": null,
            "max_width": null,
            "min_height": null,
            "min_width": null,
            "object_fit": null,
            "object_position": null,
            "order": null,
            "overflow": null,
            "overflow_x": null,
            "overflow_y": null,
            "padding": null,
            "right": null,
            "top": null,
            "visibility": null,
            "width": null
          }
        },
        "2c80d6051df04a989bcb000cebac5933": {
          "model_module": "@jupyter-widgets/controls",
          "model_name": "ProgressStyleModel",
          "model_module_version": "1.5.0",
          "state": {
            "_model_module": "@jupyter-widgets/controls",
            "_model_module_version": "1.5.0",
            "_model_name": "ProgressStyleModel",
            "_view_count": null,
            "_view_module": "@jupyter-widgets/base",
            "_view_module_version": "1.2.0",
            "_view_name": "StyleView",
            "bar_color": null,
            "description_width": ""
          }
        },
        "6d0fa99027094f93b865db975f79b37c": {
          "model_module": "@jupyter-widgets/base",
          "model_name": "LayoutModel",
          "model_module_version": "1.2.0",
          "state": {
            "_model_module": "@jupyter-widgets/base",
            "_model_module_version": "1.2.0",
            "_model_name": "LayoutModel",
            "_view_count": null,
            "_view_module": "@jupyter-widgets/base",
            "_view_module_version": "1.2.0",
            "_view_name": "LayoutView",
            "align_content": null,
            "align_items": null,
            "align_self": null,
            "border": null,
            "bottom": null,
            "display": null,
            "flex": null,
            "flex_flow": null,
            "grid_area": null,
            "grid_auto_columns": null,
            "grid_auto_flow": null,
            "grid_auto_rows": null,
            "grid_column": null,
            "grid_gap": null,
            "grid_row": null,
            "grid_template_areas": null,
            "grid_template_columns": null,
            "grid_template_rows": null,
            "height": null,
            "justify_content": null,
            "justify_items": null,
            "left": null,
            "margin": null,
            "max_height": null,
            "max_width": null,
            "min_height": null,
            "min_width": null,
            "object_fit": null,
            "object_position": null,
            "order": null,
            "overflow": null,
            "overflow_x": null,
            "overflow_y": null,
            "padding": null,
            "right": null,
            "top": null,
            "visibility": null,
            "width": null
          }
        },
        "1adb792da0c346d4b04d8b8090ebaf21": {
          "model_module": "@jupyter-widgets/controls",
          "model_name": "DescriptionStyleModel",
          "model_module_version": "1.5.0",
          "state": {
            "_model_module": "@jupyter-widgets/controls",
            "_model_module_version": "1.5.0",
            "_model_name": "DescriptionStyleModel",
            "_view_count": null,
            "_view_module": "@jupyter-widgets/base",
            "_view_module_version": "1.2.0",
            "_view_name": "StyleView",
            "description_width": ""
          }
        }
      }
    }
  },
  "nbformat": 4,
  "nbformat_minor": 0
}