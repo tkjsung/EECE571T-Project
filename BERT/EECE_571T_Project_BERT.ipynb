{
  "cells": [
    {
      "cell_type": "markdown",
      "metadata": {
        "id": "ELaILu9SPaoy"
      },
      "source": [
        "# EECE 571T Project - NLP with Emotion Dataset (BERT)\n",
        "\n",
        "Focus: BERT\n",
        "<br>\n",
        "Author: Tom Sung\n",
        "\n",
        "Last updated:\n",
        "* Date: March 10, 2022\n",
        "* Time: 6:33pm"
      ]
    },
    {
      "cell_type": "code",
      "source": [
        "# Check detected system hardware resources.\n",
        "# import os\n",
        "# os.environ['TF_CPP_MIN_LOG_LEVEL'] = '2'\n",
        "import tensorflow as tf\n",
        "print(\"TensorFlow version:\", tf.__version__)\n",
        "print(\"Num GPUs Available: \", len(tf.config.experimental.list_physical_devices('GPU')))\n",
        "print(\"Num CPUs Available: \", len(tf.config.experimental.list_physical_devices('CPU')))"
      ],
      "metadata": {
        "colab": {
          "base_uri": "https://localhost:8080/"
        },
        "id": "TEI9wPQ8ylyo",
        "outputId": "03479d3d-9cd7-4db4-86fa-7423648311e8"
      },
      "execution_count": null,
      "outputs": [
        {
          "output_type": "stream",
          "name": "stdout",
          "text": [
            "environ({'COLAB_TPU_ADDR': '10.99.90.218:8470', 'GCS_READ_CACHE_BLOCK_SIZE_MB': '16', 'CLOUDSDK_CONFIG': '/content/.config', 'CUDA_VERSION': '11.1.1', 'PATH': '/opt/bin:/usr/local/nvidia/bin:/usr/local/cuda/bin:/usr/local/sbin:/usr/local/bin:/usr/sbin:/usr/bin:/sbin:/bin:/tools/node/bin:/tools/google-cloud-sdk/bin', 'HOME': '/root', 'LD_LIBRARY_PATH': '/usr/local/nvidia/lib:/usr/local/nvidia/lib64', 'LANG': 'en_US.UTF-8', 'SHELL': '/bin/bash', 'LIBRARY_PATH': '/usr/local/cuda/lib64/stubs', 'SHLVL': '0', 'GCE_METADATA_TIMEOUT': '0', 'NCCL_VERSION': '2.7.8', 'NVIDIA_VISIBLE_DEVICES': 'all', 'DEBIAN_FRONTEND': 'noninteractive', 'CUDNN_VERSION': '8.0.5.39', 'LAST_FORCED_REBUILD': '20220308', 'JPY_PARENT_PID': '46', 'PYTHONPATH': '/env/python', 'DATALAB_SETTINGS_OVERRIDES': '{\"kernelManagerProxyPort\":6000,\"kernelManagerProxyHost\":\"172.28.0.3\",\"jupyterArgs\":[\"--ip=\\\\\"172.28.0.2\\\\\"\"],\"debugAdapterMultiplexerPath\":\"/usr/local/bin/dap_multiplexer\",\"enableLsp\":true}', 'ENV': '/root/.bashrc', 'GLIBCXX_FORCE_NEW': '1', 'NVIDIA_DRIVER_CAPABILITIES': 'compute,utility', 'TF_FORCE_GPU_ALLOW_GROWTH': 'true', 'LD_PRELOAD': '/usr/lib/x86_64-linux-gnu/libtcmalloc.so.4', 'PYTHONWARNINGS': 'ignore:::pip._internal.cli.base_command', 'NVIDIA_REQUIRE_CUDA': 'cuda>=11.1 brand=tesla,driver>=418,driver<419 brand=tesla,driver>=440,driver<441 brand=tesla,driver>=450,driver<451', 'NO_GCE_CHECK': 'True', 'OLDPWD': '/', 'HOSTNAME': '39350bf84588', 'COLAB_GPU': '0', 'PWD': '/', 'XRT_TPU_CONFIG': 'tpu_worker;0;10.99.90.218:8470', 'CLOUDSDK_PYTHON': 'python3', 'GLIBCPP_FORCE_NEW': '1', 'TBE_EPHEM_CREDS_ADDR': '172.28.0.1:8009', 'TPU_NAME': 'grpc://10.99.90.218:8470', 'TBE_CREDS_ADDR': '172.28.0.1:8008', 'TERM': 'xterm-color', 'CLICOLOR': '1', 'PAGER': 'cat', 'GIT_PAGER': 'cat', 'MPLBACKEND': 'module://ipykernel.pylab.backend_inline', 'ENABLE_DIRECTORYPREFETCHER': '1', 'USE_AUTH_EPHEM': '0', 'PYDEVD_USE_FRAME_EVAL': 'NO', 'KMP_DUPLICATE_LIB_OK': 'True', 'KMP_INIT_AT_FORK': 'FALSE', 'TF2_BEHAVIOR': '1', 'TF_CPP_MIN_LOG_LEVEL': '2'})\n"
          ]
        }
      ]
    },
    {
      "cell_type": "markdown",
      "metadata": {
        "id": "ifCzi282UO64",
        "tags": []
      },
      "source": [
        "## References\n",
        "\n",
        "* Text Classification tutorial: https://github.com/adsieg/Multi_Text_Classification\n",
        "* From same author:\n",
        "    * [**Feb.17**] This is used for the Word Embedding part: https://towardsdatascience.com/text-classification-with-nlp-tf-idf-vs-word2vec-vs-bert-41ff868d1794 (Try following these instructions next)\n",
        "    * [**Feb.17**] https://towardsdatascience.com/text-analysis-feature-engineering-with-nlp-502d6ea9225d\n",
        "* Different Pre-Processing Techniques with Bag of Words w/ TF-IDF, Word Embedding, and BERT: https://towardsdatascience.com/text-classification-with-nlp-tf-idf-vs-word2vec-vs-bert-41ff868d1794"
      ]
    },
    {
      "cell_type": "markdown",
      "metadata": {
        "id": "UFTJfJkrO06u",
        "tags": []
      },
      "source": [
        "## Get data from GitHub repo\n",
        "\n",
        "**Only run this once even after if notebook environment is cleared via** `%reset -f`. The code written here imports the Kaggle data set, which I have placed on my public GitHub repo."
      ]
    },
    {
      "cell_type": "code",
      "execution_count": null,
      "metadata": {
        "id": "724_Q82ZOihs",
        "colab": {
          "base_uri": "https://localhost:8080/"
        },
        "outputId": "b9d0bd5f-1f92-4ac1-f840-d0bc236d1c1b"
      },
      "outputs": [
        {
          "output_type": "stream",
          "name": "stdout",
          "text": [
            "--2022-03-11 01:43:11--  https://github.com/tkjsung/EECE571T_Dataset/archive/refs/heads/master.zip\n",
            "Resolving github.com (github.com)... 140.82.112.3\n",
            "Connecting to github.com (github.com)|140.82.112.3|:443... connected.\n",
            "HTTP request sent, awaiting response... 302 Found\n",
            "Location: https://codeload.github.com/tkjsung/EECE571T_Dataset/zip/refs/heads/master [following]\n",
            "--2022-03-11 01:43:12--  https://codeload.github.com/tkjsung/EECE571T_Dataset/zip/refs/heads/master\n",
            "Resolving codeload.github.com (codeload.github.com)... 140.82.113.9\n",
            "Connecting to codeload.github.com (codeload.github.com)|140.82.113.9|:443... connected.\n",
            "HTTP request sent, awaiting response... 200 OK\n",
            "Length: unspecified [application/zip]\n",
            "Saving to: ‘master.zip’\n",
            "\n",
            "master.zip              [  <=>               ] 798.87K  3.44MB/s    in 0.2s    \n",
            "\n",
            "2022-03-11 01:43:12 (3.44 MB/s) - ‘master.zip’ saved [818042]\n",
            "\n",
            "Archive:  /content/master.zip\n",
            "f84fef58c648047c03c671498e0375bf224f000e\n",
            "   creating: EECE571T_Dataset-master/\n",
            "  inflating: EECE571T_Dataset-master/.gitignore  \n",
            "   creating: EECE571T_Dataset-master/Assignment 1/\n",
            "  inflating: EECE571T_Dataset-master/Assignment 1/.DS_Store  \n",
            "   creating: EECE571T_Dataset-master/Assignment 1/Section 2/\n",
            "  inflating: EECE571T_Dataset-master/Assignment 1/Section 2/README.md  \n",
            "  inflating: EECE571T_Dataset-master/Assignment 1/Section 2/winequality-red.csv  \n",
            "  inflating: EECE571T_Dataset-master/Assignment 1/Section 2/winequality-white.csv  \n",
            "   creating: EECE571T_Dataset-master/Project/\n",
            "  inflating: EECE571T_Dataset-master/Project/test.txt  \n",
            "  inflating: EECE571T_Dataset-master/Project/train.txt  \n",
            "  inflating: EECE571T_Dataset-master/Project/val.txt  \n",
            "  inflating: EECE571T_Dataset-master/README.md  \n"
          ]
        }
      ],
      "source": [
        "!wget https://github.com/tkjsung/EECE571T_Dataset/archive/refs/heads/master.zip\n",
        "!unzip /content/master.zip\n",
        "# For local computer use:\n",
        "# !unzip master.zip"
      ]
    },
    {
      "cell_type": "markdown",
      "metadata": {
        "id": "LWVt__H7R9zl",
        "tags": []
      },
      "source": [
        "## Import Data"
      ]
    },
    {
      "cell_type": "code",
      "execution_count": null,
      "metadata": {
        "id": "iKV__yZmPWsQ"
      },
      "outputs": [],
      "source": [
        "# Import libraries for data import\n",
        "import pandas as pd\n",
        "import matplotlib.pyplot as plt\n",
        "import numpy as np\n",
        "\n",
        "%matplotlib inline"
      ]
    },
    {
      "cell_type": "code",
      "execution_count": null,
      "metadata": {
        "id": "mMWomGTaPSES"
      },
      "outputs": [],
      "source": [
        "# Read CSV\n",
        "# data_train = pd.read_csv('/content/EECE571T_Dataset-master/Project/train.txt',sep=';', header=None)\n",
        "# data_test = pd.read_csv('/content/EECE571T_Dataset-master/Project/test.txt',sep=';', header=None)\n",
        "# data_val = pd.read_csv('/content/EECE571T_Dataset-master/Project/val.txt',sep=';', header=None)\n",
        "\n",
        "# Read CSV on local computer\n",
        "data_train = pd.read_csv('EECE571T_Dataset-master/Project/train.txt',sep=';', header=None)\n",
        "data_test = pd.read_csv('EECE571T_Dataset-master/Project/test.txt',sep=';', header=None)\n",
        "data_val = pd.read_csv('EECE571T_Dataset-master/Project/val.txt',sep=';', header=None)"
      ]
    },
    {
      "cell_type": "code",
      "execution_count": null,
      "metadata": {
        "id": "AtXW9_Z2Pbtq"
      },
      "outputs": [],
      "source": [
        "col_names = [\"sentence\",\"emotion\"]\n",
        "data_train.columns = col_names\n",
        "data_test.columns = col_names\n",
        "data_val.columns = col_names"
      ]
    },
    {
      "cell_type": "code",
      "execution_count": null,
      "metadata": {
        "id": "GC4V-55GSaVT",
        "colab": {
          "base_uri": "https://localhost:8080/",
          "height": 557
        },
        "outputId": "5f8dfeff-a827-40ac-b44d-adf24d1e9147"
      },
      "outputs": [
        {
          "output_type": "execute_result",
          "data": {
            "text/html": [
              "\n",
              "  <div id=\"df-55cc9375-273a-4840-92a4-4e5b373fb624\">\n",
              "    <div class=\"colab-df-container\">\n",
              "      <div>\n",
              "<style scoped>\n",
              "    .dataframe tbody tr th:only-of-type {\n",
              "        vertical-align: middle;\n",
              "    }\n",
              "\n",
              "    .dataframe tbody tr th {\n",
              "        vertical-align: top;\n",
              "    }\n",
              "\n",
              "    .dataframe thead th {\n",
              "        text-align: right;\n",
              "    }\n",
              "</style>\n",
              "<table border=\"1\" class=\"dataframe\">\n",
              "  <thead>\n",
              "    <tr style=\"text-align: right;\">\n",
              "      <th></th>\n",
              "      <th>sentence</th>\n",
              "      <th>emotion</th>\n",
              "    </tr>\n",
              "  </thead>\n",
              "  <tbody>\n",
              "    <tr>\n",
              "      <th>0</th>\n",
              "      <td>i didnt feel humiliated</td>\n",
              "      <td>sadness</td>\n",
              "    </tr>\n",
              "    <tr>\n",
              "      <th>1</th>\n",
              "      <td>i can go from feeling so hopeless to so damned...</td>\n",
              "      <td>sadness</td>\n",
              "    </tr>\n",
              "    <tr>\n",
              "      <th>2</th>\n",
              "      <td>im grabbing a minute to post i feel greedy wrong</td>\n",
              "      <td>anger</td>\n",
              "    </tr>\n",
              "    <tr>\n",
              "      <th>3</th>\n",
              "      <td>i am ever feeling nostalgic about the fireplac...</td>\n",
              "      <td>love</td>\n",
              "    </tr>\n",
              "    <tr>\n",
              "      <th>4</th>\n",
              "      <td>i am feeling grouchy</td>\n",
              "      <td>anger</td>\n",
              "    </tr>\n",
              "  </tbody>\n",
              "</table>\n",
              "</div>\n",
              "      <button class=\"colab-df-convert\" onclick=\"convertToInteractive('df-55cc9375-273a-4840-92a4-4e5b373fb624')\"\n",
              "              title=\"Convert this dataframe to an interactive table.\"\n",
              "              style=\"display:none;\">\n",
              "        \n",
              "  <svg xmlns=\"http://www.w3.org/2000/svg\" height=\"24px\"viewBox=\"0 0 24 24\"\n",
              "       width=\"24px\">\n",
              "    <path d=\"M0 0h24v24H0V0z\" fill=\"none\"/>\n",
              "    <path d=\"M18.56 5.44l.94 2.06.94-2.06 2.06-.94-2.06-.94-.94-2.06-.94 2.06-2.06.94zm-11 1L8.5 8.5l.94-2.06 2.06-.94-2.06-.94L8.5 2.5l-.94 2.06-2.06.94zm10 10l.94 2.06.94-2.06 2.06-.94-2.06-.94-.94-2.06-.94 2.06-2.06.94z\"/><path d=\"M17.41 7.96l-1.37-1.37c-.4-.4-.92-.59-1.43-.59-.52 0-1.04.2-1.43.59L10.3 9.45l-7.72 7.72c-.78.78-.78 2.05 0 2.83L4 21.41c.39.39.9.59 1.41.59.51 0 1.02-.2 1.41-.59l7.78-7.78 2.81-2.81c.8-.78.8-2.07 0-2.86zM5.41 20L4 18.59l7.72-7.72 1.47 1.35L5.41 20z\"/>\n",
              "  </svg>\n",
              "      </button>\n",
              "      \n",
              "  <style>\n",
              "    .colab-df-container {\n",
              "      display:flex;\n",
              "      flex-wrap:wrap;\n",
              "      gap: 12px;\n",
              "    }\n",
              "\n",
              "    .colab-df-convert {\n",
              "      background-color: #E8F0FE;\n",
              "      border: none;\n",
              "      border-radius: 50%;\n",
              "      cursor: pointer;\n",
              "      display: none;\n",
              "      fill: #1967D2;\n",
              "      height: 32px;\n",
              "      padding: 0 0 0 0;\n",
              "      width: 32px;\n",
              "    }\n",
              "\n",
              "    .colab-df-convert:hover {\n",
              "      background-color: #E2EBFA;\n",
              "      box-shadow: 0px 1px 2px rgba(60, 64, 67, 0.3), 0px 1px 3px 1px rgba(60, 64, 67, 0.15);\n",
              "      fill: #174EA6;\n",
              "    }\n",
              "\n",
              "    [theme=dark] .colab-df-convert {\n",
              "      background-color: #3B4455;\n",
              "      fill: #D2E3FC;\n",
              "    }\n",
              "\n",
              "    [theme=dark] .colab-df-convert:hover {\n",
              "      background-color: #434B5C;\n",
              "      box-shadow: 0px 1px 3px 1px rgba(0, 0, 0, 0.15);\n",
              "      filter: drop-shadow(0px 1px 2px rgba(0, 0, 0, 0.3));\n",
              "      fill: #FFFFFF;\n",
              "    }\n",
              "  </style>\n",
              "\n",
              "      <script>\n",
              "        const buttonEl =\n",
              "          document.querySelector('#df-55cc9375-273a-4840-92a4-4e5b373fb624 button.colab-df-convert');\n",
              "        buttonEl.style.display =\n",
              "          google.colab.kernel.accessAllowed ? 'block' : 'none';\n",
              "\n",
              "        async function convertToInteractive(key) {\n",
              "          const element = document.querySelector('#df-55cc9375-273a-4840-92a4-4e5b373fb624');\n",
              "          const dataTable =\n",
              "            await google.colab.kernel.invokeFunction('convertToInteractive',\n",
              "                                                     [key], {});\n",
              "          if (!dataTable) return;\n",
              "\n",
              "          const docLinkHtml = 'Like what you see? Visit the ' +\n",
              "            '<a target=\"_blank\" href=https://colab.research.google.com/notebooks/data_table.ipynb>data table notebook</a>'\n",
              "            + ' to learn more about interactive tables.';\n",
              "          element.innerHTML = '';\n",
              "          dataTable['output_type'] = 'display_data';\n",
              "          await google.colab.output.renderOutput(dataTable, element);\n",
              "          const docLink = document.createElement('div');\n",
              "          docLink.innerHTML = docLinkHtml;\n",
              "          element.appendChild(docLink);\n",
              "        }\n",
              "      </script>\n",
              "    </div>\n",
              "  </div>\n",
              "  "
            ],
            "text/plain": [
              "                                            sentence  emotion\n",
              "0                            i didnt feel humiliated  sadness\n",
              "1  i can go from feeling so hopeless to so damned...  sadness\n",
              "2   im grabbing a minute to post i feel greedy wrong    anger\n",
              "3  i am ever feeling nostalgic about the fireplac...     love\n",
              "4                               i am feeling grouchy    anger"
            ]
          },
          "metadata": {},
          "execution_count": 8
        }
      ],
      "source": [
        "# See the data head to make sure data is imported correctly.\n",
        "data_train.head()\n",
        "# data_test.head()\n",
        "# data_val.head()"
      ]
    },
    {
      "cell_type": "markdown",
      "metadata": {
        "id": "PLR3Zasdel1c",
        "jp-MarkdownHeadingCollapsed": true,
        "tags": []
      },
      "source": [
        "## Encode the emotion labels with unique identifiers"
      ]
    },
    {
      "cell_type": "code",
      "execution_count": null,
      "metadata": {
        "id": "oFJvTfXTdrN6"
      },
      "outputs": [],
      "source": [
        "from sklearn.preprocessing import LabelEncoder\n",
        "# Encode the emotion labels with unique identifiers\n",
        "data_train['emotion'].unique()\n",
        "labelencoder = LabelEncoder()\n",
        "data_train['emotion_enc'] = labelencoder.fit_transform(data_train['emotion'])\n",
        "data_test['emotion_enc'] = labelencoder.fit_transform(data_test['emotion'])\n",
        "data_val['emotion_enc'] = labelencoder.fit_transform(data_val['emotion'])\n",
        "# For data_test and data_val, use the same labelencoder. Make sure it's the same by using the display code below."
      ]
    },
    {
      "cell_type": "markdown",
      "metadata": {
        "id": "X-bBnrKVoiBT"
      },
      "source": [
        "Display the encoded emotion labels"
      ]
    },
    {
      "cell_type": "code",
      "execution_count": null,
      "metadata": {
        "id": "kkm7wEN1fnMX",
        "colab": {
          "base_uri": "https://localhost:8080/",
          "height": 299
        },
        "outputId": "e84bdf54-21d9-465f-ba97-8b9c4ac098bb"
      },
      "outputs": [
        {
          "output_type": "execute_result",
          "data": {
            "text/html": [
              "\n",
              "  <div id=\"df-807ee4d0-10b6-4ab0-b68a-45131cf5426a\">\n",
              "    <div class=\"colab-df-container\">\n",
              "      <div>\n",
              "<style scoped>\n",
              "    .dataframe tbody tr th:only-of-type {\n",
              "        vertical-align: middle;\n",
              "    }\n",
              "\n",
              "    .dataframe tbody tr th {\n",
              "        vertical-align: top;\n",
              "    }\n",
              "\n",
              "    .dataframe thead th {\n",
              "        text-align: right;\n",
              "    }\n",
              "</style>\n",
              "<table border=\"1\" class=\"dataframe\">\n",
              "  <thead>\n",
              "    <tr style=\"text-align: right;\">\n",
              "      <th></th>\n",
              "      <th>emotion</th>\n",
              "      <th>emotion_enc</th>\n",
              "    </tr>\n",
              "  </thead>\n",
              "  <tbody>\n",
              "    <tr>\n",
              "      <th>0</th>\n",
              "      <td>sadness</td>\n",
              "      <td>4</td>\n",
              "    </tr>\n",
              "    <tr>\n",
              "      <th>2</th>\n",
              "      <td>anger</td>\n",
              "      <td>0</td>\n",
              "    </tr>\n",
              "    <tr>\n",
              "      <th>3</th>\n",
              "      <td>love</td>\n",
              "      <td>3</td>\n",
              "    </tr>\n",
              "    <tr>\n",
              "      <th>6</th>\n",
              "      <td>surprise</td>\n",
              "      <td>5</td>\n",
              "    </tr>\n",
              "    <tr>\n",
              "      <th>7</th>\n",
              "      <td>fear</td>\n",
              "      <td>1</td>\n",
              "    </tr>\n",
              "    <tr>\n",
              "      <th>8</th>\n",
              "      <td>joy</td>\n",
              "      <td>2</td>\n",
              "    </tr>\n",
              "  </tbody>\n",
              "</table>\n",
              "</div>\n",
              "      <button class=\"colab-df-convert\" onclick=\"convertToInteractive('df-807ee4d0-10b6-4ab0-b68a-45131cf5426a')\"\n",
              "              title=\"Convert this dataframe to an interactive table.\"\n",
              "              style=\"display:none;\">\n",
              "        \n",
              "  <svg xmlns=\"http://www.w3.org/2000/svg\" height=\"24px\"viewBox=\"0 0 24 24\"\n",
              "       width=\"24px\">\n",
              "    <path d=\"M0 0h24v24H0V0z\" fill=\"none\"/>\n",
              "    <path d=\"M18.56 5.44l.94 2.06.94-2.06 2.06-.94-2.06-.94-.94-2.06-.94 2.06-2.06.94zm-11 1L8.5 8.5l.94-2.06 2.06-.94-2.06-.94L8.5 2.5l-.94 2.06-2.06.94zm10 10l.94 2.06.94-2.06 2.06-.94-2.06-.94-.94-2.06-.94 2.06-2.06.94z\"/><path d=\"M17.41 7.96l-1.37-1.37c-.4-.4-.92-.59-1.43-.59-.52 0-1.04.2-1.43.59L10.3 9.45l-7.72 7.72c-.78.78-.78 2.05 0 2.83L4 21.41c.39.39.9.59 1.41.59.51 0 1.02-.2 1.41-.59l7.78-7.78 2.81-2.81c.8-.78.8-2.07 0-2.86zM5.41 20L4 18.59l7.72-7.72 1.47 1.35L5.41 20z\"/>\n",
              "  </svg>\n",
              "      </button>\n",
              "      \n",
              "  <style>\n",
              "    .colab-df-container {\n",
              "      display:flex;\n",
              "      flex-wrap:wrap;\n",
              "      gap: 12px;\n",
              "    }\n",
              "\n",
              "    .colab-df-convert {\n",
              "      background-color: #E8F0FE;\n",
              "      border: none;\n",
              "      border-radius: 50%;\n",
              "      cursor: pointer;\n",
              "      display: none;\n",
              "      fill: #1967D2;\n",
              "      height: 32px;\n",
              "      padding: 0 0 0 0;\n",
              "      width: 32px;\n",
              "    }\n",
              "\n",
              "    .colab-df-convert:hover {\n",
              "      background-color: #E2EBFA;\n",
              "      box-shadow: 0px 1px 2px rgba(60, 64, 67, 0.3), 0px 1px 3px 1px rgba(60, 64, 67, 0.15);\n",
              "      fill: #174EA6;\n",
              "    }\n",
              "\n",
              "    [theme=dark] .colab-df-convert {\n",
              "      background-color: #3B4455;\n",
              "      fill: #D2E3FC;\n",
              "    }\n",
              "\n",
              "    [theme=dark] .colab-df-convert:hover {\n",
              "      background-color: #434B5C;\n",
              "      box-shadow: 0px 1px 3px 1px rgba(0, 0, 0, 0.15);\n",
              "      filter: drop-shadow(0px 1px 2px rgba(0, 0, 0, 0.3));\n",
              "      fill: #FFFFFF;\n",
              "    }\n",
              "  </style>\n",
              "\n",
              "      <script>\n",
              "        const buttonEl =\n",
              "          document.querySelector('#df-807ee4d0-10b6-4ab0-b68a-45131cf5426a button.colab-df-convert');\n",
              "        buttonEl.style.display =\n",
              "          google.colab.kernel.accessAllowed ? 'block' : 'none';\n",
              "\n",
              "        async function convertToInteractive(key) {\n",
              "          const element = document.querySelector('#df-807ee4d0-10b6-4ab0-b68a-45131cf5426a');\n",
              "          const dataTable =\n",
              "            await google.colab.kernel.invokeFunction('convertToInteractive',\n",
              "                                                     [key], {});\n",
              "          if (!dataTable) return;\n",
              "\n",
              "          const docLinkHtml = 'Like what you see? Visit the ' +\n",
              "            '<a target=\"_blank\" href=https://colab.research.google.com/notebooks/data_table.ipynb>data table notebook</a>'\n",
              "            + ' to learn more about interactive tables.';\n",
              "          element.innerHTML = '';\n",
              "          dataTable['output_type'] = 'display_data';\n",
              "          await google.colab.output.renderOutput(dataTable, element);\n",
              "          const docLink = document.createElement('div');\n",
              "          docLink.innerHTML = docLinkHtml;\n",
              "          element.appendChild(docLink);\n",
              "        }\n",
              "      </script>\n",
              "    </div>\n",
              "  </div>\n",
              "  "
            ],
            "text/plain": [
              "    emotion  emotion_enc\n",
              "0   sadness            4\n",
              "2     anger            0\n",
              "3      love            3\n",
              "6  surprise            5\n",
              "7      fear            1\n",
              "8       joy            2"
            ]
          },
          "metadata": {},
          "execution_count": 10
        }
      ],
      "source": [
        "data_train[['emotion','emotion_enc']].drop_duplicates(keep='first')\n",
        "# data_test[['emotion','emotion_enc']].drop_duplicates(keep='first')\n",
        "# data_val[['emotion','emotion_enc']].drop_duplicates(keep='first')"
      ]
    },
    {
      "cell_type": "markdown",
      "metadata": {
        "id": "zhyCE_IromWn"
      },
      "source": [
        "[OLD-Don't need this] ~Add sentence length to each sentence. It should calculate number of characters, including spaces and punctuation.~"
      ]
    },
    {
      "cell_type": "code",
      "execution_count": null,
      "metadata": {
        "id": "L0bFupawluI7"
      },
      "outputs": [],
      "source": [
        "# data_train['length'] = [len(x) for x in data_train['sentence']]\n",
        "# data_test['length'] = [len(x) for x in data_test['sentence']]\n",
        "# data_val['length'] = [len(x) for x in data_val['sentence']]"
      ]
    },
    {
      "cell_type": "code",
      "execution_count": null,
      "metadata": {
        "id": "lLROznaxHPNU",
        "colab": {
          "base_uri": "https://localhost:8080/",
          "height": 557
        },
        "outputId": "da87699d-c336-4272-d906-1680a92b7cf4"
      },
      "outputs": [
        {
          "output_type": "execute_result",
          "data": {
            "text/html": [
              "\n",
              "  <div id=\"df-b7cf4fa8-0da0-40eb-b8de-9acb90a0063b\">\n",
              "    <div class=\"colab-df-container\">\n",
              "      <div>\n",
              "<style scoped>\n",
              "    .dataframe tbody tr th:only-of-type {\n",
              "        vertical-align: middle;\n",
              "    }\n",
              "\n",
              "    .dataframe tbody tr th {\n",
              "        vertical-align: top;\n",
              "    }\n",
              "\n",
              "    .dataframe thead th {\n",
              "        text-align: right;\n",
              "    }\n",
              "</style>\n",
              "<table border=\"1\" class=\"dataframe\">\n",
              "  <thead>\n",
              "    <tr style=\"text-align: right;\">\n",
              "      <th></th>\n",
              "      <th>sentence</th>\n",
              "      <th>emotion</th>\n",
              "      <th>emotion_enc</th>\n",
              "    </tr>\n",
              "  </thead>\n",
              "  <tbody>\n",
              "    <tr>\n",
              "      <th>0</th>\n",
              "      <td>im feeling quite sad and sorry for myself but ...</td>\n",
              "      <td>sadness</td>\n",
              "      <td>4</td>\n",
              "    </tr>\n",
              "    <tr>\n",
              "      <th>1</th>\n",
              "      <td>i feel like i am still looking at a blank canv...</td>\n",
              "      <td>sadness</td>\n",
              "      <td>4</td>\n",
              "    </tr>\n",
              "    <tr>\n",
              "      <th>2</th>\n",
              "      <td>i feel like a faithful servant</td>\n",
              "      <td>love</td>\n",
              "      <td>3</td>\n",
              "    </tr>\n",
              "    <tr>\n",
              "      <th>3</th>\n",
              "      <td>i am just feeling cranky and blue</td>\n",
              "      <td>anger</td>\n",
              "      <td>0</td>\n",
              "    </tr>\n",
              "    <tr>\n",
              "      <th>4</th>\n",
              "      <td>i can have for a treat or if i am feeling festive</td>\n",
              "      <td>joy</td>\n",
              "      <td>2</td>\n",
              "    </tr>\n",
              "  </tbody>\n",
              "</table>\n",
              "</div>\n",
              "      <button class=\"colab-df-convert\" onclick=\"convertToInteractive('df-b7cf4fa8-0da0-40eb-b8de-9acb90a0063b')\"\n",
              "              title=\"Convert this dataframe to an interactive table.\"\n",
              "              style=\"display:none;\">\n",
              "        \n",
              "  <svg xmlns=\"http://www.w3.org/2000/svg\" height=\"24px\"viewBox=\"0 0 24 24\"\n",
              "       width=\"24px\">\n",
              "    <path d=\"M0 0h24v24H0V0z\" fill=\"none\"/>\n",
              "    <path d=\"M18.56 5.44l.94 2.06.94-2.06 2.06-.94-2.06-.94-.94-2.06-.94 2.06-2.06.94zm-11 1L8.5 8.5l.94-2.06 2.06-.94-2.06-.94L8.5 2.5l-.94 2.06-2.06.94zm10 10l.94 2.06.94-2.06 2.06-.94-2.06-.94-.94-2.06-.94 2.06-2.06.94z\"/><path d=\"M17.41 7.96l-1.37-1.37c-.4-.4-.92-.59-1.43-.59-.52 0-1.04.2-1.43.59L10.3 9.45l-7.72 7.72c-.78.78-.78 2.05 0 2.83L4 21.41c.39.39.9.59 1.41.59.51 0 1.02-.2 1.41-.59l7.78-7.78 2.81-2.81c.8-.78.8-2.07 0-2.86zM5.41 20L4 18.59l7.72-7.72 1.47 1.35L5.41 20z\"/>\n",
              "  </svg>\n",
              "      </button>\n",
              "      \n",
              "  <style>\n",
              "    .colab-df-container {\n",
              "      display:flex;\n",
              "      flex-wrap:wrap;\n",
              "      gap: 12px;\n",
              "    }\n",
              "\n",
              "    .colab-df-convert {\n",
              "      background-color: #E8F0FE;\n",
              "      border: none;\n",
              "      border-radius: 50%;\n",
              "      cursor: pointer;\n",
              "      display: none;\n",
              "      fill: #1967D2;\n",
              "      height: 32px;\n",
              "      padding: 0 0 0 0;\n",
              "      width: 32px;\n",
              "    }\n",
              "\n",
              "    .colab-df-convert:hover {\n",
              "      background-color: #E2EBFA;\n",
              "      box-shadow: 0px 1px 2px rgba(60, 64, 67, 0.3), 0px 1px 3px 1px rgba(60, 64, 67, 0.15);\n",
              "      fill: #174EA6;\n",
              "    }\n",
              "\n",
              "    [theme=dark] .colab-df-convert {\n",
              "      background-color: #3B4455;\n",
              "      fill: #D2E3FC;\n",
              "    }\n",
              "\n",
              "    [theme=dark] .colab-df-convert:hover {\n",
              "      background-color: #434B5C;\n",
              "      box-shadow: 0px 1px 3px 1px rgba(0, 0, 0, 0.15);\n",
              "      filter: drop-shadow(0px 1px 2px rgba(0, 0, 0, 0.3));\n",
              "      fill: #FFFFFF;\n",
              "    }\n",
              "  </style>\n",
              "\n",
              "      <script>\n",
              "        const buttonEl =\n",
              "          document.querySelector('#df-b7cf4fa8-0da0-40eb-b8de-9acb90a0063b button.colab-df-convert');\n",
              "        buttonEl.style.display =\n",
              "          google.colab.kernel.accessAllowed ? 'block' : 'none';\n",
              "\n",
              "        async function convertToInteractive(key) {\n",
              "          const element = document.querySelector('#df-b7cf4fa8-0da0-40eb-b8de-9acb90a0063b');\n",
              "          const dataTable =\n",
              "            await google.colab.kernel.invokeFunction('convertToInteractive',\n",
              "                                                     [key], {});\n",
              "          if (!dataTable) return;\n",
              "\n",
              "          const docLinkHtml = 'Like what you see? Visit the ' +\n",
              "            '<a target=\"_blank\" href=https://colab.research.google.com/notebooks/data_table.ipynb>data table notebook</a>'\n",
              "            + ' to learn more about interactive tables.';\n",
              "          element.innerHTML = '';\n",
              "          dataTable['output_type'] = 'display_data';\n",
              "          await google.colab.output.renderOutput(dataTable, element);\n",
              "          const docLink = document.createElement('div');\n",
              "          docLink.innerHTML = docLinkHtml;\n",
              "          element.appendChild(docLink);\n",
              "        }\n",
              "      </script>\n",
              "    </div>\n",
              "  </div>\n",
              "  "
            ],
            "text/plain": [
              "                                            sentence  emotion  emotion_enc\n",
              "0  im feeling quite sad and sorry for myself but ...  sadness            4\n",
              "1  i feel like i am still looking at a blank canv...  sadness            4\n",
              "2                     i feel like a faithful servant     love            3\n",
              "3                  i am just feeling cranky and blue    anger            0\n",
              "4  i can have for a treat or if i am feeling festive      joy            2"
            ]
          },
          "metadata": {},
          "execution_count": 12
        }
      ],
      "source": [
        "data_train.head()\n",
        "data_test.head()\n",
        "data_val.head()"
      ]
    },
    {
      "cell_type": "markdown",
      "metadata": {
        "id": "9IU3wyOOocsQ"
      },
      "source": [
        "[OLD-Unncessary] ~Finding the maximum sentence length. It seems to be 300. From the testing and validation set, they are 296 and 295, respectively.~"
      ]
    },
    {
      "cell_type": "code",
      "execution_count": null,
      "metadata": {
        "id": "hhBSqPnQoL-l"
      },
      "outputs": [],
      "source": [
        "# max_len = data_train['length'].max()\n",
        "# print(max_len)"
      ]
    },
    {
      "cell_type": "markdown",
      "metadata": {
        "id": "0DW_8szfEo1T",
        "jp-MarkdownHeadingCollapsed": true,
        "tags": []
      },
      "source": [
        "## Data Cleaning"
      ]
    },
    {
      "cell_type": "markdown",
      "metadata": {
        "id": "xKULabmoEqMt"
      },
      "source": [
        "We need to do some data cleaning first~, otherwise it would be a nightmare to do pre-processing with at least 15212 vocabulary words...~"
      ]
    },
    {
      "cell_type": "markdown",
      "source": [
        "**Data Cleaning Process:** Keep only words, convert all words to lowercase, split all words, remove stopwords, lemmization for word root.<br>\n",
        "The result of all of this work is a cleaned data vocab list."
      ],
      "metadata": {
        "id": "6uE7b3QZrB6O"
      }
    },
    {
      "cell_type": "markdown",
      "metadata": {
        "id": "hHVXM1f4iYf6"
      },
      "source": [
        "Replace stemming with lemmization, which keeps the actual form of the word better. This is necessary for using pre-existing word embedding models.\n",
        "Source: https://blog.bitext.com/what-is-the-difference-between-stemming-and-lemmatization/"
      ]
    },
    {
      "cell_type": "code",
      "execution_count": null,
      "metadata": {
        "id": "pJWWXLcFdzc1",
        "colab": {
          "base_uri": "https://localhost:8080/"
        },
        "outputId": "a2727270-9b74-4688-8da7-7539e71e9ccd"
      },
      "outputs": [
        {
          "output_type": "stream",
          "name": "stdout",
          "text": [
            "[nltk_data] Downloading package punkt to /root/nltk_data...\n",
            "[nltk_data]   Unzipping tokenizers/punkt.zip.\n",
            "[nltk_data] Downloading package stopwords to /root/nltk_data...\n",
            "[nltk_data]   Unzipping corpora/stopwords.zip.\n",
            "[nltk_data] Downloading package wordnet to /root/nltk_data...\n",
            "[nltk_data]   Unzipping corpora/wordnet.zip.\n",
            "[nltk_data] Downloading package omw-1.4 to /root/nltk_data...\n",
            "[nltk_data]   Unzipping corpora/omw-1.4.zip.\n"
          ]
        }
      ],
      "source": [
        "import re\n",
        "import pandas as pd\n",
        "import nltk\n",
        "from nltk.corpus import stopwords\n",
        "from nltk.stem import PorterStemmer\n",
        "from nltk.tokenize import sent_tokenize, word_tokenize\n",
        "from nltk.corpus import stopwords\n",
        "from nltk.stem import WordNetLemmatizer\n",
        "nltk.download('punkt')\n",
        "nltk.download('stopwords')\n",
        "nltk.download('wordnet')\n",
        "nltk.download('omw-1.4')\n",
        "\n",
        "# Attempting data cleaning here\n",
        "def preprocess(raw_text):\n",
        "    # keep only words\n",
        "    letters_only_text = re.sub(\"[^a-zA-Z]\", \" \", raw_text)\n",
        "\n",
        "    # convert to lower case and split \n",
        "    words = letters_only_text.lower().split()\n",
        "\n",
        "    # remove stopwords\n",
        "    stopword_set = set(stopwords.words(\"english\"))\n",
        "    meaningful_words = [w for w in words if w not in stopword_set]\n",
        "    \n",
        "    # stemmed words (looks like this is causing some words to be weird)\n",
        "    # ps = PorterStemmer()\n",
        "    # stemmed_words = [ps.stem(word) for word in meaningful_words]\n",
        "\n",
        "    # lemmed words (trying this because this gets the root word?)\n",
        "    lem = WordNetLemmatizer()\n",
        "    lemmed_words = [lem.lemmatize(word) for word in meaningful_words]\n",
        "    \n",
        "    # join the cleaned words in a list\n",
        "    # cleaned_word_list = \" \".join(stemmed_words)\n",
        "    cleaned_word_list = \" \".join(lemmed_words)\n",
        "    # cleaned_word_list = \" \".join(meaningful_words)\n",
        "\n",
        "    return cleaned_word_list"
      ]
    },
    {
      "cell_type": "markdown",
      "metadata": {
        "id": "8BmRPEeBpYZN"
      },
      "source": [
        "Apply data cleaning to all data sets."
      ]
    },
    {
      "cell_type": "code",
      "execution_count": null,
      "metadata": {
        "id": "schsncvleDrh"
      },
      "outputs": [],
      "source": [
        "data_train['sentence_cleaned'] = data_train['sentence'].apply(lambda line : preprocess(line))\n",
        "data_test['sentence_cleaned'] = data_test['sentence'].apply(lambda line : preprocess(line))\n",
        "data_val['sentence_cleaned'] = data_val['sentence'].apply(lambda line : preprocess(line))"
      ]
    },
    {
      "cell_type": "markdown",
      "metadata": {
        "id": "Rb9vzfUAqXoZ",
        "tags": []
      },
      "source": [
        "## Pre-Processing and Training\n",
        "\n",
        "Pre-processing and training is bundled together as the different methods use different pre-processing steps.<br>\n",
        "There are several methods available: Bag-of-words with TF-IDF, Word Embedding using ~Word2Vec~ [I used GloVe, not Word2Vec] (unknown NN), and BERT."
      ]
    },
    {
      "cell_type": "markdown",
      "source": [
        "### METHOD 2: BERT\n"
      ],
      "metadata": {
        "id": "8cEZB9u7ZOvR"
      }
    },
    {
      "cell_type": "markdown",
      "source": [
        "#### Histogram: Uncleaned Sentences\n",
        "\n",
        "Let's find out how long the uncleaned sentence is, since the example link does not do data cleaning on the sentences in the sense that common stop words are still provided."
      ],
      "metadata": {
        "id": "nMPQ0676j_BB"
      }
    },
    {
      "cell_type": "code",
      "source": [
        "from keras.preprocessing.text import Tokenizer\n",
        "from keras.preprocessing.sequence import pad_sequences\n",
        "import seaborn as sns\n",
        "\n",
        "tokenizer = Tokenizer()\n",
        "tokenizer.fit_on_texts(data_train[\"sentence\"])\n",
        "dic_vocabulary = tokenizer.word_index\n",
        "\n",
        "X_train = tokenizer.texts_to_sequences(data_train[\"sentence\"])\n",
        "X_test = tokenizer.texts_to_sequences(data_test[\"sentence\"])\n",
        "X_val = tokenizer.texts_to_sequences(data_val[\"sentence\"])\n",
        "\n",
        "vocab_size = len(tokenizer.word_index) + 1"
      ],
      "metadata": {
        "id": "Ylfhpf-EjyGA"
      },
      "execution_count": null,
      "outputs": []
    },
    {
      "cell_type": "code",
      "source": [
        "# string_name = ['X_train', 'X_test', 'X_val']\n",
        "dict_data = {'X_train': X_train,\n",
        "             'X_test': X_test,\n",
        "             'X_val': X_val}\n",
        "histo_plot_data = np.zeros((3,66))\n",
        "\n",
        "tmp_counter = 0;\n",
        "for key, value in dict_data.items():\n",
        "    feedback = 0;\n",
        "    feedback_sum = 0;\n",
        "    for i in value:\n",
        "        histo_plot_data[tmp_counter, len(i)-1] += 1\n",
        "        feedback_sum += len(i)\n",
        "        if len(i) > feedback:\n",
        "            feedback = len(i)\n",
        "    print(f\"{key}, Longest ID: {feedback}, Average ID length: {feedback_sum/len(value)}\")\n",
        "    tmp_counter += 1\n",
        "del tmp_counter\n",
        "\n",
        "# Longest sentence has 35 elements. Average is around 10.\n",
        "# TODO: This value, which influences padding, should be adjusted I think...\n",
        "# maxlen = 20\n",
        "\n",
        "# Delete unneeded variables\n",
        "del X_train, X_test, X_val, vocab_size, dic_vocabulary, tokenizer, feedback\n",
        "del feedback_sum, dict_data, tmp_counter, i, key, value"
      ],
      "metadata": {
        "colab": {
          "base_uri": "https://localhost:8080/"
        },
        "id": "QT27TvOxgWWi",
        "outputId": "b9fd15a0-19a8-4bb8-c1c0-1ab91174508f"
      },
      "execution_count": null,
      "outputs": [
        {
          "output_type": "stream",
          "name": "stdout",
          "text": [
            "X_train, Longest ID: 66, Average ID length: 19.1663125\n",
            "X_test, Longest ID: 60, Average ID length: 18.634\n",
            "X_val, Longest ID: 61, Average ID length: 18.3535\n"
          ]
        }
      ]
    },
    {
      "cell_type": "code",
      "source": [
        "# Plotting the ID histogram to see the distribution\n",
        "import matplotlib.pyplot as plt\n",
        "\n",
        "plt.barh(range(1,66+1), histo_plot_data[0,:])\n",
        "plt.barh(range(1,66+1), histo_plot_data[1,:])\n",
        "plt.barh(range(1,66+1), histo_plot_data[2,:])"
      ],
      "metadata": {
        "colab": {
          "base_uri": "https://localhost:8080/",
          "height": 282
        },
        "id": "F6fuYFdZkTdJ",
        "outputId": "85ea4de4-d3e4-40bf-eae0-f75cf59035d4"
      },
      "execution_count": null,
      "outputs": [
        {
          "output_type": "execute_result",
          "data": {
            "text/plain": [
              "<BarContainer object of 66 artists>"
            ]
          },
          "metadata": {},
          "execution_count": 44
        },
        {
          "output_type": "display_data",
          "data": {
            "image/png": "[encoded data removed]",
            "text/plain": [
              "<Figure size 432x288 with 1 Axes>"
            ]
          },
          "metadata": {
            "needs_background": "light"
          }
        }
      ]
    },
    {
      "cell_type": "markdown",
      "source": [
        "#### BERT Model (Using HuggingFace transformers library)"
      ],
      "metadata": {
        "id": "rj_ZNEvTknNt"
      }
    },
    {
      "cell_type": "code",
      "source": [
        "!pip install transformers\n",
        "import transformers"
      ],
      "metadata": {
        "id": "LNgE8FNJZUm9",
        "colab": {
          "base_uri": "https://localhost:8080/"
        },
        "outputId": "42c54c8f-39c3-4f88-892a-013527ac7f31"
      },
      "execution_count": null,
      "outputs": [
        {
          "output_type": "stream",
          "name": "stdout",
          "text": [
            "Collecting transformers\n",
            "  Downloading transformers-4.17.0-py3-none-any.whl (3.8 MB)\n",
            "\u001b[?25l\r\u001b[K     |                                | 10 kB 26.3 MB/s eta 0:00:01\r\u001b[K     |▏                               | 20 kB 14.1 MB/s eta 0:00:01\r\u001b[K     |▎                               | 30 kB 10.2 MB/s eta 0:00:01\r\u001b[K     |▍                               | 40 kB 8.9 MB/s eta 0:00:01\r\u001b[K     |▍                               | 51 kB 4.4 MB/s eta 0:00:01\r\u001b[K     |▌                               | 61 kB 5.1 MB/s eta 0:00:01\r\u001b[K     |▋                               | 71 kB 5.4 MB/s eta 0:00:01\r\u001b[K     |▊                               | 81 kB 4.3 MB/s eta 0:00:01\r\u001b[K     |▊                               | 92 kB 4.8 MB/s eta 0:00:01\r\u001b[K     |▉                               | 102 kB 5.2 MB/s eta 0:00:01\r\u001b[K     |█                               | 112 kB 5.2 MB/s eta 0:00:01\r\u001b[K     |█                               | 122 kB 5.2 MB/s eta 0:00:01\r\u001b[K     |█▏                              | 133 kB 5.2 MB/s eta 0:00:01\r\u001b[K     |█▏                              | 143 kB 5.2 MB/s eta 0:00:01\r\u001b[K     |█▎                              | 153 kB 5.2 MB/s eta 0:00:01\r\u001b[K     |█▍                              | 163 kB 5.2 MB/s eta 0:00:01\r\u001b[K     |█▌                              | 174 kB 5.2 MB/s eta 0:00:01\r\u001b[K     |█▌                              | 184 kB 5.2 MB/s eta 0:00:01\r\u001b[K     |█▋                              | 194 kB 5.2 MB/s eta 0:00:01\r\u001b[K     |█▊                              | 204 kB 5.2 MB/s eta 0:00:01\r\u001b[K     |█▉                              | 215 kB 5.2 MB/s eta 0:00:01\r\u001b[K     |█▉                              | 225 kB 5.2 MB/s eta 0:00:01\r\u001b[K     |██                              | 235 kB 5.2 MB/s eta 0:00:01\r\u001b[K     |██                              | 245 kB 5.2 MB/s eta 0:00:01\r\u001b[K     |██▏                             | 256 kB 5.2 MB/s eta 0:00:01\r\u001b[K     |██▎                             | 266 kB 5.2 MB/s eta 0:00:01\r\u001b[K     |██▎                             | 276 kB 5.2 MB/s eta 0:00:01\r\u001b[K     |██▍                             | 286 kB 5.2 MB/s eta 0:00:01\r\u001b[K     |██▌                             | 296 kB 5.2 MB/s eta 0:00:01\r\u001b[K     |██▋                             | 307 kB 5.2 MB/s eta 0:00:01\r\u001b[K     |██▋                             | 317 kB 5.2 MB/s eta 0:00:01\r\u001b[K     |██▊                             | 327 kB 5.2 MB/s eta 0:00:01\r\u001b[K     |██▉                             | 337 kB 5.2 MB/s eta 0:00:01\r\u001b[K     |███                             | 348 kB 5.2 MB/s eta 0:00:01\r\u001b[K     |███                             | 358 kB 5.2 MB/s eta 0:00:01\r\u001b[K     |███                             | 368 kB 5.2 MB/s eta 0:00:01\r\u001b[K     |███▏                            | 378 kB 5.2 MB/s eta 0:00:01\r\u001b[K     |███▎                            | 389 kB 5.2 MB/s eta 0:00:01\r\u001b[K     |███▍                            | 399 kB 5.2 MB/s eta 0:00:01\r\u001b[K     |███▍                            | 409 kB 5.2 MB/s eta 0:00:01\r\u001b[K     |███▌                            | 419 kB 5.2 MB/s eta 0:00:01\r\u001b[K     |███▋                            | 430 kB 5.2 MB/s eta 0:00:01\r\u001b[K     |███▊                            | 440 kB 5.2 MB/s eta 0:00:01\r\u001b[K     |███▊                            | 450 kB 5.2 MB/s eta 0:00:01\r\u001b[K     |███▉                            | 460 kB 5.2 MB/s eta 0:00:01\r\u001b[K     |████                            | 471 kB 5.2 MB/s eta 0:00:01\r\u001b[K     |████                            | 481 kB 5.2 MB/s eta 0:00:01\r\u001b[K     |████                            | 491 kB 5.2 MB/s eta 0:00:01\r\u001b[K     |████▏                           | 501 kB 5.2 MB/s eta 0:00:01\r\u001b[K     |████▎                           | 512 kB 5.2 MB/s eta 0:00:01\r\u001b[K     |████▍                           | 522 kB 5.2 MB/s eta 0:00:01\r\u001b[K     |████▌                           | 532 kB 5.2 MB/s eta 0:00:01\r\u001b[K     |████▌                           | 542 kB 5.2 MB/s eta 0:00:01\r\u001b[K     |████▋                           | 552 kB 5.2 MB/s eta 0:00:01\r\u001b[K     |████▊                           | 563 kB 5.2 MB/s eta 0:00:01\r\u001b[K     |████▉                           | 573 kB 5.2 MB/s eta 0:00:01\r\u001b[K     |████▉                           | 583 kB 5.2 MB/s eta 0:00:01\r\u001b[K     |█████                           | 593 kB 5.2 MB/s eta 0:00:01\r\u001b[K     |█████                           | 604 kB 5.2 MB/s eta 0:00:01\r\u001b[K     |█████▏                          | 614 kB 5.2 MB/s eta 0:00:01\r\u001b[K     |█████▎                          | 624 kB 5.2 MB/s eta 0:00:01\r\u001b[K     |█████▎                          | 634 kB 5.2 MB/s eta 0:00:01\r\u001b[K     |█████▍                          | 645 kB 5.2 MB/s eta 0:00:01\r\u001b[K     |█████▌                          | 655 kB 5.2 MB/s eta 0:00:01\r\u001b[K     |█████▋                          | 665 kB 5.2 MB/s eta 0:00:01\r\u001b[K     |█████▋                          | 675 kB 5.2 MB/s eta 0:00:01\r\u001b[K     |█████▊                          | 686 kB 5.2 MB/s eta 0:00:01\r\u001b[K     |█████▉                          | 696 kB 5.2 MB/s eta 0:00:01\r\u001b[K     |██████                          | 706 kB 5.2 MB/s eta 0:00:01\r\u001b[K     |██████                          | 716 kB 5.2 MB/s eta 0:00:01\r\u001b[K     |██████                          | 727 kB 5.2 MB/s eta 0:00:01\r\u001b[K     |██████▏                         | 737 kB 5.2 MB/s eta 0:00:01\r\u001b[K     |██████▎                         | 747 kB 5.2 MB/s eta 0:00:01\r\u001b[K     |██████▍                         | 757 kB 5.2 MB/s eta 0:00:01\r\u001b[K     |██████▍                         | 768 kB 5.2 MB/s eta 0:00:01\r\u001b[K     |██████▌                         | 778 kB 5.2 MB/s eta 0:00:01\r\u001b[K     |██████▋                         | 788 kB 5.2 MB/s eta 0:00:01\r\u001b[K     |██████▊                         | 798 kB 5.2 MB/s eta 0:00:01\r\u001b[K     |██████▊                         | 808 kB 5.2 MB/s eta 0:00:01\r\u001b[K     |██████▉                         | 819 kB 5.2 MB/s eta 0:00:01\r\u001b[K     |███████                         | 829 kB 5.2 MB/s eta 0:00:01\r\u001b[K     |███████                         | 839 kB 5.2 MB/s eta 0:00:01\r\u001b[K     |███████                         | 849 kB 5.2 MB/s eta 0:00:01\r\u001b[K     |███████▏                        | 860 kB 5.2 MB/s eta 0:00:01\r\u001b[K     |███████▎                        | 870 kB 5.2 MB/s eta 0:00:01\r\u001b[K     |███████▍                        | 880 kB 5.2 MB/s eta 0:00:01\r\u001b[K     |███████▌                        | 890 kB 5.2 MB/s eta 0:00:01\r\u001b[K     |███████▌                        | 901 kB 5.2 MB/s eta 0:00:01\r\u001b[K     |███████▋                        | 911 kB 5.2 MB/s eta 0:00:01\r\u001b[K     |███████▊                        | 921 kB 5.2 MB/s eta 0:00:01\r\u001b[K     |███████▉                        | 931 kB 5.2 MB/s eta 0:00:01\r\u001b[K     |███████▉                        | 942 kB 5.2 MB/s eta 0:00:01\r\u001b[K     |████████                        | 952 kB 5.2 MB/s eta 0:00:01\r\u001b[K     |████████                        | 962 kB 5.2 MB/s eta 0:00:01\r\u001b[K     |████████▏                       | 972 kB 5.2 MB/s eta 0:00:01\r\u001b[K     |████████▏                       | 983 kB 5.2 MB/s eta 0:00:01\r\u001b[K     |████████▎                       | 993 kB 5.2 MB/s eta 0:00:01\r\u001b[K     |████████▍                       | 1.0 MB 5.2 MB/s eta 0:00:01\r\u001b[K     |████████▌                       | 1.0 MB 5.2 MB/s eta 0:00:01\r\u001b[K     |████████▋                       | 1.0 MB 5.2 MB/s eta 0:00:01\r\u001b[K     |████████▋                       | 1.0 MB 5.2 MB/s eta 0:00:01\r\u001b[K     |████████▊                       | 1.0 MB 5.2 MB/s eta 0:00:01\r\u001b[K     |████████▉                       | 1.1 MB 5.2 MB/s eta 0:00:01\r\u001b[K     |█████████                       | 1.1 MB 5.2 MB/s eta 0:00:01\r\u001b[K     |█████████                       | 1.1 MB 5.2 MB/s eta 0:00:01\r\u001b[K     |█████████                       | 1.1 MB 5.2 MB/s eta 0:00:01\r\u001b[K     |█████████▏                      | 1.1 MB 5.2 MB/s eta 0:00:01\r\u001b[K     |█████████▎                      | 1.1 MB 5.2 MB/s eta 0:00:01\r\u001b[K     |█████████▍                      | 1.1 MB 5.2 MB/s eta 0:00:01\r\u001b[K     |█████████▍                      | 1.1 MB 5.2 MB/s eta 0:00:01\r\u001b[K     |█████████▌                      | 1.1 MB 5.2 MB/s eta 0:00:01\r\u001b[K     |█████████▋                      | 1.1 MB 5.2 MB/s eta 0:00:01\r\u001b[K     |█████████▊                      | 1.2 MB 5.2 MB/s eta 0:00:01\r\u001b[K     |█████████▊                      | 1.2 MB 5.2 MB/s eta 0:00:01\r\u001b[K     |█████████▉                      | 1.2 MB 5.2 MB/s eta 0:00:01\r\u001b[K     |██████████                      | 1.2 MB 5.2 MB/s eta 0:00:01\r\u001b[K     |██████████                      | 1.2 MB 5.2 MB/s eta 0:00:01\r\u001b[K     |██████████                      | 1.2 MB 5.2 MB/s eta 0:00:01\r\u001b[K     |██████████▏                     | 1.2 MB 5.2 MB/s eta 0:00:01\r\u001b[K     |██████████▎                     | 1.2 MB 5.2 MB/s eta 0:00:01\r\u001b[K     |██████████▍                     | 1.2 MB 5.2 MB/s eta 0:00:01\r\u001b[K     |██████████▌                     | 1.2 MB 5.2 MB/s eta 0:00:01\r\u001b[K     |██████████▌                     | 1.3 MB 5.2 MB/s eta 0:00:01\r\u001b[K     |██████████▋                     | 1.3 MB 5.2 MB/s eta 0:00:01\r\u001b[K     |██████████▊                     | 1.3 MB 5.2 MB/s eta 0:00:01\r\u001b[K     |██████████▉                     | 1.3 MB 5.2 MB/s eta 0:00:01\r\u001b[K     |██████████▉                     | 1.3 MB 5.2 MB/s eta 0:00:01\r\u001b[K     |███████████                     | 1.3 MB 5.2 MB/s eta 0:00:01\r\u001b[K     |███████████                     | 1.3 MB 5.2 MB/s eta 0:00:01\r\u001b[K     |███████████▏                    | 1.3 MB 5.2 MB/s eta 0:00:01\r\u001b[K     |███████████▏                    | 1.3 MB 5.2 MB/s eta 0:00:01\r\u001b[K     |███████████▎                    | 1.4 MB 5.2 MB/s eta 0:00:01\r\u001b[K     |███████████▍                    | 1.4 MB 5.2 MB/s eta 0:00:01\r\u001b[K     |███████████▌                    | 1.4 MB 5.2 MB/s eta 0:00:01\r\u001b[K     |███████████▋                    | 1.4 MB 5.2 MB/s eta 0:00:01\r\u001b[K     |███████████▋                    | 1.4 MB 5.2 MB/s eta 0:00:01\r\u001b[K     |███████████▊                    | 1.4 MB 5.2 MB/s eta 0:00:01\r\u001b[K     |███████████▉                    | 1.4 MB 5.2 MB/s eta 0:00:01\r\u001b[K     |████████████                    | 1.4 MB 5.2 MB/s eta 0:00:01\r\u001b[K     |████████████                    | 1.4 MB 5.2 MB/s eta 0:00:01\r\u001b[K     |████████████                    | 1.4 MB 5.2 MB/s eta 0:00:01\r\u001b[K     |████████████▏                   | 1.5 MB 5.2 MB/s eta 0:00:01\r\u001b[K     |████████████▎                   | 1.5 MB 5.2 MB/s eta 0:00:01\r\u001b[K     |████████████▎                   | 1.5 MB 5.2 MB/s eta 0:00:01\r\u001b[K     |████████████▍                   | 1.5 MB 5.2 MB/s eta 0:00:01\r\u001b[K     |████████████▌                   | 1.5 MB 5.2 MB/s eta 0:00:01\r\u001b[K     |████████████▋                   | 1.5 MB 5.2 MB/s eta 0:00:01\r\u001b[K     |████████████▊                   | 1.5 MB 5.2 MB/s eta 0:00:01\r\u001b[K     |████████████▊                   | 1.5 MB 5.2 MB/s eta 0:00:01\r\u001b[K     |████████████▉                   | 1.5 MB 5.2 MB/s eta 0:00:01\r\u001b[K     |█████████████                   | 1.5 MB 5.2 MB/s eta 0:00:01\r\u001b[K     |█████████████                   | 1.6 MB 5.2 MB/s eta 0:00:01\r\u001b[K     |█████████████                   | 1.6 MB 5.2 MB/s eta 0:00:01\r\u001b[K     |█████████████▏                  | 1.6 MB 5.2 MB/s eta 0:00:01\r\u001b[K     |█████████████▎                  | 1.6 MB 5.2 MB/s eta 0:00:01\r\u001b[K     |█████████████▍                  | 1.6 MB 5.2 MB/s eta 0:00:01\r\u001b[K     |█████████████▌                  | 1.6 MB 5.2 MB/s eta 0:00:01\r\u001b[K     |█████████████▌                  | 1.6 MB 5.2 MB/s eta 0:00:01\r\u001b[K     |█████████████▋                  | 1.6 MB 5.2 MB/s eta 0:00:01\r\u001b[K     |█████████████▊                  | 1.6 MB 5.2 MB/s eta 0:00:01\r\u001b[K     |█████████████▉                  | 1.6 MB 5.2 MB/s eta 0:00:01\r\u001b[K     |█████████████▉                  | 1.7 MB 5.2 MB/s eta 0:00:01\r\u001b[K     |██████████████                  | 1.7 MB 5.2 MB/s eta 0:00:01\r\u001b[K     |██████████████                  | 1.7 MB 5.2 MB/s eta 0:00:01\r\u001b[K     |██████████████▏                 | 1.7 MB 5.2 MB/s eta 0:00:01\r\u001b[K     |██████████████▏                 | 1.7 MB 5.2 MB/s eta 0:00:01\r\u001b[K     |██████████████▎                 | 1.7 MB 5.2 MB/s eta 0:00:01\r\u001b[K     |██████████████▍                 | 1.7 MB 5.2 MB/s eta 0:00:01\r\u001b[K     |██████████████▌                 | 1.7 MB 5.2 MB/s eta 0:00:01\r\u001b[K     |██████████████▋                 | 1.7 MB 5.2 MB/s eta 0:00:01\r\u001b[K     |██████████████▋                 | 1.8 MB 5.2 MB/s eta 0:00:01\r\u001b[K     |██████████████▊                 | 1.8 MB 5.2 MB/s eta 0:00:01\r\u001b[K     |██████████████▉                 | 1.8 MB 5.2 MB/s eta 0:00:01\r\u001b[K     |███████████████                 | 1.8 MB 5.2 MB/s eta 0:00:01\r\u001b[K     |███████████████                 | 1.8 MB 5.2 MB/s eta 0:00:01\r\u001b[K     |███████████████                 | 1.8 MB 5.2 MB/s eta 0:00:01\r\u001b[K     |███████████████▏                | 1.8 MB 5.2 MB/s eta 0:00:01\r\u001b[K     |███████████████▎                | 1.8 MB 5.2 MB/s eta 0:00:01\r\u001b[K     |███████████████▎                | 1.8 MB 5.2 MB/s eta 0:00:01\r\u001b[K     |███████████████▍                | 1.8 MB 5.2 MB/s eta 0:00:01\r\u001b[K     |███████████████▌                | 1.9 MB 5.2 MB/s eta 0:00:01\r\u001b[K     |███████████████▋                | 1.9 MB 5.2 MB/s eta 0:00:01\r\u001b[K     |███████████████▊                | 1.9 MB 5.2 MB/s eta 0:00:01\r\u001b[K     |███████████████▊                | 1.9 MB 5.2 MB/s eta 0:00:01\r\u001b[K     |███████████████▉                | 1.9 MB 5.2 MB/s eta 0:00:01\r\u001b[K     |████████████████                | 1.9 MB 5.2 MB/s eta 0:00:01\r\u001b[K     |████████████████                | 1.9 MB 5.2 MB/s eta 0:00:01\r\u001b[K     |████████████████                | 1.9 MB 5.2 MB/s eta 0:00:01\r\u001b[K     |████████████████▏               | 1.9 MB 5.2 MB/s eta 0:00:01\r\u001b[K     |████████████████▎               | 1.9 MB 5.2 MB/s eta 0:00:01\r\u001b[K     |████████████████▍               | 2.0 MB 5.2 MB/s eta 0:00:01\r\u001b[K     |████████████████▍               | 2.0 MB 5.2 MB/s eta 0:00:01\r\u001b[K     |████████████████▌               | 2.0 MB 5.2 MB/s eta 0:00:01\r\u001b[K     |████████████████▋               | 2.0 MB 5.2 MB/s eta 0:00:01\r\u001b[K     |████████████████▊               | 2.0 MB 5.2 MB/s eta 0:00:01\r\u001b[K     |████████████████▉               | 2.0 MB 5.2 MB/s eta 0:00:01\r\u001b[K     |████████████████▉               | 2.0 MB 5.2 MB/s eta 0:00:01\r\u001b[K     |█████████████████               | 2.0 MB 5.2 MB/s eta 0:00:01\r\u001b[K     |█████████████████               | 2.0 MB 5.2 MB/s eta 0:00:01\r\u001b[K     |█████████████████▏              | 2.0 MB 5.2 MB/s eta 0:00:01\r\u001b[K     |█████████████████▏              | 2.1 MB 5.2 MB/s eta 0:00:01\r\u001b[K     |█████████████████▎              | 2.1 MB 5.2 MB/s eta 0:00:01\r\u001b[K     |█████████████████▍              | 2.1 MB 5.2 MB/s eta 0:00:01\r\u001b[K     |█████████████████▌              | 2.1 MB 5.2 MB/s eta 0:00:01\r\u001b[K     |█████████████████▋              | 2.1 MB 5.2 MB/s eta 0:00:01\r\u001b[K     |█████████████████▋              | 2.1 MB 5.2 MB/s eta 0:00:01\r\u001b[K     |█████████████████▊              | 2.1 MB 5.2 MB/s eta 0:00:01\r\u001b[K     |█████████████████▉              | 2.1 MB 5.2 MB/s eta 0:00:01\r\u001b[K     |██████████████████              | 2.1 MB 5.2 MB/s eta 0:00:01\r\u001b[K     |██████████████████              | 2.2 MB 5.2 MB/s eta 0:00:01\r\u001b[K     |██████████████████              | 2.2 MB 5.2 MB/s eta 0:00:01\r\u001b[K     |██████████████████▏             | 2.2 MB 5.2 MB/s eta 0:00:01\r\u001b[K     |██████████████████▎             | 2.2 MB 5.2 MB/s eta 0:00:01\r\u001b[K     |██████████████████▎             | 2.2 MB 5.2 MB/s eta 0:00:01\r\u001b[K     |██████████████████▍             | 2.2 MB 5.2 MB/s eta 0:00:01\r\u001b[K     |██████████████████▌             | 2.2 MB 5.2 MB/s eta 0:00:01\r\u001b[K     |██████████████████▋             | 2.2 MB 5.2 MB/s eta 0:00:01\r\u001b[K     |██████████████████▊             | 2.2 MB 5.2 MB/s eta 0:00:01\r\u001b[K     |██████████████████▊             | 2.2 MB 5.2 MB/s eta 0:00:01\r\u001b[K     |██████████████████▉             | 2.3 MB 5.2 MB/s eta 0:00:01\r\u001b[K     |███████████████████             | 2.3 MB 5.2 MB/s eta 0:00:01\r\u001b[K     |███████████████████             | 2.3 MB 5.2 MB/s eta 0:00:01\r\u001b[K     |███████████████████             | 2.3 MB 5.2 MB/s eta 0:00:01\r\u001b[K     |███████████████████▏            | 2.3 MB 5.2 MB/s eta 0:00:01\r\u001b[K     |███████████████████▎            | 2.3 MB 5.2 MB/s eta 0:00:01\r\u001b[K     |███████████████████▍            | 2.3 MB 5.2 MB/s eta 0:00:01\r\u001b[K     |███████████████████▍            | 2.3 MB 5.2 MB/s eta 0:00:01\r\u001b[K     |███████████████████▌            | 2.3 MB 5.2 MB/s eta 0:00:01\r\u001b[K     |███████████████████▋            | 2.3 MB 5.2 MB/s eta 0:00:01\r\u001b[K     |███████████████████▊            | 2.4 MB 5.2 MB/s eta 0:00:01\r\u001b[K     |███████████████████▉            | 2.4 MB 5.2 MB/s eta 0:00:01\r\u001b[K     |███████████████████▉            | 2.4 MB 5.2 MB/s eta 0:00:01\r\u001b[K     |████████████████████            | 2.4 MB 5.2 MB/s eta 0:00:01\r\u001b[K     |████████████████████            | 2.4 MB 5.2 MB/s eta 0:00:01\r\u001b[K     |████████████████████▏           | 2.4 MB 5.2 MB/s eta 0:00:01\r\u001b[K     |████████████████████▏           | 2.4 MB 5.2 MB/s eta 0:00:01\r\u001b[K     |████████████████████▎           | 2.4 MB 5.2 MB/s eta 0:00:01\r\u001b[K     |████████████████████▍           | 2.4 MB 5.2 MB/s eta 0:00:01\r\u001b[K     |████████████████████▌           | 2.4 MB 5.2 MB/s eta 0:00:01\r\u001b[K     |████████████████████▌           | 2.5 MB 5.2 MB/s eta 0:00:01\r\u001b[K     |████████████████████▋           | 2.5 MB 5.2 MB/s eta 0:00:01\r\u001b[K     |████████████████████▊           | 2.5 MB 5.2 MB/s eta 0:00:01\r\u001b[K     |████████████████████▉           | 2.5 MB 5.2 MB/s eta 0:00:01\r\u001b[K     |█████████████████████           | 2.5 MB 5.2 MB/s eta 0:00:01\r\u001b[K     |█████████████████████           | 2.5 MB 5.2 MB/s eta 0:00:01\r\u001b[K     |█████████████████████           | 2.5 MB 5.2 MB/s eta 0:00:01\r\u001b[K     |█████████████████████▏          | 2.5 MB 5.2 MB/s eta 0:00:01\r\u001b[K     |█████████████████████▎          | 2.5 MB 5.2 MB/s eta 0:00:01\r\u001b[K     |█████████████████████▎          | 2.5 MB 5.2 MB/s eta 0:00:01\r\u001b[K     |█████████████████████▍          | 2.6 MB 5.2 MB/s eta 0:00:01\r\u001b[K     |█████████████████████▌          | 2.6 MB 5.2 MB/s eta 0:00:01\r\u001b[K     |█████████████████████▋          | 2.6 MB 5.2 MB/s eta 0:00:01\r\u001b[K     |█████████████████████▋          | 2.6 MB 5.2 MB/s eta 0:00:01\r\u001b[K     |█████████████████████▊          | 2.6 MB 5.2 MB/s eta 0:00:01\r\u001b[K     |█████████████████████▉          | 2.6 MB 5.2 MB/s eta 0:00:01\r\u001b[K     |██████████████████████          | 2.6 MB 5.2 MB/s eta 0:00:01\r\u001b[K     |██████████████████████          | 2.6 MB 5.2 MB/s eta 0:00:01\r\u001b[K     |██████████████████████          | 2.6 MB 5.2 MB/s eta 0:00:01\r\u001b[K     |██████████████████████▏         | 2.7 MB 5.2 MB/s eta 0:00:01\r\u001b[K     |██████████████████████▎         | 2.7 MB 5.2 MB/s eta 0:00:01\r\u001b[K     |██████████████████████▍         | 2.7 MB 5.2 MB/s eta 0:00:01\r\u001b[K     |██████████████████████▍         | 2.7 MB 5.2 MB/s eta 0:00:01\r\u001b[K     |██████████████████████▌         | 2.7 MB 5.2 MB/s eta 0:00:01\r\u001b[K     |██████████████████████▋         | 2.7 MB 5.2 MB/s eta 0:00:01\r\u001b[K     |██████████████████████▊         | 2.7 MB 5.2 MB/s eta 0:00:01\r\u001b[K     |██████████████████████▉         | 2.7 MB 5.2 MB/s eta 0:00:01\r\u001b[K     |██████████████████████▉         | 2.7 MB 5.2 MB/s eta 0:00:01\r\u001b[K     |███████████████████████         | 2.7 MB 5.2 MB/s eta 0:00:01\r\u001b[K     |███████████████████████         | 2.8 MB 5.2 MB/s eta 0:00:01\r\u001b[K     |███████████████████████▏        | 2.8 MB 5.2 MB/s eta 0:00:01\r\u001b[K     |███████████████████████▏        | 2.8 MB 5.2 MB/s eta 0:00:01\r\u001b[K     |███████████████████████▎        | 2.8 MB 5.2 MB/s eta 0:00:01\r\u001b[K     |███████████████████████▍        | 2.8 MB 5.2 MB/s eta 0:00:01\r\u001b[K     |███████████████████████▌        | 2.8 MB 5.2 MB/s eta 0:00:01\r\u001b[K     |███████████████████████▌        | 2.8 MB 5.2 MB/s eta 0:00:01\r\u001b[K     |███████████████████████▋        | 2.8 MB 5.2 MB/s eta 0:00:01\r\u001b[K     |███████████████████████▊        | 2.8 MB 5.2 MB/s eta 0:00:01\r\u001b[K     |███████████████████████▉        | 2.8 MB 5.2 MB/s eta 0:00:01\r\u001b[K     |████████████████████████        | 2.9 MB 5.2 MB/s eta 0:00:01\r\u001b[K     |████████████████████████        | 2.9 MB 5.2 MB/s eta 0:00:01\r\u001b[K     |████████████████████████        | 2.9 MB 5.2 MB/s eta 0:00:01\r\u001b[K     |████████████████████████▏       | 2.9 MB 5.2 MB/s eta 0:00:01\r\u001b[K     |████████████████████████▎       | 2.9 MB 5.2 MB/s eta 0:00:01\r\u001b[K     |████████████████████████▎       | 2.9 MB 5.2 MB/s eta 0:00:01\r\u001b[K     |████████████████████████▍       | 2.9 MB 5.2 MB/s eta 0:00:01\r\u001b[K     |████████████████████████▌       | 2.9 MB 5.2 MB/s eta 0:00:01\r\u001b[K     |████████████████████████▋       | 2.9 MB 5.2 MB/s eta 0:00:01\r\u001b[K     |████████████████████████▋       | 2.9 MB 5.2 MB/s eta 0:00:01\r\u001b[K     |████████████████████████▊       | 3.0 MB 5.2 MB/s eta 0:00:01\r\u001b[K     |████████████████████████▉       | 3.0 MB 5.2 MB/s eta 0:00:01\r\u001b[K     |█████████████████████████       | 3.0 MB 5.2 MB/s eta 0:00:01\r\u001b[K     |█████████████████████████       | 3.0 MB 5.2 MB/s eta 0:00:01\r\u001b[K     |█████████████████████████       | 3.0 MB 5.2 MB/s eta 0:00:01\r\u001b[K     |█████████████████████████▏      | 3.0 MB 5.2 MB/s eta 0:00:01\r\u001b[K     |█████████████████████████▎      | 3.0 MB 5.2 MB/s eta 0:00:01\r\u001b[K     |█████████████████████████▍      | 3.0 MB 5.2 MB/s eta 0:00:01\r\u001b[K     |█████████████████████████▍      | 3.0 MB 5.2 MB/s eta 0:00:01\r\u001b[K     |█████████████████████████▌      | 3.1 MB 5.2 MB/s eta 0:00:01\r\u001b[K     |█████████████████████████▋      | 3.1 MB 5.2 MB/s eta 0:00:01\r\u001b[K     |█████████████████████████▊      | 3.1 MB 5.2 MB/s eta 0:00:01\r\u001b[K     |█████████████████████████▊      | 3.1 MB 5.2 MB/s eta 0:00:01\r\u001b[K     |█████████████████████████▉      | 3.1 MB 5.2 MB/s eta 0:00:01\r\u001b[K     |██████████████████████████      | 3.1 MB 5.2 MB/s eta 0:00:01\r\u001b[K     |██████████████████████████      | 3.1 MB 5.2 MB/s eta 0:00:01\r\u001b[K     |██████████████████████████▏     | 3.1 MB 5.2 MB/s eta 0:00:01\r\u001b[K     |██████████████████████████▏     | 3.1 MB 5.2 MB/s eta 0:00:01\r\u001b[K     |██████████████████████████▎     | 3.1 MB 5.2 MB/s eta 0:00:01\r\u001b[K     |██████████████████████████▍     | 3.2 MB 5.2 MB/s eta 0:00:01\r\u001b[K     |██████████████████████████▌     | 3.2 MB 5.2 MB/s eta 0:00:01\r\u001b[K     |██████████████████████████▌     | 3.2 MB 5.2 MB/s eta 0:00:01\r\u001b[K     |██████████████████████████▋     | 3.2 MB 5.2 MB/s eta 0:00:01\r\u001b[K     |██████████████████████████▊     | 3.2 MB 5.2 MB/s eta 0:00:01\r\u001b[K     |██████████████████████████▉     | 3.2 MB 5.2 MB/s eta 0:00:01\r\u001b[K     |███████████████████████████     | 3.2 MB 5.2 MB/s eta 0:00:01\r\u001b[K     |███████████████████████████     | 3.2 MB 5.2 MB/s eta 0:00:01\r\u001b[K     |███████████████████████████     | 3.2 MB 5.2 MB/s eta 0:00:01\r\u001b[K     |███████████████████████████▏    | 3.2 MB 5.2 MB/s eta 0:00:01\r\u001b[K     |███████████████████████████▎    | 3.3 MB 5.2 MB/s eta 0:00:01\r\u001b[K     |███████████████████████████▎    | 3.3 MB 5.2 MB/s eta 0:00:01\r\u001b[K     |███████████████████████████▍    | 3.3 MB 5.2 MB/s eta 0:00:01\r\u001b[K     |███████████████████████████▌    | 3.3 MB 5.2 MB/s eta 0:00:01\r\u001b[K     |███████████████████████████▋    | 3.3 MB 5.2 MB/s eta 0:00:01\r\u001b[K     |███████████████████████████▋    | 3.3 MB 5.2 MB/s eta 0:00:01\r\u001b[K     |███████████████████████████▊    | 3.3 MB 5.2 MB/s eta 0:00:01\r\u001b[K     |███████████████████████████▉    | 3.3 MB 5.2 MB/s eta 0:00:01\r\u001b[K     |████████████████████████████    | 3.3 MB 5.2 MB/s eta 0:00:01\r\u001b[K     |████████████████████████████    | 3.3 MB 5.2 MB/s eta 0:00:01\r\u001b[K     |████████████████████████████    | 3.4 MB 5.2 MB/s eta 0:00:01\r\u001b[K     |████████████████████████████▏   | 3.4 MB 5.2 MB/s eta 0:00:01\r\u001b[K     |████████████████████████████▎   | 3.4 MB 5.2 MB/s eta 0:00:01\r\u001b[K     |████████████████████████████▍   | 3.4 MB 5.2 MB/s eta 0:00:01\r\u001b[K     |████████████████████████████▍   | 3.4 MB 5.2 MB/s eta 0:00:01\r\u001b[K     |████████████████████████████▌   | 3.4 MB 5.2 MB/s eta 0:00:01\r\u001b[K     |████████████████████████████▋   | 3.4 MB 5.2 MB/s eta 0:00:01\r\u001b[K     |████████████████████████████▊   | 3.4 MB 5.2 MB/s eta 0:00:01\r\u001b[K     |████████████████████████████▊   | 3.4 MB 5.2 MB/s eta 0:00:01\r\u001b[K     |████████████████████████████▉   | 3.5 MB 5.2 MB/s eta 0:00:01\r\u001b[K     |█████████████████████████████   | 3.5 MB 5.2 MB/s eta 0:00:01\r\u001b[K     |█████████████████████████████   | 3.5 MB 5.2 MB/s eta 0:00:01\r\u001b[K     |█████████████████████████████▏  | 3.5 MB 5.2 MB/s eta 0:00:01\r\u001b[K     |█████████████████████████████▏  | 3.5 MB 5.2 MB/s eta 0:00:01\r\u001b[K     |█████████████████████████████▎  | 3.5 MB 5.2 MB/s eta 0:00:01\r\u001b[K     |█████████████████████████████▍  | 3.5 MB 5.2 MB/s eta 0:00:01\r\u001b[K     |█████████████████████████████▌  | 3.5 MB 5.2 MB/s eta 0:00:01\r\u001b[K     |█████████████████████████████▌  | 3.5 MB 5.2 MB/s eta 0:00:01\r\u001b[K     |█████████████████████████████▋  | 3.5 MB 5.2 MB/s eta 0:00:01\r\u001b[K     |█████████████████████████████▊  | 3.6 MB 5.2 MB/s eta 0:00:01\r\u001b[K     |█████████████████████████████▉  | 3.6 MB 5.2 MB/s eta 0:00:01\r\u001b[K     |█████████████████████████████▉  | 3.6 MB 5.2 MB/s eta 0:00:01\r\u001b[K     |██████████████████████████████  | 3.6 MB 5.2 MB/s eta 0:00:01\r\u001b[K     |██████████████████████████████  | 3.6 MB 5.2 MB/s eta 0:00:01\r\u001b[K     |██████████████████████████████▏ | 3.6 MB 5.2 MB/s eta 0:00:01\r\u001b[K     |██████████████████████████████▎ | 3.6 MB 5.2 MB/s eta 0:00:01\r\u001b[K     |██████████████████████████████▎ | 3.6 MB 5.2 MB/s eta 0:00:01\r\u001b[K     |██████████████████████████████▍ | 3.6 MB 5.2 MB/s eta 0:00:01\r\u001b[K     |██████████████████████████████▌ | 3.6 MB 5.2 MB/s eta 0:00:01\r\u001b[K     |██████████████████████████████▋ | 3.7 MB 5.2 MB/s eta 0:00:01\r\u001b[K     |██████████████████████████████▋ | 3.7 MB 5.2 MB/s eta 0:00:01\r\u001b[K     |██████████████████████████████▊ | 3.7 MB 5.2 MB/s eta 0:00:01\r\u001b[K     |██████████████████████████████▉ | 3.7 MB 5.2 MB/s eta 0:00:01\r\u001b[K     |███████████████████████████████ | 3.7 MB 5.2 MB/s eta 0:00:01\r\u001b[K     |███████████████████████████████ | 3.7 MB 5.2 MB/s eta 0:00:01\r\u001b[K     |███████████████████████████████ | 3.7 MB 5.2 MB/s eta 0:00:01\r\u001b[K     |███████████████████████████████▏| 3.7 MB 5.2 MB/s eta 0:00:01\r\u001b[K     |███████████████████████████████▎| 3.7 MB 5.2 MB/s eta 0:00:01\r\u001b[K     |███████████████████████████████▍| 3.7 MB 5.2 MB/s eta 0:00:01\r\u001b[K     |███████████████████████████████▍| 3.8 MB 5.2 MB/s eta 0:00:01\r\u001b[K     |███████████████████████████████▌| 3.8 MB 5.2 MB/s eta 0:00:01\r\u001b[K     |███████████████████████████████▋| 3.8 MB 5.2 MB/s eta 0:00:01\r\u001b[K     |███████████████████████████████▊| 3.8 MB 5.2 MB/s eta 0:00:01\r\u001b[K     |███████████████████████████████▊| 3.8 MB 5.2 MB/s eta 0:00:01\r\u001b[K     |███████████████████████████████▉| 3.8 MB 5.2 MB/s eta 0:00:01\r\u001b[K     |████████████████████████████████| 3.8 MB 5.2 MB/s eta 0:00:01\r\u001b[K     |████████████████████████████████| 3.8 MB 5.2 MB/s \n",
            "\u001b[?25hCollecting pyyaml>=5.1\n",
            "  Downloading PyYAML-6.0-cp37-cp37m-manylinux_2_5_x86_64.manylinux1_x86_64.manylinux_2_12_x86_64.manylinux2010_x86_64.whl (596 kB)\n",
            "\u001b[?25l\r\u001b[K     |▌                               | 10 kB 20.3 MB/s eta 0:00:01\r\u001b[K     |█                               | 20 kB 25.4 MB/s eta 0:00:01\r\u001b[K     |█▋                              | 30 kB 31.5 MB/s eta 0:00:01\r\u001b[K     |██▏                             | 40 kB 35.5 MB/s eta 0:00:01\r\u001b[K     |██▊                             | 51 kB 37.6 MB/s eta 0:00:01\r\u001b[K     |███▎                            | 61 kB 40.8 MB/s eta 0:00:01\r\u001b[K     |███▉                            | 71 kB 42.2 MB/s eta 0:00:01\r\u001b[K     |████▍                           | 81 kB 40.2 MB/s eta 0:00:01\r\u001b[K     |█████                           | 92 kB 41.4 MB/s eta 0:00:01\r\u001b[K     |█████▌                          | 102 kB 43.0 MB/s eta 0:00:01\r\u001b[K     |██████                          | 112 kB 43.0 MB/s eta 0:00:01\r\u001b[K     |██████▋                         | 122 kB 43.0 MB/s eta 0:00:01\r\u001b[K     |███████▏                        | 133 kB 43.0 MB/s eta 0:00:01\r\u001b[K     |███████▊                        | 143 kB 43.0 MB/s eta 0:00:01\r\u001b[K     |████████▎                       | 153 kB 43.0 MB/s eta 0:00:01\r\u001b[K     |████████▉                       | 163 kB 43.0 MB/s eta 0:00:01\r\u001b[K     |█████████▍                      | 174 kB 43.0 MB/s eta 0:00:01\r\u001b[K     |██████████                      | 184 kB 43.0 MB/s eta 0:00:01\r\u001b[K     |██████████▍                     | 194 kB 43.0 MB/s eta 0:00:01\r\u001b[K     |███████████                     | 204 kB 43.0 MB/s eta 0:00:01\r\u001b[K     |███████████▌                    | 215 kB 43.0 MB/s eta 0:00:01\r\u001b[K     |████████████                    | 225 kB 43.0 MB/s eta 0:00:01\r\u001b[K     |████████████▋                   | 235 kB 43.0 MB/s eta 0:00:01\r\u001b[K     |█████████████▏                  | 245 kB 43.0 MB/s eta 0:00:01\r\u001b[K     |█████████████▊                  | 256 kB 43.0 MB/s eta 0:00:01\r\u001b[K     |██████████████▎                 | 266 kB 43.0 MB/s eta 0:00:01\r\u001b[K     |██████████████▉                 | 276 kB 43.0 MB/s eta 0:00:01\r\u001b[K     |███████████████▍                | 286 kB 43.0 MB/s eta 0:00:01\r\u001b[K     |████████████████                | 296 kB 43.0 MB/s eta 0:00:01\r\u001b[K     |████████████████▌               | 307 kB 43.0 MB/s eta 0:00:01\r\u001b[K     |█████████████████               | 317 kB 43.0 MB/s eta 0:00:01\r\u001b[K     |█████████████████▋              | 327 kB 43.0 MB/s eta 0:00:01\r\u001b[K     |██████████████████▏             | 337 kB 43.0 MB/s eta 0:00:01\r\u001b[K     |██████████████████▊             | 348 kB 43.0 MB/s eta 0:00:01\r\u001b[K     |███████████████████▎            | 358 kB 43.0 MB/s eta 0:00:01\r\u001b[K     |███████████████████▉            | 368 kB 43.0 MB/s eta 0:00:01\r\u001b[K     |████████████████████▍           | 378 kB 43.0 MB/s eta 0:00:01\r\u001b[K     |████████████████████▉           | 389 kB 43.0 MB/s eta 0:00:01\r\u001b[K     |█████████████████████▍          | 399 kB 43.0 MB/s eta 0:00:01\r\u001b[K     |██████████████████████          | 409 kB 43.0 MB/s eta 0:00:01\r\u001b[K     |██████████████████████▌         | 419 kB 43.0 MB/s eta 0:00:01\r\u001b[K     |███████████████████████         | 430 kB 43.0 MB/s eta 0:00:01\r\u001b[K     |███████████████████████▋        | 440 kB 43.0 MB/s eta 0:00:01\r\u001b[K     |████████████████████████▏       | 450 kB 43.0 MB/s eta 0:00:01\r\u001b[K     |████████████████████████▊       | 460 kB 43.0 MB/s eta 0:00:01\r\u001b[K     |█████████████████████████▎      | 471 kB 43.0 MB/s eta 0:00:01\r\u001b[K     |█████████████████████████▉      | 481 kB 43.0 MB/s eta 0:00:01\r\u001b[K     |██████████████████████████▍     | 491 kB 43.0 MB/s eta 0:00:01\r\u001b[K     |███████████████████████████     | 501 kB 43.0 MB/s eta 0:00:01\r\u001b[K     |███████████████████████████▌    | 512 kB 43.0 MB/s eta 0:00:01\r\u001b[K     |████████████████████████████    | 522 kB 43.0 MB/s eta 0:00:01\r\u001b[K     |████████████████████████████▋   | 532 kB 43.0 MB/s eta 0:00:01\r\u001b[K     |█████████████████████████████▏  | 542 kB 43.0 MB/s eta 0:00:01\r\u001b[K     |█████████████████████████████▊  | 552 kB 43.0 MB/s eta 0:00:01\r\u001b[K     |██████████████████████████████▎ | 563 kB 43.0 MB/s eta 0:00:01\r\u001b[K     |██████████████████████████████▊ | 573 kB 43.0 MB/s eta 0:00:01\r\u001b[K     |███████████████████████████████▎| 583 kB 43.0 MB/s eta 0:00:01\r\u001b[K     |███████████████████████████████▉| 593 kB 43.0 MB/s eta 0:00:01\r\u001b[K     |████████████████████████████████| 596 kB 43.0 MB/s \n",
            "\u001b[?25hRequirement already satisfied: numpy>=1.17 in /usr/local/lib/python3.7/dist-packages (from transformers) (1.21.5)\n",
            "Requirement already satisfied: requests in /usr/local/lib/python3.7/dist-packages (from transformers) (2.23.0)\n",
            "Collecting tokenizers!=0.11.3,>=0.11.1\n",
            "  Downloading tokenizers-0.11.6-cp37-cp37m-manylinux_2_12_x86_64.manylinux2010_x86_64.whl (6.5 MB)\n",
            "\u001b[K     |████████████████████████████████| 6.5 MB 35.7 MB/s \n",
            "\u001b[?25hRequirement already satisfied: packaging>=20.0 in /usr/local/lib/python3.7/dist-packages (from transformers) (21.3)\n",
            "Requirement already satisfied: regex!=2019.12.17 in /usr/local/lib/python3.7/dist-packages (from transformers) (2019.12.20)\n",
            "Requirement already satisfied: tqdm>=4.27 in /usr/local/lib/python3.7/dist-packages (from transformers) (4.63.0)\n",
            "Requirement already satisfied: importlib-metadata in /usr/local/lib/python3.7/dist-packages (from transformers) (4.11.2)\n",
            "Requirement already satisfied: filelock in /usr/local/lib/python3.7/dist-packages (from transformers) (3.6.0)\n",
            "Collecting huggingface-hub<1.0,>=0.1.0\n",
            "  Downloading huggingface_hub-0.4.0-py3-none-any.whl (67 kB)\n",
            "\u001b[K     |████████████████████████████████| 67 kB 3.0 MB/s \n",
            "\u001b[?25hCollecting sacremoses\n",
            "  Downloading sacremoses-0.0.47-py2.py3-none-any.whl (895 kB)\n",
            "\u001b[K     |████████████████████████████████| 895 kB 43.4 MB/s \n",
            "\u001b[?25hRequirement already satisfied: typing-extensions>=3.7.4.3 in /usr/local/lib/python3.7/dist-packages (from huggingface-hub<1.0,>=0.1.0->transformers) (3.10.0.2)\n",
            "Requirement already satisfied: pyparsing!=3.0.5,>=2.0.2 in /usr/local/lib/python3.7/dist-packages (from packaging>=20.0->transformers) (3.0.7)\n",
            "Requirement already satisfied: zipp>=0.5 in /usr/local/lib/python3.7/dist-packages (from importlib-metadata->transformers) (3.7.0)\n",
            "Requirement already satisfied: chardet<4,>=3.0.2 in /usr/local/lib/python3.7/dist-packages (from requests->transformers) (3.0.4)\n",
            "Requirement already satisfied: idna<3,>=2.5 in /usr/local/lib/python3.7/dist-packages (from requests->transformers) (2.10)\n",
            "Requirement already satisfied: certifi>=2017.4.17 in /usr/local/lib/python3.7/dist-packages (from requests->transformers) (2021.10.8)\n",
            "Requirement already satisfied: urllib3!=1.25.0,!=1.25.1,<1.26,>=1.21.1 in /usr/local/lib/python3.7/dist-packages (from requests->transformers) (1.24.3)\n",
            "Requirement already satisfied: joblib in /usr/local/lib/python3.7/dist-packages (from sacremoses->transformers) (1.1.0)\n",
            "Requirement already satisfied: six in /usr/local/lib/python3.7/dist-packages (from sacremoses->transformers) (1.15.0)\n",
            "Requirement already satisfied: click in /usr/local/lib/python3.7/dist-packages (from sacremoses->transformers) (7.1.2)\n",
            "Installing collected packages: pyyaml, tokenizers, sacremoses, huggingface-hub, transformers\n",
            "  Attempting uninstall: pyyaml\n",
            "    Found existing installation: PyYAML 3.13\n",
            "    Uninstalling PyYAML-3.13:\n",
            "      Successfully uninstalled PyYAML-3.13\n",
            "Successfully installed huggingface-hub-0.4.0 pyyaml-6.0 sacremoses-0.0.47 tokenizers-0.11.6 transformers-4.17.0\n"
          ]
        }
      ]
    },
    {
      "cell_type": "code",
      "source": [
        "from transformers import pipeline\n",
        "\n",
        "# BERT tokenizer\n",
        "# tokenizer = transformers.BertTokenizer.from_pretrained('bert-base-uncased', do_lower_case=True)\n",
        "tokenizer = transformers.AutoTokenizer.from_pretrained('distilbert-base-uncased', num_labels=6, do_lower_case=True)\n",
        "# tokenizer = transformers.AutoTokenizer.from_pretrained(\"prajjwal1/bert-tiny\", num_labels=6, do_lower_case=True)\n",
        "# test_nlp_recognizer = pipeline(\"sentiment-analysis\", model=\"prajjwal1/bert-tiny\")\n",
        "\n",
        "# BERT Model\n",
        "config = transformers.DistilBertConfig(dropout=0.2, attention_dropout=0.2)\n",
        "# config = transformers.AutoConfig(dropout=0.2, attention_dropout=0.2)\n",
        "# config = transformers.AutoConfig.from_pretrained(\"prajjwal1/bert-tiny\", hidden_dropout_prob=0.2)\n",
        "config.output_hidden_states = False\n",
        "\n",
        "nlp = transformers.TFDistilBertModel.from_pretrained('distilbert-base-uncased', config=config)\n",
        "# nlp = transformers.AutoModel.from_pretrained(\"prajjwal1/bert-tiny\", config=config)"
      ],
      "metadata": {
        "colab": {
          "base_uri": "https://localhost:8080/",
          "height": 282,
          "referenced_widgets": [
            "d3aa7ecdd64d4ddd8edbf44d756c344e",
            "e8bded4b168b4ffbbb377ef8c36e2377",
            "1fc4be423e434c5182a41302d13bcbf6",
            "34097e96cc2b4e6d85c03042963694da",
            "d729e8ffc3e9482ca7cc78a02b78a793",
            "9c208b58d6924bb58ae53e1e505a05f9",
            "a69e808e94374fd3a534fbc372e8f1a6",
            "b3e37fdb293b4a819195b0146b7a1ace",
            "463a9275599a42afa69860c660e09578",
            "23870e51593c4900adc500f53cc70f10",
            "a3190fa0c6de49978dc9c02fae8b17e4",
            "17746ed7eb7742de9713f5a24b0231fb",
            "e85e877428ee4a34b390fb181706de60",
            "f5ab529b610b4e3ca692881c34ad258b",
            "332d52435e9a483195c7420a6e0db83c",
            "3c442064a3794a44ba5615da159b340f",
            "796ac6a71ee2434983c4e103322de28c",
            "890b247222f14e94975b67e1d6d162ed",
            "bfba5a4a5e2a4f1da75a30c7a184c037",
            "54f9b92ddb8343c08298eac0a83bfa84",
            "bdb957f065234b778d039d730eee5cb6",
            "4ded71e29581413baa5729c8aff16726",
            "f777215a8ef349c19df5f0c9c01e3441",
            "5911b12f4987483b914828f6b925ff25",
            "e1b8902e568f4767b1a3dc26d45138c2",
            "3a273abba5bc4e24bb9fa2f36d4de75e",
            "ba7f41691e02497aac68694065678d2d",
            "aaa09480230245e293820a0cfedaee4b",
            "80e869437f554dbea8974df91c3e7009",
            "29107112785347d1ac818da58e18a9e2",
            "56f65628730c46b49cf36d84f699a0f5",
            "392729d1bc564f9085d8ce07ab1d331f",
            "54c3d483080c45c7904955f4a4832c2b",
            "64bfe2c8ff754f9f9bff0d1d99bf08f7",
            "e3599389ce404bd6b77ace5e83c25ecc",
            "f0a7064a41234899bad17a54dccf262e",
            "f03c1392bed04765a5692b85f6665770",
            "a3a73f0f6976414399a6d6f9d0bc50ad",
            "19dde946ae9d468ca49ec0cca620e349",
            "24806210b0b243b69363c626796c22b9",
            "d1c971cc01674de987a14afb47470310",
            "619bfafd3f6542da910a9bb5c25ba2c5",
            "5e3f902af74240219321f68fbd61cc3c",
            "9bd25e301b194de2805efc411a1a0271",
            "44b89580d4444057a5daecae497fc683",
            "038d57be8b4047e794aae6b6c15f7b66",
            "2e3010dbae0d4ca9b96d64590ff032b6",
            "85767b0680f6482eb8081d683484ece3",
            "66c7554d010144c597efc8332d12ee5a",
            "e9c70343798a4ab4843fe453b2b55078",
            "8c82b2ce4bdf400f9673271402177f77",
            "861384475a0e4699ab1a2f5395317ac7",
            "260e48096a634bc7a4103eb3c2c09784",
            "23880105c88c46d0a86fe239aa1ecc3e",
            "97d8e9dc927c4d77a1261ed76a343d1e"
          ]
        },
        "id": "ki2YxvB6aLFm",
        "outputId": "145d7edd-d6d6-43e5-d9f1-5c8993acce0c"
      },
      "execution_count": null,
      "outputs": [
        {
          "output_type": "display_data",
          "data": {
            "application/vnd.jupyter.widget-view+json": {
              "model_id": "d3aa7ecdd64d4ddd8edbf44d756c344e",
              "version_minor": 0,
              "version_major": 2
            },
            "text/plain": [
              "Downloading:   0%|          | 0.00/28.0 [00:00<?, ?B/s]"
            ]
          },
          "metadata": {}
        },
        {
          "output_type": "display_data",
          "data": {
            "application/vnd.jupyter.widget-view+json": {
              "model_id": "17746ed7eb7742de9713f5a24b0231fb",
              "version_minor": 0,
              "version_major": 2
            },
            "text/plain": [
              "Downloading:   0%|          | 0.00/483 [00:00<?, ?B/s]"
            ]
          },
          "metadata": {}
        },
        {
          "output_type": "display_data",
          "data": {
            "application/vnd.jupyter.widget-view+json": {
              "model_id": "f777215a8ef349c19df5f0c9c01e3441",
              "version_minor": 0,
              "version_major": 2
            },
            "text/plain": [
              "Downloading:   0%|          | 0.00/226k [00:00<?, ?B/s]"
            ]
          },
          "metadata": {}
        },
        {
          "output_type": "display_data",
          "data": {
            "application/vnd.jupyter.widget-view+json": {
              "model_id": "64bfe2c8ff754f9f9bff0d1d99bf08f7",
              "version_minor": 0,
              "version_major": 2
            },
            "text/plain": [
              "Downloading:   0%|          | 0.00/455k [00:00<?, ?B/s]"
            ]
          },
          "metadata": {}
        },
        {
          "output_type": "display_data",
          "data": {
            "application/vnd.jupyter.widget-view+json": {
              "model_id": "44b89580d4444057a5daecae497fc683",
              "version_minor": 0,
              "version_major": 2
            },
            "text/plain": [
              "Downloading:   0%|          | 0.00/347M [00:00<?, ?B/s]"
            ]
          },
          "metadata": {}
        },
        {
          "output_type": "stream",
          "name": "stderr",
          "text": [
            "Some layers from the model checkpoint at distilbert-base-uncased were not used when initializing TFDistilBertModel: ['activation_13', 'vocab_layer_norm', 'vocab_transform', 'vocab_projector']\n",
            "- This IS expected if you are initializing TFDistilBertModel from the checkpoint of a model trained on another task or with another architecture (e.g. initializing a BertForSequenceClassification model from a BertForPreTraining model).\n",
            "- This IS NOT expected if you are initializing TFDistilBertModel from the checkpoint of a model that you expect to be exactly identical (initializing a BertForSequenceClassification model from a BertForSequenceClassification model).\n",
            "All the layers of TFDistilBertModel were initialized from the model checkpoint at distilbert-base-uncased.\n",
            "If your task is similar to the task the model of the checkpoint was trained on, you can already use TFDistilBertModel for predictions without further training.\n"
          ]
        }
      ]
    },
    {
      "cell_type": "markdown",
      "source": [
        "From the website (https://towardsdatascience.com/text-classification-with-nlp-tf-idf-vs-word2vec-vs-bert-41ff868d1794): <br>\n",
        "*First of all, we need to select the sequence max length. This time I’m gonna choose a much larger number (i.e. 50) because BERT splits unknown words into sub-tokens until it finds a known unigrams. For example, if a made-up word like “zzdata” is given, BERT would split it into [“z”, “##z”, “##data”]. Moreover, we have to insert special tokens into the input text, then generate masks and segments. Finally, put all together in a tensor to get the feature matrix that will have the shape of 3 (ids, masks, segments) x Number of documents in the corpus x Sequence length*"
      ],
      "metadata": {
        "id": "gV9CPtK3lgLh"
      }
    },
    {
      "cell_type": "markdown",
      "source": [
        "So a summary of the large paragraph above:\n",
        "In BERT, we have three things to keep track of\n",
        "1. Token ID: The \"regular\" tokenization. \n",
        "    *  This includes text start token (101), unknown word (100) token, text end token (102), and padding token (0)\n",
        "2. Mask: Distinguishes between text and padding. 0 indicates padding\n",
        "3. Segment: Keeps track of the text end ([SEP]) token\n",
        "\n",
        "Now, we are not using code from the link above. I have directly used the tokenizer object itself."
      ],
      "metadata": {
        "id": "BIuzBeJQmpT9"
      }
    },
    {
      "cell_type": "code",
      "source": [
        "try:\n",
        "    del idx, masks, segments\n",
        "except:\n",
        "    pass\n",
        "\n",
        "histo_plot_data = np.zeros((3,87))\n",
        "# Set max length of the sentence\n",
        "maxlen=20\n",
        "\n",
        "# I really should be using data cleaning that I used for Word Embedding, but let's have something working first.\n",
        "def bert_tokenize(corpus, dataset_str):\n",
        "    histo_plot_data = np.zeros((87))\n",
        "    # corpus = data_train[\"sentence_cleaned\"]\n",
        "    idx, masks, segments = [], [], []\n",
        "    longest = 0\n",
        "    longest_index = 0;\n",
        "    feedback_sum = 0\n",
        "\n",
        "    for i, element in enumerate(corpus):\n",
        "\n",
        "        tmp = tokenizer(element)\n",
        "        idx.append(tmp[\"input_ids\"])\n",
        "        masks.append(tmp[\"attention_mask\"])\n",
        "        # segments.append(tmp[\"token_type_ids\"])\n",
        "        \n",
        "        if len(tmp[\"input_ids\"]) > longest:\n",
        "            longest = len(tmp[\"input_ids\"])\n",
        "            longest_index = i\n",
        "\n",
        "        histo_plot_data[len(tmp[\"input_ids\"])-1] += 1\n",
        "        feedback_sum += len(tmp[\"input_ids\"])\n",
        "\n",
        "        # corpus_tokenized.append(tmp)\n",
        "    print(f\"{dataset_str}: Longest sentence using BERT Tokenization is {longest} at index {longest_index}.\")\n",
        "    print(f\"Average ID length: {feedback_sum/len(corpus)}\")\n",
        "\n",
        "    for i, element in enumerate(idx):\n",
        "        tmp = maxlen - len(element)\n",
        "        if tmp > 0:\n",
        "            idx[i] += tmp*[0]\n",
        "            masks[i] += tmp*[0]\n",
        "            # segments[i] += tmp*[1]\n",
        "        else:\n",
        "            idx[i] = idx[i][0:maxlen]\n",
        "            idx[i][maxlen-1] = 102\n",
        "            masks[i] = masks[i][0:maxlen]\n",
        "            # segments[i] = segments[i][0:maxlen]\n",
        "    return [np.asarray(idx, dtype='int32'), np.asarray(masks, dtype='int32')], histo_plot_data\n",
        "\n",
        "X_train, histo_plot_data[0,:]  = bert_tokenize(data_train[\"sentence_cleaned\"], 'X_train')\n",
        "X_val, histo_plot_data[1,:] = bert_tokenize(data_val[\"sentence_cleaned\"], 'X_val')\n",
        "X_test, histo_plot_data[2,:] = bert_tokenize(data_test[\"sentence_cleaned\"], 'X_test')\n",
        "\n",
        "# X_train=[np.asarray(idx, dtype='int32'), \n",
        "#          np.asarray(masks, dtype='int32')]\n",
        "\n",
        "# Plotting the ID histogram to see the distribution\n",
        "import matplotlib.pyplot as plt\n",
        "plt.barh(range(1,87+1), histo_plot_data[0,:])\n",
        "plt.barh(range(1,87+1), histo_plot_data[1,:])\n",
        "plt.barh(range(1,87+1), histo_plot_data[2,:])\n"
      ],
      "metadata": {
        "colab": {
          "base_uri": "https://localhost:8080/",
          "height": 384
        },
        "id": "3tWIPHkdAxZi",
        "outputId": "210a7dbe-30de-40e3-e97d-f63ecefa4c65"
      },
      "execution_count": null,
      "outputs": [
        {
          "output_type": "stream",
          "name": "stdout",
          "text": [
            "X_train: Longest sentence using BERT Tokenization is 72 at index 9753.\n",
            "Average ID length: 12.403\n",
            "X_val: Longest sentence using BERT Tokenization is 57 at index 197.\n",
            "Average ID length: 12.1905\n",
            "X_test: Longest sentence using BERT Tokenization is 44 at index 591.\n",
            "Average ID length: 12.3155\n"
          ]
        },
        {
          "output_type": "execute_result",
          "data": {
            "text/plain": [
              "<BarContainer object of 87 artists>"
            ]
          },
          "metadata": {},
          "execution_count": 18
        },
        {
          "output_type": "display_data",
          "data": {
            "image/png": "[encoded data removed]",
            "text/plain": [
              "<Figure size 432x288 with 1 Axes>"
            ]
          },
          "metadata": {
            "needs_background": "light"
          }
        }
      ]
    },
    {
      "cell_type": "code",
      "source": [
        "# X_train=[np.asarray(idx, dtype='int32'), \n",
        "#          np.asarray(masks, dtype='int32')]#, \n",
        "#         #  np.asarray(segments, dtype='int32')]"
      ],
      "metadata": {
        "id": "07uPrJiyNOb4"
      },
      "execution_count": null,
      "outputs": []
    },
    {
      "cell_type": "markdown",
      "source": [
        "BERT NN"
      ],
      "metadata": {
        "id": "tIjDY0WsNHmv"
      }
    },
    {
      "cell_type": "code",
      "source": [
        "from keras.models import Sequential\n",
        "from keras import layers, models, optimizers\n",
        "import keras\n",
        "import tensorflow as tf\n",
        "\n",
        "# Inputs\n",
        "idx = layers.Input((maxlen), dtype='int32',name='input_idx')\n",
        "masks = layers.Input((maxlen), dtype='int32',name='input_masks')\n",
        "# segments = layers.Input((maxlen), dtype='int32',name='input_segments')\n",
        "\n",
        "# Pre-trained BERT\n",
        "# we already import nlp above, we are using that.\n",
        "\n",
        "# nlp = transformers.TFBertModel.from_pretrained('bert-base-uncased')\n",
        "bert_out = nlp([idx, masks])\n",
        "\n",
        "# fine-tuning\n",
        "x = layers.GlobalAveragePooling1D()(bert_out[0])\n",
        "# x = layers.Dense(64, activation='relu')(x)\n",
        "x = layers.Dense(64, activation='relu')(x)\n",
        "# x = layers.Dense(64, activation='sigmoid')(x)\n",
        "y_out = layers.Dense(6, activation='softmax')(x)\n",
        "\n",
        "model = models.Model([idx, masks], y_out)\n",
        "\n",
        "# The BERT model is pre-trained; we don't need to train that layer. Only train the last two Dense layers basically\n",
        "for layer in model.layers[:4]:\n",
        "    layer.trainable=False\n",
        "\n",
        "# model.compile(optimizer=tf.keras.optimizers.Adam(learning_rate=3e-5, epsilon=1e-08, clipnorm=1.0), \n",
        "            #   loss=tf.keras.losses.SparseCategoricalCrossentropy(from_logits=True), \n",
        "            #   metrics=[tf.keras.metrics.SparseCategoricalAccuracy('accuracy')])\n",
        "\n",
        "model.compile(loss='sparse_categorical_crossentropy', \n",
        "              optimizer='adam',\n",
        "            #   optimizer=tf.keras.optimizers.Adam(learning_rate=3e-5, epsilon=1e-08, clipnorm=1.0), \n",
        "              metrics=['accuracy'])\n",
        "model.summary()\n"
      ],
      "metadata": {
        "colab": {
          "base_uri": "https://localhost:8080/"
        },
        "id": "dwwmQlfFNG4g",
        "outputId": "f676cb99-ea9a-4315-b1e9-a2a8a5be3ff6"
      },
      "execution_count": null,
      "outputs": [
        {
          "output_type": "stream",
          "name": "stdout",
          "text": [
            "Model: \"model_1\"\n",
            "__________________________________________________________________________________________________\n",
            " Layer (type)                   Output Shape         Param #     Connected to                     \n",
            "==================================================================================================\n",
            " input_idx (InputLayer)         [(None, 20)]         0           []                               \n",
            "                                                                                                  \n",
            " input_masks (InputLayer)       [(None, 20)]         0           []                               \n",
            "                                                                                                  \n",
            " tf_distil_bert_model (TFDistil  TFBaseModelOutput(l  66362880   ['input_idx[0][0]',              \n",
            " BertModel)                     ast_hidden_state=(N               'input_masks[0][0]']            \n",
            "                                one, 20, 768),                                                    \n",
            "                                 hidden_states=None                                               \n",
            "                                , attentions=None)                                                \n",
            "                                                                                                  \n",
            " global_average_pooling1d_1 (Gl  (None, 768)         0           ['tf_distil_bert_model[1][0]']   \n",
            " obalAveragePooling1D)                                                                            \n",
            "                                                                                                  \n",
            " dense_3 (Dense)                (None, 64)           49216       ['global_average_pooling1d_1[0][0\n",
            "                                                                 ]']                              \n",
            "                                                                                                  \n",
            " dense_4 (Dense)                (None, 6)            390         ['dense_3[0][0]']                \n",
            "                                                                                                  \n",
            "==================================================================================================\n",
            "Total params: 66,412,486\n",
            "Trainable params: 49,606\n",
            "Non-trainable params: 66,362,880\n",
            "__________________________________________________________________________________________________\n"
          ]
        }
      ]
    },
    {
      "cell_type": "code",
      "source": [
        "model.fit(x=X_train, y=data_train['emotion_enc'], batch_size=50, epochs=10,\n",
        "                     shuffle=True, verbose=1, validation_data=[X_val, data_val['emotion_enc']])"
      ],
      "metadata": {
        "id": "8xn3kRMqSBop"
      },
      "execution_count": null,
      "outputs": []
    },
    {
      "cell_type": "code",
      "source": [
        "# Testing the tokenizer model...\n",
        "\n",
        "# text_test = [\"this is an amazing movie\", \"this is a crappy move on your part\"]\n",
        "# # text_preprocessed = bert_preprocess_model(text_test)\n",
        "# text_preprocessed = tokenizer(text_test)\n",
        "# print(text_preprocessed)"
      ],
      "metadata": {
        "id": "lzhHn8vezOfu"
      },
      "execution_count": null,
      "outputs": []
    },
    {
      "cell_type": "markdown",
      "source": [
        "#### Doing some other testing here"
      ],
      "metadata": {
        "id": "fjW1a7SQwK57"
      }
    },
    {
      "cell_type": "code",
      "source": [
        "# Get feature matrix\n",
        "# import re\n",
        "\n",
        "# corpus = data_train[\"sentence\"]\n",
        "\n",
        "# # Choose large maximum length as BERT splits made-up word into subtokens until it recognizes a word\n",
        "# # In our case, the longest sentence is 300 characters, so I'm just going to set maxlen to 300 for now\n",
        "# maxlen = 50\n",
        "\n",
        "# # add special tokens\n",
        "# maxqnans = int((maxlen-20)/2)\n",
        "# corpus_tokenized = [\"[CLS] \"+\n",
        "#              \" \".join(tokenizer.tokenize(re.sub(r'[^\\w\\s]+|\\n', '', \n",
        "#              str(txt).lower().strip()))[:maxqnans])+\n",
        "#              \" [SEP] \" for txt in corpus]\n",
        "\n",
        "# # generate masks\n",
        "# masks = [[1]*len(txt.split(\" \")) + [0]*(maxlen - len(txt.split(\" \"))) for txt in corpus_tokenized]\n",
        "\n",
        "# # Padding\n",
        "# txt2seq = [txt + \" [PAD]\"*(maxlen-len(txt.split(\" \"))) if len(txt.split(\" \")) != maxlen else txt for txt in corpus_tokenized]\n",
        "\n",
        "# # Generate idx\n",
        "# idx = [tokenizer.encode(seq.split(\" \")) for seq in txt2seq]\n",
        "\n",
        "# ## generate segments\n",
        "# segments = [] \n",
        "# for seq in txt2seq:\n",
        "#     temp, i = [], 0\n",
        "#     for token in seq.split(\" \"):\n",
        "#         temp.append(i)\n",
        "#         if token == \"[SEP]\":\n",
        "#              i += 1\n",
        "#     segments.append(temp)\n",
        "\n",
        "# ## feature matrix\n",
        "# X_train = [np.asarray(idx, dtype='int32'), \n",
        "#            np.asarray(masks, dtype='int32'), \n",
        "#            np.asarray(segments, dtype='int32')]\n"
      ],
      "metadata": {
        "id": "rjxt-OnIlIh8"
      },
      "execution_count": null,
      "outputs": []
    },
    {
      "cell_type": "code",
      "source": [
        "# i = 3\n",
        "# print(\"txt: \", data_train[\"sentence\"].iloc[0])\n",
        "# print(\"tokenized:\", [tokenizer.convert_ids_to_tokens(idx) for idx in X_train[0][i].tolist()])\n",
        "# print(\"idx: \", X_train[0][i])\n",
        "# print(\"mask: \", X_train[1][i])\n",
        "# print(\"segment: \", X_train[2][i])"
      ],
      "metadata": {
        "id": "DHy-Bp8urB69"
      },
      "execution_count": null,
      "outputs": []
    },
    {
      "cell_type": "code",
      "source": [
        "# # Testing embedding with the BERT model\n",
        "# # Hidden layer with embeddings\n",
        "# txt = \"bank river\"\n",
        "# input_ids = np.array(tokenizer.encode(txt))[None, :]\n",
        "# embedding = nlp(input_ids)\n",
        "# embedding[0][0]"
      ],
      "metadata": {
        "id": "RiEieHRndTzF"
      },
      "execution_count": null,
      "outputs": []
    },
    {
      "cell_type": "code",
      "source": [
        "# !pip install \"tensorflow-text==2.8.*\"\n",
        "# !pip install tf-models-official==2.7.0\n",
        "# !pip install official.nlp\n",
        "\n",
        "# import tensorflow as tf\n",
        "# import tensorflow_hub as hub\n",
        "# import tensorflow_text as text\n",
        "# from official.nlp import optimization"
      ],
      "metadata": {
        "id": "qM3f-vhqwJxd"
      },
      "execution_count": null,
      "outputs": []
    },
    {
      "cell_type": "code",
      "source": [
        "#@title ~Commented Out: Choose a BERT model to fine-tune~\n",
        "\n",
        "# bert_model_name = 'small_bert/bert_en_uncased_L-4_H-512_A-8'  #@param [\"bert_en_uncased_L-12_H-768_A-12\", \"bert_en_cased_L-12_H-768_A-12\", \"bert_multi_cased_L-12_H-768_A-12\", \"small_bert/bert_en_uncased_L-2_H-128_A-2\", \"small_bert/bert_en_uncased_L-2_H-256_A-4\", \"small_bert/bert_en_uncased_L-2_H-512_A-8\", \"small_bert/bert_en_uncased_L-2_H-768_A-12\", \"small_bert/bert_en_uncased_L-4_H-128_A-2\", \"small_bert/bert_en_uncased_L-4_H-256_A-4\", \"small_bert/bert_en_uncased_L-4_H-512_A-8\", \"small_bert/bert_en_uncased_L-4_H-768_A-12\", \"small_bert/bert_en_uncased_L-6_H-128_A-2\", \"small_bert/bert_en_uncased_L-6_H-256_A-4\", \"small_bert/bert_en_uncased_L-6_H-512_A-8\", \"small_bert/bert_en_uncased_L-6_H-768_A-12\", \"small_bert/bert_en_uncased_L-8_H-128_A-2\", \"small_bert/bert_en_uncased_L-8_H-256_A-4\", \"small_bert/bert_en_uncased_L-8_H-512_A-8\", \"small_bert/bert_en_uncased_L-8_H-768_A-12\", \"small_bert/bert_en_uncased_L-10_H-128_A-2\", \"small_bert/bert_en_uncased_L-10_H-256_A-4\", \"small_bert/bert_en_uncased_L-10_H-512_A-8\", \"small_bert/bert_en_uncased_L-10_H-768_A-12\", \"small_bert/bert_en_uncased_L-12_H-128_A-2\", \"small_bert/bert_en_uncased_L-12_H-256_A-4\", \"small_bert/bert_en_uncased_L-12_H-512_A-8\", \"small_bert/bert_en_uncased_L-12_H-768_A-12\", \"albert_en_base\", \"electra_small\", \"electra_base\", \"experts_pubmed\", \"experts_wiki_books\", \"talking-heads_base\"]\n",
        "\n",
        "# map_name_to_handle = {\n",
        "#     'bert_en_uncased_L-12_H-768_A-12':\n",
        "#         'https://tfhub.dev/tensorflow/bert_en_uncased_L-12_H-768_A-12/3',\n",
        "#     'bert_en_cased_L-12_H-768_A-12':\n",
        "#         'https://tfhub.dev/tensorflow/bert_en_cased_L-12_H-768_A-12/3',\n",
        "#     'bert_multi_cased_L-12_H-768_A-12':\n",
        "#         'https://tfhub.dev/tensorflow/bert_multi_cased_L-12_H-768_A-12/3',\n",
        "#     'small_bert/bert_en_uncased_L-2_H-128_A-2':\n",
        "#         'https://tfhub.dev/tensorflow/small_bert/bert_en_uncased_L-2_H-128_A-2/1',\n",
        "#     'small_bert/bert_en_uncased_L-2_H-256_A-4':\n",
        "#         'https://tfhub.dev/tensorflow/small_bert/bert_en_uncased_L-2_H-256_A-4/1',\n",
        "#     'small_bert/bert_en_uncased_L-2_H-512_A-8':\n",
        "#         'https://tfhub.dev/tensorflow/small_bert/bert_en_uncased_L-2_H-512_A-8/1',\n",
        "#     'small_bert/bert_en_uncased_L-2_H-768_A-12':\n",
        "#         'https://tfhub.dev/tensorflow/small_bert/bert_en_uncased_L-2_H-768_A-12/1',\n",
        "#     'small_bert/bert_en_uncased_L-4_H-128_A-2':\n",
        "#         'https://tfhub.dev/tensorflow/small_bert/bert_en_uncased_L-4_H-128_A-2/1',\n",
        "#     'small_bert/bert_en_uncased_L-4_H-256_A-4':\n",
        "#         'https://tfhub.dev/tensorflow/small_bert/bert_en_uncased_L-4_H-256_A-4/1',\n",
        "#     'small_bert/bert_en_uncased_L-4_H-512_A-8':\n",
        "#         'https://tfhub.dev/tensorflow/small_bert/bert_en_uncased_L-4_H-512_A-8/1',\n",
        "#     'small_bert/bert_en_uncased_L-4_H-768_A-12':\n",
        "#         'https://tfhub.dev/tensorflow/small_bert/bert_en_uncased_L-4_H-768_A-12/1',\n",
        "#     'small_bert/bert_en_uncased_L-6_H-128_A-2':\n",
        "#         'https://tfhub.dev/tensorflow/small_bert/bert_en_uncased_L-6_H-128_A-2/1',\n",
        "#     'small_bert/bert_en_uncased_L-6_H-256_A-4':\n",
        "#         'https://tfhub.dev/tensorflow/small_bert/bert_en_uncased_L-6_H-256_A-4/1',\n",
        "#     'small_bert/bert_en_uncased_L-6_H-512_A-8':\n",
        "#         'https://tfhub.dev/tensorflow/small_bert/bert_en_uncased_L-6_H-512_A-8/1',\n",
        "#     'small_bert/bert_en_uncased_L-6_H-768_A-12':\n",
        "#         'https://tfhub.dev/tensorflow/small_bert/bert_en_uncased_L-6_H-768_A-12/1',\n",
        "#     'small_bert/bert_en_uncased_L-8_H-128_A-2':\n",
        "#         'https://tfhub.dev/tensorflow/small_bert/bert_en_uncased_L-8_H-128_A-2/1',\n",
        "#     'small_bert/bert_en_uncased_L-8_H-256_A-4':\n",
        "#         'https://tfhub.dev/tensorflow/small_bert/bert_en_uncased_L-8_H-256_A-4/1',\n",
        "#     'small_bert/bert_en_uncased_L-8_H-512_A-8':\n",
        "#         'https://tfhub.dev/tensorflow/small_bert/bert_en_uncased_L-8_H-512_A-8/1',\n",
        "#     'small_bert/bert_en_uncased_L-8_H-768_A-12':\n",
        "#         'https://tfhub.dev/tensorflow/small_bert/bert_en_uncased_L-8_H-768_A-12/1',\n",
        "#     'small_bert/bert_en_uncased_L-10_H-128_A-2':\n",
        "#         'https://tfhub.dev/tensorflow/small_bert/bert_en_uncased_L-10_H-128_A-2/1',\n",
        "#     'small_bert/bert_en_uncased_L-10_H-256_A-4':\n",
        "#         'https://tfhub.dev/tensorflow/small_bert/bert_en_uncased_L-10_H-256_A-4/1',\n",
        "#     'small_bert/bert_en_uncased_L-10_H-512_A-8':\n",
        "#         'https://tfhub.dev/tensorflow/small_bert/bert_en_uncased_L-10_H-512_A-8/1',\n",
        "#     'small_bert/bert_en_uncased_L-10_H-768_A-12':\n",
        "#         'https://tfhub.dev/tensorflow/small_bert/bert_en_uncased_L-10_H-768_A-12/1',\n",
        "#     'small_bert/bert_en_uncased_L-12_H-128_A-2':\n",
        "#         'https://tfhub.dev/tensorflow/small_bert/bert_en_uncased_L-12_H-128_A-2/1',\n",
        "#     'small_bert/bert_en_uncased_L-12_H-256_A-4':\n",
        "#         'https://tfhub.dev/tensorflow/small_bert/bert_en_uncased_L-12_H-256_A-4/1',\n",
        "#     'small_bert/bert_en_uncased_L-12_H-512_A-8':\n",
        "#         'https://tfhub.dev/tensorflow/small_bert/bert_en_uncased_L-12_H-512_A-8/1',\n",
        "#     'small_bert/bert_en_uncased_L-12_H-768_A-12':\n",
        "#         'https://tfhub.dev/tensorflow/small_bert/bert_en_uncased_L-12_H-768_A-12/1',\n",
        "#     'albert_en_base':\n",
        "#         'https://tfhub.dev/tensorflow/albert_en_base/2',\n",
        "#     'electra_small':\n",
        "#         'https://tfhub.dev/google/electra_small/2',\n",
        "#     'electra_base':\n",
        "#         'https://tfhub.dev/google/electra_base/2',\n",
        "#     'experts_pubmed':\n",
        "#         'https://tfhub.dev/google/experts/bert/pubmed/2',\n",
        "#     'experts_wiki_books':\n",
        "#         'https://tfhub.dev/google/experts/bert/wiki_books/2',\n",
        "#     'talking-heads_base':\n",
        "#         'https://tfhub.dev/tensorflow/talkheads_ggelu_bert_en_base/1',\n",
        "# }\n",
        "\n",
        "# map_model_to_preprocess = {\n",
        "#     'bert_en_uncased_L-12_H-768_A-12':\n",
        "#         'https://tfhub.dev/tensorflow/bert_en_uncased_preprocess/3',\n",
        "#     'bert_en_cased_L-12_H-768_A-12':\n",
        "#         'https://tfhub.dev/tensorflow/bert_en_cased_preprocess/3',\n",
        "#     'small_bert/bert_en_uncased_L-2_H-128_A-2':\n",
        "#         'https://tfhub.dev/tensorflow/bert_en_uncased_preprocess/3',\n",
        "#     'small_bert/bert_en_uncased_L-2_H-256_A-4':\n",
        "#         'https://tfhub.dev/tensorflow/bert_en_uncased_preprocess/3',\n",
        "#     'small_bert/bert_en_uncased_L-2_H-512_A-8':\n",
        "#         'https://tfhub.dev/tensorflow/bert_en_uncased_preprocess/3',\n",
        "#     'small_bert/bert_en_uncased_L-2_H-768_A-12':\n",
        "#         'https://tfhub.dev/tensorflow/bert_en_uncased_preprocess/3',\n",
        "#     'small_bert/bert_en_uncased_L-4_H-128_A-2':\n",
        "#         'https://tfhub.dev/tensorflow/bert_en_uncased_preprocess/3',\n",
        "#     'small_bert/bert_en_uncased_L-4_H-256_A-4':\n",
        "#         'https://tfhub.dev/tensorflow/bert_en_uncased_preprocess/3',\n",
        "#     'small_bert/bert_en_uncased_L-4_H-512_A-8':\n",
        "#         'https://tfhub.dev/tensorflow/bert_en_uncased_preprocess/3',\n",
        "#     'small_bert/bert_en_uncased_L-4_H-768_A-12':\n",
        "#         'https://tfhub.dev/tensorflow/bert_en_uncased_preprocess/3',\n",
        "#     'small_bert/bert_en_uncased_L-6_H-128_A-2':\n",
        "#         'https://tfhub.dev/tensorflow/bert_en_uncased_preprocess/3',\n",
        "#     'small_bert/bert_en_uncased_L-6_H-256_A-4':\n",
        "#         'https://tfhub.dev/tensorflow/bert_en_uncased_preprocess/3',\n",
        "#     'small_bert/bert_en_uncased_L-6_H-512_A-8':\n",
        "#         'https://tfhub.dev/tensorflow/bert_en_uncased_preprocess/3',\n",
        "#     'small_bert/bert_en_uncased_L-6_H-768_A-12':\n",
        "#         'https://tfhub.dev/tensorflow/bert_en_uncased_preprocess/3',\n",
        "#     'small_bert/bert_en_uncased_L-8_H-128_A-2':\n",
        "#         'https://tfhub.dev/tensorflow/bert_en_uncased_preprocess/3',\n",
        "#     'small_bert/bert_en_uncased_L-8_H-256_A-4':\n",
        "#         'https://tfhub.dev/tensorflow/bert_en_uncased_preprocess/3',\n",
        "#     'small_bert/bert_en_uncased_L-8_H-512_A-8':\n",
        "#         'https://tfhub.dev/tensorflow/bert_en_uncased_preprocess/3',\n",
        "#     'small_bert/bert_en_uncased_L-8_H-768_A-12':\n",
        "#         'https://tfhub.dev/tensorflow/bert_en_uncased_preprocess/3',\n",
        "#     'small_bert/bert_en_uncased_L-10_H-128_A-2':\n",
        "#         'https://tfhub.dev/tensorflow/bert_en_uncased_preprocess/3',\n",
        "#     'small_bert/bert_en_uncased_L-10_H-256_A-4':\n",
        "#         'https://tfhub.dev/tensorflow/bert_en_uncased_preprocess/3',\n",
        "#     'small_bert/bert_en_uncased_L-10_H-512_A-8':\n",
        "#         'https://tfhub.dev/tensorflow/bert_en_uncased_preprocess/3',\n",
        "#     'small_bert/bert_en_uncased_L-10_H-768_A-12':\n",
        "#         'https://tfhub.dev/tensorflow/bert_en_uncased_preprocess/3',\n",
        "#     'small_bert/bert_en_uncased_L-12_H-128_A-2':\n",
        "#         'https://tfhub.dev/tensorflow/bert_en_uncased_preprocess/3',\n",
        "#     'small_bert/bert_en_uncased_L-12_H-256_A-4':\n",
        "#         'https://tfhub.dev/tensorflow/bert_en_uncased_preprocess/3',\n",
        "#     'small_bert/bert_en_uncased_L-12_H-512_A-8':\n",
        "#         'https://tfhub.dev/tensorflow/bert_en_uncased_preprocess/3',\n",
        "#     'small_bert/bert_en_uncased_L-12_H-768_A-12':\n",
        "#         'https://tfhub.dev/tensorflow/bert_en_uncased_preprocess/3',\n",
        "#     'bert_multi_cased_L-12_H-768_A-12':\n",
        "#         'https://tfhub.dev/tensorflow/bert_multi_cased_preprocess/3',\n",
        "#     'albert_en_base':\n",
        "#         'https://tfhub.dev/tensorflow/albert_en_preprocess/3',\n",
        "#     'electra_small':\n",
        "#         'https://tfhub.dev/tensorflow/bert_en_uncased_preprocess/3',\n",
        "#     'electra_base':\n",
        "#         'https://tfhub.dev/tensorflow/bert_en_uncased_preprocess/3',\n",
        "#     'experts_pubmed':\n",
        "#         'https://tfhub.dev/tensorflow/bert_en_uncased_preprocess/3',\n",
        "#     'experts_wiki_books':\n",
        "#         'https://tfhub.dev/tensorflow/bert_en_uncased_preprocess/3',\n",
        "#     'talking-heads_base':\n",
        "#         'https://tfhub.dev/tensorflow/bert_en_uncased_preprocess/3',\n",
        "# }\n",
        "\n",
        "# tfhub_handle_encoder = map_name_to_handle[bert_model_name]\n",
        "# tfhub_handle_preprocess = map_model_to_preprocess[bert_model_name]\n",
        "\n",
        "# print(f'BERT model selected           : {tfhub_handle_encoder}')\n",
        "# print(f'Preprocess model auto-selected: {tfhub_handle_preprocess}')"
      ],
      "metadata": {
        "cellView": "form",
        "id": "lUUCZ6tWxyZ6"
      },
      "execution_count": null,
      "outputs": []
    },
    {
      "cell_type": "code",
      "source": [
        "# bert_preprocess_model = hub.KerasLayer(tfhub_handle_preprocess)\n",
        "# text_test = [\"this is an amazing movie\"]\n",
        "# text_preprocessed = bert_preprocess_model(text_test)\n",
        "\n",
        "# print(f'Keys       : {list(text_preprocessed.keys())}')\n",
        "# print(f'Shape      : {text_preprocessed[\"input_word_ids\"].shape}')\n",
        "# print(f'Word Ids   : {text_preprocessed[\"input_word_ids\"][0, :12]}')\n",
        "# print(f'Input Mask : {text_preprocessed[\"input_mask\"][0, :12]}')\n",
        "# print(f'Type Ids   : {text_preprocessed[\"input_type_ids\"][0, :12]}')"
      ],
      "metadata": {
        "id": "OM-23rpTxKiF"
      },
      "execution_count": null,
      "outputs": []
    },
    {
      "cell_type": "markdown",
      "source": [
        "#### BERT Model (Using Google's Tensorflow Tutorial)\n",
        "\n",
        "[Link](https://colab.research.google.com/github/tensorflow/text/blob/master/docs/tutorials/classify_text_with_bert.ipynb#scrollTo=_OoF9mebuSZc)"
      ],
      "metadata": {
        "id": "gHqmgSCPXHv9"
      }
    },
    {
      "cell_type": "code",
      "source": [
        "# A dependency of the preprocessing for BERT inputs\n",
        "!pip install -q -U \"tensorflow-text==2.8.*\"\n",
        "!pip install -q tf-models-official==2.7.0\n",
        "\n",
        "import os\n",
        "import shutil?\n",
        "\n",
        "import tensorflow as tf\n",
        "import tensorflow_hub as hub\n",
        "import tensorflow_text as text\n",
        "from official.nlp import optimization  # to create AdamW optimizer\n",
        "\n",
        "import matplotlib.pyplot as plt\n",
        "\n",
        "tf.get_logger().setLevel('ERROR')"
      ],
      "metadata": {
        "colab": {
          "base_uri": "https://localhost:8080/"
        },
        "id": "XzC5ycXzXLzY",
        "outputId": "6841f280-3a1c-4cc3-eaff-bbe41cd89074"
      },
      "execution_count": null,
      "outputs": [
        {
          "output_type": "stream",
          "name": "stdout",
          "text": [
            "Object `shutil` not found.\n"
          ]
        }
      ]
    },
    {
      "cell_type": "code",
      "source": [
        "# Get BERT Model\n",
        "\n",
        "# bert_model_name = 'small_bert/bert_en_uncased_L-2_H-128_A-2'\n",
        "\n",
        "# \n",
        "tfhub_handle_encoder = 'https://tfhub.dev/tensorflow/small_bert/bert_en_uncased_L-2_H-128_A-2/1'\n",
        "tfhub_handle_preprocess = 'https://tfhub.dev/tensorflow/bert_en_uncased_preprocess/3'\n",
        "\n",
        "bert_preprocess_model = hub.KerasLayer(tfhub_handle_preprocess)\n",
        "bert_model = hub.KerasLayer(tfhub_handle_encoder)"
      ],
      "metadata": {
        "id": "pc9E55PfXo-7"
      },
      "execution_count": null,
      "outputs": []
    },
    {
      "cell_type": "code",
      "source": [
        "text_test = ['this is such an amazing movie!']\n",
        "text_preprocessed = bert_preprocess_model(text_test)\n",
        "# text_preprocessed = bert_preprocess_model(data_train[\"sentence_cleaned\"])\n",
        "\n",
        "bert_results = bert_model(text_preprocessed)\n",
        "\n",
        "print(f'Keys       : {list(text_preprocessed.keys())}')\n",
        "print(f'Shape      : {text_preprocessed[\"input_word_ids\"].shape}')\n",
        "print(f'Word Ids   : {text_preprocessed[\"input_word_ids\"][0, :12]}')\n",
        "print(f'Input Mask : {text_preprocessed[\"input_mask\"][0, :12]}')\n",
        "print(f'Type Ids   : {text_preprocessed[\"input_type_ids\"][0, :12]}')\n",
        "\n",
        "\n",
        "print(f'Loaded BERT: {tfhub_handle_encoder}')\n",
        "print(f'Pooled Outputs Shape:{bert_results[\"pooled_output\"].shape}')\n",
        "print(f'Pooled Outputs Values:{bert_results[\"pooled_output\"][0, :12]}')\n",
        "print(f'Sequence Outputs Shape:{bert_results[\"sequence_output\"].shape}')\n",
        "print(f'Sequence Outputs Values:{bert_results[\"sequence_output\"][0, :12]}')"
      ],
      "metadata": {
        "colab": {
          "base_uri": "https://localhost:8080/"
        },
        "id": "XA_zasFLYo3G",
        "outputId": "9049d73c-51bd-4321-9c47-1f409f062d1e"
      },
      "execution_count": null,
      "outputs": [
        {
          "output_type": "stream",
          "name": "stdout",
          "text": [
            "Keys       : ['input_word_ids', 'input_type_ids', 'input_mask']\n",
            "Shape      : (1, 128)\n",
            "Word Ids   : [ 101 2023 2003 2107 2019 6429 3185  999  102    0    0    0]\n",
            "Input Mask : [1 1 1 1 1 1 1 1 1 0 0 0]\n",
            "Type Ids   : [0 0 0 0 0 0 0 0 0 0 0 0]\n",
            "Loaded BERT: https://tfhub.dev/tensorflow/small_bert/bert_en_uncased_L-2_H-128_A-2/1\n",
            "Pooled Outputs Shape:(1, 128)\n",
            "Pooled Outputs Values:[-0.9999944   0.14341964 -0.9989779   0.9951448  -0.9997457   0.9131292\n",
            " -0.9961582  -0.9709751   0.09740015  0.0190705  -0.8488176  -0.09385537]\n",
            "Sequence Outputs Shape:(1, 128, 128)\n",
            "Sequence Outputs Values:[[-0.4372372  -1.0138292  -2.3744745  ... -0.7589708  -2.0910308\n",
            "  -0.25810054]\n",
            " [-1.3369715  -0.3688024   0.578688   ... -2.1810167  -1.7530919\n",
            "  -0.09555068]\n",
            " [-1.0607054  -0.30371025  0.34461316 ... -1.2898598  -1.9519895\n",
            "  -0.12230304]\n",
            " ...\n",
            " [-0.8602272  -0.5440616   0.6583734  ... -1.4765679  -1.7518611\n",
            "   1.1197371 ]\n",
            " [-0.46869004 -0.57152414  0.6725662  ... -1.7302345  -1.9740779\n",
            "   0.9747932 ]\n",
            " [ 0.0203665  -0.7551184   0.59482396 ... -1.9656779  -1.9051421\n",
            "   0.48970217]]\n"
          ]
        }
      ]
    },
    {
      "cell_type": "markdown",
      "metadata": {
        "id": "WDtYhj0SaH7y",
        "tags": []
      },
      "source": [
        "### METHOD 1: Word Embedding\n",
        "\n",
        "I did pre-processing, word stemming, and stuff like that in Data Cleaning. The simplest way avoid words not being found in a database is if word stemming is not performed on the dataset (or as I just found out, use lemmization instead. More computationally complex but better for actually working with word embedding techniques (I think))."
      ]
    },
    {
      "cell_type": "markdown",
      "metadata": {
        "id": "IyQ0gXpbrWuW"
      },
      "source": [
        "Partial reference: Find words in the Word2VecKeyedVector (using 2.3 in source https://github.com/adsieg/Multi_Text_Classification/blob/master/%5BIntroduction%5D%20-%20Big%20tutorial%20-%20Text%20Classification.ipynb) by using `Word2VecKeyedVector.index2word`. This returns a list of the word2vec array."
      ]
    },
    {
      "cell_type": "markdown",
      "source": [
        "Instructions used for pre-processing (this part): https://towardsdatascience.com/text-classification-with-nlp-tf-idf-vs-word2vec-vs-bert-41ff868d1794 (as posted on Feb.17)"
      ],
      "metadata": {
        "id": "7otfrHqvs_4S"
      }
    },
    {
      "cell_type": "markdown",
      "metadata": {
        "id": "8rrmiLXAPbty"
      },
      "source": [
        "For CNN (not attempted): https://medium.com/saarthi-ai/sentence-classification-using-convolutional-neural-networks-ddad72c7048c"
      ]
    },
    {
      "cell_type": "code",
      "execution_count": null,
      "metadata": {
        "colab": {
          "base_uri": "https://localhost:8080/"
        },
        "id": "I4X05qMsQmcl",
        "outputId": "6fba3100-a00f-4acb-ebe9-8ce4d377524b",
        "tags": []
      },
      "outputs": [
        {
          "output_type": "stream",
          "name": "stdout",
          "text": [
            "[==================================================] 100.0% 104.8/104.8MB downloaded\n",
            "/root/gensim-data/glove-twitter-25/glove-twitter-25.gz\n"
          ]
        }
      ],
      "source": [
        "# DO NOT RUN THIS BLOCK MORE THAN ONCE IN ONE SESSION\n",
        "# Import gensim data\n",
        "import gensim.downloader as api\n",
        "import gensim\n",
        "# Load a pre-trained word embedding model\n",
        "# Gensim data obtained from https://github.com/RaRe-Technologies/gensim-data (official source)\n",
        "word_embed = api.load('glove-twitter-25')\n",
        "# word_embed = api.load('word2vec-google-news-300') # This is 1.6GB... good luck doing this on Google Colab...\n",
        "# model = gensim.models.KeyedVectors.load_word2vec_format('GoogleNews-vectors-negative300.bin', binary=True)\n",
        "\n",
        "print(api.load(\"glove-twitter-25\", return_path=True))\n",
        "# print(api.load('word2vec-google-news-300', return_path=True))\n",
        "\n",
        "# Check dimension of word vectors\n",
        "# model.vector_size"
      ]
    },
    {
      "cell_type": "markdown",
      "metadata": {
        "id": "zkZ0LrphPbtz"
      },
      "source": [
        "#### Pre-Processing\n",
        "Using Keras for Preprocessing. Steps taken:\n",
        "1. Called the Tokenizer object\n",
        "2. Added Training Set Vocabulary to the Tokenizer object (`fit_on_texts`)\n",
        "    * Viewed the added vocabulary using `tokenizer.word_index` command.\n",
        "3. Convert all text to numeric values using `text_to_sequences` method function\n",
        "4. Padded the length of every sample so that the input matrix would be equal in size"
      ]
    },
    {
      "cell_type": "code",
      "source": [
        "data_train.head()"
      ],
      "metadata": {
        "colab": {
          "base_uri": "https://localhost:8080/",
          "height": 204
        },
        "id": "GZJVqjx0gILU",
        "outputId": "2b5e3197-d430-483f-b937-7ef5e95c457d"
      },
      "execution_count": null,
      "outputs": [
        {
          "output_type": "execute_result",
          "data": {
            "text/html": [
              "\n",
              "  <div id=\"df-1e3475c6-1624-4ecd-84e0-3786bbfc8b31\">\n",
              "    <div class=\"colab-df-container\">\n",
              "      <div>\n",
              "<style scoped>\n",
              "    .dataframe tbody tr th:only-of-type {\n",
              "        vertical-align: middle;\n",
              "    }\n",
              "\n",
              "    .dataframe tbody tr th {\n",
              "        vertical-align: top;\n",
              "    }\n",
              "\n",
              "    .dataframe thead th {\n",
              "        text-align: right;\n",
              "    }\n",
              "</style>\n",
              "<table border=\"1\" class=\"dataframe\">\n",
              "  <thead>\n",
              "    <tr style=\"text-align: right;\">\n",
              "      <th></th>\n",
              "      <th>sentence</th>\n",
              "      <th>emotion</th>\n",
              "      <th>emotion_enc</th>\n",
              "      <th>sentence_cleaned</th>\n",
              "    </tr>\n",
              "  </thead>\n",
              "  <tbody>\n",
              "    <tr>\n",
              "      <th>0</th>\n",
              "      <td>i didnt feel humiliated</td>\n",
              "      <td>sadness</td>\n",
              "      <td>4</td>\n",
              "      <td>didnt feel humiliated</td>\n",
              "    </tr>\n",
              "    <tr>\n",
              "      <th>1</th>\n",
              "      <td>i can go from feeling so hopeless to so damned...</td>\n",
              "      <td>sadness</td>\n",
              "      <td>4</td>\n",
              "      <td>go feeling hopeless damned hopeful around some...</td>\n",
              "    </tr>\n",
              "    <tr>\n",
              "      <th>2</th>\n",
              "      <td>im grabbing a minute to post i feel greedy wrong</td>\n",
              "      <td>anger</td>\n",
              "      <td>0</td>\n",
              "      <td>im grabbing minute post feel greedy wrong</td>\n",
              "    </tr>\n",
              "    <tr>\n",
              "      <th>3</th>\n",
              "      <td>i am ever feeling nostalgic about the fireplac...</td>\n",
              "      <td>love</td>\n",
              "      <td>3</td>\n",
              "      <td>ever feeling nostalgic fireplace know still pr...</td>\n",
              "    </tr>\n",
              "    <tr>\n",
              "      <th>4</th>\n",
              "      <td>i am feeling grouchy</td>\n",
              "      <td>anger</td>\n",
              "      <td>0</td>\n",
              "      <td>feeling grouchy</td>\n",
              "    </tr>\n",
              "  </tbody>\n",
              "</table>\n",
              "</div>\n",
              "      <button class=\"colab-df-convert\" onclick=\"convertToInteractive('df-1e3475c6-1624-4ecd-84e0-3786bbfc8b31')\"\n",
              "              title=\"Convert this dataframe to an interactive table.\"\n",
              "              style=\"display:none;\">\n",
              "        \n",
              "  <svg xmlns=\"http://www.w3.org/2000/svg\" height=\"24px\"viewBox=\"0 0 24 24\"\n",
              "       width=\"24px\">\n",
              "    <path d=\"M0 0h24v24H0V0z\" fill=\"none\"/>\n",
              "    <path d=\"M18.56 5.44l.94 2.06.94-2.06 2.06-.94-2.06-.94-.94-2.06-.94 2.06-2.06.94zm-11 1L8.5 8.5l.94-2.06 2.06-.94-2.06-.94L8.5 2.5l-.94 2.06-2.06.94zm10 10l.94 2.06.94-2.06 2.06-.94-2.06-.94-.94-2.06-.94 2.06-2.06.94z\"/><path d=\"M17.41 7.96l-1.37-1.37c-.4-.4-.92-.59-1.43-.59-.52 0-1.04.2-1.43.59L10.3 9.45l-7.72 7.72c-.78.78-.78 2.05 0 2.83L4 21.41c.39.39.9.59 1.41.59.51 0 1.02-.2 1.41-.59l7.78-7.78 2.81-2.81c.8-.78.8-2.07 0-2.86zM5.41 20L4 18.59l7.72-7.72 1.47 1.35L5.41 20z\"/>\n",
              "  </svg>\n",
              "      </button>\n",
              "      \n",
              "  <style>\n",
              "    .colab-df-container {\n",
              "      display:flex;\n",
              "      flex-wrap:wrap;\n",
              "      gap: 12px;\n",
              "    }\n",
              "\n",
              "    .colab-df-convert {\n",
              "      background-color: #E8F0FE;\n",
              "      border: none;\n",
              "      border-radius: 50%;\n",
              "      cursor: pointer;\n",
              "      display: none;\n",
              "      fill: #1967D2;\n",
              "      height: 32px;\n",
              "      padding: 0 0 0 0;\n",
              "      width: 32px;\n",
              "    }\n",
              "\n",
              "    .colab-df-convert:hover {\n",
              "      background-color: #E2EBFA;\n",
              "      box-shadow: 0px 1px 2px rgba(60, 64, 67, 0.3), 0px 1px 3px 1px rgba(60, 64, 67, 0.15);\n",
              "      fill: #174EA6;\n",
              "    }\n",
              "\n",
              "    [theme=dark] .colab-df-convert {\n",
              "      background-color: #3B4455;\n",
              "      fill: #D2E3FC;\n",
              "    }\n",
              "\n",
              "    [theme=dark] .colab-df-convert:hover {\n",
              "      background-color: #434B5C;\n",
              "      box-shadow: 0px 1px 3px 1px rgba(0, 0, 0, 0.15);\n",
              "      filter: drop-shadow(0px 1px 2px rgba(0, 0, 0, 0.3));\n",
              "      fill: #FFFFFF;\n",
              "    }\n",
              "  </style>\n",
              "\n",
              "      <script>\n",
              "        const buttonEl =\n",
              "          document.querySelector('#df-1e3475c6-1624-4ecd-84e0-3786bbfc8b31 button.colab-df-convert');\n",
              "        buttonEl.style.display =\n",
              "          google.colab.kernel.accessAllowed ? 'block' : 'none';\n",
              "\n",
              "        async function convertToInteractive(key) {\n",
              "          const element = document.querySelector('#df-1e3475c6-1624-4ecd-84e0-3786bbfc8b31');\n",
              "          const dataTable =\n",
              "            await google.colab.kernel.invokeFunction('convertToInteractive',\n",
              "                                                     [key], {});\n",
              "          if (!dataTable) return;\n",
              "\n",
              "          const docLinkHtml = 'Like what you see? Visit the ' +\n",
              "            '<a target=\"_blank\" href=https://colab.research.google.com/notebooks/data_table.ipynb>data table notebook</a>'\n",
              "            + ' to learn more about interactive tables.';\n",
              "          element.innerHTML = '';\n",
              "          dataTable['output_type'] = 'display_data';\n",
              "          await google.colab.output.renderOutput(dataTable, element);\n",
              "          const docLink = document.createElement('div');\n",
              "          docLink.innerHTML = docLinkHtml;\n",
              "          element.appendChild(docLink);\n",
              "        }\n",
              "      </script>\n",
              "    </div>\n",
              "  </div>\n",
              "  "
            ],
            "text/plain": [
              "                                            sentence  emotion  emotion_enc  \\\n",
              "0                            i didnt feel humiliated  sadness            4   \n",
              "1  i can go from feeling so hopeless to so damned...  sadness            4   \n",
              "2   im grabbing a minute to post i feel greedy wrong    anger            0   \n",
              "3  i am ever feeling nostalgic about the fireplac...     love            3   \n",
              "4                               i am feeling grouchy    anger            0   \n",
              "\n",
              "                                    sentence_cleaned  \n",
              "0                              didnt feel humiliated  \n",
              "1  go feeling hopeless damned hopeful around some...  \n",
              "2          im grabbing minute post feel greedy wrong  \n",
              "3  ever feeling nostalgic fireplace know still pr...  \n",
              "4                                    feeling grouchy  "
            ]
          },
          "metadata": {},
          "execution_count": 67
        }
      ]
    },
    {
      "cell_type": "code",
      "execution_count": null,
      "metadata": {
        "id": "EUzjRawYPbtz"
      },
      "outputs": [],
      "source": [
        "from keras.preprocessing.text import Tokenizer\n",
        "from keras.preprocessing.sequence import pad_sequences\n",
        "import seaborn as sns\n",
        "\n",
        "tokenizer = Tokenizer()\n",
        "tokenizer.fit_on_texts(data_train[\"sentence_cleaned\"])\n",
        "dic_vocabulary = tokenizer.word_index\n",
        "\n",
        "X_train = tokenizer.texts_to_sequences(data_train[\"sentence_cleaned\"])\n",
        "X_test = tokenizer.texts_to_sequences(data_test[\"sentence_cleaned\"])\n",
        "X_val = tokenizer.texts_to_sequences(data_val[\"sentence_cleaned\"])\n",
        "\n",
        "vocab_size = len(tokenizer.word_index) + 1"
      ]
    },
    {
      "cell_type": "markdown",
      "source": [
        "Finding out which data set has the longest \"sentence\" a.k.a. useful words that we did not eliminate via lemmization."
      ],
      "metadata": {
        "id": "ffDRXRISyhsg"
      }
    },
    {
      "cell_type": "code",
      "source": [
        "# string_name = ['X_train', 'X_test', 'X_val']\n",
        "dict_data = {'X_train': X_train,\n",
        "             'X_test': X_test,\n",
        "             'X_val': X_val}\n",
        "histo_plot_data = np.zeros((3,35))\n",
        "\n",
        "tmp_counter = 0;\n",
        "for key, value in dict_data.items():\n",
        "    feedback = 0;\n",
        "    feedback_sum = 0;\n",
        "    for i in value:\n",
        "        histo_plot_data[tmp_counter, len(i)-1] += 1\n",
        "        feedback_sum += len(i)\n",
        "        if len(i) > feedback:\n",
        "            feedback = len(i)\n",
        "    print(f\"{key}, Longest ID: {feedback}, Average ID length: {feedback_sum/len(value)}\")\n",
        "    tmp_counter += 1\n",
        "del tmp_counter\n",
        "\n",
        "# Longest sentence has 35 elements. Average is around 10.\n",
        "# TODO: This value, which influences padding, should be adjusted I think...\n",
        "maxlen = 20"
      ],
      "metadata": {
        "colab": {
          "base_uri": "https://localhost:8080/"
        },
        "id": "TfsSVjnqwRRM",
        "outputId": "1ff3a568-c798-412d-c6b2-4625b079f76b"
      },
      "execution_count": null,
      "outputs": [
        {
          "output_type": "stream",
          "name": "stdout",
          "text": [
            "X_train, Longest ID: 35, Average ID length: 9.3530625\n",
            "X_test, Longest ID: 30, Average ID length: 8.85\n",
            "X_val, Longest ID: 28, Average ID length: 8.764\n"
          ]
        }
      ]
    },
    {
      "cell_type": "code",
      "source": [
        "# Plotting the ID histogram to see the distribution\n",
        "import matplotlib.pyplot as plt\n",
        "\n",
        "plt.barh(range(1,35+1), histo_plot_data[0,:])\n",
        "plt.barh(range(1,35+1), histo_plot_data[1,:])\n",
        "plt.barh(range(1,35+1), histo_plot_data[2,:])"
      ],
      "metadata": {
        "colab": {
          "base_uri": "https://localhost:8080/",
          "height": 282
        },
        "id": "uJKPzj9zObv0",
        "outputId": "2d9a792a-6304-44dc-8cec-fdaf373b998c"
      },
      "execution_count": null,
      "outputs": [
        {
          "output_type": "execute_result",
          "data": {
            "text/plain": [
              "<BarContainer object of 35 artists>"
            ]
          },
          "metadata": {},
          "execution_count": 71
        },
        {
          "output_type": "display_data",
          "data": {
            "image/png": "[encoded data removed]",
            "text/plain": [
              "<Figure size 432x288 with 1 Axes>"
            ]
          },
          "metadata": {
            "needs_background": "light"
          }
        }
      ]
    },
    {
      "cell_type": "markdown",
      "source": [
        "Pad each sample to the same length."
      ],
      "metadata": {
        "id": "Y3pBemRHwEN9"
      }
    },
    {
      "cell_type": "code",
      "source": [
        "X_train = pad_sequences(X_train, padding='post', maxlen=maxlen)\n",
        "X_test = pad_sequences(X_test, padding='post', maxlen=maxlen)\n",
        "X_val = pad_sequences(X_val, padding='post', maxlen=maxlen)\n",
        "\n",
        "# Honestly don't know what this is doing, I just followed the website's instructions\n",
        "# Looks like this shows the padding heat map or something similar to that\n",
        "sns.heatmap(X_train==0, vmin=0, vmax=1, cbar=False)\n",
        "plt.show()"
      ],
      "metadata": {
        "colab": {
          "base_uri": "https://localhost:8080/",
          "height": 270
        },
        "id": "WhQBTFT6v54X",
        "outputId": "befd3a4e-dd54-454d-c462-f728890b1890"
      },
      "execution_count": null,
      "outputs": [
        {
          "output_type": "display_data",
          "data": {
            "image/png": "[encoded data removed]",
            "text/plain": [
              "<Figure size 432x288 with 1 Axes>"
            ]
          },
          "metadata": {
            "needs_background": "light"
          }
        }
      ]
    },
    {
      "cell_type": "markdown",
      "source": [
        "Obtain the Embedding Matrix, which is necessary for the machine learning algorithm."
      ],
      "metadata": {
        "id": "sh1SpY8hvmmN"
      }
    },
    {
      "cell_type": "code",
      "source": [
        "embeddings = np.zeros((len(dic_vocabulary)+1, 25))\n",
        "counter=0\n",
        "for word, idx in dic_vocabulary.items():\n",
        "    # embeddings[idx] = word_embed[word]\n",
        "    try:\n",
        "        # Reminder: word_embed is the pre-trained word embedding model...\n",
        "        embeddings[idx] = word_embed[word]\n",
        "    except:\n",
        "        counter += 1\n",
        "        pass\n",
        "\n",
        "print(f\"Number of words in dictionary that have been assigned a matrix of 0's: {counter}\")\n",
        "\n",
        "# word = \"data\"\n",
        "# print(\"dic[word]:\", dic_vocabulary[word], \"|idx\")\n",
        "# print(\"embeddings[idx]:\", embeddings[dic_vocabulary[word]].shape, \n",
        "#       \"|vector\")"
      ],
      "metadata": {
        "id": "SjN7DmxxUp3b",
        "colab": {
          "base_uri": "https://localhost:8080/"
        },
        "outputId": "6af947d2-48e9-415d-e3e9-ebe5f31ced57"
      },
      "execution_count": null,
      "outputs": [
        {
          "output_type": "stream",
          "name": "stdout",
          "text": [
            "Number of words in dictionary that have been assigned a matrix of 0's: 872\n"
          ]
        }
      ]
    },
    {
      "cell_type": "markdown",
      "source": [
        "#### Neural Network\n",
        "\n",
        "Referencing source: https://towardsdatascience.com/text-classification-with-nlp-tf-idf-vs-word2vec-vs-bert-41ff868d1794"
      ],
      "metadata": {
        "id": "m_0cPtAOdcek"
      }
    },
    {
      "cell_type": "code",
      "source": [
        "from keras.models import Sequential\n",
        "from keras import layers, models, optimizers\n",
        "import keras\n",
        "\n",
        "def attention_layer(inputs, neurons):\n",
        "    x = layers.Permute((2,1))(inputs)\n",
        "    x = layers.Dense(neurons, activation=\"softmax\")(x)\n",
        "    x = layers.Permute((2,1), name='attention')(x)\n",
        "    x = layers.multiply([inputs, x])\n",
        "    return x\n",
        "\n",
        "# input\n",
        "x_in = layers.Input(shape=(maxlen,))\n",
        "\n",
        "# embedding\n",
        "# trainable=False means that these embedding weights will not change. What if they did though?\n",
        "x = layers.Embedding(input_dim=embeddings.shape[0],\n",
        "                     output_dim=embeddings.shape[1],\n",
        "                     weights=[embeddings],\n",
        "                     input_length=maxlen, trainable=True)(x_in)\n",
        "\n",
        "# apply attention\n",
        "x = attention_layer(x, neurons=maxlen)\n",
        "\n",
        "# 2 layers of bidirectional lstm\n",
        "x = layers.Bidirectional(layers.LSTM(units=maxlen, dropout=0.2, return_sequences=True))(x)\n",
        "x = layers.Bidirectional(layers.LSTM(units=maxlen, dropout=0.2))(x)\n",
        "\n",
        "# final dense layers\n",
        "x = layers.Dense(64, activation='relu')(x)\n",
        "y_out = layers.Dense(6, activation='softmax')(x)\n",
        "\n",
        "model = models.Model(x_in, y_out)\n",
        "model.compile(loss='sparse_categorical_crossentropy', optimizer='adam', metrics=['accuracy'])\n",
        "model.summary()"
      ],
      "metadata": {
        "colab": {
          "base_uri": "https://localhost:8080/"
        },
        "id": "Be-tKnSqdjLK",
        "outputId": "1f4e33f4-d45a-41a0-ee0d-c77a1b8f4dfe"
      },
      "execution_count": null,
      "outputs": [
        {
          "output_type": "stream",
          "name": "stdout",
          "text": [
            "Model: \"model_4\"\n",
            "__________________________________________________________________________________________________\n",
            " Layer (type)                   Output Shape         Param #     Connected to                     \n",
            "==================================================================================================\n",
            " input_5 (InputLayer)           [(None, 20)]         0           []                               \n",
            "                                                                                                  \n",
            " embedding_4 (Embedding)        (None, 20, 25)       336975      ['input_5[0][0]']                \n",
            "                                                                                                  \n",
            " permute_4 (Permute)            (None, 25, 20)       0           ['embedding_4[0][0]']            \n",
            "                                                                                                  \n",
            " dense_9 (Dense)                (None, 25, 20)       420         ['permute_4[0][0]']              \n",
            "                                                                                                  \n",
            " attention (Permute)            (None, 20, 25)       0           ['dense_9[0][0]']                \n",
            "                                                                                                  \n",
            " multiply_4 (Multiply)          (None, 20, 25)       0           ['embedding_4[0][0]',            \n",
            "                                                                  'attention[0][0]']              \n",
            "                                                                                                  \n",
            " bidirectional_8 (Bidirectional  (None, 20, 40)      7360        ['multiply_4[0][0]']             \n",
            " )                                                                                                \n",
            "                                                                                                  \n",
            " bidirectional_9 (Bidirectional  (None, 40)          9760        ['bidirectional_8[0][0]']        \n",
            " )                                                                                                \n",
            "                                                                                                  \n",
            " dense_10 (Dense)               (None, 64)           2624        ['bidirectional_9[0][0]']        \n",
            "                                                                                                  \n",
            " dense_11 (Dense)               (None, 6)            390         ['dense_10[0][0]']               \n",
            "                                                                                                  \n",
            "==================================================================================================\n",
            "Total params: 357,529\n",
            "Trainable params: 357,529\n",
            "Non-trainable params: 0\n",
            "__________________________________________________________________________________________________\n"
          ]
        }
      ]
    },
    {
      "cell_type": "code",
      "source": [
        "# The fitting method should be placed in a variable so that results can be easily extracted later...\n",
        "# For now, I would like to see training happening in real time, so making it verbose I guess.\n",
        "# Still need to adjust hyper-parameters for better results... if I can get better results.\n",
        "# batch_size=256 (default given on the website)\n",
        "model.fit(x=X_train, y=data_train['emotion_enc'], batch_size=32, epochs=20,\n",
        "                     shuffle=True, verbose=1, validation_data=[X_val, data_val['emotion_enc']])"
      ],
      "metadata": {
        "colab": {
          "base_uri": "https://localhost:8080/"
        },
        "id": "SGE2_s1_gB7B",
        "outputId": "46976649-cccd-4d09-c6f7-d1df10388115"
      },
      "execution_count": null,
      "outputs": [
        {
          "output_type": "stream",
          "name": "stdout",
          "text": [
            "Epoch 1/20\n",
            "500/500 [==============================] - 21s 29ms/step - loss: 1.4924 - accuracy: 0.4114 - val_loss: 1.3052 - val_accuracy: 0.5155\n",
            "Epoch 2/20\n",
            "500/500 [==============================] - 13s 25ms/step - loss: 1.2320 - accuracy: 0.5321 - val_loss: 1.1119 - val_accuracy: 0.5715\n",
            "Epoch 3/20\n",
            "500/500 [==============================] - 13s 25ms/step - loss: 1.0116 - accuracy: 0.6001 - val_loss: 0.8995 - val_accuracy: 0.6400\n",
            "Epoch 4/20\n",
            "500/500 [==============================] - 13s 25ms/step - loss: 0.7826 - accuracy: 0.6952 - val_loss: 0.7254 - val_accuracy: 0.7350\n",
            "Epoch 5/20\n",
            "500/500 [==============================] - 13s 25ms/step - loss: 0.6021 - accuracy: 0.7732 - val_loss: 0.5989 - val_accuracy: 0.7830\n",
            "Epoch 6/20\n",
            "500/500 [==============================] - 14s 29ms/step - loss: 0.4814 - accuracy: 0.8194 - val_loss: 0.4981 - val_accuracy: 0.8325\n",
            "Epoch 7/20\n",
            "500/500 [==============================] - 13s 26ms/step - loss: 0.3927 - accuracy: 0.8574 - val_loss: 0.4569 - val_accuracy: 0.8455\n",
            "Epoch 8/20\n",
            "500/500 [==============================] - 13s 26ms/step - loss: 0.3319 - accuracy: 0.8813 - val_loss: 0.4304 - val_accuracy: 0.8555\n",
            "Epoch 9/20\n",
            "500/500 [==============================] - 13s 25ms/step - loss: 0.2837 - accuracy: 0.8967 - val_loss: 0.4373 - val_accuracy: 0.8585\n",
            "Epoch 10/20\n",
            "500/500 [==============================] - 13s 26ms/step - loss: 0.2493 - accuracy: 0.9097 - val_loss: 0.4196 - val_accuracy: 0.8560\n",
            "Epoch 11/20\n",
            "500/500 [==============================] - 13s 26ms/step - loss: 0.2239 - accuracy: 0.9184 - val_loss: 0.4091 - val_accuracy: 0.8650\n",
            "Epoch 12/20\n",
            "500/500 [==============================] - 13s 26ms/step - loss: 0.1875 - accuracy: 0.9306 - val_loss: 0.4483 - val_accuracy: 0.8685\n",
            "Epoch 13/20\n",
            "500/500 [==============================] - 13s 26ms/step - loss: 0.1829 - accuracy: 0.9332 - val_loss: 0.3957 - val_accuracy: 0.8755\n",
            "Epoch 14/20\n",
            "500/500 [==============================] - 13s 26ms/step - loss: 0.1668 - accuracy: 0.9396 - val_loss: 0.3557 - val_accuracy: 0.8825\n",
            "Epoch 15/20\n",
            "500/500 [==============================] - 13s 26ms/step - loss: 0.1514 - accuracy: 0.9438 - val_loss: 0.3677 - val_accuracy: 0.8805\n",
            "Epoch 16/20\n",
            "500/500 [==============================] - 13s 26ms/step - loss: 0.1351 - accuracy: 0.9503 - val_loss: 0.3921 - val_accuracy: 0.8805\n",
            "Epoch 17/20\n",
            "500/500 [==============================] - 13s 25ms/step - loss: 0.1250 - accuracy: 0.9538 - val_loss: 0.3749 - val_accuracy: 0.8830\n",
            "Epoch 18/20\n",
            "500/500 [==============================] - 14s 28ms/step - loss: 0.1150 - accuracy: 0.9576 - val_loss: 0.3877 - val_accuracy: 0.8875\n",
            "Epoch 19/20\n",
            "500/500 [==============================] - 21s 41ms/step - loss: 0.1091 - accuracy: 0.9592 - val_loss: 0.4092 - val_accuracy: 0.8825\n",
            "Epoch 20/20\n",
            "500/500 [==============================] - 14s 29ms/step - loss: 0.1024 - accuracy: 0.9624 - val_loss: 0.4094 - val_accuracy: 0.8835\n"
          ]
        },
        {
          "output_type": "execute_result",
          "data": {
            "text/plain": [
              "<keras.callbacks.History at 0x7ff5cdce0dd0>"
            ]
          },
          "metadata": {},
          "execution_count": 77
        }
      ]
    },
    {
      "cell_type": "markdown",
      "source": [
        "Test data on the fitted model using `model.evaluate()`. Also get the probabilities of each sentence via `model.predict()`"
      ],
      "metadata": {
        "id": "vhTx_KSoc9Yn"
      }
    },
    {
      "cell_type": "code",
      "source": [
        "model.evaluate(X_test, data_test[\"emotion_enc\"], batch_size=1)\n",
        "model.predict(X_test)"
      ],
      "metadata": {
        "colab": {
          "base_uri": "https://localhost:8080/"
        },
        "id": "DsF5kG-Tc6Mc",
        "outputId": "a7e7c135-9db5-4fd4-decc-cfb64ce83f2a"
      },
      "execution_count": null,
      "outputs": [
        {
          "output_type": "stream",
          "name": "stdout",
          "text": [
            "2000/2000 [==============================] - 13s 5ms/step - loss: 0.4022 - accuracy: 0.8830\n"
          ]
        },
        {
          "output_type": "execute_result",
          "data": {
            "text/plain": [
              "array([[5.2568888e-05, 2.1097869e-05, 4.4417099e-04, 5.7640176e-07,\n",
              "        9.9948114e-01, 4.1913924e-07],\n",
              "       [8.9937239e-05, 5.2907642e-05, 2.0784813e-05, 1.3567708e-07,\n",
              "        9.9983609e-01, 1.5043787e-07],\n",
              "       [1.1101728e-05, 9.8037917e-06, 2.3443909e-05, 6.2540195e-08,\n",
              "        9.9995542e-01, 6.2094820e-08],\n",
              "       ...,\n",
              "       [4.5340485e-08, 1.3153849e-08, 9.9998450e-01, 1.3308581e-05,\n",
              "        2.1206949e-06, 1.0057495e-08],\n",
              "       [7.6205065e-06, 4.2420129e-06, 9.9926525e-01, 6.4096239e-04,\n",
              "        7.4186173e-05, 7.6518290e-06],\n",
              "       [4.0333030e-06, 4.6915185e-02, 8.8759256e-04, 6.3963824e-05,\n",
              "        1.4737179e-05, 9.5211440e-01]], dtype=float32)"
            ]
          },
          "metadata": {},
          "execution_count": 80
        }
      ]
    }
  ],
  "metadata": {
    "colab": {
      "collapsed_sections": [
        "ifCzi282UO64",
        "LWVt__H7R9zl",
        "PLR3Zasdel1c",
        "0DW_8szfEo1T",
        "nMPQ0676j_BB",
        "fjW1a7SQwK57",
        "gHqmgSCPXHv9",
        "WDtYhj0SaH7y",
        "zkZ0LrphPbtz"
      ],
      "name": "EECE_571T_Project_BERT.ipynb",
      "provenance": [],
      "history_visible": true
    },
    "kernelspec": {
      "display_name": "Python 3",
      "name": "python3"
    },
    "language_info": {
      "name": "python"
    },
    "accelerator": "TPU",
    "widgets": {
      "application/vnd.jupyter.widget-state+json": {
        "d3aa7ecdd64d4ddd8edbf44d756c344e": {
          "model_module": "@jupyter-widgets/controls",
          "model_name": "HBoxModel",
          "model_module_version": "1.5.0",
          "state": {
            "_view_name": "HBoxView",
            "_dom_classes": [],
            "_model_name": "HBoxModel",
            "_view_module": "@jupyter-widgets/controls",
            "_model_module_version": "1.5.0",
            "_view_count": null,
            "_view_module_version": "1.5.0",
            "box_style": "",
            "layout": "IPY_MODEL_e8bded4b168b4ffbbb377ef8c36e2377",
            "_model_module": "@jupyter-widgets/controls",
            "children": [
              "IPY_MODEL_1fc4be423e434c5182a41302d13bcbf6",
              "IPY_MODEL_34097e96cc2b4e6d85c03042963694da",
              "IPY_MODEL_d729e8ffc3e9482ca7cc78a02b78a793"
            ]
          }
        },
        "e8bded4b168b4ffbbb377ef8c36e2377": {
          "model_module": "@jupyter-widgets/base",
          "model_name": "LayoutModel",
          "model_module_version": "1.2.0",
          "state": {
            "_view_name": "LayoutView",
            "grid_template_rows": null,
            "right": null,
            "justify_content": null,
            "_view_module": "@jupyter-widgets/base",
            "overflow": null,
            "_model_module_version": "1.2.0",
            "_view_count": null,
            "flex_flow": null,
            "width": null,
            "min_width": null,
            "border": null,
            "align_items": null,
            "bottom": null,
            "_model_module": "@jupyter-widgets/base",
            "top": null,
            "grid_column": null,
            "overflow_y": null,
            "overflow_x": null,
            "grid_auto_flow": null,
            "grid_area": null,
            "grid_template_columns": null,
            "flex": null,
            "_model_name": "LayoutModel",
            "justify_items": null,
            "grid_row": null,
            "max_height": null,
            "align_content": null,
            "visibility": null,
            "align_self": null,
            "height": null,
            "min_height": null,
            "padding": null,
            "grid_auto_rows": null,
            "grid_gap": null,
            "max_width": null,
            "order": null,
            "_view_module_version": "1.2.0",
            "grid_template_areas": null,
            "object_position": null,
            "object_fit": null,
            "grid_auto_columns": null,
            "margin": null,
            "display": null,
            "left": null
          }
        },
        "1fc4be423e434c5182a41302d13bcbf6": {
          "model_module": "@jupyter-widgets/controls",
          "model_name": "HTMLModel",
          "model_module_version": "1.5.0",
          "state": {
            "_view_name": "HTMLView",
            "style": "IPY_MODEL_9c208b58d6924bb58ae53e1e505a05f9",
            "_dom_classes": [],
            "description": "",
            "_model_name": "HTMLModel",
            "placeholder": "​",
            "_view_module": "@jupyter-widgets/controls",
            "_model_module_version": "1.5.0",
            "value": "Downloading: 100%",
            "_view_count": null,
            "_view_module_version": "1.5.0",
            "description_tooltip": null,
            "_model_module": "@jupyter-widgets/controls",
            "layout": "IPY_MODEL_a69e808e94374fd3a534fbc372e8f1a6"
          }
        },
        "34097e96cc2b4e6d85c03042963694da": {
          "model_module": "@jupyter-widgets/controls",
          "model_name": "FloatProgressModel",
          "model_module_version": "1.5.0",
          "state": {
            "_view_name": "ProgressView",
            "style": "IPY_MODEL_b3e37fdb293b4a819195b0146b7a1ace",
            "_dom_classes": [],
            "description": "",
            "_model_name": "FloatProgressModel",
            "bar_style": "success",
            "max": 28,
            "_view_module": "@jupyter-widgets/controls",
            "_model_module_version": "1.5.0",
            "value": 28,
            "_view_count": null,
            "_view_module_version": "1.5.0",
            "orientation": "horizontal",
            "min": 0,
            "description_tooltip": null,
            "_model_module": "@jupyter-widgets/controls",
            "layout": "IPY_MODEL_463a9275599a42afa69860c660e09578"
          }
        },
        "d729e8ffc3e9482ca7cc78a02b78a793": {
          "model_module": "@jupyter-widgets/controls",
          "model_name": "HTMLModel",
          "model_module_version": "1.5.0",
          "state": {
            "_view_name": "HTMLView",
            "style": "IPY_MODEL_23870e51593c4900adc500f53cc70f10",
            "_dom_classes": [],
            "description": "",
            "_model_name": "HTMLModel",
            "placeholder": "​",
            "_view_module": "@jupyter-widgets/controls",
            "_model_module_version": "1.5.0",
            "value": " 28.0/28.0 [00:00&lt;00:00, 215B/s]",
            "_view_count": null,
            "_view_module_version": "1.5.0",
            "description_tooltip": null,
            "_model_module": "@jupyter-widgets/controls",
            "layout": "IPY_MODEL_a3190fa0c6de49978dc9c02fae8b17e4"
          }
        },
        "9c208b58d6924bb58ae53e1e505a05f9": {
          "model_module": "@jupyter-widgets/controls",
          "model_name": "DescriptionStyleModel",
          "model_module_version": "1.5.0",
          "state": {
            "_view_name": "StyleView",
            "_model_name": "DescriptionStyleModel",
            "description_width": "",
            "_view_module": "@jupyter-widgets/base",
            "_model_module_version": "1.5.0",
            "_view_count": null,
            "_view_module_version": "1.2.0",
            "_model_module": "@jupyter-widgets/controls"
          }
        },
        "a69e808e94374fd3a534fbc372e8f1a6": {
          "model_module": "@jupyter-widgets/base",
          "model_name": "LayoutModel",
          "model_module_version": "1.2.0",
          "state": {
            "_view_name": "LayoutView",
            "grid_template_rows": null,
            "right": null,
            "justify_content": null,
            "_view_module": "@jupyter-widgets/base",
            "overflow": null,
            "_model_module_version": "1.2.0",
            "_view_count": null,
            "flex_flow": null,
            "width": null,
            "min_width": null,
            "border": null,
            "align_items": null,
            "bottom": null,
            "_model_module": "@jupyter-widgets/base",
            "top": null,
            "grid_column": null,
            "overflow_y": null,
            "overflow_x": null,
            "grid_auto_flow": null,
            "grid_area": null,
            "grid_template_columns": null,
            "flex": null,
            "_model_name": "LayoutModel",
            "justify_items": null,
            "grid_row": null,
            "max_height": null,
            "align_content": null,
            "visibility": null,
            "align_self": null,
            "height": null,
            "min_height": null,
            "padding": null,
            "grid_auto_rows": null,
            "grid_gap": null,
            "max_width": null,
            "order": null,
            "_view_module_version": "1.2.0",
            "grid_template_areas": null,
            "object_position": null,
            "object_fit": null,
            "grid_auto_columns": null,
            "margin": null,
            "display": null,
            "left": null
          }
        },
        "b3e37fdb293b4a819195b0146b7a1ace": {
          "model_module": "@jupyter-widgets/controls",
          "model_name": "ProgressStyleModel",
          "model_module_version": "1.5.0",
          "state": {
            "_view_name": "StyleView",
            "_model_name": "ProgressStyleModel",
            "description_width": "",
            "_view_module": "@jupyter-widgets/base",
            "_model_module_version": "1.5.0",
            "_view_count": null,
            "_view_module_version": "1.2.0",
            "bar_color": null,
            "_model_module": "@jupyter-widgets/controls"
          }
        },
        "463a9275599a42afa69860c660e09578": {
          "model_module": "@jupyter-widgets/base",
          "model_name": "LayoutModel",
          "model_module_version": "1.2.0",
          "state": {
            "_view_name": "LayoutView",
            "grid_template_rows": null,
            "right": null,
            "justify_content": null,
            "_view_module": "@jupyter-widgets/base",
            "overflow": null,
            "_model_module_version": "1.2.0",
            "_view_count": null,
            "flex_flow": null,
            "width": null,
            "min_width": null,
            "border": null,
            "align_items": null,
            "bottom": null,
            "_model_module": "@jupyter-widgets/base",
            "top": null,
            "grid_column": null,
            "overflow_y": null,
            "overflow_x": null,
            "grid_auto_flow": null,
            "grid_area": null,
            "grid_template_columns": null,
            "flex": null,
            "_model_name": "LayoutModel",
            "justify_items": null,
            "grid_row": null,
            "max_height": null,
            "align_content": null,
            "visibility": null,
            "align_self": null,
            "height": null,
            "min_height": null,
            "padding": null,
            "grid_auto_rows": null,
            "grid_gap": null,
            "max_width": null,
            "order": null,
            "_view_module_version": "1.2.0",
            "grid_template_areas": null,
            "object_position": null,
            "object_fit": null,
            "grid_auto_columns": null,
            "margin": null,
            "display": null,
            "left": null
          }
        },
        "23870e51593c4900adc500f53cc70f10": {
          "model_module": "@jupyter-widgets/controls",
          "model_name": "DescriptionStyleModel",
          "model_module_version": "1.5.0",
          "state": {
            "_view_name": "StyleView",
            "_model_name": "DescriptionStyleModel",
            "description_width": "",
            "_view_module": "@jupyter-widgets/base",
            "_model_module_version": "1.5.0",
            "_view_count": null,
            "_view_module_version": "1.2.0",
            "_model_module": "@jupyter-widgets/controls"
          }
        },
        "a3190fa0c6de49978dc9c02fae8b17e4": {
          "model_module": "@jupyter-widgets/base",
          "model_name": "LayoutModel",
          "model_module_version": "1.2.0",
          "state": {
            "_view_name": "LayoutView",
            "grid_template_rows": null,
            "right": null,
            "justify_content": null,
            "_view_module": "@jupyter-widgets/base",
            "overflow": null,
            "_model_module_version": "1.2.0",
            "_view_count": null,
            "flex_flow": null,
            "width": null,
            "min_width": null,
            "border": null,
            "align_items": null,
            "bottom": null,
            "_model_module": "@jupyter-widgets/base",
            "top": null,
            "grid_column": null,
            "overflow_y": null,
            "overflow_x": null,
            "grid_auto_flow": null,
            "grid_area": null,
            "grid_template_columns": null,
            "flex": null,
            "_model_name": "LayoutModel",
            "justify_items": null,
            "grid_row": null,
            "max_height": null,
            "align_content": null,
            "visibility": null,
            "align_self": null,
            "height": null,
            "min_height": null,
            "padding": null,
            "grid_auto_rows": null,
            "grid_gap": null,
            "max_width": null,
            "order": null,
            "_view_module_version": "1.2.0",
            "grid_template_areas": null,
            "object_position": null,
            "object_fit": null,
            "grid_auto_columns": null,
            "margin": null,
            "display": null,
            "left": null
          }
        },
        "17746ed7eb7742de9713f5a24b0231fb": {
          "model_module": "@jupyter-widgets/controls",
          "model_name": "HBoxModel",
          "model_module_version": "1.5.0",
          "state": {
            "_view_name": "HBoxView",
            "_dom_classes": [],
            "_model_name": "HBoxModel",
            "_view_module": "@jupyter-widgets/controls",
            "_model_module_version": "1.5.0",
            "_view_count": null,
            "_view_module_version": "1.5.0",
            "box_style": "",
            "layout": "IPY_MODEL_e85e877428ee4a34b390fb181706de60",
            "_model_module": "@jupyter-widgets/controls",
            "children": [
              "IPY_MODEL_f5ab529b610b4e3ca692881c34ad258b",
              "IPY_MODEL_332d52435e9a483195c7420a6e0db83c",
              "IPY_MODEL_3c442064a3794a44ba5615da159b340f"
            ]
          }
        },
        "e85e877428ee4a34b390fb181706de60": {
          "model_module": "@jupyter-widgets/base",
          "model_name": "LayoutModel",
          "model_module_version": "1.2.0",
          "state": {
            "_view_name": "LayoutView",
            "grid_template_rows": null,
            "right": null,
            "justify_content": null,
            "_view_module": "@jupyter-widgets/base",
            "overflow": null,
            "_model_module_version": "1.2.0",
            "_view_count": null,
            "flex_flow": null,
            "width": null,
            "min_width": null,
            "border": null,
            "align_items": null,
            "bottom": null,
            "_model_module": "@jupyter-widgets/base",
            "top": null,
            "grid_column": null,
            "overflow_y": null,
            "overflow_x": null,
            "grid_auto_flow": null,
            "grid_area": null,
            "grid_template_columns": null,
            "flex": null,
            "_model_name": "LayoutModel",
            "justify_items": null,
            "grid_row": null,
            "max_height": null,
            "align_content": null,
            "visibility": null,
            "align_self": null,
            "height": null,
            "min_height": null,
            "padding": null,
            "grid_auto_rows": null,
            "grid_gap": null,
            "max_width": null,
            "order": null,
            "_view_module_version": "1.2.0",
            "grid_template_areas": null,
            "object_position": null,
            "object_fit": null,
            "grid_auto_columns": null,
            "margin": null,
            "display": null,
            "left": null
          }
        },
        "f5ab529b610b4e3ca692881c34ad258b": {
          "model_module": "@jupyter-widgets/controls",
          "model_name": "HTMLModel",
          "model_module_version": "1.5.0",
          "state": {
            "_view_name": "HTMLView",
            "style": "IPY_MODEL_796ac6a71ee2434983c4e103322de28c",
            "_dom_classes": [],
            "description": "",
            "_model_name": "HTMLModel",
            "placeholder": "​",
            "_view_module": "@jupyter-widgets/controls",
            "_model_module_version": "1.5.0",
            "value": "Downloading: 100%",
            "_view_count": null,
            "_view_module_version": "1.5.0",
            "description_tooltip": null,
            "_model_module": "@jupyter-widgets/controls",
            "layout": "IPY_MODEL_890b247222f14e94975b67e1d6d162ed"
          }
        },
        "332d52435e9a483195c7420a6e0db83c": {
          "model_module": "@jupyter-widgets/controls",
          "model_name": "FloatProgressModel",
          "model_module_version": "1.5.0",
          "state": {
            "_view_name": "ProgressView",
            "style": "IPY_MODEL_bfba5a4a5e2a4f1da75a30c7a184c037",
            "_dom_classes": [],
            "description": "",
            "_model_name": "FloatProgressModel",
            "bar_style": "success",
            "max": 483,
            "_view_module": "@jupyter-widgets/controls",
            "_model_module_version": "1.5.0",
            "value": 483,
            "_view_count": null,
            "_view_module_version": "1.5.0",
            "orientation": "horizontal",
            "min": 0,
            "description_tooltip": null,
            "_model_module": "@jupyter-widgets/controls",
            "layout": "IPY_MODEL_54f9b92ddb8343c08298eac0a83bfa84"
          }
        },
        "3c442064a3794a44ba5615da159b340f": {
          "model_module": "@jupyter-widgets/controls",
          "model_name": "HTMLModel",
          "model_module_version": "1.5.0",
          "state": {
            "_view_name": "HTMLView",
            "style": "IPY_MODEL_bdb957f065234b778d039d730eee5cb6",
            "_dom_classes": [],
            "description": "",
            "_model_name": "HTMLModel",
            "placeholder": "​",
            "_view_module": "@jupyter-widgets/controls",
            "_model_module_version": "1.5.0",
            "value": " 483/483 [00:00&lt;00:00, 845B/s]",
            "_view_count": null,
            "_view_module_version": "1.5.0",
            "description_tooltip": null,
            "_model_module": "@jupyter-widgets/controls",
            "layout": "IPY_MODEL_4ded71e29581413baa5729c8aff16726"
          }
        },
        "796ac6a71ee2434983c4e103322de28c": {
          "model_module": "@jupyter-widgets/controls",
          "model_name": "DescriptionStyleModel",
          "model_module_version": "1.5.0",
          "state": {
            "_view_name": "StyleView",
            "_model_name": "DescriptionStyleModel",
            "description_width": "",
            "_view_module": "@jupyter-widgets/base",
            "_model_module_version": "1.5.0",
            "_view_count": null,
            "_view_module_version": "1.2.0",
            "_model_module": "@jupyter-widgets/controls"
          }
        },
        "890b247222f14e94975b67e1d6d162ed": {
          "model_module": "@jupyter-widgets/base",
          "model_name": "LayoutModel",
          "model_module_version": "1.2.0",
          "state": {
            "_view_name": "LayoutView",
            "grid_template_rows": null,
            "right": null,
            "justify_content": null,
            "_view_module": "@jupyter-widgets/base",
            "overflow": null,
            "_model_module_version": "1.2.0",
            "_view_count": null,
            "flex_flow": null,
            "width": null,
            "min_width": null,
            "border": null,
            "align_items": null,
            "bottom": null,
            "_model_module": "@jupyter-widgets/base",
            "top": null,
            "grid_column": null,
            "overflow_y": null,
            "overflow_x": null,
            "grid_auto_flow": null,
            "grid_area": null,
            "grid_template_columns": null,
            "flex": null,
            "_model_name": "LayoutModel",
            "justify_items": null,
            "grid_row": null,
            "max_height": null,
            "align_content": null,
            "visibility": null,
            "align_self": null,
            "height": null,
            "min_height": null,
            "padding": null,
            "grid_auto_rows": null,
            "grid_gap": null,
            "max_width": null,
            "order": null,
            "_view_module_version": "1.2.0",
            "grid_template_areas": null,
            "object_position": null,
            "object_fit": null,
            "grid_auto_columns": null,
            "margin": null,
            "display": null,
            "left": null
          }
        },
        "bfba5a4a5e2a4f1da75a30c7a184c037": {
          "model_module": "@jupyter-widgets/controls",
          "model_name": "ProgressStyleModel",
          "model_module_version": "1.5.0",
          "state": {
            "_view_name": "StyleView",
            "_model_name": "ProgressStyleModel",
            "description_width": "",
            "_view_module": "@jupyter-widgets/base",
            "_model_module_version": "1.5.0",
            "_view_count": null,
            "_view_module_version": "1.2.0",
            "bar_color": null,
            "_model_module": "@jupyter-widgets/controls"
          }
        },
        "54f9b92ddb8343c08298eac0a83bfa84": {
          "model_module": "@jupyter-widgets/base",
          "model_name": "LayoutModel",
          "model_module_version": "1.2.0",
          "state": {
            "_view_name": "LayoutView",
            "grid_template_rows": null,
            "right": null,
            "justify_content": null,
            "_view_module": "@jupyter-widgets/base",
            "overflow": null,
            "_model_module_version": "1.2.0",
            "_view_count": null,
            "flex_flow": null,
            "width": null,
            "min_width": null,
            "border": null,
            "align_items": null,
            "bottom": null,
            "_model_module": "@jupyter-widgets/base",
            "top": null,
            "grid_column": null,
            "overflow_y": null,
            "overflow_x": null,
            "grid_auto_flow": null,
            "grid_area": null,
            "grid_template_columns": null,
            "flex": null,
            "_model_name": "LayoutModel",
            "justify_items": null,
            "grid_row": null,
            "max_height": null,
            "align_content": null,
            "visibility": null,
            "align_self": null,
            "height": null,
            "min_height": null,
            "padding": null,
            "grid_auto_rows": null,
            "grid_gap": null,
            "max_width": null,
            "order": null,
            "_view_module_version": "1.2.0",
            "grid_template_areas": null,
            "object_position": null,
            "object_fit": null,
            "grid_auto_columns": null,
            "margin": null,
            "display": null,
            "left": null
          }
        },
        "bdb957f065234b778d039d730eee5cb6": {
          "model_module": "@jupyter-widgets/controls",
          "model_name": "DescriptionStyleModel",
          "model_module_version": "1.5.0",
          "state": {
            "_view_name": "StyleView",
            "_model_name": "DescriptionStyleModel",
            "description_width": "",
            "_view_module": "@jupyter-widgets/base",
            "_model_module_version": "1.5.0",
            "_view_count": null,
            "_view_module_version": "1.2.0",
            "_model_module": "@jupyter-widgets/controls"
          }
        },
        "4ded71e29581413baa5729c8aff16726": {
          "model_module": "@jupyter-widgets/base",
          "model_name": "LayoutModel",
          "model_module_version": "1.2.0",
          "state": {
            "_view_name": "LayoutView",
            "grid_template_rows": null,
            "right": null,
            "justify_content": null,
            "_view_module": "@jupyter-widgets/base",
            "overflow": null,
            "_model_module_version": "1.2.0",
            "_view_count": null,
            "flex_flow": null,
            "width": null,
            "min_width": null,
            "border": null,
            "align_items": null,
            "bottom": null,
            "_model_module": "@jupyter-widgets/base",
            "top": null,
            "grid_column": null,
            "overflow_y": null,
            "overflow_x": null,
            "grid_auto_flow": null,
            "grid_area": null,
            "grid_template_columns": null,
            "flex": null,
            "_model_name": "LayoutModel",
            "justify_items": null,
            "grid_row": null,
            "max_height": null,
            "align_content": null,
            "visibility": null,
            "align_self": null,
            "height": null,
            "min_height": null,
            "padding": null,
            "grid_auto_rows": null,
            "grid_gap": null,
            "max_width": null,
            "order": null,
            "_view_module_version": "1.2.0",
            "grid_template_areas": null,
            "object_position": null,
            "object_fit": null,
            "grid_auto_columns": null,
            "margin": null,
            "display": null,
            "left": null
          }
        },
        "f777215a8ef349c19df5f0c9c01e3441": {
          "model_module": "@jupyter-widgets/controls",
          "model_name": "HBoxModel",
          "model_module_version": "1.5.0",
          "state": {
            "_view_name": "HBoxView",
            "_dom_classes": [],
            "_model_name": "HBoxModel",
            "_view_module": "@jupyter-widgets/controls",
            "_model_module_version": "1.5.0",
            "_view_count": null,
            "_view_module_version": "1.5.0",
            "box_style": "",
            "layout": "IPY_MODEL_5911b12f4987483b914828f6b925ff25",
            "_model_module": "@jupyter-widgets/controls",
            "children": [
              "IPY_MODEL_e1b8902e568f4767b1a3dc26d45138c2",
              "IPY_MODEL_3a273abba5bc4e24bb9fa2f36d4de75e",
              "IPY_MODEL_ba7f41691e02497aac68694065678d2d"
            ]
          }
        },
        "5911b12f4987483b914828f6b925ff25": {
          "model_module": "@jupyter-widgets/base",
          "model_name": "LayoutModel",
          "model_module_version": "1.2.0",
          "state": {
            "_view_name": "LayoutView",
            "grid_template_rows": null,
            "right": null,
            "justify_content": null,
            "_view_module": "@jupyter-widgets/base",
            "overflow": null,
            "_model_module_version": "1.2.0",
            "_view_count": null,
            "flex_flow": null,
            "width": null,
            "min_width": null,
            "border": null,
            "align_items": null,
            "bottom": null,
            "_model_module": "@jupyter-widgets/base",
            "top": null,
            "grid_column": null,
            "overflow_y": null,
            "overflow_x": null,
            "grid_auto_flow": null,
            "grid_area": null,
            "grid_template_columns": null,
            "flex": null,
            "_model_name": "LayoutModel",
            "justify_items": null,
            "grid_row": null,
            "max_height": null,
            "align_content": null,
            "visibility": null,
            "align_self": null,
            "height": null,
            "min_height": null,
            "padding": null,
            "grid_auto_rows": null,
            "grid_gap": null,
            "max_width": null,
            "order": null,
            "_view_module_version": "1.2.0",
            "grid_template_areas": null,
            "object_position": null,
            "object_fit": null,
            "grid_auto_columns": null,
            "margin": null,
            "display": null,
            "left": null
          }
        },
        "e1b8902e568f4767b1a3dc26d45138c2": {
          "model_module": "@jupyter-widgets/controls",
          "model_name": "HTMLModel",
          "model_module_version": "1.5.0",
          "state": {
            "_view_name": "HTMLView",
            "style": "IPY_MODEL_aaa09480230245e293820a0cfedaee4b",
            "_dom_classes": [],
            "description": "",
            "_model_name": "HTMLModel",
            "placeholder": "​",
            "_view_module": "@jupyter-widgets/controls",
            "_model_module_version": "1.5.0",
            "value": "Downloading: 100%",
            "_view_count": null,
            "_view_module_version": "1.5.0",
            "description_tooltip": null,
            "_model_module": "@jupyter-widgets/controls",
            "layout": "IPY_MODEL_80e869437f554dbea8974df91c3e7009"
          }
        },
        "3a273abba5bc4e24bb9fa2f36d4de75e": {
          "model_module": "@jupyter-widgets/controls",
          "model_name": "FloatProgressModel",
          "model_module_version": "1.5.0",
          "state": {
            "_view_name": "ProgressView",
            "style": "IPY_MODEL_29107112785347d1ac818da58e18a9e2",
            "_dom_classes": [],
            "description": "",
            "_model_name": "FloatProgressModel",
            "bar_style": "success",
            "max": 231508,
            "_view_module": "@jupyter-widgets/controls",
            "_model_module_version": "1.5.0",
            "value": 231508,
            "_view_count": null,
            "_view_module_version": "1.5.0",
            "orientation": "horizontal",
            "min": 0,
            "description_tooltip": null,
            "_model_module": "@jupyter-widgets/controls",
            "layout": "IPY_MODEL_56f65628730c46b49cf36d84f699a0f5"
          }
        },
        "ba7f41691e02497aac68694065678d2d": {
          "model_module": "@jupyter-widgets/controls",
          "model_name": "HTMLModel",
          "model_module_version": "1.5.0",
          "state": {
            "_view_name": "HTMLView",
            "style": "IPY_MODEL_392729d1bc564f9085d8ce07ab1d331f",
            "_dom_classes": [],
            "description": "",
            "_model_name": "HTMLModel",
            "placeholder": "​",
            "_view_module": "@jupyter-widgets/controls",
            "_model_module_version": "1.5.0",
            "value": " 226k/226k [00:00&lt;00:00, 6.10kB/s]",
            "_view_count": null,
            "_view_module_version": "1.5.0",
            "description_tooltip": null,
            "_model_module": "@jupyter-widgets/controls",
            "layout": "IPY_MODEL_54c3d483080c45c7904955f4a4832c2b"
          }
        },
        "aaa09480230245e293820a0cfedaee4b": {
          "model_module": "@jupyter-widgets/controls",
          "model_name": "DescriptionStyleModel",
          "model_module_version": "1.5.0",
          "state": {
            "_view_name": "StyleView",
            "_model_name": "DescriptionStyleModel",
            "description_width": "",
            "_view_module": "@jupyter-widgets/base",
            "_model_module_version": "1.5.0",
            "_view_count": null,
            "_view_module_version": "1.2.0",
            "_model_module": "@jupyter-widgets/controls"
          }
        },
        "80e869437f554dbea8974df91c3e7009": {
          "model_module": "@jupyter-widgets/base",
          "model_name": "LayoutModel",
          "model_module_version": "1.2.0",
          "state": {
            "_view_name": "LayoutView",
            "grid_template_rows": null,
            "right": null,
            "justify_content": null,
            "_view_module": "@jupyter-widgets/base",
            "overflow": null,
            "_model_module_version": "1.2.0",
            "_view_count": null,
            "flex_flow": null,
            "width": null,
            "min_width": null,
            "border": null,
            "align_items": null,
            "bottom": null,
            "_model_module": "@jupyter-widgets/base",
            "top": null,
            "grid_column": null,
            "overflow_y": null,
            "overflow_x": null,
            "grid_auto_flow": null,
            "grid_area": null,
            "grid_template_columns": null,
            "flex": null,
            "_model_name": "LayoutModel",
            "justify_items": null,
            "grid_row": null,
            "max_height": null,
            "align_content": null,
            "visibility": null,
            "align_self": null,
            "height": null,
            "min_height": null,
            "padding": null,
            "grid_auto_rows": null,
            "grid_gap": null,
            "max_width": null,
            "order": null,
            "_view_module_version": "1.2.0",
            "grid_template_areas": null,
            "object_position": null,
            "object_fit": null,
            "grid_auto_columns": null,
            "margin": null,
            "display": null,
            "left": null
          }
        },
        "29107112785347d1ac818da58e18a9e2": {
          "model_module": "@jupyter-widgets/controls",
          "model_name": "ProgressStyleModel",
          "model_module_version": "1.5.0",
          "state": {
            "_view_name": "StyleView",
            "_model_name": "ProgressStyleModel",
            "description_width": "",
            "_view_module": "@jupyter-widgets/base",
            "_model_module_version": "1.5.0",
            "_view_count": null,
            "_view_module_version": "1.2.0",
            "bar_color": null,
            "_model_module": "@jupyter-widgets/controls"
          }
        },
        "56f65628730c46b49cf36d84f699a0f5": {
          "model_module": "@jupyter-widgets/base",
          "model_name": "LayoutModel",
          "model_module_version": "1.2.0",
          "state": {
            "_view_name": "LayoutView",
            "grid_template_rows": null,
            "right": null,
            "justify_content": null,
            "_view_module": "@jupyter-widgets/base",
            "overflow": null,
            "_model_module_version": "1.2.0",
            "_view_count": null,
            "flex_flow": null,
            "width": null,
            "min_width": null,
            "border": null,
            "align_items": null,
            "bottom": null,
            "_model_module": "@jupyter-widgets/base",
            "top": null,
            "grid_column": null,
            "overflow_y": null,
            "overflow_x": null,
            "grid_auto_flow": null,
            "grid_area": null,
            "grid_template_columns": null,
            "flex": null,
            "_model_name": "LayoutModel",
            "justify_items": null,
            "grid_row": null,
            "max_height": null,
            "align_content": null,
            "visibility": null,
            "align_self": null,
            "height": null,
            "min_height": null,
            "padding": null,
            "grid_auto_rows": null,
            "grid_gap": null,
            "max_width": null,
            "order": null,
            "_view_module_version": "1.2.0",
            "grid_template_areas": null,
            "object_position": null,
            "object_fit": null,
            "grid_auto_columns": null,
            "margin": null,
            "display": null,
            "left": null
          }
        },
        "392729d1bc564f9085d8ce07ab1d331f": {
          "model_module": "@jupyter-widgets/controls",
          "model_name": "DescriptionStyleModel",
          "model_module_version": "1.5.0",
          "state": {
            "_view_name": "StyleView",
            "_model_name": "DescriptionStyleModel",
            "description_width": "",
            "_view_module": "@jupyter-widgets/base",
            "_model_module_version": "1.5.0",
            "_view_count": null,
            "_view_module_version": "1.2.0",
            "_model_module": "@jupyter-widgets/controls"
          }
        },
        "54c3d483080c45c7904955f4a4832c2b": {
          "model_module": "@jupyter-widgets/base",
          "model_name": "LayoutModel",
          "model_module_version": "1.2.0",
          "state": {
            "_view_name": "LayoutView",
            "grid_template_rows": null,
            "right": null,
            "justify_content": null,
            "_view_module": "@jupyter-widgets/base",
            "overflow": null,
            "_model_module_version": "1.2.0",
            "_view_count": null,
            "flex_flow": null,
            "width": null,
            "min_width": null,
            "border": null,
            "align_items": null,
            "bottom": null,
            "_model_module": "@jupyter-widgets/base",
            "top": null,
            "grid_column": null,
            "overflow_y": null,
            "overflow_x": null,
            "grid_auto_flow": null,
            "grid_area": null,
            "grid_template_columns": null,
            "flex": null,
            "_model_name": "LayoutModel",
            "justify_items": null,
            "grid_row": null,
            "max_height": null,
            "align_content": null,
            "visibility": null,
            "align_self": null,
            "height": null,
            "min_height": null,
            "padding": null,
            "grid_auto_rows": null,
            "grid_gap": null,
            "max_width": null,
            "order": null,
            "_view_module_version": "1.2.0",
            "grid_template_areas": null,
            "object_position": null,
            "object_fit": null,
            "grid_auto_columns": null,
            "margin": null,
            "display": null,
            "left": null
          }
        },
        "64bfe2c8ff754f9f9bff0d1d99bf08f7": {
          "model_module": "@jupyter-widgets/controls",
          "model_name": "HBoxModel",
          "model_module_version": "1.5.0",
          "state": {
            "_view_name": "HBoxView",
            "_dom_classes": [],
            "_model_name": "HBoxModel",
            "_view_module": "@jupyter-widgets/controls",
            "_model_module_version": "1.5.0",
            "_view_count": null,
            "_view_module_version": "1.5.0",
            "box_style": "",
            "layout": "IPY_MODEL_e3599389ce404bd6b77ace5e83c25ecc",
            "_model_module": "@jupyter-widgets/controls",
            "children": [
              "IPY_MODEL_f0a7064a41234899bad17a54dccf262e",
              "IPY_MODEL_f03c1392bed04765a5692b85f6665770",
              "IPY_MODEL_a3a73f0f6976414399a6d6f9d0bc50ad"
            ]
          }
        },
        "e3599389ce404bd6b77ace5e83c25ecc": {
          "model_module": "@jupyter-widgets/base",
          "model_name": "LayoutModel",
          "model_module_version": "1.2.0",
          "state": {
            "_view_name": "LayoutView",
            "grid_template_rows": null,
            "right": null,
            "justify_content": null,
            "_view_module": "@jupyter-widgets/base",
            "overflow": null,
            "_model_module_version": "1.2.0",
            "_view_count": null,
            "flex_flow": null,
            "width": null,
            "min_width": null,
            "border": null,
            "align_items": null,
            "bottom": null,
            "_model_module": "@jupyter-widgets/base",
            "top": null,
            "grid_column": null,
            "overflow_y": null,
            "overflow_x": null,
            "grid_auto_flow": null,
            "grid_area": null,
            "grid_template_columns": null,
            "flex": null,
            "_model_name": "LayoutModel",
            "justify_items": null,
            "grid_row": null,
            "max_height": null,
            "align_content": null,
            "visibility": null,
            "align_self": null,
            "height": null,
            "min_height": null,
            "padding": null,
            "grid_auto_rows": null,
            "grid_gap": null,
            "max_width": null,
            "order": null,
            "_view_module_version": "1.2.0",
            "grid_template_areas": null,
            "object_position": null,
            "object_fit": null,
            "grid_auto_columns": null,
            "margin": null,
            "display": null,
            "left": null
          }
        },
        "f0a7064a41234899bad17a54dccf262e": {
          "model_module": "@jupyter-widgets/controls",
          "model_name": "HTMLModel",
          "model_module_version": "1.5.0",
          "state": {
            "_view_name": "HTMLView",
            "style": "IPY_MODEL_19dde946ae9d468ca49ec0cca620e349",
            "_dom_classes": [],
            "description": "",
            "_model_name": "HTMLModel",
            "placeholder": "​",
            "_view_module": "@jupyter-widgets/controls",
            "_model_module_version": "1.5.0",
            "value": "Downloading: 100%",
            "_view_count": null,
            "_view_module_version": "1.5.0",
            "description_tooltip": null,
            "_model_module": "@jupyter-widgets/controls",
            "layout": "IPY_MODEL_24806210b0b243b69363c626796c22b9"
          }
        },
        "f03c1392bed04765a5692b85f6665770": {
          "model_module": "@jupyter-widgets/controls",
          "model_name": "FloatProgressModel",
          "model_module_version": "1.5.0",
          "state": {
            "_view_name": "ProgressView",
            "style": "IPY_MODEL_d1c971cc01674de987a14afb47470310",
            "_dom_classes": [],
            "description": "",
            "_model_name": "FloatProgressModel",
            "bar_style": "success",
            "max": 466062,
            "_view_module": "@jupyter-widgets/controls",
            "_model_module_version": "1.5.0",
            "value": 466062,
            "_view_count": null,
            "_view_module_version": "1.5.0",
            "orientation": "horizontal",
            "min": 0,
            "description_tooltip": null,
            "_model_module": "@jupyter-widgets/controls",
            "layout": "IPY_MODEL_619bfafd3f6542da910a9bb5c25ba2c5"
          }
        },
        "a3a73f0f6976414399a6d6f9d0bc50ad": {
          "model_module": "@jupyter-widgets/controls",
          "model_name": "HTMLModel",
          "model_module_version": "1.5.0",
          "state": {
            "_view_name": "HTMLView",
            "style": "IPY_MODEL_5e3f902af74240219321f68fbd61cc3c",
            "_dom_classes": [],
            "description": "",
            "_model_name": "HTMLModel",
            "placeholder": "​",
            "_view_module": "@jupyter-widgets/controls",
            "_model_module_version": "1.5.0",
            "value": " 455k/455k [00:00&lt;00:00, 531kB/s]",
            "_view_count": null,
            "_view_module_version": "1.5.0",
            "description_tooltip": null,
            "_model_module": "@jupyter-widgets/controls",
            "layout": "IPY_MODEL_9bd25e301b194de2805efc411a1a0271"
          }
        },
        "19dde946ae9d468ca49ec0cca620e349": {
          "model_module": "@jupyter-widgets/controls",
          "model_name": "DescriptionStyleModel",
          "model_module_version": "1.5.0",
          "state": {
            "_view_name": "StyleView",
            "_model_name": "DescriptionStyleModel",
            "description_width": "",
            "_view_module": "@jupyter-widgets/base",
            "_model_module_version": "1.5.0",
            "_view_count": null,
            "_view_module_version": "1.2.0",
            "_model_module": "@jupyter-widgets/controls"
          }
        },
        "24806210b0b243b69363c626796c22b9": {
          "model_module": "@jupyter-widgets/base",
          "model_name": "LayoutModel",
          "model_module_version": "1.2.0",
          "state": {
            "_view_name": "LayoutView",
            "grid_template_rows": null,
            "right": null,
            "justify_content": null,
            "_view_module": "@jupyter-widgets/base",
            "overflow": null,
            "_model_module_version": "1.2.0",
            "_view_count": null,
            "flex_flow": null,
            "width": null,
            "min_width": null,
            "border": null,
            "align_items": null,
            "bottom": null,
            "_model_module": "@jupyter-widgets/base",
            "top": null,
            "grid_column": null,
            "overflow_y": null,
            "overflow_x": null,
            "grid_auto_flow": null,
            "grid_area": null,
            "grid_template_columns": null,
            "flex": null,
            "_model_name": "LayoutModel",
            "justify_items": null,
            "grid_row": null,
            "max_height": null,
            "align_content": null,
            "visibility": null,
            "align_self": null,
            "height": null,
            "min_height": null,
            "padding": null,
            "grid_auto_rows": null,
            "grid_gap": null,
            "max_width": null,
            "order": null,
            "_view_module_version": "1.2.0",
            "grid_template_areas": null,
            "object_position": null,
            "object_fit": null,
            "grid_auto_columns": null,
            "margin": null,
            "display": null,
            "left": null
          }
        },
        "d1c971cc01674de987a14afb47470310": {
          "model_module": "@jupyter-widgets/controls",
          "model_name": "ProgressStyleModel",
          "model_module_version": "1.5.0",
          "state": {
            "_view_name": "StyleView",
            "_model_name": "ProgressStyleModel",
            "description_width": "",
            "_view_module": "@jupyter-widgets/base",
            "_model_module_version": "1.5.0",
            "_view_count": null,
            "_view_module_version": "1.2.0",
            "bar_color": null,
            "_model_module": "@jupyter-widgets/controls"
          }
        },
        "619bfafd3f6542da910a9bb5c25ba2c5": {
          "model_module": "@jupyter-widgets/base",
          "model_name": "LayoutModel",
          "model_module_version": "1.2.0",
          "state": {
            "_view_name": "LayoutView",
            "grid_template_rows": null,
            "right": null,
            "justify_content": null,
            "_view_module": "@jupyter-widgets/base",
            "overflow": null,
            "_model_module_version": "1.2.0",
            "_view_count": null,
            "flex_flow": null,
            "width": null,
            "min_width": null,
            "border": null,
            "align_items": null,
            "bottom": null,
            "_model_module": "@jupyter-widgets/base",
            "top": null,
            "grid_column": null,
            "overflow_y": null,
            "overflow_x": null,
            "grid_auto_flow": null,
            "grid_area": null,
            "grid_template_columns": null,
            "flex": null,
            "_model_name": "LayoutModel",
            "justify_items": null,
            "grid_row": null,
            "max_height": null,
            "align_content": null,
            "visibility": null,
            "align_self": null,
            "height": null,
            "min_height": null,
            "padding": null,
            "grid_auto_rows": null,
            "grid_gap": null,
            "max_width": null,
            "order": null,
            "_view_module_version": "1.2.0",
            "grid_template_areas": null,
            "object_position": null,
            "object_fit": null,
            "grid_auto_columns": null,
            "margin": null,
            "display": null,
            "left": null
          }
        },
        "5e3f902af74240219321f68fbd61cc3c": {
          "model_module": "@jupyter-widgets/controls",
          "model_name": "DescriptionStyleModel",
          "model_module_version": "1.5.0",
          "state": {
            "_view_name": "StyleView",
            "_model_name": "DescriptionStyleModel",
            "description_width": "",
            "_view_module": "@jupyter-widgets/base",
            "_model_module_version": "1.5.0",
            "_view_count": null,
            "_view_module_version": "1.2.0",
            "_model_module": "@jupyter-widgets/controls"
          }
        },
        "9bd25e301b194de2805efc411a1a0271": {
          "model_module": "@jupyter-widgets/base",
          "model_name": "LayoutModel",
          "model_module_version": "1.2.0",
          "state": {
            "_view_name": "LayoutView",
            "grid_template_rows": null,
            "right": null,
            "justify_content": null,
            "_view_module": "@jupyter-widgets/base",
            "overflow": null,
            "_model_module_version": "1.2.0",
            "_view_count": null,
            "flex_flow": null,
            "width": null,
            "min_width": null,
            "border": null,
            "align_items": null,
            "bottom": null,
            "_model_module": "@jupyter-widgets/base",
            "top": null,
            "grid_column": null,
            "overflow_y": null,
            "overflow_x": null,
            "grid_auto_flow": null,
            "grid_area": null,
            "grid_template_columns": null,
            "flex": null,
            "_model_name": "LayoutModel",
            "justify_items": null,
            "grid_row": null,
            "max_height": null,
            "align_content": null,
            "visibility": null,
            "align_self": null,
            "height": null,
            "min_height": null,
            "padding": null,
            "grid_auto_rows": null,
            "grid_gap": null,
            "max_width": null,
            "order": null,
            "_view_module_version": "1.2.0",
            "grid_template_areas": null,
            "object_position": null,
            "object_fit": null,
            "grid_auto_columns": null,
            "margin": null,
            "display": null,
            "left": null
          }
        },
        "44b89580d4444057a5daecae497fc683": {
          "model_module": "@jupyter-widgets/controls",
          "model_name": "HBoxModel",
          "model_module_version": "1.5.0",
          "state": {
            "_view_name": "HBoxView",
            "_dom_classes": [],
            "_model_name": "HBoxModel",
            "_view_module": "@jupyter-widgets/controls",
            "_model_module_version": "1.5.0",
            "_view_count": null,
            "_view_module_version": "1.5.0",
            "box_style": "",
            "layout": "IPY_MODEL_038d57be8b4047e794aae6b6c15f7b66",
            "_model_module": "@jupyter-widgets/controls",
            "children": [
              "IPY_MODEL_2e3010dbae0d4ca9b96d64590ff032b6",
              "IPY_MODEL_85767b0680f6482eb8081d683484ece3",
              "IPY_MODEL_66c7554d010144c597efc8332d12ee5a"
            ]
          }
        },
        "038d57be8b4047e794aae6b6c15f7b66": {
          "model_module": "@jupyter-widgets/base",
          "model_name": "LayoutModel",
          "model_module_version": "1.2.0",
          "state": {
            "_view_name": "LayoutView",
            "grid_template_rows": null,
            "right": null,
            "justify_content": null,
            "_view_module": "@jupyter-widgets/base",
            "overflow": null,
            "_model_module_version": "1.2.0",
            "_view_count": null,
            "flex_flow": null,
            "width": null,
            "min_width": null,
            "border": null,
            "align_items": null,
            "bottom": null,
            "_model_module": "@jupyter-widgets/base",
            "top": null,
            "grid_column": null,
            "overflow_y": null,
            "overflow_x": null,
            "grid_auto_flow": null,
            "grid_area": null,
            "grid_template_columns": null,
            "flex": null,
            "_model_name": "LayoutModel",
            "justify_items": null,
            "grid_row": null,
            "max_height": null,
            "align_content": null,
            "visibility": null,
            "align_self": null,
            "height": null,
            "min_height": null,
            "padding": null,
            "grid_auto_rows": null,
            "grid_gap": null,
            "max_width": null,
            "order": null,
            "_view_module_version": "1.2.0",
            "grid_template_areas": null,
            "object_position": null,
            "object_fit": null,
            "grid_auto_columns": null,
            "margin": null,
            "display": null,
            "left": null
          }
        },
        "2e3010dbae0d4ca9b96d64590ff032b6": {
          "model_module": "@jupyter-widgets/controls",
          "model_name": "HTMLModel",
          "model_module_version": "1.5.0",
          "state": {
            "_view_name": "HTMLView",
            "style": "IPY_MODEL_e9c70343798a4ab4843fe453b2b55078",
            "_dom_classes": [],
            "description": "",
            "_model_name": "HTMLModel",
            "placeholder": "​",
            "_view_module": "@jupyter-widgets/controls",
            "_model_module_version": "1.5.0",
            "value": "Downloading: 100%",
            "_view_count": null,
            "_view_module_version": "1.5.0",
            "description_tooltip": null,
            "_model_module": "@jupyter-widgets/controls",
            "layout": "IPY_MODEL_8c82b2ce4bdf400f9673271402177f77"
          }
        },
        "85767b0680f6482eb8081d683484ece3": {
          "model_module": "@jupyter-widgets/controls",
          "model_name": "FloatProgressModel",
          "model_module_version": "1.5.0",
          "state": {
            "_view_name": "ProgressView",
            "style": "IPY_MODEL_861384475a0e4699ab1a2f5395317ac7",
            "_dom_classes": [],
            "description": "",
            "_model_name": "FloatProgressModel",
            "bar_style": "success",
            "max": 363423424,
            "_view_module": "@jupyter-widgets/controls",
            "_model_module_version": "1.5.0",
            "value": 363423424,
            "_view_count": null,
            "_view_module_version": "1.5.0",
            "orientation": "horizontal",
            "min": 0,
            "description_tooltip": null,
            "_model_module": "@jupyter-widgets/controls",
            "layout": "IPY_MODEL_260e48096a634bc7a4103eb3c2c09784"
          }
        },
        "66c7554d010144c597efc8332d12ee5a": {
          "model_module": "@jupyter-widgets/controls",
          "model_name": "HTMLModel",
          "model_module_version": "1.5.0",
          "state": {
            "_view_name": "HTMLView",
            "style": "IPY_MODEL_23880105c88c46d0a86fe239aa1ecc3e",
            "_dom_classes": [],
            "description": "",
            "_model_name": "HTMLModel",
            "placeholder": "​",
            "_view_module": "@jupyter-widgets/controls",
            "_model_module_version": "1.5.0",
            "value": " 347M/347M [00:25&lt;00:00, 14.2MB/s]",
            "_view_count": null,
            "_view_module_version": "1.5.0",
            "description_tooltip": null,
            "_model_module": "@jupyter-widgets/controls",
            "layout": "IPY_MODEL_97d8e9dc927c4d77a1261ed76a343d1e"
          }
        },
        "e9c70343798a4ab4843fe453b2b55078": {
          "model_module": "@jupyter-widgets/controls",
          "model_name": "DescriptionStyleModel",
          "model_module_version": "1.5.0",
          "state": {
            "_view_name": "StyleView",
            "_model_name": "DescriptionStyleModel",
            "description_width": "",
            "_view_module": "@jupyter-widgets/base",
            "_model_module_version": "1.5.0",
            "_view_count": null,
            "_view_module_version": "1.2.0",
            "_model_module": "@jupyter-widgets/controls"
          }
        },
        "8c82b2ce4bdf400f9673271402177f77": {
          "model_module": "@jupyter-widgets/base",
          "model_name": "LayoutModel",
          "model_module_version": "1.2.0",
          "state": {
            "_view_name": "LayoutView",
            "grid_template_rows": null,
            "right": null,
            "justify_content": null,
            "_view_module": "@jupyter-widgets/base",
            "overflow": null,
            "_model_module_version": "1.2.0",
            "_view_count": null,
            "flex_flow": null,
            "width": null,
            "min_width": null,
            "border": null,
            "align_items": null,
            "bottom": null,
            "_model_module": "@jupyter-widgets/base",
            "top": null,
            "grid_column": null,
            "overflow_y": null,
            "overflow_x": null,
            "grid_auto_flow": null,
            "grid_area": null,
            "grid_template_columns": null,
            "flex": null,
            "_model_name": "LayoutModel",
            "justify_items": null,
            "grid_row": null,
            "max_height": null,
            "align_content": null,
            "visibility": null,
            "align_self": null,
            "height": null,
            "min_height": null,
            "padding": null,
            "grid_auto_rows": null,
            "grid_gap": null,
            "max_width": null,
            "order": null,
            "_view_module_version": "1.2.0",
            "grid_template_areas": null,
            "object_position": null,
            "object_fit": null,
            "grid_auto_columns": null,
            "margin": null,
            "display": null,
            "left": null
          }
        },
        "861384475a0e4699ab1a2f5395317ac7": {
          "model_module": "@jupyter-widgets/controls",
          "model_name": "ProgressStyleModel",
          "model_module_version": "1.5.0",
          "state": {
            "_view_name": "StyleView",
            "_model_name": "ProgressStyleModel",
            "description_width": "",
            "_view_module": "@jupyter-widgets/base",
            "_model_module_version": "1.5.0",
            "_view_count": null,
            "_view_module_version": "1.2.0",
            "bar_color": null,
            "_model_module": "@jupyter-widgets/controls"
          }
        },
        "260e48096a634bc7a4103eb3c2c09784": {
          "model_module": "@jupyter-widgets/base",
          "model_name": "LayoutModel",
          "model_module_version": "1.2.0",
          "state": {
            "_view_name": "LayoutView",
            "grid_template_rows": null,
            "right": null,
            "justify_content": null,
            "_view_module": "@jupyter-widgets/base",
            "overflow": null,
            "_model_module_version": "1.2.0",
            "_view_count": null,
            "flex_flow": null,
            "width": null,
            "min_width": null,
            "border": null,
            "align_items": null,
            "bottom": null,
            "_model_module": "@jupyter-widgets/base",
            "top": null,
            "grid_column": null,
            "overflow_y": null,
            "overflow_x": null,
            "grid_auto_flow": null,
            "grid_area": null,
            "grid_template_columns": null,
            "flex": null,
            "_model_name": "LayoutModel",
            "justify_items": null,
            "grid_row": null,
            "max_height": null,
            "align_content": null,
            "visibility": null,
            "align_self": null,
            "height": null,
            "min_height": null,
            "padding": null,
            "grid_auto_rows": null,
            "grid_gap": null,
            "max_width": null,
            "order": null,
            "_view_module_version": "1.2.0",
            "grid_template_areas": null,
            "object_position": null,
            "object_fit": null,
            "grid_auto_columns": null,
            "margin": null,
            "display": null,
            "left": null
          }
        },
        "23880105c88c46d0a86fe239aa1ecc3e": {
          "model_module": "@jupyter-widgets/controls",
          "model_name": "DescriptionStyleModel",
          "model_module_version": "1.5.0",
          "state": {
            "_view_name": "StyleView",
            "_model_name": "DescriptionStyleModel",
            "description_width": "",
            "_view_module": "@jupyter-widgets/base",
            "_model_module_version": "1.5.0",
            "_view_count": null,
            "_view_module_version": "1.2.0",
            "_model_module": "@jupyter-widgets/controls"
          }
        },
        "97d8e9dc927c4d77a1261ed76a343d1e": {
          "model_module": "@jupyter-widgets/base",
          "model_name": "LayoutModel",
          "model_module_version": "1.2.0",
          "state": {
            "_view_name": "LayoutView",
            "grid_template_rows": null,
            "right": null,
            "justify_content": null,
            "_view_module": "@jupyter-widgets/base",
            "overflow": null,
            "_model_module_version": "1.2.0",
            "_view_count": null,
            "flex_flow": null,
            "width": null,
            "min_width": null,
            "border": null,
            "align_items": null,
            "bottom": null,
            "_model_module": "@jupyter-widgets/base",
            "top": null,
            "grid_column": null,
            "overflow_y": null,
            "overflow_x": null,
            "grid_auto_flow": null,
            "grid_area": null,
            "grid_template_columns": null,
            "flex": null,
            "_model_name": "LayoutModel",
            "justify_items": null,
            "grid_row": null,
            "max_height": null,
            "align_content": null,
            "visibility": null,
            "align_self": null,
            "height": null,
            "min_height": null,
            "padding": null,
            "grid_auto_rows": null,
            "grid_gap": null,
            "max_width": null,
            "order": null,
            "_view_module_version": "1.2.0",
            "grid_template_areas": null,
            "object_position": null,
            "object_fit": null,
            "grid_auto_columns": null,
            "margin": null,
            "display": null,
            "left": null
          }
        }
      }
    }
  },
  "nbformat": 4,
  "nbformat_minor": 0
}