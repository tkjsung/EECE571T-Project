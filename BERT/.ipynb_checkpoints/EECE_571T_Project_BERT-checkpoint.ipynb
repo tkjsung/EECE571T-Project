{
 "cells": [
  {
   "cell_type": "markdown",
   "metadata": {
    "id": "ELaILu9SPaoy"
   },
   "source": [
    "# EECE 571T Project - NLP with Emotion Dataset (BERT)\n",
    "\n",
    "Focus: BERT\n",
    "<br>\n",
    "Author: Tom Sung\n",
    "\n",
    "Last updated:\n",
    "* Date: March 9, 2022\n",
    "* Time: 9:52pm"
   ]
  },
  {
   "cell_type": "markdown",
   "metadata": {
    "id": "ifCzi282UO64",
    "tags": []
   },
   "source": [
    "## References\n",
    "\n",
    "* Text Classification tutorial: https://github.com/adsieg/Multi_Text_Classification\n",
    "* From same author:\n",
    "    * [**Feb.17**] This is used for the Word Embedding part: https://towardsdatascience.com/text-classification-with-nlp-tf-idf-vs-word2vec-vs-bert-41ff868d1794 (Try following these instructions next)\n",
    "    * [**Feb.17**] https://towardsdatascience.com/text-analysis-feature-engineering-with-nlp-502d6ea9225d\n",
    "* Different Pre-Processing Techniques with Bag of Words w/ TF-IDF, Word Embedding, and BERT: https://towardsdatascience.com/text-classification-with-nlp-tf-idf-vs-word2vec-vs-bert-41ff868d1794"
   ]
  },
  {
   "cell_type": "code",
   "execution_count": 3,
   "metadata": {},
   "outputs": [],
   "source": [
    "# Uncomment the following to use macOS's GPU\n",
    "import os\n",
    "os.environ['TF_CPP_MIN_LOG_LEVEL'] = '2'\n",
    "print(os.environ)"
   ]
  },
  {
   "cell_type": "markdown",
   "metadata": {
    "id": "UFTJfJkrO06u",
    "jp-MarkdownHeadingCollapsed": true,
    "tags": []
   },
   "source": [
    "## Get data from GitHub repo\n",
    "\n",
    "**Only run this once even after if notebook environment is cleared via** `%reset -f`. The code written here imports the Kaggle data set, which I have placed on my public GitHub repo."
   ]
  },
  {
   "cell_type": "code",
   "execution_count": 2,
   "metadata": {
    "id": "724_Q82ZOihs",
    "tags": []
   },
   "outputs": [
    {
     "name": "stdout",
     "output_type": "stream",
     "text": [
      "--2022-03-10 17:21:16--  https://github.com/tkjsung/EECE571T_Dataset/archive/refs/heads/master.zip\n",
      "Resolving github.com (github.com)... 140.82.112.4\n",
      "Connecting to github.com (github.com)|140.82.112.4|:443... connected.\n",
      "HTTP request sent, awaiting response... 302 Found\n",
      "Location: https://codeload.github.com/tkjsung/EECE571T_Dataset/zip/refs/heads/master [following]\n",
      "--2022-03-10 17:21:17--  https://codeload.github.com/tkjsung/EECE571T_Dataset/zip/refs/heads/master\n",
      "Resolving codeload.github.com (codeload.github.com)... 140.82.114.9\n",
      "Connecting to codeload.github.com (codeload.github.com)|140.82.114.9|:443... connected.\n",
      "HTTP request sent, awaiting response... 200 OK\n",
      "Length: unspecified [application/zip]\n",
      "Saving to: ‘master.zip’\n",
      "\n",
      "master.zip              [    <=>             ] 798.87K   953KB/s    in 0.8s    \n",
      "\n",
      "2022-03-10 17:21:18 (953 KB/s) - ‘master.zip’ saved [818042]\n",
      "\n",
      "unzip:  cannot find or open /content/master.zip, /content/master.zip.zip or /content/master.zip.ZIP.\n"
     ]
    }
   ],
   "source": [
    "!wget https://github.com/tkjsung/EECE571T_Dataset/archive/refs/heads/master.zip\n",
    "!unzip /content/master.zip\n",
    "# For local computer use:\n",
    "# !unzip master.zip"
   ]
  },
  {
   "cell_type": "markdown",
   "metadata": {
    "id": "LWVt__H7R9zl",
    "tags": []
   },
   "source": [
    "## Import Data"
   ]
  },
  {
   "cell_type": "code",
   "execution_count": 4,
   "metadata": {
    "id": "iKV__yZmPWsQ"
   },
   "outputs": [],
   "source": [
    "# Import libraries for data import\n",
    "import pandas as pd\n",
    "import matplotlib.pyplot as plt\n",
    "import numpy as np\n",
    "\n",
    "%matplotlib inline"
   ]
  },
  {
   "cell_type": "code",
   "execution_count": 5,
   "metadata": {
    "id": "mMWomGTaPSES"
   },
   "outputs": [],
   "source": [
    "# Read CSV\n",
    "# data_train = pd.read_csv('/content/EECE571T_Dataset-master/Project/train.txt',sep=';', header=None)\n",
    "# data_test = pd.read_csv('/content/EECE571T_Dataset-master/Project/test.txt',sep=';', header=None)\n",
    "# data_val = pd.read_csv('/content/EECE571T_Dataset-master/Project/val.txt',sep=';', header=None)\n",
    "\n",
    "# Read CSV on local computer\n",
    "data_train = pd.read_csv('EECE571T_Dataset-master/Project/train.txt',sep=';', header=None)\n",
    "data_test = pd.read_csv('EECE571T_Dataset-master/Project/test.txt',sep=';', header=None)\n",
    "data_val = pd.read_csv('EECE571T_Dataset-master/Project/val.txt',sep=';', header=None)"
   ]
  },
  {
   "cell_type": "code",
   "execution_count": 6,
   "metadata": {
    "id": "AtXW9_Z2Pbtq"
   },
   "outputs": [],
   "source": [
    "col_names = [\"sentence\",\"emotion\"]\n",
    "data_train.columns = col_names\n",
    "data_test.columns = col_names\n",
    "data_val.columns = col_names"
   ]
  },
  {
   "cell_type": "code",
   "execution_count": 7,
   "metadata": {
    "colab": {
     "base_uri": "https://localhost:8080/",
     "height": 557
    },
    "id": "GC4V-55GSaVT",
    "outputId": "d40f8716-5033-4b46-c725-f95203e4dc1d"
   },
   "outputs": [
    {
     "data": {
      "text/html": [
       "<div>\n",
       "<style scoped>\n",
       "    .dataframe tbody tr th:only-of-type {\n",
       "        vertical-align: middle;\n",
       "    }\n",
       "\n",
       "    .dataframe tbody tr th {\n",
       "        vertical-align: top;\n",
       "    }\n",
       "\n",
       "    .dataframe thead th {\n",
       "        text-align: right;\n",
       "    }\n",
       "</style>\n",
       "<table border=\"1\" class=\"dataframe\">\n",
       "  <thead>\n",
       "    <tr style=\"text-align: right;\">\n",
       "      <th></th>\n",
       "      <th>sentence</th>\n",
       "      <th>emotion</th>\n",
       "    </tr>\n",
       "  </thead>\n",
       "  <tbody>\n",
       "    <tr>\n",
       "      <th>0</th>\n",
       "      <td>i didnt feel humiliated</td>\n",
       "      <td>sadness</td>\n",
       "    </tr>\n",
       "    <tr>\n",
       "      <th>1</th>\n",
       "      <td>i can go from feeling so hopeless to so damned...</td>\n",
       "      <td>sadness</td>\n",
       "    </tr>\n",
       "    <tr>\n",
       "      <th>2</th>\n",
       "      <td>im grabbing a minute to post i feel greedy wrong</td>\n",
       "      <td>anger</td>\n",
       "    </tr>\n",
       "    <tr>\n",
       "      <th>3</th>\n",
       "      <td>i am ever feeling nostalgic about the fireplac...</td>\n",
       "      <td>love</td>\n",
       "    </tr>\n",
       "    <tr>\n",
       "      <th>4</th>\n",
       "      <td>i am feeling grouchy</td>\n",
       "      <td>anger</td>\n",
       "    </tr>\n",
       "  </tbody>\n",
       "</table>\n",
       "</div>"
      ],
      "text/plain": [
       "                                            sentence  emotion\n",
       "0                            i didnt feel humiliated  sadness\n",
       "1  i can go from feeling so hopeless to so damned...  sadness\n",
       "2   im grabbing a minute to post i feel greedy wrong    anger\n",
       "3  i am ever feeling nostalgic about the fireplac...     love\n",
       "4                               i am feeling grouchy    anger"
      ]
     },
     "execution_count": 7,
     "metadata": {},
     "output_type": "execute_result"
    }
   ],
   "source": [
    "# See the data head to make sure data is imported correctly.\n",
    "data_train.head()\n",
    "# data_test.head()\n",
    "# data_val.head()"
   ]
  },
  {
   "cell_type": "markdown",
   "metadata": {
    "id": "PLR3Zasdel1c",
    "tags": []
   },
   "source": [
    "## Encode the emotion labels with unique identifiers"
   ]
  },
  {
   "cell_type": "code",
   "execution_count": 8,
   "metadata": {
    "id": "oFJvTfXTdrN6"
   },
   "outputs": [],
   "source": [
    "from sklearn.preprocessing import LabelEncoder\n",
    "# Encode the emotion labels with unique identifiers\n",
    "data_train['emotion'].unique()\n",
    "labelencoder = LabelEncoder()\n",
    "data_train['emotion_enc'] = labelencoder.fit_transform(data_train['emotion'])\n",
    "data_test['emotion_enc'] = labelencoder.fit_transform(data_test['emotion'])\n",
    "data_val['emotion_enc'] = labelencoder.fit_transform(data_val['emotion'])\n",
    "# For data_test and data_val, use the same labelencoder. Make sure it's the same by using the display code below."
   ]
  },
  {
   "cell_type": "markdown",
   "metadata": {
    "id": "X-bBnrKVoiBT"
   },
   "source": [
    "Display the encoded emotion labels"
   ]
  },
  {
   "cell_type": "code",
   "execution_count": 9,
   "metadata": {
    "colab": {
     "base_uri": "https://localhost:8080/",
     "height": 299
    },
    "id": "kkm7wEN1fnMX",
    "outputId": "786c915a-ecc8-4bd2-910e-32e4b9d8dc4b"
   },
   "outputs": [
    {
     "data": {
      "text/html": [
       "<div>\n",
       "<style scoped>\n",
       "    .dataframe tbody tr th:only-of-type {\n",
       "        vertical-align: middle;\n",
       "    }\n",
       "\n",
       "    .dataframe tbody tr th {\n",
       "        vertical-align: top;\n",
       "    }\n",
       "\n",
       "    .dataframe thead th {\n",
       "        text-align: right;\n",
       "    }\n",
       "</style>\n",
       "<table border=\"1\" class=\"dataframe\">\n",
       "  <thead>\n",
       "    <tr style=\"text-align: right;\">\n",
       "      <th></th>\n",
       "      <th>emotion</th>\n",
       "      <th>emotion_enc</th>\n",
       "    </tr>\n",
       "  </thead>\n",
       "  <tbody>\n",
       "    <tr>\n",
       "      <th>0</th>\n",
       "      <td>sadness</td>\n",
       "      <td>4</td>\n",
       "    </tr>\n",
       "    <tr>\n",
       "      <th>2</th>\n",
       "      <td>anger</td>\n",
       "      <td>0</td>\n",
       "    </tr>\n",
       "    <tr>\n",
       "      <th>3</th>\n",
       "      <td>love</td>\n",
       "      <td>3</td>\n",
       "    </tr>\n",
       "    <tr>\n",
       "      <th>6</th>\n",
       "      <td>surprise</td>\n",
       "      <td>5</td>\n",
       "    </tr>\n",
       "    <tr>\n",
       "      <th>7</th>\n",
       "      <td>fear</td>\n",
       "      <td>1</td>\n",
       "    </tr>\n",
       "    <tr>\n",
       "      <th>8</th>\n",
       "      <td>joy</td>\n",
       "      <td>2</td>\n",
       "    </tr>\n",
       "  </tbody>\n",
       "</table>\n",
       "</div>"
      ],
      "text/plain": [
       "    emotion  emotion_enc\n",
       "0   sadness            4\n",
       "2     anger            0\n",
       "3      love            3\n",
       "6  surprise            5\n",
       "7      fear            1\n",
       "8       joy            2"
      ]
     },
     "execution_count": 9,
     "metadata": {},
     "output_type": "execute_result"
    }
   ],
   "source": [
    "data_train[['emotion','emotion_enc']].drop_duplicates(keep='first')\n",
    "# data_test[['emotion','emotion_enc']].drop_duplicates(keep='first')\n",
    "# data_val[['emotion','emotion_enc']].drop_duplicates(keep='first')"
   ]
  },
  {
   "cell_type": "markdown",
   "metadata": {
    "id": "zhyCE_IromWn"
   },
   "source": [
    "[OLD-Don't need this] ~Add sentence length to each sentence. It should calculate number of characters, including spaces and punctuation.~"
   ]
  },
  {
   "cell_type": "code",
   "execution_count": 10,
   "metadata": {
    "id": "L0bFupawluI7"
   },
   "outputs": [],
   "source": [
    "# data_train['length'] = [len(x) for x in data_train['sentence']]\n",
    "# data_test['length'] = [len(x) for x in data_test['sentence']]\n",
    "# data_val['length'] = [len(x) for x in data_val['sentence']]"
   ]
  },
  {
   "cell_type": "code",
   "execution_count": 11,
   "metadata": {
    "colab": {
     "base_uri": "https://localhost:8080/",
     "height": 557
    },
    "id": "lLROznaxHPNU",
    "outputId": "e6c00efa-0076-460d-f1a5-bcf06062832a"
   },
   "outputs": [
    {
     "data": {
      "text/html": [
       "<div>\n",
       "<style scoped>\n",
       "    .dataframe tbody tr th:only-of-type {\n",
       "        vertical-align: middle;\n",
       "    }\n",
       "\n",
       "    .dataframe tbody tr th {\n",
       "        vertical-align: top;\n",
       "    }\n",
       "\n",
       "    .dataframe thead th {\n",
       "        text-align: right;\n",
       "    }\n",
       "</style>\n",
       "<table border=\"1\" class=\"dataframe\">\n",
       "  <thead>\n",
       "    <tr style=\"text-align: right;\">\n",
       "      <th></th>\n",
       "      <th>sentence</th>\n",
       "      <th>emotion</th>\n",
       "      <th>emotion_enc</th>\n",
       "    </tr>\n",
       "  </thead>\n",
       "  <tbody>\n",
       "    <tr>\n",
       "      <th>0</th>\n",
       "      <td>im feeling quite sad and sorry for myself but ...</td>\n",
       "      <td>sadness</td>\n",
       "      <td>4</td>\n",
       "    </tr>\n",
       "    <tr>\n",
       "      <th>1</th>\n",
       "      <td>i feel like i am still looking at a blank canv...</td>\n",
       "      <td>sadness</td>\n",
       "      <td>4</td>\n",
       "    </tr>\n",
       "    <tr>\n",
       "      <th>2</th>\n",
       "      <td>i feel like a faithful servant</td>\n",
       "      <td>love</td>\n",
       "      <td>3</td>\n",
       "    </tr>\n",
       "    <tr>\n",
       "      <th>3</th>\n",
       "      <td>i am just feeling cranky and blue</td>\n",
       "      <td>anger</td>\n",
       "      <td>0</td>\n",
       "    </tr>\n",
       "    <tr>\n",
       "      <th>4</th>\n",
       "      <td>i can have for a treat or if i am feeling festive</td>\n",
       "      <td>joy</td>\n",
       "      <td>2</td>\n",
       "    </tr>\n",
       "  </tbody>\n",
       "</table>\n",
       "</div>"
      ],
      "text/plain": [
       "                                            sentence  emotion  emotion_enc\n",
       "0  im feeling quite sad and sorry for myself but ...  sadness            4\n",
       "1  i feel like i am still looking at a blank canv...  sadness            4\n",
       "2                     i feel like a faithful servant     love            3\n",
       "3                  i am just feeling cranky and blue    anger            0\n",
       "4  i can have for a treat or if i am feeling festive      joy            2"
      ]
     },
     "execution_count": 11,
     "metadata": {},
     "output_type": "execute_result"
    }
   ],
   "source": [
    "data_train.head()\n",
    "data_test.head()\n",
    "data_val.head()"
   ]
  },
  {
   "cell_type": "markdown",
   "metadata": {
    "id": "9IU3wyOOocsQ"
   },
   "source": [
    "[OLD-Unncessary] ~Finding the maximum sentence length. It seems to be 300. From the testing and validation set, they are 296 and 295, respectively.~"
   ]
  },
  {
   "cell_type": "code",
   "execution_count": 11,
   "metadata": {
    "id": "hhBSqPnQoL-l"
   },
   "outputs": [],
   "source": [
    "# max_len = data_train['length'].max()\n",
    "# print(max_len)"
   ]
  },
  {
   "cell_type": "markdown",
   "metadata": {
    "id": "0DW_8szfEo1T",
    "tags": []
   },
   "source": [
    "## Data Cleaning"
   ]
  },
  {
   "cell_type": "markdown",
   "metadata": {
    "id": "xKULabmoEqMt"
   },
   "source": [
    "We need to do some data cleaning first~, otherwise it would be a nightmare to do pre-processing with at least 15212 vocabulary words...~"
   ]
  },
  {
   "cell_type": "markdown",
   "metadata": {
    "id": "6uE7b3QZrB6O"
   },
   "source": [
    "**Data Cleaning Process:** Keep only words, convert all words to lowercase, split all words, remove stopwords, lemmization for word root.<br>\n",
    "The result of all of this work is a cleaned data vocab list."
   ]
  },
  {
   "cell_type": "markdown",
   "metadata": {
    "id": "hHVXM1f4iYf6"
   },
   "source": [
    "Replace stemming with lemmization, which keeps the actual form of the word better. This is necessary for using pre-existing word embedding models.\n",
    "Source: https://blog.bitext.com/what-is-the-difference-between-stemming-and-lemmatization/"
   ]
  },
  {
   "cell_type": "code",
   "execution_count": 12,
   "metadata": {
    "colab": {
     "base_uri": "https://localhost:8080/"
    },
    "id": "pJWWXLcFdzc1",
    "outputId": "1bfd25ae-767b-482a-8a81-935a421367f5"
   },
   "outputs": [
    {
     "name": "stderr",
     "output_type": "stream",
     "text": [
      "[nltk_data] Downloading package punkt to /Users/tomsung/nltk_data...\n",
      "[nltk_data]   Package punkt is already up-to-date!\n",
      "[nltk_data] Downloading package stopwords to\n",
      "[nltk_data]     /Users/tomsung/nltk_data...\n",
      "[nltk_data]   Package stopwords is already up-to-date!\n",
      "[nltk_data] Downloading package wordnet to /Users/tomsung/nltk_data...\n",
      "[nltk_data]   Package wordnet is already up-to-date!\n",
      "[nltk_data] Downloading package omw-1.4 to /Users/tomsung/nltk_data...\n",
      "[nltk_data]   Package omw-1.4 is already up-to-date!\n"
     ]
    }
   ],
   "source": [
    "import re\n",
    "import pandas as pd\n",
    "import nltk\n",
    "from nltk.corpus import stopwords\n",
    "from nltk.stem import PorterStemmer\n",
    "from nltk.tokenize import sent_tokenize, word_tokenize\n",
    "from nltk.corpus import stopwords\n",
    "from nltk.stem import WordNetLemmatizer\n",
    "nltk.download('punkt')\n",
    "nltk.download('stopwords')\n",
    "nltk.download('wordnet')\n",
    "nltk.download('omw-1.4')\n",
    "\n",
    "# Attempting data cleaning here\n",
    "def preprocess(raw_text):\n",
    "    # keep only words\n",
    "    letters_only_text = re.sub(\"[^a-zA-Z]\", \" \", raw_text)\n",
    "\n",
    "    # convert to lower case and split \n",
    "    words = letters_only_text.lower().split()\n",
    "\n",
    "    # remove stopwords\n",
    "    stopword_set = set(stopwords.words(\"english\"))\n",
    "    meaningful_words = [w for w in words if w not in stopword_set]\n",
    "    \n",
    "    # stemmed words (looks like this is causing some words to be weird)\n",
    "    # ps = PorterStemmer()\n",
    "    # stemmed_words = [ps.stem(word) for word in meaningful_words]\n",
    "\n",
    "    # lemmed words (trying this because this gets the root word?)\n",
    "    lem = WordNetLemmatizer()\n",
    "    lemmed_words = [lem.lemmatize(word) for word in meaningful_words]\n",
    "    \n",
    "    # join the cleaned words in a list\n",
    "    # cleaned_word_list = \" \".join(stemmed_words)\n",
    "    cleaned_word_list = \" \".join(lemmed_words)\n",
    "    # cleaned_word_list = \" \".join(meaningful_words)\n",
    "\n",
    "    return cleaned_word_list"
   ]
  },
  {
   "cell_type": "markdown",
   "metadata": {
    "id": "8BmRPEeBpYZN"
   },
   "source": [
    "Apply data cleaning to all data sets."
   ]
  },
  {
   "cell_type": "code",
   "execution_count": 13,
   "metadata": {
    "id": "schsncvleDrh"
   },
   "outputs": [],
   "source": [
    "data_train['sentence_cleaned'] = data_train['sentence'].apply(lambda line : preprocess(line))\n",
    "data_test['sentence_cleaned'] = data_test['sentence'].apply(lambda line : preprocess(line))\n",
    "data_val['sentence_cleaned'] = data_val['sentence'].apply(lambda line : preprocess(line))"
   ]
  },
  {
   "cell_type": "markdown",
   "metadata": {
    "id": "Rb9vzfUAqXoZ",
    "tags": []
   },
   "source": [
    "## Pre-Processing and Training\n",
    "\n",
    "Pre-processing and training is bundled together as the different methods use different pre-processing steps.<br>\n",
    "There are several methods available: Bag-of-words with TF-IDF, Word Embedding using ~Word2Vec~ [I used GloVe, not Word2Vec] (unknown NN), and BERT."
   ]
  },
  {
   "cell_type": "markdown",
   "metadata": {
    "id": "8cEZB9u7ZOvR"
   },
   "source": [
    "### METHOD 2: BERT\n"
   ]
  },
  {
   "cell_type": "markdown",
   "metadata": {
    "id": "nMPQ0676j_BB",
    "jp-MarkdownHeadingCollapsed": true,
    "tags": []
   },
   "source": [
    "#### Histogram: Uncleaned Sentences\n",
    "\n",
    "Let's find out how long the uncleaned sentence is, since the example link does not do data cleaning on the sentences in the sense that common stop words are still provided."
   ]
  },
  {
   "cell_type": "code",
   "execution_count": null,
   "metadata": {
    "id": "Ylfhpf-EjyGA"
   },
   "outputs": [],
   "source": [
    "from keras.preprocessing.text import Tokenizer\n",
    "from keras.preprocessing.sequence import pad_sequences\n",
    "import seaborn as sns\n",
    "\n",
    "tokenizer = Tokenizer()\n",
    "tokenizer.fit_on_texts(data_train[\"sentence\"])\n",
    "dic_vocabulary = tokenizer.word_index\n",
    "\n",
    "X_train = tokenizer.texts_to_sequences(data_train[\"sentence\"])\n",
    "X_test = tokenizer.texts_to_sequences(data_test[\"sentence\"])\n",
    "X_val = tokenizer.texts_to_sequences(data_val[\"sentence\"])\n",
    "\n",
    "vocab_size = len(tokenizer.word_index) + 1"
   ]
  },
  {
   "cell_type": "code",
   "execution_count": null,
   "metadata": {
    "colab": {
     "base_uri": "https://localhost:8080/"
    },
    "id": "QT27TvOxgWWi",
    "outputId": "b9fd15a0-19a8-4bb8-c1c0-1ab91174508f"
   },
   "outputs": [
    {
     "name": "stdout",
     "output_type": "stream",
     "text": [
      "X_train, Longest ID: 66, Average ID length: 19.1663125\n",
      "X_test, Longest ID: 60, Average ID length: 18.634\n",
      "X_val, Longest ID: 61, Average ID length: 18.3535\n"
     ]
    }
   ],
   "source": [
    "# string_name = ['X_train', 'X_test', 'X_val']\n",
    "dict_data = {'X_train': X_train,\n",
    "             'X_test': X_test,\n",
    "             'X_val': X_val}\n",
    "histo_plot_data = np.zeros((3,66))\n",
    "\n",
    "tmp_counter = 0;\n",
    "for key, value in dict_data.items():\n",
    "    feedback = 0;\n",
    "    feedback_sum = 0;\n",
    "    for i in value:\n",
    "        histo_plot_data[tmp_counter, len(i)-1] += 1\n",
    "        feedback_sum += len(i)\n",
    "        if len(i) > feedback:\n",
    "            feedback = len(i)\n",
    "    print(f\"{key}, Longest ID: {feedback}, Average ID length: {feedback_sum/len(value)}\")\n",
    "    tmp_counter += 1\n",
    "del tmp_counter\n",
    "\n",
    "# Longest sentence has 35 elements. Average is around 10.\n",
    "# TODO: This value, which influences padding, should be adjusted I think...\n",
    "# maxlen = 20\n",
    "\n",
    "# Delete unneeded variables\n",
    "del X_train, X_test, X_val, vocab_size, dic_vocabulary, tokenizer, feedback\n",
    "del feedback_sum, dict_data, tmp_counter, i, key, value"
   ]
  },
  {
   "cell_type": "code",
   "execution_count": null,
   "metadata": {
    "colab": {
     "base_uri": "https://localhost:8080/",
     "height": 282
    },
    "id": "F6fuYFdZkTdJ",
    "outputId": "85ea4de4-d3e4-40bf-eae0-f75cf59035d4"
   },
   "outputs": [
    {
     "data": {
      "text/plain": [
       "<BarContainer object of 66 artists>"
      ]
     },
     "execution_count": 44,
     "metadata": {},
     "output_type": "execute_result"
    },
    {
     "data": {
      "image/png": "[encoded data removed]",
      "text/plain": [
       "<Figure size 432x288 with 1 Axes>"
      ]
     },
     "metadata": {
      "needs_background": "light"
     },
     "output_type": "display_data"
    }
   ],
   "source": [
    "# Plotting the ID histogram to see the distribution\n",
    "import matplotlib.pyplot as plt\n",
    "\n",
    "plt.barh(range(1,66+1), histo_plot_data[0,:])\n",
    "plt.barh(range(1,66+1), histo_plot_data[1,:])\n",
    "plt.barh(range(1,66+1), histo_plot_data[2,:])"
   ]
  },
  {
   "cell_type": "markdown",
   "metadata": {
    "id": "rj_ZNEvTknNt"
   },
   "source": [
    "#### BERT Model (Using HuggingFace transformers library)"
   ]
  },
  {
   "cell_type": "code",
   "execution_count": 14,
   "metadata": {
    "colab": {
     "base_uri": "https://localhost:8080/"
    },
    "id": "LNgE8FNJZUm9",
    "outputId": "cecdf713-3819-4b32-ffcd-55197017571b"
   },
   "outputs": [],
   "source": [
    "# !pip install transformers\n",
    "import transformers"
   ]
  },
  {
   "cell_type": "code",
   "execution_count": 15,
   "metadata": {
    "colab": {
     "base_uri": "https://localhost:8080/"
    },
    "id": "ki2YxvB6aLFm",
    "outputId": "ff6412b7-283b-401f-f81e-e317d6c5b93f"
   },
   "outputs": [
    {
     "name": "stderr",
     "output_type": "stream",
     "text": [
      "Some layers from the model checkpoint at distilbert-base-uncased were not used when initializing TFDistilBertModel: ['activation_13', 'vocab_projector', 'vocab_layer_norm', 'vocab_transform']\n",
      "- This IS expected if you are initializing TFDistilBertModel from the checkpoint of a model trained on another task or with another architecture (e.g. initializing a BertForSequenceClassification model from a BertForPreTraining model).\n",
      "- This IS NOT expected if you are initializing TFDistilBertModel from the checkpoint of a model that you expect to be exactly identical (initializing a BertForSequenceClassification model from a BertForSequenceClassification model).\n",
      "All the layers of TFDistilBertModel were initialized from the model checkpoint at distilbert-base-uncased.\n",
      "If your task is similar to the task the model of the checkpoint was trained on, you can already use TFDistilBertModel for predictions without further training.\n"
     ]
    }
   ],
   "source": [
    "from transformers import pipeline\n",
    "\n",
    "# BERT tokenizer\n",
    "# tokenizer = transformers.BertTokenizer.from_pretrained('bert-base-uncased', do_lower_case=True)\n",
    "tokenizer = transformers.AutoTokenizer.from_pretrained('distilbert-base-uncased', num_labels=6, do_lower_case=True)\n",
    "# tokenizer = transformers.AutoTokenizer.from_pretrained(\"prajjwal1/bert-tiny\", num_labels=6, do_lower_case=True)\n",
    "# test_nlp_recognizer = pipeline(\"sentiment-analysis\", model=\"prajjwal1/bert-tiny\")\n",
    "\n",
    "# BERT Model\n",
    "config = transformers.DistilBertConfig(dropout=0.2, attention_dropout=0.2)\n",
    "# config = transformers.AutoConfig(dropout=0.2, attention_dropout=0.2)\n",
    "# config = transformers.AutoConfig.from_pretrained(\"prajjwal1/bert-tiny\", hidden_dropout_prob=0.2)\n",
    "config.output_hidden_states = False\n",
    "\n",
    "nlp = transformers.TFDistilBertModel.from_pretrained('distilbert-base-uncased', config=config)\n",
    "# nlp = transformers.AutoModel.from_pretrained(\"prajjwal1/bert-tiny\", config=config)"
   ]
  },
  {
   "cell_type": "markdown",
   "metadata": {
    "id": "gV9CPtK3lgLh"
   },
   "source": [
    "From the website (https://towardsdatascience.com/text-classification-with-nlp-tf-idf-vs-word2vec-vs-bert-41ff868d1794): <br>\n",
    "*First of all, we need to select the sequence max length. This time I’m gonna choose a much larger number (i.e. 50) because BERT splits unknown words into sub-tokens until it finds a known unigrams. For example, if a made-up word like “zzdata” is given, BERT would split it into [“z”, “##z”, “##data”]. Moreover, we have to insert special tokens into the input text, then generate masks and segments. Finally, put all together in a tensor to get the feature matrix that will have the shape of 3 (ids, masks, segments) x Number of documents in the corpus x Sequence length*"
   ]
  },
  {
   "cell_type": "markdown",
   "metadata": {
    "id": "BIuzBeJQmpT9"
   },
   "source": [
    "So a summary of the large paragraph above:\n",
    "In BERT, we have three things to keep track of\n",
    "1. Token ID: The \"regular\" tokenization. \n",
    "    *  This includes text start token (101), unknown word (100) token, text end token (102), and padding token (0)\n",
    "2. Mask: Distinguishes between text and padding. 0 indicates padding\n",
    "3. Segment: Keeps track of the text end ([SEP]) token\n",
    "\n",
    "Now, we are not using code from the link above. I have directly used the tokenizer object itself."
   ]
  },
  {
   "cell_type": "code",
   "execution_count": 16,
   "metadata": {
    "colab": {
     "base_uri": "https://localhost:8080/",
     "height": 384
    },
    "id": "3tWIPHkdAxZi",
    "outputId": "7e48ed3a-b8be-457e-bda3-cb98c06c00a3"
   },
   "outputs": [
    {
     "name": "stdout",
     "output_type": "stream",
     "text": [
      "X_train: Longest sentence using BERT Tokenization is 72 at index 9753.\n",
      "Average ID length: 12.403\n",
      "X_val: Longest sentence using BERT Tokenization is 57 at index 197.\n",
      "Average ID length: 12.1905\n",
      "X_test: Longest sentence using BERT Tokenization is 44 at index 591.\n",
      "Average ID length: 12.3155\n"
     ]
    },
    {
     "data": {
      "text/plain": [
       "<BarContainer object of 87 artists>"
      ]
     },
     "execution_count": 16,
     "metadata": {},
     "output_type": "execute_result"
    },
    {
     "data": {
      "image/png": "[encoded data removed]",
      "text/plain": [
       "<Figure size 432x288 with 1 Axes>"
      ]
     },
     "metadata": {
      "needs_background": "light"
     },
     "output_type": "display_data"
    }
   ],
   "source": [
    "try:\n",
    "    del idx, masks, segments\n",
    "except:\n",
    "    pass\n",
    "\n",
    "histo_plot_data = np.zeros((3,87))\n",
    "# Set max length of the sentence\n",
    "maxlen=20\n",
    "\n",
    "# I really should be using data cleaning that I used for Word Embedding, but let's have something working first.\n",
    "def bert_tokenize(corpus, dataset_str):\n",
    "    histo_plot_data = np.zeros((87))\n",
    "    # corpus = data_train[\"sentence_cleaned\"]\n",
    "    idx, masks, segments = [], [], []\n",
    "    longest = 0\n",
    "    longest_index = 0;\n",
    "    feedback_sum = 0\n",
    "\n",
    "    for i, element in enumerate(corpus):\n",
    "\n",
    "        tmp = tokenizer(element)\n",
    "        idx.append(tmp[\"input_ids\"])\n",
    "        masks.append(tmp[\"attention_mask\"])\n",
    "        # segments.append(tmp[\"token_type_ids\"])\n",
    "        \n",
    "        if len(tmp[\"input_ids\"]) > longest:\n",
    "            longest = len(tmp[\"input_ids\"])\n",
    "            longest_index = i\n",
    "\n",
    "        histo_plot_data[len(tmp[\"input_ids\"])-1] += 1\n",
    "        feedback_sum += len(tmp[\"input_ids\"])\n",
    "\n",
    "        # corpus_tokenized.append(tmp)\n",
    "    print(f\"{dataset_str}: Longest sentence using BERT Tokenization is {longest} at index {longest_index}.\")\n",
    "    print(f\"Average ID length: {feedback_sum/len(corpus)}\")\n",
    "\n",
    "    for i, element in enumerate(idx):\n",
    "        tmp = maxlen - len(element)\n",
    "        if tmp > 0:\n",
    "            idx[i] += tmp*[0]\n",
    "            masks[i] += tmp*[0]\n",
    "            # segments[i] += tmp*[1]\n",
    "        else:\n",
    "            idx[i] = idx[i][0:maxlen]\n",
    "            idx[i][maxlen-1] = 102\n",
    "            masks[i] = masks[i][0:maxlen]\n",
    "            # segments[i] = segments[i][0:maxlen]\n",
    "    return [np.asarray(idx, dtype='int32'), np.asarray(masks, dtype='int32')], histo_plot_data\n",
    "\n",
    "X_train, histo_plot_data[0,:]  = bert_tokenize(data_train[\"sentence_cleaned\"], 'X_train')\n",
    "X_val, histo_plot_data[1,:] = bert_tokenize(data_val[\"sentence_cleaned\"], 'X_val')\n",
    "X_test, histo_plot_data[2,:] = bert_tokenize(data_test[\"sentence_cleaned\"], 'X_test')\n",
    "\n",
    "# X_train=[np.asarray(idx, dtype='int32'), \n",
    "#          np.asarray(masks, dtype='int32')]\n",
    "\n",
    "# Plotting the ID histogram to see the distribution\n",
    "import matplotlib.pyplot as plt\n",
    "plt.barh(range(1,87+1), histo_plot_data[0,:])\n",
    "plt.barh(range(1,87+1), histo_plot_data[1,:])\n",
    "plt.barh(range(1,87+1), histo_plot_data[2,:])\n"
   ]
  },
  {
   "cell_type": "code",
   "execution_count": null,
   "metadata": {
    "id": "07uPrJiyNOb4"
   },
   "outputs": [],
   "source": [
    "# X_train=[np.asarray(idx, dtype='int32'), \n",
    "#          np.asarray(masks, dtype='int32')]#, \n",
    "#         #  np.asarray(segments, dtype='int32')]"
   ]
  },
  {
   "cell_type": "markdown",
   "metadata": {
    "id": "tIjDY0WsNHmv"
   },
   "source": [
    "BERT NN"
   ]
  },
  {
   "cell_type": "code",
   "execution_count": 17,
   "metadata": {
    "colab": {
     "base_uri": "https://localhost:8080/"
    },
    "id": "dwwmQlfFNG4g",
    "outputId": "f30ac25b-337d-4429-d954-21b7fa3971bb"
   },
   "outputs": [
    {
     "name": "stdout",
     "output_type": "stream",
     "text": [
      "Model: \"model\"\n",
      "__________________________________________________________________________________________________\n",
      " Layer (type)                   Output Shape         Param #     Connected to                     \n",
      "==================================================================================================\n",
      " input_idx (InputLayer)         [(None, 20)]         0           []                               \n",
      "                                                                                                  \n",
      " input_masks (InputLayer)       [(None, 20)]         0           []                               \n",
      "                                                                                                  \n",
      " tf_distil_bert_model (TFDistil  TFBaseModelOutput(l  66362880   ['input_idx[0][0]',              \n",
      " BertModel)                     ast_hidden_state=(N               'input_masks[0][0]']            \n",
      "                                one, 20, 768),                                                    \n",
      "                                 hidden_states=None                                               \n",
      "                                , attentions=None)                                                \n",
      "                                                                                                  \n",
      " global_average_pooling1d (Glob  (None, 768)         0           ['tf_distil_bert_model[0][0]']   \n",
      " alAveragePooling1D)                                                                              \n",
      "                                                                                                  \n",
      " dense (Dense)                  (None, 64)           49216       ['global_average_pooling1d[0][0]'\n",
      "                                                                 ]                                \n",
      "                                                                                                  \n",
      " dense_1 (Dense)                (None, 6)            390         ['dense[0][0]']                  \n",
      "                                                                                                  \n",
      "==================================================================================================\n",
      "Total params: 66,412,486\n",
      "Trainable params: 66,412,486\n",
      "Non-trainable params: 0\n",
      "__________________________________________________________________________________________________\n"
     ]
    }
   ],
   "source": [
    "from keras.models import Sequential\n",
    "from keras import layers, models, optimizers\n",
    "import keras\n",
    "import tensorflow as tf\n",
    "\n",
    "# Inputs\n",
    "idx = layers.Input((maxlen), dtype='int32',name='input_idx')\n",
    "masks = layers.Input((maxlen), dtype='int32',name='input_masks')\n",
    "# segments = layers.Input((maxlen), dtype='int32',name='input_segments')\n",
    "\n",
    "# Pre-trained BERT\n",
    "# we already import nlp above, we are using that.\n",
    "\n",
    "# nlp = transformers.TFBertModel.from_pretrained('bert-base-uncased')\n",
    "bert_out = nlp([idx, masks])\n",
    "\n",
    "# fine-tuning\n",
    "x = layers.GlobalAveragePooling1D()(bert_out[0])\n",
    "# x = layers.Dense(64, activation='relu')(x)\n",
    "x = layers.Dense(64, activation='relu')(x)\n",
    "# x = layers.Dense(64, activation='sigmoid')(x)\n",
    "y_out = layers.Dense(6, activation='softmax')(x)\n",
    "\n",
    "model = models.Model([idx, masks], y_out)\n",
    "\n",
    "# The BERT model is pre-trained; we don't need to train that layer. Only train the last two Dense layers basically\n",
    "for layer in model.layers[:4]:\n",
    "    layer.trainable=False\n",
    "\n",
    "# model.compile(optimizer=tf.keras.optimizers.Adam(learning_rate=3e-5, epsilon=1e-08, clipnorm=1.0), \n",
    "            #   loss=tf.keras.losses.SparseCategoricalCrossentropy(from_logits=True), \n",
    "            #   metrics=[tf.keras.metrics.SparseCategoricalAccuracy('accuracy')])\n",
    "\n",
    "model.compile(loss='sparse_categorical_crossentropy', \n",
    "              optimizer='adam',\n",
    "            #   optimizer=tf.keras.optimizers.Adam(learning_rate=3e-5, epsilon=1e-08, clipnorm=1.0), \n",
    "              metrics=['accuracy'])\n",
    "model.summary()\n"
   ]
  },
  {
   "cell_type": "code",
   "execution_count": 18,
   "metadata": {
    "colab": {
     "base_uri": "https://localhost:8080/",
     "height": 375
    },
    "id": "8xn3kRMqSBop",
    "outputId": "490787c0-9d3d-42a3-b504-624f235f14e6",
    "tags": []
   },
   "outputs": [
    {
     "name": "stdout",
     "output_type": "stream",
     "text": [
      "Epoch 1/10\n",
      "320/320 [==============================] - 62s 175ms/step - loss: 1.6119 - accuracy: 0.3213 - val_loss: 1.5812 - val_accuracy: 0.3520\n",
      "Epoch 2/10\n",
      "320/320 [==============================] - 55s 173ms/step - loss: 1.5841 - accuracy: 0.3254 - val_loss: 1.6170 - val_accuracy: 0.2750\n",
      "Epoch 3/10\n",
      "320/320 [==============================] - 55s 172ms/step - loss: 1.5810 - accuracy: 0.3313 - val_loss: 1.5886 - val_accuracy: 0.2750\n",
      "Epoch 4/10\n",
      "320/320 [==============================] - 56s 174ms/step - loss: 1.5802 - accuracy: 0.3293 - val_loss: 1.6056 - val_accuracy: 0.2750\n",
      "Epoch 5/10\n",
      " 67/320 [=====>........................] - ETA: 42s - loss: 1.5953 - accuracy: 0.3134"
     ]
    },
    {
     "ename": "KeyboardInterrupt",
     "evalue": "",
     "output_type": "error",
     "traceback": [
      "\u001b[0;31m---------------------------------------------------------------------------\u001b[0m",
      "\u001b[0;31mKeyboardInterrupt\u001b[0m                         Traceback (most recent call last)",
      "Input \u001b[0;32mIn [18]\u001b[0m, in \u001b[0;36m<module>\u001b[0;34m\u001b[0m\n\u001b[0;32m----> 1\u001b[0m \u001b[43mmodel\u001b[49m\u001b[38;5;241;43m.\u001b[39;49m\u001b[43mfit\u001b[49m\u001b[43m(\u001b[49m\u001b[43mx\u001b[49m\u001b[38;5;241;43m=\u001b[39;49m\u001b[43mX_train\u001b[49m\u001b[43m,\u001b[49m\u001b[43m \u001b[49m\u001b[43my\u001b[49m\u001b[38;5;241;43m=\u001b[39;49m\u001b[43mdata_train\u001b[49m\u001b[43m[\u001b[49m\u001b[38;5;124;43m'\u001b[39;49m\u001b[38;5;124;43memotion_enc\u001b[39;49m\u001b[38;5;124;43m'\u001b[39;49m\u001b[43m]\u001b[49m\u001b[43m,\u001b[49m\u001b[43m \u001b[49m\u001b[43mbatch_size\u001b[49m\u001b[38;5;241;43m=\u001b[39;49m\u001b[38;5;241;43m50\u001b[39;49m\u001b[43m,\u001b[49m\u001b[43m \u001b[49m\u001b[43mepochs\u001b[49m\u001b[38;5;241;43m=\u001b[39;49m\u001b[38;5;241;43m10\u001b[39;49m\u001b[43m,\u001b[49m\n\u001b[1;32m      2\u001b[0m \u001b[43m                     \u001b[49m\u001b[43mshuffle\u001b[49m\u001b[38;5;241;43m=\u001b[39;49m\u001b[38;5;28;43;01mTrue\u001b[39;49;00m\u001b[43m,\u001b[49m\u001b[43m \u001b[49m\u001b[43mverbose\u001b[49m\u001b[38;5;241;43m=\u001b[39;49m\u001b[38;5;241;43m1\u001b[39;49m\u001b[43m,\u001b[49m\u001b[43m \u001b[49m\u001b[43mvalidation_data\u001b[49m\u001b[38;5;241;43m=\u001b[39;49m\u001b[43m[\u001b[49m\u001b[43mX_val\u001b[49m\u001b[43m,\u001b[49m\u001b[43m \u001b[49m\u001b[43mdata_val\u001b[49m\u001b[43m[\u001b[49m\u001b[38;5;124;43m'\u001b[39;49m\u001b[38;5;124;43memotion_enc\u001b[39;49m\u001b[38;5;124;43m'\u001b[39;49m\u001b[43m]\u001b[49m\u001b[43m]\u001b[49m\u001b[43m)\u001b[49m\n",
      "File \u001b[0;32m~/.pyenv/versions/eece571T/lib/python3.9/site-packages/keras/utils/traceback_utils.py:64\u001b[0m, in \u001b[0;36mfilter_traceback.<locals>.error_handler\u001b[0;34m(*args, **kwargs)\u001b[0m\n\u001b[1;32m     62\u001b[0m filtered_tb \u001b[38;5;241m=\u001b[39m \u001b[38;5;28;01mNone\u001b[39;00m\n\u001b[1;32m     63\u001b[0m \u001b[38;5;28;01mtry\u001b[39;00m:\n\u001b[0;32m---> 64\u001b[0m   \u001b[38;5;28;01mreturn\u001b[39;00m \u001b[43mfn\u001b[49m\u001b[43m(\u001b[49m\u001b[38;5;241;43m*\u001b[39;49m\u001b[43margs\u001b[49m\u001b[43m,\u001b[49m\u001b[43m \u001b[49m\u001b[38;5;241;43m*\u001b[39;49m\u001b[38;5;241;43m*\u001b[39;49m\u001b[43mkwargs\u001b[49m\u001b[43m)\u001b[49m\n\u001b[1;32m     65\u001b[0m \u001b[38;5;28;01mexcept\u001b[39;00m \u001b[38;5;167;01mException\u001b[39;00m \u001b[38;5;28;01mas\u001b[39;00m e:  \u001b[38;5;66;03m# pylint: disable=broad-except\u001b[39;00m\n\u001b[1;32m     66\u001b[0m   filtered_tb \u001b[38;5;241m=\u001b[39m _process_traceback_frames(e\u001b[38;5;241m.\u001b[39m__traceback__)\n",
      "File \u001b[0;32m~/.pyenv/versions/eece571T/lib/python3.9/site-packages/keras/engine/training.py:1384\u001b[0m, in \u001b[0;36mModel.fit\u001b[0;34m(self, x, y, batch_size, epochs, verbose, callbacks, validation_split, validation_data, shuffle, class_weight, sample_weight, initial_epoch, steps_per_epoch, validation_steps, validation_batch_size, validation_freq, max_queue_size, workers, use_multiprocessing)\u001b[0m\n\u001b[1;32m   1377\u001b[0m \u001b[38;5;28;01mwith\u001b[39;00m tf\u001b[38;5;241m.\u001b[39mprofiler\u001b[38;5;241m.\u001b[39mexperimental\u001b[38;5;241m.\u001b[39mTrace(\n\u001b[1;32m   1378\u001b[0m     \u001b[38;5;124m'\u001b[39m\u001b[38;5;124mtrain\u001b[39m\u001b[38;5;124m'\u001b[39m,\n\u001b[1;32m   1379\u001b[0m     epoch_num\u001b[38;5;241m=\u001b[39mepoch,\n\u001b[1;32m   1380\u001b[0m     step_num\u001b[38;5;241m=\u001b[39mstep,\n\u001b[1;32m   1381\u001b[0m     batch_size\u001b[38;5;241m=\u001b[39mbatch_size,\n\u001b[1;32m   1382\u001b[0m     _r\u001b[38;5;241m=\u001b[39m\u001b[38;5;241m1\u001b[39m):\n\u001b[1;32m   1383\u001b[0m   callbacks\u001b[38;5;241m.\u001b[39mon_train_batch_begin(step)\n\u001b[0;32m-> 1384\u001b[0m   tmp_logs \u001b[38;5;241m=\u001b[39m \u001b[38;5;28;43mself\u001b[39;49m\u001b[38;5;241;43m.\u001b[39;49m\u001b[43mtrain_function\u001b[49m\u001b[43m(\u001b[49m\u001b[43miterator\u001b[49m\u001b[43m)\u001b[49m\n\u001b[1;32m   1385\u001b[0m   \u001b[38;5;28;01mif\u001b[39;00m data_handler\u001b[38;5;241m.\u001b[39mshould_sync:\n\u001b[1;32m   1386\u001b[0m     context\u001b[38;5;241m.\u001b[39masync_wait()\n",
      "File \u001b[0;32m~/.pyenv/versions/eece571T/lib/python3.9/site-packages/tensorflow/python/util/traceback_utils.py:150\u001b[0m, in \u001b[0;36mfilter_traceback.<locals>.error_handler\u001b[0;34m(*args, **kwargs)\u001b[0m\n\u001b[1;32m    148\u001b[0m filtered_tb \u001b[38;5;241m=\u001b[39m \u001b[38;5;28;01mNone\u001b[39;00m\n\u001b[1;32m    149\u001b[0m \u001b[38;5;28;01mtry\u001b[39;00m:\n\u001b[0;32m--> 150\u001b[0m   \u001b[38;5;28;01mreturn\u001b[39;00m \u001b[43mfn\u001b[49m\u001b[43m(\u001b[49m\u001b[38;5;241;43m*\u001b[39;49m\u001b[43margs\u001b[49m\u001b[43m,\u001b[49m\u001b[43m \u001b[49m\u001b[38;5;241;43m*\u001b[39;49m\u001b[38;5;241;43m*\u001b[39;49m\u001b[43mkwargs\u001b[49m\u001b[43m)\u001b[49m\n\u001b[1;32m    151\u001b[0m \u001b[38;5;28;01mexcept\u001b[39;00m \u001b[38;5;167;01mException\u001b[39;00m \u001b[38;5;28;01mas\u001b[39;00m e:\n\u001b[1;32m    152\u001b[0m   filtered_tb \u001b[38;5;241m=\u001b[39m _process_traceback_frames(e\u001b[38;5;241m.\u001b[39m__traceback__)\n",
      "File \u001b[0;32m~/.pyenv/versions/eece571T/lib/python3.9/site-packages/tensorflow/python/eager/def_function.py:915\u001b[0m, in \u001b[0;36mFunction.__call__\u001b[0;34m(self, *args, **kwds)\u001b[0m\n\u001b[1;32m    912\u001b[0m compiler \u001b[38;5;241m=\u001b[39m \u001b[38;5;124m\"\u001b[39m\u001b[38;5;124mxla\u001b[39m\u001b[38;5;124m\"\u001b[39m \u001b[38;5;28;01mif\u001b[39;00m \u001b[38;5;28mself\u001b[39m\u001b[38;5;241m.\u001b[39m_jit_compile \u001b[38;5;28;01melse\u001b[39;00m \u001b[38;5;124m\"\u001b[39m\u001b[38;5;124mnonXla\u001b[39m\u001b[38;5;124m\"\u001b[39m\n\u001b[1;32m    914\u001b[0m \u001b[38;5;28;01mwith\u001b[39;00m OptionalXlaContext(\u001b[38;5;28mself\u001b[39m\u001b[38;5;241m.\u001b[39m_jit_compile):\n\u001b[0;32m--> 915\u001b[0m   result \u001b[38;5;241m=\u001b[39m \u001b[38;5;28;43mself\u001b[39;49m\u001b[38;5;241;43m.\u001b[39;49m\u001b[43m_call\u001b[49m\u001b[43m(\u001b[49m\u001b[38;5;241;43m*\u001b[39;49m\u001b[43margs\u001b[49m\u001b[43m,\u001b[49m\u001b[43m \u001b[49m\u001b[38;5;241;43m*\u001b[39;49m\u001b[38;5;241;43m*\u001b[39;49m\u001b[43mkwds\u001b[49m\u001b[43m)\u001b[49m\n\u001b[1;32m    917\u001b[0m new_tracing_count \u001b[38;5;241m=\u001b[39m \u001b[38;5;28mself\u001b[39m\u001b[38;5;241m.\u001b[39mexperimental_get_tracing_count()\n\u001b[1;32m    918\u001b[0m without_tracing \u001b[38;5;241m=\u001b[39m (tracing_count \u001b[38;5;241m==\u001b[39m new_tracing_count)\n",
      "File \u001b[0;32m~/.pyenv/versions/eece571T/lib/python3.9/site-packages/tensorflow/python/eager/def_function.py:947\u001b[0m, in \u001b[0;36mFunction._call\u001b[0;34m(self, *args, **kwds)\u001b[0m\n\u001b[1;32m    944\u001b[0m   \u001b[38;5;28mself\u001b[39m\u001b[38;5;241m.\u001b[39m_lock\u001b[38;5;241m.\u001b[39mrelease()\n\u001b[1;32m    945\u001b[0m   \u001b[38;5;66;03m# In this case we have created variables on the first call, so we run the\u001b[39;00m\n\u001b[1;32m    946\u001b[0m   \u001b[38;5;66;03m# defunned version which is guaranteed to never create variables.\u001b[39;00m\n\u001b[0;32m--> 947\u001b[0m   \u001b[38;5;28;01mreturn\u001b[39;00m \u001b[38;5;28;43mself\u001b[39;49m\u001b[38;5;241;43m.\u001b[39;49m\u001b[43m_stateless_fn\u001b[49m\u001b[43m(\u001b[49m\u001b[38;5;241;43m*\u001b[39;49m\u001b[43margs\u001b[49m\u001b[43m,\u001b[49m\u001b[43m \u001b[49m\u001b[38;5;241;43m*\u001b[39;49m\u001b[38;5;241;43m*\u001b[39;49m\u001b[43mkwds\u001b[49m\u001b[43m)\u001b[49m  \u001b[38;5;66;03m# pylint: disable=not-callable\u001b[39;00m\n\u001b[1;32m    948\u001b[0m \u001b[38;5;28;01melif\u001b[39;00m \u001b[38;5;28mself\u001b[39m\u001b[38;5;241m.\u001b[39m_stateful_fn \u001b[38;5;129;01mis\u001b[39;00m \u001b[38;5;129;01mnot\u001b[39;00m \u001b[38;5;28;01mNone\u001b[39;00m:\n\u001b[1;32m    949\u001b[0m   \u001b[38;5;66;03m# Release the lock early so that multiple threads can perform the call\u001b[39;00m\n\u001b[1;32m    950\u001b[0m   \u001b[38;5;66;03m# in parallel.\u001b[39;00m\n\u001b[1;32m    951\u001b[0m   \u001b[38;5;28mself\u001b[39m\u001b[38;5;241m.\u001b[39m_lock\u001b[38;5;241m.\u001b[39mrelease()\n",
      "File \u001b[0;32m~/.pyenv/versions/eece571T/lib/python3.9/site-packages/tensorflow/python/eager/function.py:2956\u001b[0m, in \u001b[0;36mFunction.__call__\u001b[0;34m(self, *args, **kwargs)\u001b[0m\n\u001b[1;32m   2953\u001b[0m \u001b[38;5;28;01mwith\u001b[39;00m \u001b[38;5;28mself\u001b[39m\u001b[38;5;241m.\u001b[39m_lock:\n\u001b[1;32m   2954\u001b[0m   (graph_function,\n\u001b[1;32m   2955\u001b[0m    filtered_flat_args) \u001b[38;5;241m=\u001b[39m \u001b[38;5;28mself\u001b[39m\u001b[38;5;241m.\u001b[39m_maybe_define_function(args, kwargs)\n\u001b[0;32m-> 2956\u001b[0m \u001b[38;5;28;01mreturn\u001b[39;00m \u001b[43mgraph_function\u001b[49m\u001b[38;5;241;43m.\u001b[39;49m\u001b[43m_call_flat\u001b[49m\u001b[43m(\u001b[49m\n\u001b[1;32m   2957\u001b[0m \u001b[43m    \u001b[49m\u001b[43mfiltered_flat_args\u001b[49m\u001b[43m,\u001b[49m\u001b[43m \u001b[49m\u001b[43mcaptured_inputs\u001b[49m\u001b[38;5;241;43m=\u001b[39;49m\u001b[43mgraph_function\u001b[49m\u001b[38;5;241;43m.\u001b[39;49m\u001b[43mcaptured_inputs\u001b[49m\u001b[43m)\u001b[49m\n",
      "File \u001b[0;32m~/.pyenv/versions/eece571T/lib/python3.9/site-packages/tensorflow/python/eager/function.py:1853\u001b[0m, in \u001b[0;36mConcreteFunction._call_flat\u001b[0;34m(self, args, captured_inputs, cancellation_manager)\u001b[0m\n\u001b[1;32m   1849\u001b[0m possible_gradient_type \u001b[38;5;241m=\u001b[39m gradients_util\u001b[38;5;241m.\u001b[39mPossibleTapeGradientTypes(args)\n\u001b[1;32m   1850\u001b[0m \u001b[38;5;28;01mif\u001b[39;00m (possible_gradient_type \u001b[38;5;241m==\u001b[39m gradients_util\u001b[38;5;241m.\u001b[39mPOSSIBLE_GRADIENT_TYPES_NONE\n\u001b[1;32m   1851\u001b[0m     \u001b[38;5;129;01mand\u001b[39;00m executing_eagerly):\n\u001b[1;32m   1852\u001b[0m   \u001b[38;5;66;03m# No tape is watching; skip to running the function.\u001b[39;00m\n\u001b[0;32m-> 1853\u001b[0m   \u001b[38;5;28;01mreturn\u001b[39;00m \u001b[38;5;28mself\u001b[39m\u001b[38;5;241m.\u001b[39m_build_call_outputs(\u001b[38;5;28;43mself\u001b[39;49m\u001b[38;5;241;43m.\u001b[39;49m\u001b[43m_inference_function\u001b[49m\u001b[38;5;241;43m.\u001b[39;49m\u001b[43mcall\u001b[49m\u001b[43m(\u001b[49m\n\u001b[1;32m   1854\u001b[0m \u001b[43m      \u001b[49m\u001b[43mctx\u001b[49m\u001b[43m,\u001b[49m\u001b[43m \u001b[49m\u001b[43margs\u001b[49m\u001b[43m,\u001b[49m\u001b[43m \u001b[49m\u001b[43mcancellation_manager\u001b[49m\u001b[38;5;241;43m=\u001b[39;49m\u001b[43mcancellation_manager\u001b[49m\u001b[43m)\u001b[49m)\n\u001b[1;32m   1855\u001b[0m forward_backward \u001b[38;5;241m=\u001b[39m \u001b[38;5;28mself\u001b[39m\u001b[38;5;241m.\u001b[39m_select_forward_and_backward_functions(\n\u001b[1;32m   1856\u001b[0m     args,\n\u001b[1;32m   1857\u001b[0m     possible_gradient_type,\n\u001b[1;32m   1858\u001b[0m     executing_eagerly)\n\u001b[1;32m   1859\u001b[0m forward_function, args_with_tangents \u001b[38;5;241m=\u001b[39m forward_backward\u001b[38;5;241m.\u001b[39mforward()\n",
      "File \u001b[0;32m~/.pyenv/versions/eece571T/lib/python3.9/site-packages/tensorflow/python/eager/function.py:499\u001b[0m, in \u001b[0;36m_EagerDefinedFunction.call\u001b[0;34m(self, ctx, args, cancellation_manager)\u001b[0m\n\u001b[1;32m    497\u001b[0m \u001b[38;5;28;01mwith\u001b[39;00m _InterpolateFunctionError(\u001b[38;5;28mself\u001b[39m):\n\u001b[1;32m    498\u001b[0m   \u001b[38;5;28;01mif\u001b[39;00m cancellation_manager \u001b[38;5;129;01mis\u001b[39;00m \u001b[38;5;28;01mNone\u001b[39;00m:\n\u001b[0;32m--> 499\u001b[0m     outputs \u001b[38;5;241m=\u001b[39m \u001b[43mexecute\u001b[49m\u001b[38;5;241;43m.\u001b[39;49m\u001b[43mexecute\u001b[49m\u001b[43m(\u001b[49m\n\u001b[1;32m    500\u001b[0m \u001b[43m        \u001b[49m\u001b[38;5;28;43mstr\u001b[39;49m\u001b[43m(\u001b[49m\u001b[38;5;28;43mself\u001b[39;49m\u001b[38;5;241;43m.\u001b[39;49m\u001b[43msignature\u001b[49m\u001b[38;5;241;43m.\u001b[39;49m\u001b[43mname\u001b[49m\u001b[43m)\u001b[49m\u001b[43m,\u001b[49m\n\u001b[1;32m    501\u001b[0m \u001b[43m        \u001b[49m\u001b[43mnum_outputs\u001b[49m\u001b[38;5;241;43m=\u001b[39;49m\u001b[38;5;28;43mself\u001b[39;49m\u001b[38;5;241;43m.\u001b[39;49m\u001b[43m_num_outputs\u001b[49m\u001b[43m,\u001b[49m\n\u001b[1;32m    502\u001b[0m \u001b[43m        \u001b[49m\u001b[43minputs\u001b[49m\u001b[38;5;241;43m=\u001b[39;49m\u001b[43margs\u001b[49m\u001b[43m,\u001b[49m\n\u001b[1;32m    503\u001b[0m \u001b[43m        \u001b[49m\u001b[43mattrs\u001b[49m\u001b[38;5;241;43m=\u001b[39;49m\u001b[43mattrs\u001b[49m\u001b[43m,\u001b[49m\n\u001b[1;32m    504\u001b[0m \u001b[43m        \u001b[49m\u001b[43mctx\u001b[49m\u001b[38;5;241;43m=\u001b[39;49m\u001b[43mctx\u001b[49m\u001b[43m)\u001b[49m\n\u001b[1;32m    505\u001b[0m   \u001b[38;5;28;01melse\u001b[39;00m:\n\u001b[1;32m    506\u001b[0m     outputs \u001b[38;5;241m=\u001b[39m execute\u001b[38;5;241m.\u001b[39mexecute_with_cancellation(\n\u001b[1;32m    507\u001b[0m         \u001b[38;5;28mstr\u001b[39m(\u001b[38;5;28mself\u001b[39m\u001b[38;5;241m.\u001b[39msignature\u001b[38;5;241m.\u001b[39mname),\n\u001b[1;32m    508\u001b[0m         num_outputs\u001b[38;5;241m=\u001b[39m\u001b[38;5;28mself\u001b[39m\u001b[38;5;241m.\u001b[39m_num_outputs,\n\u001b[0;32m   (...)\u001b[0m\n\u001b[1;32m    511\u001b[0m         ctx\u001b[38;5;241m=\u001b[39mctx,\n\u001b[1;32m    512\u001b[0m         cancellation_manager\u001b[38;5;241m=\u001b[39mcancellation_manager)\n",
      "File \u001b[0;32m~/.pyenv/versions/eece571T/lib/python3.9/site-packages/tensorflow/python/eager/execute.py:54\u001b[0m, in \u001b[0;36mquick_execute\u001b[0;34m(op_name, num_outputs, inputs, attrs, ctx, name)\u001b[0m\n\u001b[1;32m     52\u001b[0m \u001b[38;5;28;01mtry\u001b[39;00m:\n\u001b[1;32m     53\u001b[0m   ctx\u001b[38;5;241m.\u001b[39mensure_initialized()\n\u001b[0;32m---> 54\u001b[0m   tensors \u001b[38;5;241m=\u001b[39m \u001b[43mpywrap_tfe\u001b[49m\u001b[38;5;241;43m.\u001b[39;49m\u001b[43mTFE_Py_Execute\u001b[49m\u001b[43m(\u001b[49m\u001b[43mctx\u001b[49m\u001b[38;5;241;43m.\u001b[39;49m\u001b[43m_handle\u001b[49m\u001b[43m,\u001b[49m\u001b[43m \u001b[49m\u001b[43mdevice_name\u001b[49m\u001b[43m,\u001b[49m\u001b[43m \u001b[49m\u001b[43mop_name\u001b[49m\u001b[43m,\u001b[49m\n\u001b[1;32m     55\u001b[0m \u001b[43m                                      \u001b[49m\u001b[43minputs\u001b[49m\u001b[43m,\u001b[49m\u001b[43m \u001b[49m\u001b[43mattrs\u001b[49m\u001b[43m,\u001b[49m\u001b[43m \u001b[49m\u001b[43mnum_outputs\u001b[49m\u001b[43m)\u001b[49m\n\u001b[1;32m     56\u001b[0m \u001b[38;5;28;01mexcept\u001b[39;00m core\u001b[38;5;241m.\u001b[39m_NotOkStatusException \u001b[38;5;28;01mas\u001b[39;00m e:\n\u001b[1;32m     57\u001b[0m   \u001b[38;5;28;01mif\u001b[39;00m name \u001b[38;5;129;01mis\u001b[39;00m \u001b[38;5;129;01mnot\u001b[39;00m \u001b[38;5;28;01mNone\u001b[39;00m:\n",
      "\u001b[0;31mKeyboardInterrupt\u001b[0m: "
     ]
    }
   ],
   "source": [
    "model.fit(x=X_train, y=data_train['emotion_enc'], batch_size=50, epochs=10,\n",
    "                     shuffle=True, verbose=1, validation_data=[X_val, data_val['emotion_enc']])"
   ]
  },
  {
   "cell_type": "code",
   "execution_count": null,
   "metadata": {
    "id": "lzhHn8vezOfu"
   },
   "outputs": [],
   "source": [
    "# Testing the tokenizer model...\n",
    "\n",
    "# text_test = [\"this is an amazing movie\", \"this is a crappy move on your part\"]\n",
    "# # text_preprocessed = bert_preprocess_model(text_test)\n",
    "# text_preprocessed = tokenizer(text_test)\n",
    "# print(text_preprocessed)"
   ]
  },
  {
   "cell_type": "markdown",
   "metadata": {
    "id": "fjW1a7SQwK57"
   },
   "source": [
    "#### Doing some other testing here"
   ]
  },
  {
   "cell_type": "code",
   "execution_count": null,
   "metadata": {
    "id": "rjxt-OnIlIh8"
   },
   "outputs": [],
   "source": [
    "# Get feature matrix\n",
    "# import re\n",
    "\n",
    "# corpus = data_train[\"sentence\"]\n",
    "\n",
    "# # Choose large maximum length as BERT splits made-up word into subtokens until it recognizes a word\n",
    "# # In our case, the longest sentence is 300 characters, so I'm just going to set maxlen to 300 for now\n",
    "# maxlen = 50\n",
    "\n",
    "# # add special tokens\n",
    "# maxqnans = int((maxlen-20)/2)\n",
    "# corpus_tokenized = [\"[CLS] \"+\n",
    "#              \" \".join(tokenizer.tokenize(re.sub(r'[^\\w\\s]+|\\n', '', \n",
    "#              str(txt).lower().strip()))[:maxqnans])+\n",
    "#              \" [SEP] \" for txt in corpus]\n",
    "\n",
    "# # generate masks\n",
    "# masks = [[1]*len(txt.split(\" \")) + [0]*(maxlen - len(txt.split(\" \"))) for txt in corpus_tokenized]\n",
    "\n",
    "# # Padding\n",
    "# txt2seq = [txt + \" [PAD]\"*(maxlen-len(txt.split(\" \"))) if len(txt.split(\" \")) != maxlen else txt for txt in corpus_tokenized]\n",
    "\n",
    "# # Generate idx\n",
    "# idx = [tokenizer.encode(seq.split(\" \")) for seq in txt2seq]\n",
    "\n",
    "# ## generate segments\n",
    "# segments = [] \n",
    "# for seq in txt2seq:\n",
    "#     temp, i = [], 0\n",
    "#     for token in seq.split(\" \"):\n",
    "#         temp.append(i)\n",
    "#         if token == \"[SEP]\":\n",
    "#              i += 1\n",
    "#     segments.append(temp)\n",
    "\n",
    "# ## feature matrix\n",
    "# X_train = [np.asarray(idx, dtype='int32'), \n",
    "#            np.asarray(masks, dtype='int32'), \n",
    "#            np.asarray(segments, dtype='int32')]\n"
   ]
  },
  {
   "cell_type": "code",
   "execution_count": null,
   "metadata": {
    "id": "DHy-Bp8urB69"
   },
   "outputs": [],
   "source": [
    "# i = 3\n",
    "# print(\"txt: \", data_train[\"sentence\"].iloc[0])\n",
    "# print(\"tokenized:\", [tokenizer.convert_ids_to_tokens(idx) for idx in X_train[0][i].tolist()])\n",
    "# print(\"idx: \", X_train[0][i])\n",
    "# print(\"mask: \", X_train[1][i])\n",
    "# print(\"segment: \", X_train[2][i])"
   ]
  },
  {
   "cell_type": "code",
   "execution_count": null,
   "metadata": {
    "id": "RiEieHRndTzF"
   },
   "outputs": [],
   "source": [
    "# # Testing embedding with the BERT model\n",
    "# # Hidden layer with embeddings\n",
    "# txt = \"bank river\"\n",
    "# input_ids = np.array(tokenizer.encode(txt))[None, :]\n",
    "# embedding = nlp(input_ids)\n",
    "# embedding[0][0]"
   ]
  },
  {
   "cell_type": "code",
   "execution_count": null,
   "metadata": {
    "id": "qM3f-vhqwJxd"
   },
   "outputs": [],
   "source": [
    "# !pip install \"tensorflow-text==2.8.*\"\n",
    "# !pip install tf-models-official==2.7.0\n",
    "# !pip install official.nlp\n",
    "\n",
    "# import tensorflow as tf\n",
    "# import tensorflow_hub as hub\n",
    "# import tensorflow_text as text\n",
    "# from official.nlp import optimization"
   ]
  },
  {
   "cell_type": "code",
   "execution_count": null,
   "metadata": {
    "cellView": "form",
    "id": "lUUCZ6tWxyZ6"
   },
   "outputs": [],
   "source": [
    "#@title ~Commented Out: Choose a BERT model to fine-tune~\n",
    "\n",
    "# bert_model_name = 'small_bert/bert_en_uncased_L-4_H-512_A-8'  #@param [\"bert_en_uncased_L-12_H-768_A-12\", \"bert_en_cased_L-12_H-768_A-12\", \"bert_multi_cased_L-12_H-768_A-12\", \"small_bert/bert_en_uncased_L-2_H-128_A-2\", \"small_bert/bert_en_uncased_L-2_H-256_A-4\", \"small_bert/bert_en_uncased_L-2_H-512_A-8\", \"small_bert/bert_en_uncased_L-2_H-768_A-12\", \"small_bert/bert_en_uncased_L-4_H-128_A-2\", \"small_bert/bert_en_uncased_L-4_H-256_A-4\", \"small_bert/bert_en_uncased_L-4_H-512_A-8\", \"small_bert/bert_en_uncased_L-4_H-768_A-12\", \"small_bert/bert_en_uncased_L-6_H-128_A-2\", \"small_bert/bert_en_uncased_L-6_H-256_A-4\", \"small_bert/bert_en_uncased_L-6_H-512_A-8\", \"small_bert/bert_en_uncased_L-6_H-768_A-12\", \"small_bert/bert_en_uncased_L-8_H-128_A-2\", \"small_bert/bert_en_uncased_L-8_H-256_A-4\", \"small_bert/bert_en_uncased_L-8_H-512_A-8\", \"small_bert/bert_en_uncased_L-8_H-768_A-12\", \"small_bert/bert_en_uncased_L-10_H-128_A-2\", \"small_bert/bert_en_uncased_L-10_H-256_A-4\", \"small_bert/bert_en_uncased_L-10_H-512_A-8\", \"small_bert/bert_en_uncased_L-10_H-768_A-12\", \"small_bert/bert_en_uncased_L-12_H-128_A-2\", \"small_bert/bert_en_uncased_L-12_H-256_A-4\", \"small_bert/bert_en_uncased_L-12_H-512_A-8\", \"small_bert/bert_en_uncased_L-12_H-768_A-12\", \"albert_en_base\", \"electra_small\", \"electra_base\", \"experts_pubmed\", \"experts_wiki_books\", \"talking-heads_base\"]\n",
    "\n",
    "# map_name_to_handle = {\n",
    "#     'bert_en_uncased_L-12_H-768_A-12':\n",
    "#         'https://tfhub.dev/tensorflow/bert_en_uncased_L-12_H-768_A-12/3',\n",
    "#     'bert_en_cased_L-12_H-768_A-12':\n",
    "#         'https://tfhub.dev/tensorflow/bert_en_cased_L-12_H-768_A-12/3',\n",
    "#     'bert_multi_cased_L-12_H-768_A-12':\n",
    "#         'https://tfhub.dev/tensorflow/bert_multi_cased_L-12_H-768_A-12/3',\n",
    "#     'small_bert/bert_en_uncased_L-2_H-128_A-2':\n",
    "#         'https://tfhub.dev/tensorflow/small_bert/bert_en_uncased_L-2_H-128_A-2/1',\n",
    "#     'small_bert/bert_en_uncased_L-2_H-256_A-4':\n",
    "#         'https://tfhub.dev/tensorflow/small_bert/bert_en_uncased_L-2_H-256_A-4/1',\n",
    "#     'small_bert/bert_en_uncased_L-2_H-512_A-8':\n",
    "#         'https://tfhub.dev/tensorflow/small_bert/bert_en_uncased_L-2_H-512_A-8/1',\n",
    "#     'small_bert/bert_en_uncased_L-2_H-768_A-12':\n",
    "#         'https://tfhub.dev/tensorflow/small_bert/bert_en_uncased_L-2_H-768_A-12/1',\n",
    "#     'small_bert/bert_en_uncased_L-4_H-128_A-2':\n",
    "#         'https://tfhub.dev/tensorflow/small_bert/bert_en_uncased_L-4_H-128_A-2/1',\n",
    "#     'small_bert/bert_en_uncased_L-4_H-256_A-4':\n",
    "#         'https://tfhub.dev/tensorflow/small_bert/bert_en_uncased_L-4_H-256_A-4/1',\n",
    "#     'small_bert/bert_en_uncased_L-4_H-512_A-8':\n",
    "#         'https://tfhub.dev/tensorflow/small_bert/bert_en_uncased_L-4_H-512_A-8/1',\n",
    "#     'small_bert/bert_en_uncased_L-4_H-768_A-12':\n",
    "#         'https://tfhub.dev/tensorflow/small_bert/bert_en_uncased_L-4_H-768_A-12/1',\n",
    "#     'small_bert/bert_en_uncased_L-6_H-128_A-2':\n",
    "#         'https://tfhub.dev/tensorflow/small_bert/bert_en_uncased_L-6_H-128_A-2/1',\n",
    "#     'small_bert/bert_en_uncased_L-6_H-256_A-4':\n",
    "#         'https://tfhub.dev/tensorflow/small_bert/bert_en_uncased_L-6_H-256_A-4/1',\n",
    "#     'small_bert/bert_en_uncased_L-6_H-512_A-8':\n",
    "#         'https://tfhub.dev/tensorflow/small_bert/bert_en_uncased_L-6_H-512_A-8/1',\n",
    "#     'small_bert/bert_en_uncased_L-6_H-768_A-12':\n",
    "#         'https://tfhub.dev/tensorflow/small_bert/bert_en_uncased_L-6_H-768_A-12/1',\n",
    "#     'small_bert/bert_en_uncased_L-8_H-128_A-2':\n",
    "#         'https://tfhub.dev/tensorflow/small_bert/bert_en_uncased_L-8_H-128_A-2/1',\n",
    "#     'small_bert/bert_en_uncased_L-8_H-256_A-4':\n",
    "#         'https://tfhub.dev/tensorflow/small_bert/bert_en_uncased_L-8_H-256_A-4/1',\n",
    "#     'small_bert/bert_en_uncased_L-8_H-512_A-8':\n",
    "#         'https://tfhub.dev/tensorflow/small_bert/bert_en_uncased_L-8_H-512_A-8/1',\n",
    "#     'small_bert/bert_en_uncased_L-8_H-768_A-12':\n",
    "#         'https://tfhub.dev/tensorflow/small_bert/bert_en_uncased_L-8_H-768_A-12/1',\n",
    "#     'small_bert/bert_en_uncased_L-10_H-128_A-2':\n",
    "#         'https://tfhub.dev/tensorflow/small_bert/bert_en_uncased_L-10_H-128_A-2/1',\n",
    "#     'small_bert/bert_en_uncased_L-10_H-256_A-4':\n",
    "#         'https://tfhub.dev/tensorflow/small_bert/bert_en_uncased_L-10_H-256_A-4/1',\n",
    "#     'small_bert/bert_en_uncased_L-10_H-512_A-8':\n",
    "#         'https://tfhub.dev/tensorflow/small_bert/bert_en_uncased_L-10_H-512_A-8/1',\n",
    "#     'small_bert/bert_en_uncased_L-10_H-768_A-12':\n",
    "#         'https://tfhub.dev/tensorflow/small_bert/bert_en_uncased_L-10_H-768_A-12/1',\n",
    "#     'small_bert/bert_en_uncased_L-12_H-128_A-2':\n",
    "#         'https://tfhub.dev/tensorflow/small_bert/bert_en_uncased_L-12_H-128_A-2/1',\n",
    "#     'small_bert/bert_en_uncased_L-12_H-256_A-4':\n",
    "#         'https://tfhub.dev/tensorflow/small_bert/bert_en_uncased_L-12_H-256_A-4/1',\n",
    "#     'small_bert/bert_en_uncased_L-12_H-512_A-8':\n",
    "#         'https://tfhub.dev/tensorflow/small_bert/bert_en_uncased_L-12_H-512_A-8/1',\n",
    "#     'small_bert/bert_en_uncased_L-12_H-768_A-12':\n",
    "#         'https://tfhub.dev/tensorflow/small_bert/bert_en_uncased_L-12_H-768_A-12/1',\n",
    "#     'albert_en_base':\n",
    "#         'https://tfhub.dev/tensorflow/albert_en_base/2',\n",
    "#     'electra_small':\n",
    "#         'https://tfhub.dev/google/electra_small/2',\n",
    "#     'electra_base':\n",
    "#         'https://tfhub.dev/google/electra_base/2',\n",
    "#     'experts_pubmed':\n",
    "#         'https://tfhub.dev/google/experts/bert/pubmed/2',\n",
    "#     'experts_wiki_books':\n",
    "#         'https://tfhub.dev/google/experts/bert/wiki_books/2',\n",
    "#     'talking-heads_base':\n",
    "#         'https://tfhub.dev/tensorflow/talkheads_ggelu_bert_en_base/1',\n",
    "# }\n",
    "\n",
    "# map_model_to_preprocess = {\n",
    "#     'bert_en_uncased_L-12_H-768_A-12':\n",
    "#         'https://tfhub.dev/tensorflow/bert_en_uncased_preprocess/3',\n",
    "#     'bert_en_cased_L-12_H-768_A-12':\n",
    "#         'https://tfhub.dev/tensorflow/bert_en_cased_preprocess/3',\n",
    "#     'small_bert/bert_en_uncased_L-2_H-128_A-2':\n",
    "#         'https://tfhub.dev/tensorflow/bert_en_uncased_preprocess/3',\n",
    "#     'small_bert/bert_en_uncased_L-2_H-256_A-4':\n",
    "#         'https://tfhub.dev/tensorflow/bert_en_uncased_preprocess/3',\n",
    "#     'small_bert/bert_en_uncased_L-2_H-512_A-8':\n",
    "#         'https://tfhub.dev/tensorflow/bert_en_uncased_preprocess/3',\n",
    "#     'small_bert/bert_en_uncased_L-2_H-768_A-12':\n",
    "#         'https://tfhub.dev/tensorflow/bert_en_uncased_preprocess/3',\n",
    "#     'small_bert/bert_en_uncased_L-4_H-128_A-2':\n",
    "#         'https://tfhub.dev/tensorflow/bert_en_uncased_preprocess/3',\n",
    "#     'small_bert/bert_en_uncased_L-4_H-256_A-4':\n",
    "#         'https://tfhub.dev/tensorflow/bert_en_uncased_preprocess/3',\n",
    "#     'small_bert/bert_en_uncased_L-4_H-512_A-8':\n",
    "#         'https://tfhub.dev/tensorflow/bert_en_uncased_preprocess/3',\n",
    "#     'small_bert/bert_en_uncased_L-4_H-768_A-12':\n",
    "#         'https://tfhub.dev/tensorflow/bert_en_uncased_preprocess/3',\n",
    "#     'small_bert/bert_en_uncased_L-6_H-128_A-2':\n",
    "#         'https://tfhub.dev/tensorflow/bert_en_uncased_preprocess/3',\n",
    "#     'small_bert/bert_en_uncased_L-6_H-256_A-4':\n",
    "#         'https://tfhub.dev/tensorflow/bert_en_uncased_preprocess/3',\n",
    "#     'small_bert/bert_en_uncased_L-6_H-512_A-8':\n",
    "#         'https://tfhub.dev/tensorflow/bert_en_uncased_preprocess/3',\n",
    "#     'small_bert/bert_en_uncased_L-6_H-768_A-12':\n",
    "#         'https://tfhub.dev/tensorflow/bert_en_uncased_preprocess/3',\n",
    "#     'small_bert/bert_en_uncased_L-8_H-128_A-2':\n",
    "#         'https://tfhub.dev/tensorflow/bert_en_uncased_preprocess/3',\n",
    "#     'small_bert/bert_en_uncased_L-8_H-256_A-4':\n",
    "#         'https://tfhub.dev/tensorflow/bert_en_uncased_preprocess/3',\n",
    "#     'small_bert/bert_en_uncased_L-8_H-512_A-8':\n",
    "#         'https://tfhub.dev/tensorflow/bert_en_uncased_preprocess/3',\n",
    "#     'small_bert/bert_en_uncased_L-8_H-768_A-12':\n",
    "#         'https://tfhub.dev/tensorflow/bert_en_uncased_preprocess/3',\n",
    "#     'small_bert/bert_en_uncased_L-10_H-128_A-2':\n",
    "#         'https://tfhub.dev/tensorflow/bert_en_uncased_preprocess/3',\n",
    "#     'small_bert/bert_en_uncased_L-10_H-256_A-4':\n",
    "#         'https://tfhub.dev/tensorflow/bert_en_uncased_preprocess/3',\n",
    "#     'small_bert/bert_en_uncased_L-10_H-512_A-8':\n",
    "#         'https://tfhub.dev/tensorflow/bert_en_uncased_preprocess/3',\n",
    "#     'small_bert/bert_en_uncased_L-10_H-768_A-12':\n",
    "#         'https://tfhub.dev/tensorflow/bert_en_uncased_preprocess/3',\n",
    "#     'small_bert/bert_en_uncased_L-12_H-128_A-2':\n",
    "#         'https://tfhub.dev/tensorflow/bert_en_uncased_preprocess/3',\n",
    "#     'small_bert/bert_en_uncased_L-12_H-256_A-4':\n",
    "#         'https://tfhub.dev/tensorflow/bert_en_uncased_preprocess/3',\n",
    "#     'small_bert/bert_en_uncased_L-12_H-512_A-8':\n",
    "#         'https://tfhub.dev/tensorflow/bert_en_uncased_preprocess/3',\n",
    "#     'small_bert/bert_en_uncased_L-12_H-768_A-12':\n",
    "#         'https://tfhub.dev/tensorflow/bert_en_uncased_preprocess/3',\n",
    "#     'bert_multi_cased_L-12_H-768_A-12':\n",
    "#         'https://tfhub.dev/tensorflow/bert_multi_cased_preprocess/3',\n",
    "#     'albert_en_base':\n",
    "#         'https://tfhub.dev/tensorflow/albert_en_preprocess/3',\n",
    "#     'electra_small':\n",
    "#         'https://tfhub.dev/tensorflow/bert_en_uncased_preprocess/3',\n",
    "#     'electra_base':\n",
    "#         'https://tfhub.dev/tensorflow/bert_en_uncased_preprocess/3',\n",
    "#     'experts_pubmed':\n",
    "#         'https://tfhub.dev/tensorflow/bert_en_uncased_preprocess/3',\n",
    "#     'experts_wiki_books':\n",
    "#         'https://tfhub.dev/tensorflow/bert_en_uncased_preprocess/3',\n",
    "#     'talking-heads_base':\n",
    "#         'https://tfhub.dev/tensorflow/bert_en_uncased_preprocess/3',\n",
    "# }\n",
    "\n",
    "# tfhub_handle_encoder = map_name_to_handle[bert_model_name]\n",
    "# tfhub_handle_preprocess = map_model_to_preprocess[bert_model_name]\n",
    "\n",
    "# print(f'BERT model selected           : {tfhub_handle_encoder}')\n",
    "# print(f'Preprocess model auto-selected: {tfhub_handle_preprocess}')"
   ]
  },
  {
   "cell_type": "code",
   "execution_count": null,
   "metadata": {
    "id": "OM-23rpTxKiF"
   },
   "outputs": [],
   "source": [
    "# bert_preprocess_model = hub.KerasLayer(tfhub_handle_preprocess)\n",
    "# text_test = [\"this is an amazing movie\"]\n",
    "# text_preprocessed = bert_preprocess_model(text_test)\n",
    "\n",
    "# print(f'Keys       : {list(text_preprocessed.keys())}')\n",
    "# print(f'Shape      : {text_preprocessed[\"input_word_ids\"].shape}')\n",
    "# print(f'Word Ids   : {text_preprocessed[\"input_word_ids\"][0, :12]}')\n",
    "# print(f'Input Mask : {text_preprocessed[\"input_mask\"][0, :12]}')\n",
    "# print(f'Type Ids   : {text_preprocessed[\"input_type_ids\"][0, :12]}')"
   ]
  },
  {
   "cell_type": "markdown",
   "metadata": {
    "id": "gHqmgSCPXHv9"
   },
   "source": [
    "#### BERT Model (Using Google's Tensorflow Tutorial)\n",
    "\n",
    "[Link](https://colab.research.google.com/github/tensorflow/text/blob/master/docs/tutorials/classify_text_with_bert.ipynb#scrollTo=_OoF9mebuSZc)"
   ]
  },
  {
   "cell_type": "code",
   "execution_count": null,
   "metadata": {
    "colab": {
     "base_uri": "https://localhost:8080/"
    },
    "id": "XzC5ycXzXLzY",
    "outputId": "6841f280-3a1c-4cc3-eaff-bbe41cd89074"
   },
   "outputs": [
    {
     "name": "stdout",
     "output_type": "stream",
     "text": [
      "Object `shutil` not found.\n"
     ]
    }
   ],
   "source": [
    "# A dependency of the preprocessing for BERT inputs\n",
    "!pip install -q -U \"tensorflow-text==2.8.*\"\n",
    "!pip install -q tf-models-official==2.7.0\n",
    "\n",
    "import os\n",
    "import shutil?\n",
    "\n",
    "import tensorflow as tf\n",
    "import tensorflow_hub as hub\n",
    "import tensorflow_text as text\n",
    "from official.nlp import optimization  # to create AdamW optimizer\n",
    "\n",
    "import matplotlib.pyplot as plt\n",
    "\n",
    "tf.get_logger().setLevel('ERROR')"
   ]
  },
  {
   "cell_type": "code",
   "execution_count": null,
   "metadata": {
    "id": "pc9E55PfXo-7"
   },
   "outputs": [],
   "source": [
    "# Get BERT Model\n",
    "\n",
    "# bert_model_name = 'small_bert/bert_en_uncased_L-2_H-128_A-2'\n",
    "\n",
    "# \n",
    "tfhub_handle_encoder = 'https://tfhub.dev/tensorflow/small_bert/bert_en_uncased_L-2_H-128_A-2/1'\n",
    "tfhub_handle_preprocess = 'https://tfhub.dev/tensorflow/bert_en_uncased_preprocess/3'\n",
    "\n",
    "bert_preprocess_model = hub.KerasLayer(tfhub_handle_preprocess)\n",
    "bert_model = hub.KerasLayer(tfhub_handle_encoder)"
   ]
  },
  {
   "cell_type": "code",
   "execution_count": null,
   "metadata": {
    "colab": {
     "base_uri": "https://localhost:8080/"
    },
    "id": "XA_zasFLYo3G",
    "outputId": "9049d73c-51bd-4321-9c47-1f409f062d1e"
   },
   "outputs": [
    {
     "name": "stdout",
     "output_type": "stream",
     "text": [
      "Keys       : ['input_word_ids', 'input_type_ids', 'input_mask']\n",
      "Shape      : (1, 128)\n",
      "Word Ids   : [ 101 2023 2003 2107 2019 6429 3185  999  102    0    0    0]\n",
      "Input Mask : [1 1 1 1 1 1 1 1 1 0 0 0]\n",
      "Type Ids   : [0 0 0 0 0 0 0 0 0 0 0 0]\n",
      "Loaded BERT: https://tfhub.dev/tensorflow/small_bert/bert_en_uncased_L-2_H-128_A-2/1\n",
      "Pooled Outputs Shape:(1, 128)\n",
      "Pooled Outputs Values:[-0.9999944   0.14341964 -0.9989779   0.9951448  -0.9997457   0.9131292\n",
      " -0.9961582  -0.9709751   0.09740015  0.0190705  -0.8488176  -0.09385537]\n",
      "Sequence Outputs Shape:(1, 128, 128)\n",
      "Sequence Outputs Values:[[-0.4372372  -1.0138292  -2.3744745  ... -0.7589708  -2.0910308\n",
      "  -0.25810054]\n",
      " [-1.3369715  -0.3688024   0.578688   ... -2.1810167  -1.7530919\n",
      "  -0.09555068]\n",
      " [-1.0607054  -0.30371025  0.34461316 ... -1.2898598  -1.9519895\n",
      "  -0.12230304]\n",
      " ...\n",
      " [-0.8602272  -0.5440616   0.6583734  ... -1.4765679  -1.7518611\n",
      "   1.1197371 ]\n",
      " [-0.46869004 -0.57152414  0.6725662  ... -1.7302345  -1.9740779\n",
      "   0.9747932 ]\n",
      " [ 0.0203665  -0.7551184   0.59482396 ... -1.9656779  -1.9051421\n",
      "   0.48970217]]\n"
     ]
    }
   ],
   "source": [
    "text_test = ['this is such an amazing movie!']\n",
    "text_preprocessed = bert_preprocess_model(text_test)\n",
    "# text_preprocessed = bert_preprocess_model(data_train[\"sentence_cleaned\"])\n",
    "\n",
    "bert_results = bert_model(text_preprocessed)\n",
    "\n",
    "print(f'Keys       : {list(text_preprocessed.keys())}')\n",
    "print(f'Shape      : {text_preprocessed[\"input_word_ids\"].shape}')\n",
    "print(f'Word Ids   : {text_preprocessed[\"input_word_ids\"][0, :12]}')\n",
    "print(f'Input Mask : {text_preprocessed[\"input_mask\"][0, :12]}')\n",
    "print(f'Type Ids   : {text_preprocessed[\"input_type_ids\"][0, :12]}')\n",
    "\n",
    "\n",
    "print(f'Loaded BERT: {tfhub_handle_encoder}')\n",
    "print(f'Pooled Outputs Shape:{bert_results[\"pooled_output\"].shape}')\n",
    "print(f'Pooled Outputs Values:{bert_results[\"pooled_output\"][0, :12]}')\n",
    "print(f'Sequence Outputs Shape:{bert_results[\"sequence_output\"].shape}')\n",
    "print(f'Sequence Outputs Values:{bert_results[\"sequence_output\"][0, :12]}')"
   ]
  },
  {
   "cell_type": "markdown",
   "metadata": {
    "id": "WDtYhj0SaH7y",
    "tags": []
   },
   "source": [
    "### METHOD 1: Word Embedding\n",
    "\n",
    "I did pre-processing, word stemming, and stuff like that in Data Cleaning. The simplest way avoid words not being found in a database is if word stemming is not performed on the dataset (or as I just found out, use lemmization instead. More computationally complex but better for actually working with word embedding techniques (I think))."
   ]
  },
  {
   "cell_type": "markdown",
   "metadata": {
    "id": "IyQ0gXpbrWuW"
   },
   "source": [
    "Partial reference: Find words in the Word2VecKeyedVector (using 2.3 in source https://github.com/adsieg/Multi_Text_Classification/blob/master/%5BIntroduction%5D%20-%20Big%20tutorial%20-%20Text%20Classification.ipynb) by using `Word2VecKeyedVector.index2word`. This returns a list of the word2vec array."
   ]
  },
  {
   "cell_type": "markdown",
   "metadata": {
    "id": "7otfrHqvs_4S"
   },
   "source": [
    "Instructions used for pre-processing (this part): https://towardsdatascience.com/text-classification-with-nlp-tf-idf-vs-word2vec-vs-bert-41ff868d1794 (as posted on Feb.17)"
   ]
  },
  {
   "cell_type": "markdown",
   "metadata": {
    "id": "8rrmiLXAPbty"
   },
   "source": [
    "For CNN (not attempted): https://medium.com/saarthi-ai/sentence-classification-using-convolutional-neural-networks-ddad72c7048c"
   ]
  },
  {
   "cell_type": "code",
   "execution_count": null,
   "metadata": {
    "colab": {
     "base_uri": "https://localhost:8080/"
    },
    "id": "I4X05qMsQmcl",
    "outputId": "6fba3100-a00f-4acb-ebe9-8ce4d377524b",
    "tags": []
   },
   "outputs": [
    {
     "name": "stdout",
     "output_type": "stream",
     "text": [
      "[==================================================] 100.0% 104.8/104.8MB downloaded\n",
      "/root/gensim-data/glove-twitter-25/glove-twitter-25.gz\n"
     ]
    }
   ],
   "source": [
    "# DO NOT RUN THIS BLOCK MORE THAN ONCE IN ONE SESSION\n",
    "# Import gensim data\n",
    "import gensim.downloader as api\n",
    "import gensim\n",
    "# Load a pre-trained word embedding model\n",
    "# Gensim data obtained from https://github.com/RaRe-Technologies/gensim-data (official source)\n",
    "word_embed = api.load('glove-twitter-25')\n",
    "# word_embed = api.load('word2vec-google-news-300') # This is 1.6GB... good luck doing this on Google Colab...\n",
    "# model = gensim.models.KeyedVectors.load_word2vec_format('GoogleNews-vectors-negative300.bin', binary=True)\n",
    "\n",
    "print(api.load(\"glove-twitter-25\", return_path=True))\n",
    "# print(api.load('word2vec-google-news-300', return_path=True))\n",
    "\n",
    "# Check dimension of word vectors\n",
    "# model.vector_size"
   ]
  },
  {
   "cell_type": "markdown",
   "metadata": {
    "id": "zkZ0LrphPbtz"
   },
   "source": [
    "#### Pre-Processing\n",
    "Using Keras for Preprocessing. Steps taken:\n",
    "1. Called the Tokenizer object\n",
    "2. Added Training Set Vocabulary to the Tokenizer object (`fit_on_texts`)\n",
    "    * Viewed the added vocabulary using `tokenizer.word_index` command.\n",
    "3. Convert all text to numeric values using `text_to_sequences` method function\n",
    "4. Padded the length of every sample so that the input matrix would be equal in size"
   ]
  },
  {
   "cell_type": "code",
   "execution_count": null,
   "metadata": {
    "colab": {
     "base_uri": "https://localhost:8080/",
     "height": 204
    },
    "id": "GZJVqjx0gILU",
    "outputId": "2b5e3197-d430-483f-b937-7ef5e95c457d"
   },
   "outputs": [
    {
     "data": {
      "text/html": [
       "\n",
       "  <div id=\"df-1e3475c6-1624-4ecd-84e0-3786bbfc8b31\">\n",
       "    <div class=\"colab-df-container\">\n",
       "      <div>\n",
       "<style scoped>\n",
       "    .dataframe tbody tr th:only-of-type {\n",
       "        vertical-align: middle;\n",
       "    }\n",
       "\n",
       "    .dataframe tbody tr th {\n",
       "        vertical-align: top;\n",
       "    }\n",
       "\n",
       "    .dataframe thead th {\n",
       "        text-align: right;\n",
       "    }\n",
       "</style>\n",
       "<table border=\"1\" class=\"dataframe\">\n",
       "  <thead>\n",
       "    <tr style=\"text-align: right;\">\n",
       "      <th></th>\n",
       "      <th>sentence</th>\n",
       "      <th>emotion</th>\n",
       "      <th>emotion_enc</th>\n",
       "      <th>sentence_cleaned</th>\n",
       "    </tr>\n",
       "  </thead>\n",
       "  <tbody>\n",
       "    <tr>\n",
       "      <th>0</th>\n",
       "      <td>i didnt feel humiliated</td>\n",
       "      <td>sadness</td>\n",
       "      <td>4</td>\n",
       "      <td>didnt feel humiliated</td>\n",
       "    </tr>\n",
       "    <tr>\n",
       "      <th>1</th>\n",
       "      <td>i can go from feeling so hopeless to so damned...</td>\n",
       "      <td>sadness</td>\n",
       "      <td>4</td>\n",
       "      <td>go feeling hopeless damned hopeful around some...</td>\n",
       "    </tr>\n",
       "    <tr>\n",
       "      <th>2</th>\n",
       "      <td>im grabbing a minute to post i feel greedy wrong</td>\n",
       "      <td>anger</td>\n",
       "      <td>0</td>\n",
       "      <td>im grabbing minute post feel greedy wrong</td>\n",
       "    </tr>\n",
       "    <tr>\n",
       "      <th>3</th>\n",
       "      <td>i am ever feeling nostalgic about the fireplac...</td>\n",
       "      <td>love</td>\n",
       "      <td>3</td>\n",
       "      <td>ever feeling nostalgic fireplace know still pr...</td>\n",
       "    </tr>\n",
       "    <tr>\n",
       "      <th>4</th>\n",
       "      <td>i am feeling grouchy</td>\n",
       "      <td>anger</td>\n",
       "      <td>0</td>\n",
       "      <td>feeling grouchy</td>\n",
       "    </tr>\n",
       "  </tbody>\n",
       "</table>\n",
       "</div>\n",
       "      <button class=\"colab-df-convert\" onclick=\"convertToInteractive('df-1e3475c6-1624-4ecd-84e0-3786bbfc8b31')\"\n",
       "              title=\"Convert this dataframe to an interactive table.\"\n",
       "              style=\"display:none;\">\n",
       "        \n",
       "  <svg xmlns=\"http://www.w3.org/2000/svg\" height=\"24px\"viewBox=\"0 0 24 24\"\n",
       "       width=\"24px\">\n",
       "    <path d=\"M0 0h24v24H0V0z\" fill=\"none\"/>\n",
       "    <path d=\"M18.56 5.44l.94 2.06.94-2.06 2.06-.94-2.06-.94-.94-2.06-.94 2.06-2.06.94zm-11 1L8.5 8.5l.94-2.06 2.06-.94-2.06-.94L8.5 2.5l-.94 2.06-2.06.94zm10 10l.94 2.06.94-2.06 2.06-.94-2.06-.94-.94-2.06-.94 2.06-2.06.94z\"/><path d=\"M17.41 7.96l-1.37-1.37c-.4-.4-.92-.59-1.43-.59-.52 0-1.04.2-1.43.59L10.3 9.45l-7.72 7.72c-.78.78-.78 2.05 0 2.83L4 21.41c.39.39.9.59 1.41.59.51 0 1.02-.2 1.41-.59l7.78-7.78 2.81-2.81c.8-.78.8-2.07 0-2.86zM5.41 20L4 18.59l7.72-7.72 1.47 1.35L5.41 20z\"/>\n",
       "  </svg>\n",
       "      </button>\n",
       "      \n",
       "  <style>\n",
       "    .colab-df-container {\n",
       "      display:flex;\n",
       "      flex-wrap:wrap;\n",
       "      gap: 12px;\n",
       "    }\n",
       "\n",
       "    .colab-df-convert {\n",
       "      background-color: #E8F0FE;\n",
       "      border: none;\n",
       "      border-radius: 50%;\n",
       "      cursor: pointer;\n",
       "      display: none;\n",
       "      fill: #1967D2;\n",
       "      height: 32px;\n",
       "      padding: 0 0 0 0;\n",
       "      width: 32px;\n",
       "    }\n",
       "\n",
       "    .colab-df-convert:hover {\n",
       "      background-color: #E2EBFA;\n",
       "      box-shadow: 0px 1px 2px rgba(60, 64, 67, 0.3), 0px 1px 3px 1px rgba(60, 64, 67, 0.15);\n",
       "      fill: #174EA6;\n",
       "    }\n",
       "\n",
       "    [theme=dark] .colab-df-convert {\n",
       "      background-color: #3B4455;\n",
       "      fill: #D2E3FC;\n",
       "    }\n",
       "\n",
       "    [theme=dark] .colab-df-convert:hover {\n",
       "      background-color: #434B5C;\n",
       "      box-shadow: 0px 1px 3px 1px rgba(0, 0, 0, 0.15);\n",
       "      filter: drop-shadow(0px 1px 2px rgba(0, 0, 0, 0.3));\n",
       "      fill: #FFFFFF;\n",
       "    }\n",
       "  </style>\n",
       "\n",
       "      <script>\n",
       "        const buttonEl =\n",
       "          document.querySelector('#df-1e3475c6-1624-4ecd-84e0-3786bbfc8b31 button.colab-df-convert');\n",
       "        buttonEl.style.display =\n",
       "          google.colab.kernel.accessAllowed ? 'block' : 'none';\n",
       "\n",
       "        async function convertToInteractive(key) {\n",
       "          const element = document.querySelector('#df-1e3475c6-1624-4ecd-84e0-3786bbfc8b31');\n",
       "          const dataTable =\n",
       "            await google.colab.kernel.invokeFunction('convertToInteractive',\n",
       "                                                     [key], {});\n",
       "          if (!dataTable) return;\n",
       "\n",
       "          const docLinkHtml = 'Like what you see? Visit the ' +\n",
       "            '<a target=\"_blank\" href=https://colab.research.google.com/notebooks/data_table.ipynb>data table notebook</a>'\n",
       "            + ' to learn more about interactive tables.';\n",
       "          element.innerHTML = '';\n",
       "          dataTable['output_type'] = 'display_data';\n",
       "          await google.colab.output.renderOutput(dataTable, element);\n",
       "          const docLink = document.createElement('div');\n",
       "          docLink.innerHTML = docLinkHtml;\n",
       "          element.appendChild(docLink);\n",
       "        }\n",
       "      </script>\n",
       "    </div>\n",
       "  </div>\n",
       "  "
      ],
      "text/plain": [
       "                                            sentence  emotion  emotion_enc  \\\n",
       "0                            i didnt feel humiliated  sadness            4   \n",
       "1  i can go from feeling so hopeless to so damned...  sadness            4   \n",
       "2   im grabbing a minute to post i feel greedy wrong    anger            0   \n",
       "3  i am ever feeling nostalgic about the fireplac...     love            3   \n",
       "4                               i am feeling grouchy    anger            0   \n",
       "\n",
       "                                    sentence_cleaned  \n",
       "0                              didnt feel humiliated  \n",
       "1  go feeling hopeless damned hopeful around some...  \n",
       "2          im grabbing minute post feel greedy wrong  \n",
       "3  ever feeling nostalgic fireplace know still pr...  \n",
       "4                                    feeling grouchy  "
      ]
     },
     "execution_count": 67,
     "metadata": {},
     "output_type": "execute_result"
    }
   ],
   "source": [
    "data_train.head()"
   ]
  },
  {
   "cell_type": "code",
   "execution_count": null,
   "metadata": {
    "id": "EUzjRawYPbtz"
   },
   "outputs": [],
   "source": [
    "from keras.preprocessing.text import Tokenizer\n",
    "from keras.preprocessing.sequence import pad_sequences\n",
    "import seaborn as sns\n",
    "\n",
    "tokenizer = Tokenizer()\n",
    "tokenizer.fit_on_texts(data_train[\"sentence_cleaned\"])\n",
    "dic_vocabulary = tokenizer.word_index\n",
    "\n",
    "X_train = tokenizer.texts_to_sequences(data_train[\"sentence_cleaned\"])\n",
    "X_test = tokenizer.texts_to_sequences(data_test[\"sentence_cleaned\"])\n",
    "X_val = tokenizer.texts_to_sequences(data_val[\"sentence_cleaned\"])\n",
    "\n",
    "vocab_size = len(tokenizer.word_index) + 1"
   ]
  },
  {
   "cell_type": "markdown",
   "metadata": {
    "id": "ffDRXRISyhsg"
   },
   "source": [
    "Finding out which data set has the longest \"sentence\" a.k.a. useful words that we did not eliminate via lemmization."
   ]
  },
  {
   "cell_type": "code",
   "execution_count": null,
   "metadata": {
    "colab": {
     "base_uri": "https://localhost:8080/"
    },
    "id": "TfsSVjnqwRRM",
    "outputId": "1ff3a568-c798-412d-c6b2-4625b079f76b"
   },
   "outputs": [
    {
     "name": "stdout",
     "output_type": "stream",
     "text": [
      "X_train, Longest ID: 35, Average ID length: 9.3530625\n",
      "X_test, Longest ID: 30, Average ID length: 8.85\n",
      "X_val, Longest ID: 28, Average ID length: 8.764\n"
     ]
    }
   ],
   "source": [
    "# string_name = ['X_train', 'X_test', 'X_val']\n",
    "dict_data = {'X_train': X_train,\n",
    "             'X_test': X_test,\n",
    "             'X_val': X_val}\n",
    "histo_plot_data = np.zeros((3,35))\n",
    "\n",
    "tmp_counter = 0;\n",
    "for key, value in dict_data.items():\n",
    "    feedback = 0;\n",
    "    feedback_sum = 0;\n",
    "    for i in value:\n",
    "        histo_plot_data[tmp_counter, len(i)-1] += 1\n",
    "        feedback_sum += len(i)\n",
    "        if len(i) > feedback:\n",
    "            feedback = len(i)\n",
    "    print(f\"{key}, Longest ID: {feedback}, Average ID length: {feedback_sum/len(value)}\")\n",
    "    tmp_counter += 1\n",
    "del tmp_counter\n",
    "\n",
    "# Longest sentence has 35 elements. Average is around 10.\n",
    "# TODO: This value, which influences padding, should be adjusted I think...\n",
    "maxlen = 20"
   ]
  },
  {
   "cell_type": "code",
   "execution_count": null,
   "metadata": {
    "colab": {
     "base_uri": "https://localhost:8080/",
     "height": 282
    },
    "id": "uJKPzj9zObv0",
    "outputId": "2d9a792a-6304-44dc-8cec-fdaf373b998c"
   },
   "outputs": [
    {
     "data": {
      "text/plain": [
       "<BarContainer object of 35 artists>"
      ]
     },
     "execution_count": 71,
     "metadata": {},
     "output_type": "execute_result"
    },
    {
     "data": {
      "image/png": "[encoded data removed]",
      "text/plain": [
       "<Figure size 432x288 with 1 Axes>"
      ]
     },
     "metadata": {
      "needs_background": "light"
     },
     "output_type": "display_data"
    }
   ],
   "source": [
    "# Plotting the ID histogram to see the distribution\n",
    "import matplotlib.pyplot as plt\n",
    "\n",
    "plt.barh(range(1,35+1), histo_plot_data[0,:])\n",
    "plt.barh(range(1,35+1), histo_plot_data[1,:])\n",
    "plt.barh(range(1,35+1), histo_plot_data[2,:])"
   ]
  },
  {
   "cell_type": "markdown",
   "metadata": {
    "id": "Y3pBemRHwEN9"
   },
   "source": [
    "Pad each sample to the same length."
   ]
  },
  {
   "cell_type": "code",
   "execution_count": null,
   "metadata": {
    "colab": {
     "base_uri": "https://localhost:8080/",
     "height": 270
    },
    "id": "WhQBTFT6v54X",
    "outputId": "befd3a4e-dd54-454d-c462-f728890b1890"
   },
   "outputs": [
    {
     "data": {
      "image/png": "[encoded data removed]",
      "text/plain": [
       "<Figure size 432x288 with 1 Axes>"
      ]
     },
     "metadata": {
      "needs_background": "light"
     },
     "output_type": "display_data"
    }
   ],
   "source": [
    "X_train = pad_sequences(X_train, padding='post', maxlen=maxlen)\n",
    "X_test = pad_sequences(X_test, padding='post', maxlen=maxlen)\n",
    "X_val = pad_sequences(X_val, padding='post', maxlen=maxlen)\n",
    "\n",
    "# Honestly don't know what this is doing, I just followed the website's instructions\n",
    "# Looks like this shows the padding heat map or something similar to that\n",
    "sns.heatmap(X_train==0, vmin=0, vmax=1, cbar=False)\n",
    "plt.show()"
   ]
  },
  {
   "cell_type": "markdown",
   "metadata": {
    "id": "sh1SpY8hvmmN"
   },
   "source": [
    "Obtain the Embedding Matrix, which is necessary for the machine learning algorithm."
   ]
  },
  {
   "cell_type": "code",
   "execution_count": null,
   "metadata": {
    "colab": {
     "base_uri": "https://localhost:8080/"
    },
    "id": "SjN7DmxxUp3b",
    "outputId": "6af947d2-48e9-415d-e3e9-ebe5f31ced57"
   },
   "outputs": [
    {
     "name": "stdout",
     "output_type": "stream",
     "text": [
      "Number of words in dictionary that have been assigned a matrix of 0's: 872\n"
     ]
    }
   ],
   "source": [
    "embeddings = np.zeros((len(dic_vocabulary)+1, 25))\n",
    "counter=0\n",
    "for word, idx in dic_vocabulary.items():\n",
    "    # embeddings[idx] = word_embed[word]\n",
    "    try:\n",
    "        # Reminder: word_embed is the pre-trained word embedding model...\n",
    "        embeddings[idx] = word_embed[word]\n",
    "    except:\n",
    "        counter += 1\n",
    "        pass\n",
    "\n",
    "print(f\"Number of words in dictionary that have been assigned a matrix of 0's: {counter}\")\n",
    "\n",
    "# word = \"data\"\n",
    "# print(\"dic[word]:\", dic_vocabulary[word], \"|idx\")\n",
    "# print(\"embeddings[idx]:\", embeddings[dic_vocabulary[word]].shape, \n",
    "#       \"|vector\")"
   ]
  },
  {
   "cell_type": "markdown",
   "metadata": {
    "id": "m_0cPtAOdcek"
   },
   "source": [
    "#### Neural Network\n",
    "\n",
    "Referencing source: https://towardsdatascience.com/text-classification-with-nlp-tf-idf-vs-word2vec-vs-bert-41ff868d1794"
   ]
  },
  {
   "cell_type": "code",
   "execution_count": null,
   "metadata": {
    "colab": {
     "base_uri": "https://localhost:8080/"
    },
    "id": "Be-tKnSqdjLK",
    "outputId": "1f4e33f4-d45a-41a0-ee0d-c77a1b8f4dfe"
   },
   "outputs": [
    {
     "name": "stdout",
     "output_type": "stream",
     "text": [
      "Model: \"model_4\"\n",
      "__________________________________________________________________________________________________\n",
      " Layer (type)                   Output Shape         Param #     Connected to                     \n",
      "==================================================================================================\n",
      " input_5 (InputLayer)           [(None, 20)]         0           []                               \n",
      "                                                                                                  \n",
      " embedding_4 (Embedding)        (None, 20, 25)       336975      ['input_5[0][0]']                \n",
      "                                                                                                  \n",
      " permute_4 (Permute)            (None, 25, 20)       0           ['embedding_4[0][0]']            \n",
      "                                                                                                  \n",
      " dense_9 (Dense)                (None, 25, 20)       420         ['permute_4[0][0]']              \n",
      "                                                                                                  \n",
      " attention (Permute)            (None, 20, 25)       0           ['dense_9[0][0]']                \n",
      "                                                                                                  \n",
      " multiply_4 (Multiply)          (None, 20, 25)       0           ['embedding_4[0][0]',            \n",
      "                                                                  'attention[0][0]']              \n",
      "                                                                                                  \n",
      " bidirectional_8 (Bidirectional  (None, 20, 40)      7360        ['multiply_4[0][0]']             \n",
      " )                                                                                                \n",
      "                                                                                                  \n",
      " bidirectional_9 (Bidirectional  (None, 40)          9760        ['bidirectional_8[0][0]']        \n",
      " )                                                                                                \n",
      "                                                                                                  \n",
      " dense_10 (Dense)               (None, 64)           2624        ['bidirectional_9[0][0]']        \n",
      "                                                                                                  \n",
      " dense_11 (Dense)               (None, 6)            390         ['dense_10[0][0]']               \n",
      "                                                                                                  \n",
      "==================================================================================================\n",
      "Total params: 357,529\n",
      "Trainable params: 357,529\n",
      "Non-trainable params: 0\n",
      "__________________________________________________________________________________________________\n"
     ]
    }
   ],
   "source": [
    "from keras.models import Sequential\n",
    "from keras import layers, models, optimizers\n",
    "import keras\n",
    "\n",
    "def attention_layer(inputs, neurons):\n",
    "    x = layers.Permute((2,1))(inputs)\n",
    "    x = layers.Dense(neurons, activation=\"softmax\")(x)\n",
    "    x = layers.Permute((2,1), name='attention')(x)\n",
    "    x = layers.multiply([inputs, x])\n",
    "    return x\n",
    "\n",
    "# input\n",
    "x_in = layers.Input(shape=(maxlen,))\n",
    "\n",
    "# embedding\n",
    "# trainable=False means that these embedding weights will not change. What if they did though?\n",
    "x = layers.Embedding(input_dim=embeddings.shape[0],\n",
    "                     output_dim=embeddings.shape[1],\n",
    "                     weights=[embeddings],\n",
    "                     input_length=maxlen, trainable=True)(x_in)\n",
    "\n",
    "# apply attention\n",
    "x = attention_layer(x, neurons=maxlen)\n",
    "\n",
    "# 2 layers of bidirectional lstm\n",
    "x = layers.Bidirectional(layers.LSTM(units=maxlen, dropout=0.2, return_sequences=True))(x)\n",
    "x = layers.Bidirectional(layers.LSTM(units=maxlen, dropout=0.2))(x)\n",
    "\n",
    "# final dense layers\n",
    "x = layers.Dense(64, activation='relu')(x)\n",
    "y_out = layers.Dense(6, activation='softmax')(x)\n",
    "\n",
    "model = models.Model(x_in, y_out)\n",
    "model.compile(loss='sparse_categorical_crossentropy', optimizer='adam', metrics=['accuracy'])\n",
    "model.summary()"
   ]
  },
  {
   "cell_type": "code",
   "execution_count": null,
   "metadata": {
    "colab": {
     "base_uri": "https://localhost:8080/"
    },
    "id": "SGE2_s1_gB7B",
    "outputId": "46976649-cccd-4d09-c6f7-d1df10388115"
   },
   "outputs": [
    {
     "name": "stdout",
     "output_type": "stream",
     "text": [
      "Epoch 1/20\n",
      "500/500 [==============================] - 21s 29ms/step - loss: 1.4924 - accuracy: 0.4114 - val_loss: 1.3052 - val_accuracy: 0.5155\n",
      "Epoch 2/20\n",
      "500/500 [==============================] - 13s 25ms/step - loss: 1.2320 - accuracy: 0.5321 - val_loss: 1.1119 - val_accuracy: 0.5715\n",
      "Epoch 3/20\n",
      "500/500 [==============================] - 13s 25ms/step - loss: 1.0116 - accuracy: 0.6001 - val_loss: 0.8995 - val_accuracy: 0.6400\n",
      "Epoch 4/20\n",
      "500/500 [==============================] - 13s 25ms/step - loss: 0.7826 - accuracy: 0.6952 - val_loss: 0.7254 - val_accuracy: 0.7350\n",
      "Epoch 5/20\n",
      "500/500 [==============================] - 13s 25ms/step - loss: 0.6021 - accuracy: 0.7732 - val_loss: 0.5989 - val_accuracy: 0.7830\n",
      "Epoch 6/20\n",
      "500/500 [==============================] - 14s 29ms/step - loss: 0.4814 - accuracy: 0.8194 - val_loss: 0.4981 - val_accuracy: 0.8325\n",
      "Epoch 7/20\n",
      "500/500 [==============================] - 13s 26ms/step - loss: 0.3927 - accuracy: 0.8574 - val_loss: 0.4569 - val_accuracy: 0.8455\n",
      "Epoch 8/20\n",
      "500/500 [==============================] - 13s 26ms/step - loss: 0.3319 - accuracy: 0.8813 - val_loss: 0.4304 - val_accuracy: 0.8555\n",
      "Epoch 9/20\n",
      "500/500 [==============================] - 13s 25ms/step - loss: 0.2837 - accuracy: 0.8967 - val_loss: 0.4373 - val_accuracy: 0.8585\n",
      "Epoch 10/20\n",
      "500/500 [==============================] - 13s 26ms/step - loss: 0.2493 - accuracy: 0.9097 - val_loss: 0.4196 - val_accuracy: 0.8560\n",
      "Epoch 11/20\n",
      "500/500 [==============================] - 13s 26ms/step - loss: 0.2239 - accuracy: 0.9184 - val_loss: 0.4091 - val_accuracy: 0.8650\n",
      "Epoch 12/20\n",
      "500/500 [==============================] - 13s 26ms/step - loss: 0.1875 - accuracy: 0.9306 - val_loss: 0.4483 - val_accuracy: 0.8685\n",
      "Epoch 13/20\n",
      "500/500 [==============================] - 13s 26ms/step - loss: 0.1829 - accuracy: 0.9332 - val_loss: 0.3957 - val_accuracy: 0.8755\n",
      "Epoch 14/20\n",
      "500/500 [==============================] - 13s 26ms/step - loss: 0.1668 - accuracy: 0.9396 - val_loss: 0.3557 - val_accuracy: 0.8825\n",
      "Epoch 15/20\n",
      "500/500 [==============================] - 13s 26ms/step - loss: 0.1514 - accuracy: 0.9438 - val_loss: 0.3677 - val_accuracy: 0.8805\n",
      "Epoch 16/20\n",
      "500/500 [==============================] - 13s 26ms/step - loss: 0.1351 - accuracy: 0.9503 - val_loss: 0.3921 - val_accuracy: 0.8805\n",
      "Epoch 17/20\n",
      "500/500 [==============================] - 13s 25ms/step - loss: 0.1250 - accuracy: 0.9538 - val_loss: 0.3749 - val_accuracy: 0.8830\n",
      "Epoch 18/20\n",
      "500/500 [==============================] - 14s 28ms/step - loss: 0.1150 - accuracy: 0.9576 - val_loss: 0.3877 - val_accuracy: 0.8875\n",
      "Epoch 19/20\n",
      "500/500 [==============================] - 21s 41ms/step - loss: 0.1091 - accuracy: 0.9592 - val_loss: 0.4092 - val_accuracy: 0.8825\n",
      "Epoch 20/20\n",
      "500/500 [==============================] - 14s 29ms/step - loss: 0.1024 - accuracy: 0.9624 - val_loss: 0.4094 - val_accuracy: 0.8835\n"
     ]
    },
    {
     "data": {
      "text/plain": [
       "<keras.callbacks.History at 0x7ff5cdce0dd0>"
      ]
     },
     "execution_count": 77,
     "metadata": {},
     "output_type": "execute_result"
    }
   ],
   "source": [
    "# The fitting method should be placed in a variable so that results can be easily extracted later...\n",
    "# For now, I would like to see training happening in real time, so making it verbose I guess.\n",
    "# Still need to adjust hyper-parameters for better results... if I can get better results.\n",
    "# batch_size=256 (default given on the website)\n",
    "model.fit(x=X_train, y=data_train['emotion_enc'], batch_size=32, epochs=20,\n",
    "                     shuffle=True, verbose=1, validation_data=[X_val, data_val['emotion_enc']])"
   ]
  },
  {
   "cell_type": "markdown",
   "metadata": {
    "id": "vhTx_KSoc9Yn"
   },
   "source": [
    "Test data on the fitted model using `model.evaluate()`. Also get the probabilities of each sentence via `model.predict()`"
   ]
  },
  {
   "cell_type": "code",
   "execution_count": null,
   "metadata": {
    "colab": {
     "base_uri": "https://localhost:8080/"
    },
    "id": "DsF5kG-Tc6Mc",
    "outputId": "a7e7c135-9db5-4fd4-decc-cfb64ce83f2a"
   },
   "outputs": [
    {
     "name": "stdout",
     "output_type": "stream",
     "text": [
      "2000/2000 [==============================] - 13s 5ms/step - loss: 0.4022 - accuracy: 0.8830\n"
     ]
    },
    {
     "data": {
      "text/plain": [
       "array([[5.2568888e-05, 2.1097869e-05, 4.4417099e-04, 5.7640176e-07,\n",
       "        9.9948114e-01, 4.1913924e-07],\n",
       "       [8.9937239e-05, 5.2907642e-05, 2.0784813e-05, 1.3567708e-07,\n",
       "        9.9983609e-01, 1.5043787e-07],\n",
       "       [1.1101728e-05, 9.8037917e-06, 2.3443909e-05, 6.2540195e-08,\n",
       "        9.9995542e-01, 6.2094820e-08],\n",
       "       ...,\n",
       "       [4.5340485e-08, 1.3153849e-08, 9.9998450e-01, 1.3308581e-05,\n",
       "        2.1206949e-06, 1.0057495e-08],\n",
       "       [7.6205065e-06, 4.2420129e-06, 9.9926525e-01, 6.4096239e-04,\n",
       "        7.4186173e-05, 7.6518290e-06],\n",
       "       [4.0333030e-06, 4.6915185e-02, 8.8759256e-04, 6.3963824e-05,\n",
       "        1.4737179e-05, 9.5211440e-01]], dtype=float32)"
      ]
     },
     "execution_count": 80,
     "metadata": {},
     "output_type": "execute_result"
    }
   ],
   "source": [
    "model.evaluate(X_test, data_test[\"emotion_enc\"], batch_size=1)\n",
    "model.predict(X_test)"
   ]
  }
 ],
 "metadata": {
  "colab": {
   "collapsed_sections": [
    "ifCzi282UO64",
    "UFTJfJkrO06u",
    "LWVt__H7R9zl",
    "PLR3Zasdel1c",
    "0DW_8szfEo1T",
    "nMPQ0676j_BB",
    "fjW1a7SQwK57",
    "WDtYhj0SaH7y",
    "zkZ0LrphPbtz"
   ],
   "history_visible": true,
   "name": "EECE_571T_Project_BERT.ipynb",
   "provenance": []
  },
  "kernelspec": {
   "display_name": "eece571T",
   "language": "python",
   "name": "eece571t"
  },
  "language_info": {
   "codemirror_mode": {
    "name": "ipython",
    "version": 3
   },
   "file_extension": ".py",
   "mimetype": "text/x-python",
   "name": "python",
   "nbconvert_exporter": "python",
   "pygments_lexer": "ipython3",
   "version": "3.9.9"
  }
 },
 "nbformat": 4,
 "nbformat_minor": 4
}
