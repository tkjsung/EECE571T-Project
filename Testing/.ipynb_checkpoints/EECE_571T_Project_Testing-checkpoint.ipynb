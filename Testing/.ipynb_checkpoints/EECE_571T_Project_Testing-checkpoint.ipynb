{
 "cells": [
  {
   "cell_type": "markdown",
   "metadata": {
    "id": "ELaILu9SPaoy"
   },
   "source": [
    "# EECE 571T Project - NLP with Emotion Dataset\n",
    "\n",
    "Author: Tom Sung\n",
    "\n",
    "Last updated:\n",
    "* Date: March 1, 2022\n",
    "* Time: 6:13pm"
   ]
  },
  {
   "cell_type": "markdown",
   "metadata": {
    "id": "ifCzi282UO64",
    "tags": []
   },
   "source": [
    "## References\n",
    "(There are more references throughout the document, I just haven't consolidated them all here yet)\n",
    "\n",
    "* Making our own word2vec model: https://www.geeksforgeeks.org/python-word-embedding-using-word2vec/\n",
    "* https://medium.com/@adriensieg/text-similarities-da019229c894\n",
    "* Text Classification tutorial: https://github.com/adsieg/Multi_Text_Classification\n",
    "* From same author:\n",
    "    * [**Feb.17**] This is used for the Word Embedding part: https://towardsdatascience.com/text-classification-with-nlp-tf-idf-vs-word2vec-vs-bert-41ff868d1794 (Try following these instructions next)\n",
    "    * [**Feb.17**] https://towardsdatascience.com/text-analysis-feature-engineering-with-nlp-502d6ea9225d\n",
    "* Different Pre-Processing Techniques with Bag of Words w/ TF-IDF, Word Embedding, and BERT: https://towardsdatascience.com/text-classification-with-nlp-tf-idf-vs-word2vec-vs-bert-41ff868d1794"
   ]
  },
  {
   "cell_type": "markdown",
   "metadata": {
    "id": "UFTJfJkrO06u",
    "tags": []
   },
   "source": [
    "## Get data from GitHub repo\n",
    "\n",
    "**Only run this once even after if notebook environment is cleared via** `%reset -f`. The code written here imports the Kaggle data set, which I have placed on my public GitHub repo."
   ]
  },
  {
   "cell_type": "code",
   "execution_count": 1,
   "metadata": {
    "colab": {
     "base_uri": "https://localhost:8080/"
    },
    "id": "724_Q82ZOihs",
    "outputId": "8b5ddd35-e5cc-431b-aba4-10ef08de57eb"
   },
   "outputs": [
    {
     "name": "stdout",
     "output_type": "stream",
     "text": [
      "--2022-03-03 16:19:47--  https://github.com/tkjsung/EECE571T_Dataset/archive/refs/heads/master.zip\n",
      "Resolving github.com (github.com)... 140.82.112.3\n",
      "Connecting to github.com (github.com)|140.82.112.3|:443... connected.\n",
      "HTTP request sent, awaiting response... 302 Found\n",
      "Location: https://codeload.github.com/tkjsung/EECE571T_Dataset/zip/refs/heads/master [following]\n",
      "--2022-03-03 16:19:48--  https://codeload.github.com/tkjsung/EECE571T_Dataset/zip/refs/heads/master\n",
      "Resolving codeload.github.com (codeload.github.com)... 140.82.112.9\n",
      "Connecting to codeload.github.com (codeload.github.com)|140.82.112.9|:443... connected.\n",
      "HTTP request sent, awaiting response... 200 OK\n",
      "Length: unspecified [application/zip]\n",
      "Saving to: ‘master.zip’\n",
      "\n",
      "master.zip              [   <=>              ] 798.87K  1.63MB/s    in 0.5s    \n",
      "\n",
      "2022-03-03 16:19:49 (1.63 MB/s) - ‘master.zip’ saved [818042]\n",
      "\n",
      "Archive:  master.zip\n",
      "f84fef58c648047c03c671498e0375bf224f000e\n",
      "   creating: EECE571T_Dataset-master/\n",
      "  inflating: EECE571T_Dataset-master/.gitignore  \n",
      "   creating: EECE571T_Dataset-master/Assignment 1/\n",
      "  inflating: EECE571T_Dataset-master/Assignment 1/.DS_Store  \n",
      "   creating: EECE571T_Dataset-master/Assignment 1/Section 2/\n",
      "  inflating: EECE571T_Dataset-master/Assignment 1/Section 2/README.md  \n",
      "  inflating: EECE571T_Dataset-master/Assignment 1/Section 2/winequality-red.csv  \n",
      "  inflating: EECE571T_Dataset-master/Assignment 1/Section 2/winequality-white.csv  \n",
      "   creating: EECE571T_Dataset-master/Project/\n",
      "  inflating: EECE571T_Dataset-master/Project/test.txt  \n",
      "  inflating: EECE571T_Dataset-master/Project/train.txt  \n",
      "  inflating: EECE571T_Dataset-master/Project/val.txt  \n",
      "  inflating: EECE571T_Dataset-master/README.md  \n"
     ]
    }
   ],
   "source": [
    "!wget https://github.com/tkjsung/EECE571T_Dataset/archive/refs/heads/master.zip\n",
    "# !unzip /content/master.zip\n",
    "# For local computer use:\n",
    "!unzip master.zip"
   ]
  },
  {
   "cell_type": "markdown",
   "metadata": {
    "id": "LWVt__H7R9zl",
    "jp-MarkdownHeadingCollapsed": true,
    "tags": []
   },
   "source": [
    "## Import Data"
   ]
  },
  {
   "cell_type": "code",
   "execution_count": 2,
   "metadata": {
    "id": "iKV__yZmPWsQ"
   },
   "outputs": [],
   "source": [
    "# Import libraries for data import\n",
    "import pandas as pd\n",
    "import matplotlib.pyplot as plt\n",
    "import numpy as np\n",
    "\n",
    "%matplotlib inline"
   ]
  },
  {
   "cell_type": "code",
   "execution_count": 3,
   "metadata": {
    "id": "mMWomGTaPSES",
    "tags": []
   },
   "outputs": [],
   "source": [
    "# Read CSV\n",
    "# data_train = pd.read_csv('/content/EECE571T_Dataset-master/Project/train.txt',sep=';', header=None)\n",
    "# data_test = pd.read_csv('/content/EECE571T_Dataset-master/Project/test.txt',sep=';', header=None)\n",
    "# data_val = pd.read_csv('/content/EECE571T_Dataset-master/Project/val.txt',sep=';', header=None)\n",
    "\n",
    "# Read CSV on local computer\n",
    "data_train = pd.read_csv('EECE571T_Dataset-master/Project/train.txt',sep=';', header=None)\n",
    "data_test = pd.read_csv('EECE571T_Dataset-master/Project/test.txt',sep=';', header=None)\n",
    "data_val = pd.read_csv('EECE571T_Dataset-master/Project/val.txt',sep=';', header=None)"
   ]
  },
  {
   "cell_type": "code",
   "execution_count": 4,
   "metadata": {
    "id": "AtXW9_Z2Pbtq"
   },
   "outputs": [],
   "source": [
    "col_names = [\"sentence\",\"emotion\"]\n",
    "data_train.columns = col_names\n",
    "data_test.columns = col_names\n",
    "data_val.columns = col_names"
   ]
  },
  {
   "cell_type": "code",
   "execution_count": 5,
   "metadata": {
    "colab": {
     "base_uri": "https://localhost:8080/",
     "height": 557
    },
    "id": "GC4V-55GSaVT",
    "outputId": "2639daad-075b-4698-a754-2d9eca6872e5"
   },
   "outputs": [
    {
     "data": {
      "text/html": [
       "<div>\n",
       "<style scoped>\n",
       "    .dataframe tbody tr th:only-of-type {\n",
       "        vertical-align: middle;\n",
       "    }\n",
       "\n",
       "    .dataframe tbody tr th {\n",
       "        vertical-align: top;\n",
       "    }\n",
       "\n",
       "    .dataframe thead th {\n",
       "        text-align: right;\n",
       "    }\n",
       "</style>\n",
       "<table border=\"1\" class=\"dataframe\">\n",
       "  <thead>\n",
       "    <tr style=\"text-align: right;\">\n",
       "      <th></th>\n",
       "      <th>sentence</th>\n",
       "      <th>emotion</th>\n",
       "    </tr>\n",
       "  </thead>\n",
       "  <tbody>\n",
       "    <tr>\n",
       "      <th>0</th>\n",
       "      <td>i didnt feel humiliated</td>\n",
       "      <td>sadness</td>\n",
       "    </tr>\n",
       "    <tr>\n",
       "      <th>1</th>\n",
       "      <td>i can go from feeling so hopeless to so damned...</td>\n",
       "      <td>sadness</td>\n",
       "    </tr>\n",
       "    <tr>\n",
       "      <th>2</th>\n",
       "      <td>im grabbing a minute to post i feel greedy wrong</td>\n",
       "      <td>anger</td>\n",
       "    </tr>\n",
       "    <tr>\n",
       "      <th>3</th>\n",
       "      <td>i am ever feeling nostalgic about the fireplac...</td>\n",
       "      <td>love</td>\n",
       "    </tr>\n",
       "    <tr>\n",
       "      <th>4</th>\n",
       "      <td>i am feeling grouchy</td>\n",
       "      <td>anger</td>\n",
       "    </tr>\n",
       "  </tbody>\n",
       "</table>\n",
       "</div>"
      ],
      "text/plain": [
       "                                            sentence  emotion\n",
       "0                            i didnt feel humiliated  sadness\n",
       "1  i can go from feeling so hopeless to so damned...  sadness\n",
       "2   im grabbing a minute to post i feel greedy wrong    anger\n",
       "3  i am ever feeling nostalgic about the fireplac...     love\n",
       "4                               i am feeling grouchy    anger"
      ]
     },
     "execution_count": 5,
     "metadata": {},
     "output_type": "execute_result"
    }
   ],
   "source": [
    "# See the data head to make sure data is imported correctly.\n",
    "data_train.head()\n",
    "# data_test.head()\n",
    "# data_val.head()"
   ]
  },
  {
   "cell_type": "markdown",
   "metadata": {
    "id": "PLR3Zasdel1c",
    "jp-MarkdownHeadingCollapsed": true,
    "tags": []
   },
   "source": [
    "## Encode the emotion labels with unique identifiers"
   ]
  },
  {
   "cell_type": "code",
   "execution_count": 6,
   "metadata": {
    "id": "oFJvTfXTdrN6"
   },
   "outputs": [],
   "source": [
    "from sklearn.preprocessing import LabelEncoder\n",
    "# Encode the emotion labels with unique identifiers\n",
    "data_train['emotion'].unique()\n",
    "labelencoder = LabelEncoder()\n",
    "data_train['emotion_enc'] = labelencoder.fit_transform(data_train['emotion'])\n",
    "data_test['emotion_enc'] = labelencoder.fit_transform(data_test['emotion'])\n",
    "data_val['emotion_enc'] = labelencoder.fit_transform(data_val['emotion'])\n",
    "# For data_test and data_val, use the same labelencoder. Make sure it's the same by using the display code below."
   ]
  },
  {
   "cell_type": "markdown",
   "metadata": {
    "id": "X-bBnrKVoiBT"
   },
   "source": [
    "Display the encoded emotion labels"
   ]
  },
  {
   "cell_type": "code",
   "execution_count": 7,
   "metadata": {
    "colab": {
     "base_uri": "https://localhost:8080/",
     "height": 299
    },
    "id": "kkm7wEN1fnMX",
    "outputId": "4d96e5c9-849f-4ffb-a473-d4b8b9e8cece"
   },
   "outputs": [
    {
     "data": {
      "text/html": [
       "<div>\n",
       "<style scoped>\n",
       "    .dataframe tbody tr th:only-of-type {\n",
       "        vertical-align: middle;\n",
       "    }\n",
       "\n",
       "    .dataframe tbody tr th {\n",
       "        vertical-align: top;\n",
       "    }\n",
       "\n",
       "    .dataframe thead th {\n",
       "        text-align: right;\n",
       "    }\n",
       "</style>\n",
       "<table border=\"1\" class=\"dataframe\">\n",
       "  <thead>\n",
       "    <tr style=\"text-align: right;\">\n",
       "      <th></th>\n",
       "      <th>emotion</th>\n",
       "      <th>emotion_enc</th>\n",
       "    </tr>\n",
       "  </thead>\n",
       "  <tbody>\n",
       "    <tr>\n",
       "      <th>0</th>\n",
       "      <td>sadness</td>\n",
       "      <td>4</td>\n",
       "    </tr>\n",
       "    <tr>\n",
       "      <th>2</th>\n",
       "      <td>anger</td>\n",
       "      <td>0</td>\n",
       "    </tr>\n",
       "    <tr>\n",
       "      <th>3</th>\n",
       "      <td>love</td>\n",
       "      <td>3</td>\n",
       "    </tr>\n",
       "    <tr>\n",
       "      <th>6</th>\n",
       "      <td>surprise</td>\n",
       "      <td>5</td>\n",
       "    </tr>\n",
       "    <tr>\n",
       "      <th>7</th>\n",
       "      <td>fear</td>\n",
       "      <td>1</td>\n",
       "    </tr>\n",
       "    <tr>\n",
       "      <th>8</th>\n",
       "      <td>joy</td>\n",
       "      <td>2</td>\n",
       "    </tr>\n",
       "  </tbody>\n",
       "</table>\n",
       "</div>"
      ],
      "text/plain": [
       "    emotion  emotion_enc\n",
       "0   sadness            4\n",
       "2     anger            0\n",
       "3      love            3\n",
       "6  surprise            5\n",
       "7      fear            1\n",
       "8       joy            2"
      ]
     },
     "execution_count": 7,
     "metadata": {},
     "output_type": "execute_result"
    }
   ],
   "source": [
    "data_train[['emotion','emotion_enc']].drop_duplicates(keep='first')\n",
    "# data_test[['emotion','emotion_enc']].drop_duplicates(keep='first')\n",
    "# data_val[['emotion','emotion_enc']].drop_duplicates(keep='first')"
   ]
  },
  {
   "cell_type": "markdown",
   "metadata": {
    "id": "zhyCE_IromWn"
   },
   "source": [
    "[OLD-Don't need this] ~Add sentence length to each sentence. It should calculate number of characters, including spaces and punctuation.~"
   ]
  },
  {
   "cell_type": "code",
   "execution_count": 8,
   "metadata": {
    "id": "L0bFupawluI7"
   },
   "outputs": [],
   "source": [
    "# data_train['length'] = [len(x) for x in data_train['sentence']]\n",
    "# data_test['length'] = [len(x) for x in data_test['sentence']]\n",
    "# data_val['length'] = [len(x) for x in data_val['sentence']]"
   ]
  },
  {
   "cell_type": "code",
   "execution_count": 9,
   "metadata": {
    "colab": {
     "base_uri": "https://localhost:8080/",
     "height": 557
    },
    "id": "lLROznaxHPNU",
    "outputId": "091c9172-952c-4227-e79b-600e5b31a1d6"
   },
   "outputs": [
    {
     "data": {
      "text/html": [
       "<div>\n",
       "<style scoped>\n",
       "    .dataframe tbody tr th:only-of-type {\n",
       "        vertical-align: middle;\n",
       "    }\n",
       "\n",
       "    .dataframe tbody tr th {\n",
       "        vertical-align: top;\n",
       "    }\n",
       "\n",
       "    .dataframe thead th {\n",
       "        text-align: right;\n",
       "    }\n",
       "</style>\n",
       "<table border=\"1\" class=\"dataframe\">\n",
       "  <thead>\n",
       "    <tr style=\"text-align: right;\">\n",
       "      <th></th>\n",
       "      <th>sentence</th>\n",
       "      <th>emotion</th>\n",
       "      <th>emotion_enc</th>\n",
       "    </tr>\n",
       "  </thead>\n",
       "  <tbody>\n",
       "    <tr>\n",
       "      <th>0</th>\n",
       "      <td>im feeling quite sad and sorry for myself but ...</td>\n",
       "      <td>sadness</td>\n",
       "      <td>4</td>\n",
       "    </tr>\n",
       "    <tr>\n",
       "      <th>1</th>\n",
       "      <td>i feel like i am still looking at a blank canv...</td>\n",
       "      <td>sadness</td>\n",
       "      <td>4</td>\n",
       "    </tr>\n",
       "    <tr>\n",
       "      <th>2</th>\n",
       "      <td>i feel like a faithful servant</td>\n",
       "      <td>love</td>\n",
       "      <td>3</td>\n",
       "    </tr>\n",
       "    <tr>\n",
       "      <th>3</th>\n",
       "      <td>i am just feeling cranky and blue</td>\n",
       "      <td>anger</td>\n",
       "      <td>0</td>\n",
       "    </tr>\n",
       "    <tr>\n",
       "      <th>4</th>\n",
       "      <td>i can have for a treat or if i am feeling festive</td>\n",
       "      <td>joy</td>\n",
       "      <td>2</td>\n",
       "    </tr>\n",
       "  </tbody>\n",
       "</table>\n",
       "</div>"
      ],
      "text/plain": [
       "                                            sentence  emotion  emotion_enc\n",
       "0  im feeling quite sad and sorry for myself but ...  sadness            4\n",
       "1  i feel like i am still looking at a blank canv...  sadness            4\n",
       "2                     i feel like a faithful servant     love            3\n",
       "3                  i am just feeling cranky and blue    anger            0\n",
       "4  i can have for a treat or if i am feeling festive      joy            2"
      ]
     },
     "execution_count": 9,
     "metadata": {},
     "output_type": "execute_result"
    }
   ],
   "source": [
    "data_train.head()\n",
    "data_test.head()\n",
    "data_val.head()"
   ]
  },
  {
   "cell_type": "markdown",
   "metadata": {
    "id": "9IU3wyOOocsQ"
   },
   "source": [
    "[OLD-Unncessary] ~Finding the maximum sentence length. It seems to be 300. From the testing and validation set, they are 296 and 295, respectively.~"
   ]
  },
  {
   "cell_type": "code",
   "execution_count": 10,
   "metadata": {
    "id": "hhBSqPnQoL-l"
   },
   "outputs": [],
   "source": [
    "# max_len = data_train['length'].max()\n",
    "# print(max_len)"
   ]
  },
  {
   "cell_type": "markdown",
   "metadata": {
    "id": "0DW_8szfEo1T",
    "tags": []
   },
   "source": [
    "## Data Cleaning"
   ]
  },
  {
   "cell_type": "markdown",
   "metadata": {
    "id": "xKULabmoEqMt"
   },
   "source": [
    "We need to do some data cleaning first~, otherwise it would be a nightmare to do pre-processing with at least 15212 vocabulary words...~"
   ]
  },
  {
   "cell_type": "markdown",
   "metadata": {
    "id": "6uE7b3QZrB6O"
   },
   "source": [
    "**Data Cleaning Process:** Keep only words, convert all words to lowercase, split all words, remove stopwords, lemmization for word root.<br>\n",
    "The result of all of this work is a cleaned data vocab list."
   ]
  },
  {
   "cell_type": "markdown",
   "metadata": {
    "id": "hHVXM1f4iYf6"
   },
   "source": [
    "Replace stemming with lemmization, which keeps the actual form of the word better. This is necessary for using pre-existing word embedding models.\n",
    "Source: https://blog.bitext.com/what-is-the-difference-between-stemming-and-lemmatization/"
   ]
  },
  {
   "cell_type": "code",
   "execution_count": 17,
   "metadata": {
    "colab": {
     "base_uri": "https://localhost:8080/"
    },
    "id": "pJWWXLcFdzc1",
    "outputId": "d32a2fed-7225-4083-f254-570529692883"
   },
   "outputs": [
    {
     "name": "stderr",
     "output_type": "stream",
     "text": [
      "[nltk_data] Downloading package punkt to /Users/tomsung/nltk_data...\n",
      "[nltk_data]   Package punkt is already up-to-date!\n",
      "[nltk_data] Downloading package stopwords to\n",
      "[nltk_data]     /Users/tomsung/nltk_data...\n",
      "[nltk_data]   Package stopwords is already up-to-date!\n",
      "[nltk_data] Downloading package wordnet to /Users/tomsung/nltk_data...\n",
      "[nltk_data]   Package wordnet is already up-to-date!\n",
      "[nltk_data] Downloading package omw-1.4 to /Users/tomsung/nltk_data...\n",
      "[nltk_data]   Package omw-1.4 is already up-to-date!\n"
     ]
    }
   ],
   "source": [
    "import re\n",
    "import pandas as pd\n",
    "import nltk\n",
    "from nltk.corpus import stopwords\n",
    "from nltk.stem import PorterStemmer\n",
    "from nltk.tokenize import sent_tokenize, word_tokenize\n",
    "from nltk.corpus import stopwords\n",
    "from nltk.stem import WordNetLemmatizer\n",
    "nltk.download('punkt')\n",
    "nltk.download('stopwords')\n",
    "nltk.download('wordnet')\n",
    "nltk.download('omw-1.4')\n",
    "\n",
    "# Attempting data cleaning here\n",
    "def preprocess(raw_text):\n",
    "    # keep only words\n",
    "    letters_only_text = re.sub(\"[^a-zA-Z]\", \" \", raw_text)\n",
    "\n",
    "    # convert to lower case and split \n",
    "    words = letters_only_text.lower().split()\n",
    "\n",
    "    # remove stopwords\n",
    "    stopword_set = set(stopwords.words(\"english\"))\n",
    "    meaningful_words = [w for w in words if w not in stopword_set]\n",
    "    \n",
    "    # stemmed words (looks like this is causing some words to be weird)\n",
    "    # ps = PorterStemmer()\n",
    "    # stemmed_words = [ps.stem(word) for word in meaningful_words]\n",
    "\n",
    "    # lemmed words (trying this because this gets the root word?)\n",
    "    lem = WordNetLemmatizer()\n",
    "    lemmed_words = [lem.lemmatize(word) for word in meaningful_words]\n",
    "    \n",
    "    # join the cleaned words in a list\n",
    "    # cleaned_word_list = \" \".join(stemmed_words)\n",
    "    cleaned_word_list = \" \".join(lemmed_words)\n",
    "    # cleaned_word_list = \" \".join(meaningful_words)\n",
    "\n",
    "    return cleaned_word_list"
   ]
  },
  {
   "cell_type": "markdown",
   "metadata": {
    "id": "8BmRPEeBpYZN"
   },
   "source": [
    "Apply data cleaning to all data sets."
   ]
  },
  {
   "cell_type": "code",
   "execution_count": 18,
   "metadata": {
    "id": "schsncvleDrh"
   },
   "outputs": [],
   "source": [
    "data_train['sentence_cleaned'] = data_train['sentence'].apply(lambda line : preprocess(line))\n",
    "data_test['sentence_cleaned'] = data_test['sentence'].apply(lambda line : preprocess(line))\n",
    "data_val['sentence_cleaned'] = data_val['sentence'].apply(lambda line : preprocess(line))"
   ]
  },
  {
   "cell_type": "markdown",
   "metadata": {
    "id": "Rb9vzfUAqXoZ",
    "tags": []
   },
   "source": [
    "## Pre-Processing and Training\n",
    "\n",
    "Pre-processing and training is bundled together as the different methods use different pre-processing steps.<br>\n",
    "There are several methods available: Bag-of-words with TF-IDF, Word Embedding using ~Word2Vec~ [I used GloVe, not Word2Vec] (unknown NN), and BERT."
   ]
  },
  {
   "cell_type": "markdown",
   "metadata": {
    "id": "WDtYhj0SaH7y",
    "tags": []
   },
   "source": [
    "### METHOD 1: Word Embedding\n",
    "\n",
    "I did pre-processing, word stemming, and stuff like that in Data Cleaning. The simplest way avoid words not being found in a database is if word stemming is not performed on the dataset (or as I just found out, use lemmization instead. More computationally complex but better for actually working with word embedding techniques (I think))."
   ]
  },
  {
   "cell_type": "markdown",
   "metadata": {
    "id": "IyQ0gXpbrWuW"
   },
   "source": [
    "Partial reference: Find words in the Word2VecKeyedVector (using 2.3 in source https://github.com/adsieg/Multi_Text_Classification/blob/master/%5BIntroduction%5D%20-%20Big%20tutorial%20-%20Text%20Classification.ipynb) by using `Word2VecKeyedVector.index2word`. This returns a list of the word2vec array."
   ]
  },
  {
   "cell_type": "markdown",
   "metadata": {
    "id": "7otfrHqvs_4S"
   },
   "source": [
    "Instructions used for pre-processing (this part): https://towardsdatascience.com/text-classification-with-nlp-tf-idf-vs-word2vec-vs-bert-41ff868d1794 (as posted on Feb.17)"
   ]
  },
  {
   "cell_type": "markdown",
   "metadata": {
    "id": "8rrmiLXAPbty"
   },
   "source": [
    "For CNN (not attempted): https://medium.com/saarthi-ai/sentence-classification-using-convolutional-neural-networks-ddad72c7048c"
   ]
  },
  {
   "cell_type": "code",
   "execution_count": 11,
   "metadata": {
    "colab": {
     "base_uri": "https://localhost:8080/"
    },
    "id": "I4X05qMsQmcl",
    "outputId": "6fba3100-a00f-4acb-ebe9-8ce4d377524b",
    "tags": []
   },
   "outputs": [
    {
     "name": "stdout",
     "output_type": "stream",
     "text": [
      "/Users/tomsung/gensim-data/glove-twitter-25/glove-twitter-25.gz\n"
     ]
    }
   ],
   "source": [
    "# DO NOT RUN THIS BLOCK MORE THAN ONCE IN ONE SESSION\n",
    "# Import gensim data\n",
    "import gensim.downloader as api\n",
    "import gensim\n",
    "# Load a pre-trained word embedding model\n",
    "# Gensim data obtained from https://github.com/RaRe-Technologies/gensim-data (official source)\n",
    "word_embed = api.load('glove-twitter-25')\n",
    "# word_embed = api.load('word2vec-google-news-300') # This is 1.6GB... good luck doing this on Google Colab...\n",
    "# model = gensim.models.KeyedVectors.load_word2vec_format('GoogleNews-vectors-negative300.bin', binary=True)\n",
    "\n",
    "print(api.load(\"glove-twitter-25\", return_path=True))\n",
    "# print(api.load('word2vec-google-news-300', return_path=True))\n",
    "\n",
    "# Check dimension of word vectors\n",
    "# model.vector_size"
   ]
  },
  {
   "cell_type": "markdown",
   "metadata": {
    "id": "zkZ0LrphPbtz"
   },
   "source": [
    "#### Pre-Processing\n",
    "Using Keras for Preprocessing. Steps taken:\n",
    "1. Called the Tokenizer object\n",
    "2. Added Training Set Vocabulary to the Tokenizer object (`fit_on_texts`)\n",
    "    * Viewed the added vocabulary using `tokenizer.word_index` command.\n",
    "3. Convert all text to numeric values using `text_to_sequences` method function\n",
    "4. Padded the length of every sample so that the input matrix would be equal in size"
   ]
  },
  {
   "cell_type": "code",
   "execution_count": 19,
   "metadata": {},
   "outputs": [
    {
     "data": {
      "text/html": [
       "<div>\n",
       "<style scoped>\n",
       "    .dataframe tbody tr th:only-of-type {\n",
       "        vertical-align: middle;\n",
       "    }\n",
       "\n",
       "    .dataframe tbody tr th {\n",
       "        vertical-align: top;\n",
       "    }\n",
       "\n",
       "    .dataframe thead th {\n",
       "        text-align: right;\n",
       "    }\n",
       "</style>\n",
       "<table border=\"1\" class=\"dataframe\">\n",
       "  <thead>\n",
       "    <tr style=\"text-align: right;\">\n",
       "      <th></th>\n",
       "      <th>sentence</th>\n",
       "      <th>emotion</th>\n",
       "      <th>emotion_enc</th>\n",
       "      <th>sentence_cleaned</th>\n",
       "    </tr>\n",
       "  </thead>\n",
       "  <tbody>\n",
       "    <tr>\n",
       "      <th>0</th>\n",
       "      <td>i didnt feel humiliated</td>\n",
       "      <td>sadness</td>\n",
       "      <td>4</td>\n",
       "      <td>didnt feel humiliated</td>\n",
       "    </tr>\n",
       "    <tr>\n",
       "      <th>1</th>\n",
       "      <td>i can go from feeling so hopeless to so damned...</td>\n",
       "      <td>sadness</td>\n",
       "      <td>4</td>\n",
       "      <td>go feeling hopeless damned hopeful around some...</td>\n",
       "    </tr>\n",
       "    <tr>\n",
       "      <th>2</th>\n",
       "      <td>im grabbing a minute to post i feel greedy wrong</td>\n",
       "      <td>anger</td>\n",
       "      <td>0</td>\n",
       "      <td>im grabbing minute post feel greedy wrong</td>\n",
       "    </tr>\n",
       "    <tr>\n",
       "      <th>3</th>\n",
       "      <td>i am ever feeling nostalgic about the fireplac...</td>\n",
       "      <td>love</td>\n",
       "      <td>3</td>\n",
       "      <td>ever feeling nostalgic fireplace know still pr...</td>\n",
       "    </tr>\n",
       "    <tr>\n",
       "      <th>4</th>\n",
       "      <td>i am feeling grouchy</td>\n",
       "      <td>anger</td>\n",
       "      <td>0</td>\n",
       "      <td>feeling grouchy</td>\n",
       "    </tr>\n",
       "  </tbody>\n",
       "</table>\n",
       "</div>"
      ],
      "text/plain": [
       "                                            sentence  emotion  emotion_enc  \\\n",
       "0                            i didnt feel humiliated  sadness            4   \n",
       "1  i can go from feeling so hopeless to so damned...  sadness            4   \n",
       "2   im grabbing a minute to post i feel greedy wrong    anger            0   \n",
       "3  i am ever feeling nostalgic about the fireplac...     love            3   \n",
       "4                               i am feeling grouchy    anger            0   \n",
       "\n",
       "                                    sentence_cleaned  \n",
       "0                              didnt feel humiliated  \n",
       "1  go feeling hopeless damned hopeful around some...  \n",
       "2          im grabbing minute post feel greedy wrong  \n",
       "3  ever feeling nostalgic fireplace know still pr...  \n",
       "4                                    feeling grouchy  "
      ]
     },
     "execution_count": 19,
     "metadata": {},
     "output_type": "execute_result"
    }
   ],
   "source": [
    "data_train.head()"
   ]
  },
  {
   "cell_type": "code",
   "execution_count": 20,
   "metadata": {
    "id": "EUzjRawYPbtz"
   },
   "outputs": [],
   "source": [
    "from keras.preprocessing.text import Tokenizer\n",
    "from keras.preprocessing.sequence import pad_sequences\n",
    "import seaborn as sns\n",
    "\n",
    "tokenizer = Tokenizer()\n",
    "tokenizer.fit_on_texts(data_train[\"sentence_cleaned\"])\n",
    "dic_vocabulary = tokenizer.word_index\n",
    "\n",
    "X_train = tokenizer.texts_to_sequences(data_train[\"sentence_cleaned\"])\n",
    "X_test = tokenizer.texts_to_sequences(data_test[\"sentence_cleaned\"])\n",
    "X_val = tokenizer.texts_to_sequences(data_val[\"sentence_cleaned\"])\n",
    "\n",
    "vocab_size = len(tokenizer.word_index) + 1"
   ]
  },
  {
   "cell_type": "markdown",
   "metadata": {
    "id": "ffDRXRISyhsg"
   },
   "source": [
    "Finding out which data set has the longest \"sentence\" a.k.a. useful words that we did not eliminate via lemmization."
   ]
  },
  {
   "cell_type": "code",
   "execution_count": 21,
   "metadata": {
    "colab": {
     "base_uri": "https://localhost:8080/"
    },
    "id": "TfsSVjnqwRRM",
    "outputId": "f92d412b-bc71-4ef7-eb78-f3660272fad3"
   },
   "outputs": [
    {
     "name": "stdout",
     "output_type": "stream",
     "text": [
      "X_train, Longest ID: 35, Average ID length: 9.3530625\n",
      "X_test, Longest ID: 30, Average ID length: 8.85\n",
      "X_val, Longest ID: 28, Average ID length: 8.764\n"
     ]
    }
   ],
   "source": [
    "# string_name = ['X_train', 'X_test', 'X_val']\n",
    "dict_data = {'X_train': X_train,\n",
    "             'X_test': X_test,\n",
    "             'X_val': X_val}\n",
    "histo_plot_data = np.zeros((3,35))\n",
    "\n",
    "tmp_counter = 0;\n",
    "for key, value in dict_data.items():\n",
    "    feedback = 0;\n",
    "    feedback_sum = 0;\n",
    "    for i in value:\n",
    "        histo_plot_data[tmp_counter, len(i)-1] += 1\n",
    "        feedback_sum += len(i)\n",
    "        if len(i) > feedback:\n",
    "            feedback = len(i)\n",
    "    print(f\"{key}, Longest ID: {feedback}, Average ID length: {feedback_sum/len(value)}\")\n",
    "    tmp_counter += 1\n",
    "del tmp_counter\n",
    "\n",
    "# Longest sentence has 35 elements. Average is around 10.\n",
    "# TODO: This value, which influences padding, should be adjusted I think...\n",
    "maxlen = 20"
   ]
  },
  {
   "cell_type": "code",
   "execution_count": 22,
   "metadata": {
    "colab": {
     "base_uri": "https://localhost:8080/",
     "height": 282
    },
    "id": "uJKPzj9zObv0",
    "outputId": "e58ca170-92de-42d1-f8f4-34f559b8b462"
   },
   "outputs": [
    {
     "data": {
      "text/plain": [
       "<BarContainer object of 35 artists>"
      ]
     },
     "execution_count": 22,
     "metadata": {},
     "output_type": "execute_result"
    },
    {
     "data": {
      "image/png": "[encoded data removed]",
      "text/plain": [
       "<Figure size 432x288 with 1 Axes>"
      ]
     },
     "metadata": {
      "needs_background": "light"
     },
     "output_type": "display_data"
    }
   ],
   "source": [
    "# Plotting the ID histogram to see the distribution\n",
    "import matplotlib.pyplot as plt\n",
    "\n",
    "plt.barh(range(1,35+1), histo_plot_data[0,:])\n",
    "plt.barh(range(1,35+1), histo_plot_data[1,:])\n",
    "plt.barh(range(1,35+1), histo_plot_data[2,:])"
   ]
  },
  {
   "cell_type": "markdown",
   "metadata": {
    "id": "Y3pBemRHwEN9"
   },
   "source": [
    "Pad each sample to the same length."
   ]
  },
  {
   "cell_type": "code",
   "execution_count": 23,
   "metadata": {
    "colab": {
     "base_uri": "https://localhost:8080/",
     "height": 270
    },
    "id": "WhQBTFT6v54X",
    "outputId": "9ace4714-3937-4ed8-9bd4-3c9e669bf92d"
   },
   "outputs": [
    {
     "data": {
      "image/png": "[encoded data removed]",
      "text/plain": [
       "<Figure size 432x288 with 1 Axes>"
      ]
     },
     "metadata": {
      "needs_background": "light"
     },
     "output_type": "display_data"
    }
   ],
   "source": [
    "X_train = pad_sequences(X_train, padding='post', maxlen=maxlen)\n",
    "X_test = pad_sequences(X_test, padding='post', maxlen=maxlen)\n",
    "X_val = pad_sequences(X_val, padding='post', maxlen=maxlen)\n",
    "\n",
    "# Honestly don't know what this is doing, I just followed the website's instructions\n",
    "# Looks like this shows the padding heat map or something similar to that\n",
    "sns.heatmap(X_train==0, vmin=0, vmax=1, cbar=False)\n",
    "plt.show()"
   ]
  },
  {
   "cell_type": "markdown",
   "metadata": {
    "id": "sh1SpY8hvmmN"
   },
   "source": [
    "Obtain the Embedding Matrix, which is necessary for the machine learning algorithm."
   ]
  },
  {
   "cell_type": "code",
   "execution_count": 24,
   "metadata": {
    "colab": {
     "base_uri": "https://localhost:8080/"
    },
    "id": "SjN7DmxxUp3b",
    "outputId": "454ada94-0f4b-493a-abe0-5208c8b10a2f"
   },
   "outputs": [
    {
     "name": "stdout",
     "output_type": "stream",
     "text": [
      "Number of words in dictionary that have been assigned a matrix of 0's: 872\n"
     ]
    }
   ],
   "source": [
    "embeddings = np.zeros((len(dic_vocabulary)+1, 25))\n",
    "counter=0\n",
    "for word, idx in dic_vocabulary.items():\n",
    "    # embeddings[idx] = word_embed[word]\n",
    "    try:\n",
    "        # Reminder: word_embed is the pre-trained word embedding model...\n",
    "        embeddings[idx] = word_embed[word]\n",
    "    except:\n",
    "        counter += 1\n",
    "        pass\n",
    "\n",
    "print(f\"Number of words in dictionary that have been assigned a matrix of 0's: {counter}\")\n",
    "\n",
    "# word = \"data\"\n",
    "# print(\"dic[word]:\", dic_vocabulary[word], \"|idx\")\n",
    "# print(\"embeddings[idx]:\", embeddings[dic_vocabulary[word]].shape, \n",
    "#       \"|vector\")"
   ]
  },
  {
   "cell_type": "markdown",
   "metadata": {
    "id": "m_0cPtAOdcek"
   },
   "source": [
    "#### Neural Network\n",
    "\n",
    "Referencing source: https://towardsdatascience.com/text-classification-with-nlp-tf-idf-vs-word2vec-vs-bert-41ff868d1794"
   ]
  },
  {
   "cell_type": "code",
   "execution_count": 25,
   "metadata": {
    "colab": {
     "base_uri": "https://localhost:8080/"
    },
    "id": "Be-tKnSqdjLK",
    "outputId": "f60007dd-9a22-40ba-aaa2-20ce65554eda"
   },
   "outputs": [
    {
     "name": "stdout",
     "output_type": "stream",
     "text": [
      "Model: \"model\"\n",
      "__________________________________________________________________________________________________\n",
      " Layer (type)                   Output Shape         Param #     Connected to                     \n",
      "==================================================================================================\n",
      " input_1 (InputLayer)           [(None, 20)]         0           []                               \n",
      "                                                                                                  \n",
      " embedding (Embedding)          (None, 20, 25)       336975      ['input_1[0][0]']                \n",
      "                                                                                                  \n",
      " permute (Permute)              (None, 25, 20)       0           ['embedding[0][0]']              \n",
      "                                                                                                  \n",
      " dense (Dense)                  (None, 25, 20)       420         ['permute[0][0]']                \n",
      "                                                                                                  \n",
      " attention (Permute)            (None, 20, 25)       0           ['dense[0][0]']                  \n",
      "                                                                                                  \n",
      " multiply (Multiply)            (None, 20, 25)       0           ['embedding[0][0]',              \n",
      "                                                                  'attention[0][0]']              \n",
      "                                                                                                  \n",
      " bidirectional (Bidirectional)  (None, 20, 40)       7360        ['multiply[0][0]']               \n",
      "                                                                                                  \n",
      " bidirectional_1 (Bidirectional  (None, 40)          9760        ['bidirectional[0][0]']          \n",
      " )                                                                                                \n",
      "                                                                                                  \n",
      " dense_1 (Dense)                (None, 64)           2624        ['bidirectional_1[0][0]']        \n",
      "                                                                                                  \n",
      " dense_2 (Dense)                (None, 6)            390         ['dense_1[0][0]']                \n",
      "                                                                                                  \n",
      "==================================================================================================\n",
      "Total params: 357,529\n",
      "Trainable params: 20,554\n",
      "Non-trainable params: 336,975\n",
      "__________________________________________________________________________________________________\n"
     ]
    }
   ],
   "source": [
    "from keras.models import Sequential\n",
    "from keras import layers, models, optimizers\n",
    "import keras\n",
    "\n",
    "def attention_layer(inputs, neurons):\n",
    "    x = layers.Permute((2,1))(inputs)\n",
    "    x = layers.Dense(neurons, activation=\"softmax\")(x)\n",
    "    x = layers.Permute((2,1), name='attention')(x)\n",
    "    x = layers.multiply([inputs, x])\n",
    "    return x\n",
    "\n",
    "# input\n",
    "x_in = layers.Input(shape=(maxlen,))\n",
    "\n",
    "# embedding\n",
    "# trainable=False means that these embedding weights will not change. What if they did though?\n",
    "x = layers.Embedding(input_dim=embeddings.shape[0],\n",
    "                     output_dim=embeddings.shape[1],\n",
    "                     weights=[embeddings],\n",
    "                     input_length=maxlen, trainable=False)(x_in)\n",
    "\n",
    "# apply attention\n",
    "x = attention_layer(x, neurons=maxlen)\n",
    "\n",
    "# 2 layers of bidirectional lstm\n",
    "x = layers.Bidirectional(layers.LSTM(units=maxlen, dropout=0.2, return_sequences=True))(x)\n",
    "x = layers.Bidirectional(layers.LSTM(units=maxlen, dropout=0.2))(x)\n",
    "\n",
    "# final dense layers\n",
    "# x = layers.Dense(64, activation='relu')(x)\n",
    "y_out = layers.Dense(6, activation='softmax')(x)\n",
    "\n",
    "model = models.Model(x_in, y_out)\n",
    "model.compile(loss='sparse_categorical_crossentropy', optimizer='adam', metrics=['accuracy'])\n",
    "model.summary()"
   ]
  },
  {
   "cell_type": "code",
   "execution_count": 37,
   "metadata": {
    "colab": {
     "base_uri": "https://localhost:8080/"
    },
    "id": "SGE2_s1_gB7B",
    "outputId": "cb014e07-7c48-4316-f0a4-5240f1324809"
   },
   "outputs": [
    {
     "name": "stdout",
     "output_type": "stream",
     "text": [
      "Epoch 1/40\n",
      "16000/16000 [==============================] - 101s 6ms/step - loss: 0.8655 - accuracy: 0.6681 - val_loss: 0.7022 - val_accuracy: 0.7425\n",
      "Epoch 2/40\n",
      "16000/16000 [==============================] - 102s 6ms/step - loss: 0.8539 - accuracy: 0.6737 - val_loss: 0.6839 - val_accuracy: 0.7315\n",
      "Epoch 3/40\n",
      "16000/16000 [==============================] - 100s 6ms/step - loss: 0.8315 - accuracy: 0.6785 - val_loss: 0.6518 - val_accuracy: 0.7470\n",
      "Epoch 4/40\n",
      "16000/16000 [==============================] - 102s 6ms/step - loss: 0.8209 - accuracy: 0.6860 - val_loss: 0.6584 - val_accuracy: 0.7445\n",
      "Epoch 5/40\n",
      "16000/16000 [==============================] - 102s 6ms/step - loss: 0.8024 - accuracy: 0.6949 - val_loss: 0.6019 - val_accuracy: 0.7665\n",
      "Epoch 6/40\n",
      "16000/16000 [==============================] - 102s 6ms/step - loss: 0.7856 - accuracy: 0.7006 - val_loss: 0.6016 - val_accuracy: 0.7665\n",
      "Epoch 7/40\n",
      " 2123/16000 [==>...........................] - ETA: 1:25 - loss: 0.7857 - accuracy: 0.6962"
     ]
    },
    {
     "ename": "KeyboardInterrupt",
     "evalue": "",
     "output_type": "error",
     "traceback": [
      "\u001b[0;31m---------------------------------------------------------------------------\u001b[0m",
      "\u001b[0;31mKeyboardInterrupt\u001b[0m                         Traceback (most recent call last)",
      "Input \u001b[0;32mIn [37]\u001b[0m, in \u001b[0;36m<module>\u001b[0;34m\u001b[0m\n\u001b[1;32m      1\u001b[0m \u001b[38;5;66;03m# The fitting method should be placed in a variable so that results can be easily extracted later...\u001b[39;00m\n\u001b[1;32m      2\u001b[0m \u001b[38;5;66;03m# For now, I would like to see training happening in real time, so making it verbose I guess.\u001b[39;00m\n\u001b[1;32m      3\u001b[0m \u001b[38;5;66;03m# Still need to adjust hyper-parameters for better results... if I can get better results.\u001b[39;00m\n\u001b[1;32m      4\u001b[0m \u001b[38;5;66;03m# batch_size=256 (default given on the website)\u001b[39;00m\n\u001b[0;32m----> 5\u001b[0m \u001b[43mmodel\u001b[49m\u001b[38;5;241;43m.\u001b[39;49m\u001b[43mfit\u001b[49m\u001b[43m(\u001b[49m\u001b[43mx\u001b[49m\u001b[38;5;241;43m=\u001b[39;49m\u001b[43mX_train\u001b[49m\u001b[43m,\u001b[49m\u001b[43m \u001b[49m\u001b[43my\u001b[49m\u001b[38;5;241;43m=\u001b[39;49m\u001b[43mdata_train\u001b[49m\u001b[43m[\u001b[49m\u001b[38;5;124;43m'\u001b[39;49m\u001b[38;5;124;43memotion_enc\u001b[39;49m\u001b[38;5;124;43m'\u001b[39;49m\u001b[43m]\u001b[49m\u001b[43m,\u001b[49m\u001b[43m \u001b[49m\u001b[43mbatch_size\u001b[49m\u001b[38;5;241;43m=\u001b[39;49m\u001b[38;5;241;43m1\u001b[39;49m\u001b[43m,\u001b[49m\u001b[43m \u001b[49m\u001b[43mepochs\u001b[49m\u001b[38;5;241;43m=\u001b[39;49m\u001b[38;5;241;43m40\u001b[39;49m\u001b[43m,\u001b[49m\n\u001b[1;32m      6\u001b[0m \u001b[43m                     \u001b[49m\u001b[43mshuffle\u001b[49m\u001b[38;5;241;43m=\u001b[39;49m\u001b[38;5;28;43;01mTrue\u001b[39;49;00m\u001b[43m,\u001b[49m\u001b[43m \u001b[49m\u001b[43mverbose\u001b[49m\u001b[38;5;241;43m=\u001b[39;49m\u001b[38;5;241;43m1\u001b[39;49m\u001b[43m,\u001b[49m\u001b[43m \u001b[49m\u001b[43mvalidation_data\u001b[49m\u001b[38;5;241;43m=\u001b[39;49m\u001b[43m[\u001b[49m\u001b[43mX_val\u001b[49m\u001b[43m,\u001b[49m\u001b[43m \u001b[49m\u001b[43mdata_val\u001b[49m\u001b[43m[\u001b[49m\u001b[38;5;124;43m'\u001b[39;49m\u001b[38;5;124;43memotion_enc\u001b[39;49m\u001b[38;5;124;43m'\u001b[39;49m\u001b[43m]\u001b[49m\u001b[43m]\u001b[49m\u001b[43m)\u001b[49m\n",
      "File \u001b[0;32m~/.pyenv/versions/eece571T/lib/python3.9/site-packages/keras/utils/traceback_utils.py:64\u001b[0m, in \u001b[0;36mfilter_traceback.<locals>.error_handler\u001b[0;34m(*args, **kwargs)\u001b[0m\n\u001b[1;32m     62\u001b[0m filtered_tb \u001b[38;5;241m=\u001b[39m \u001b[38;5;28;01mNone\u001b[39;00m\n\u001b[1;32m     63\u001b[0m \u001b[38;5;28;01mtry\u001b[39;00m:\n\u001b[0;32m---> 64\u001b[0m   \u001b[38;5;28;01mreturn\u001b[39;00m \u001b[43mfn\u001b[49m\u001b[43m(\u001b[49m\u001b[38;5;241;43m*\u001b[39;49m\u001b[43margs\u001b[49m\u001b[43m,\u001b[49m\u001b[43m \u001b[49m\u001b[38;5;241;43m*\u001b[39;49m\u001b[38;5;241;43m*\u001b[39;49m\u001b[43mkwargs\u001b[49m\u001b[43m)\u001b[49m\n\u001b[1;32m     65\u001b[0m \u001b[38;5;28;01mexcept\u001b[39;00m \u001b[38;5;167;01mException\u001b[39;00m \u001b[38;5;28;01mas\u001b[39;00m e:  \u001b[38;5;66;03m# pylint: disable=broad-except\u001b[39;00m\n\u001b[1;32m     66\u001b[0m   filtered_tb \u001b[38;5;241m=\u001b[39m _process_traceback_frames(e\u001b[38;5;241m.\u001b[39m__traceback__)\n",
      "File \u001b[0;32m~/.pyenv/versions/eece571T/lib/python3.9/site-packages/keras/engine/training.py:1216\u001b[0m, in \u001b[0;36mModel.fit\u001b[0;34m(self, x, y, batch_size, epochs, verbose, callbacks, validation_split, validation_data, shuffle, class_weight, sample_weight, initial_epoch, steps_per_epoch, validation_steps, validation_batch_size, validation_freq, max_queue_size, workers, use_multiprocessing)\u001b[0m\n\u001b[1;32m   1209\u001b[0m \u001b[38;5;28;01mwith\u001b[39;00m tf\u001b[38;5;241m.\u001b[39mprofiler\u001b[38;5;241m.\u001b[39mexperimental\u001b[38;5;241m.\u001b[39mTrace(\n\u001b[1;32m   1210\u001b[0m     \u001b[38;5;124m'\u001b[39m\u001b[38;5;124mtrain\u001b[39m\u001b[38;5;124m'\u001b[39m,\n\u001b[1;32m   1211\u001b[0m     epoch_num\u001b[38;5;241m=\u001b[39mepoch,\n\u001b[1;32m   1212\u001b[0m     step_num\u001b[38;5;241m=\u001b[39mstep,\n\u001b[1;32m   1213\u001b[0m     batch_size\u001b[38;5;241m=\u001b[39mbatch_size,\n\u001b[1;32m   1214\u001b[0m     _r\u001b[38;5;241m=\u001b[39m\u001b[38;5;241m1\u001b[39m):\n\u001b[1;32m   1215\u001b[0m   callbacks\u001b[38;5;241m.\u001b[39mon_train_batch_begin(step)\n\u001b[0;32m-> 1216\u001b[0m   tmp_logs \u001b[38;5;241m=\u001b[39m \u001b[38;5;28;43mself\u001b[39;49m\u001b[38;5;241;43m.\u001b[39;49m\u001b[43mtrain_function\u001b[49m\u001b[43m(\u001b[49m\u001b[43miterator\u001b[49m\u001b[43m)\u001b[49m\n\u001b[1;32m   1217\u001b[0m   \u001b[38;5;28;01mif\u001b[39;00m data_handler\u001b[38;5;241m.\u001b[39mshould_sync:\n\u001b[1;32m   1218\u001b[0m     context\u001b[38;5;241m.\u001b[39masync_wait()\n",
      "File \u001b[0;32m~/.pyenv/versions/eece571T/lib/python3.9/site-packages/tensorflow/python/util/traceback_utils.py:150\u001b[0m, in \u001b[0;36mfilter_traceback.<locals>.error_handler\u001b[0;34m(*args, **kwargs)\u001b[0m\n\u001b[1;32m    148\u001b[0m filtered_tb \u001b[38;5;241m=\u001b[39m \u001b[38;5;28;01mNone\u001b[39;00m\n\u001b[1;32m    149\u001b[0m \u001b[38;5;28;01mtry\u001b[39;00m:\n\u001b[0;32m--> 150\u001b[0m   \u001b[38;5;28;01mreturn\u001b[39;00m \u001b[43mfn\u001b[49m\u001b[43m(\u001b[49m\u001b[38;5;241;43m*\u001b[39;49m\u001b[43margs\u001b[49m\u001b[43m,\u001b[49m\u001b[43m \u001b[49m\u001b[38;5;241;43m*\u001b[39;49m\u001b[38;5;241;43m*\u001b[39;49m\u001b[43mkwargs\u001b[49m\u001b[43m)\u001b[49m\n\u001b[1;32m    151\u001b[0m \u001b[38;5;28;01mexcept\u001b[39;00m \u001b[38;5;167;01mException\u001b[39;00m \u001b[38;5;28;01mas\u001b[39;00m e:\n\u001b[1;32m    152\u001b[0m   filtered_tb \u001b[38;5;241m=\u001b[39m _process_traceback_frames(e\u001b[38;5;241m.\u001b[39m__traceback__)\n",
      "File \u001b[0;32m~/.pyenv/versions/eece571T/lib/python3.9/site-packages/tensorflow/python/eager/def_function.py:910\u001b[0m, in \u001b[0;36mFunction.__call__\u001b[0;34m(self, *args, **kwds)\u001b[0m\n\u001b[1;32m    907\u001b[0m compiler \u001b[38;5;241m=\u001b[39m \u001b[38;5;124m\"\u001b[39m\u001b[38;5;124mxla\u001b[39m\u001b[38;5;124m\"\u001b[39m \u001b[38;5;28;01mif\u001b[39;00m \u001b[38;5;28mself\u001b[39m\u001b[38;5;241m.\u001b[39m_jit_compile \u001b[38;5;28;01melse\u001b[39;00m \u001b[38;5;124m\"\u001b[39m\u001b[38;5;124mnonXla\u001b[39m\u001b[38;5;124m\"\u001b[39m\n\u001b[1;32m    909\u001b[0m \u001b[38;5;28;01mwith\u001b[39;00m OptionalXlaContext(\u001b[38;5;28mself\u001b[39m\u001b[38;5;241m.\u001b[39m_jit_compile):\n\u001b[0;32m--> 910\u001b[0m   result \u001b[38;5;241m=\u001b[39m \u001b[38;5;28;43mself\u001b[39;49m\u001b[38;5;241;43m.\u001b[39;49m\u001b[43m_call\u001b[49m\u001b[43m(\u001b[49m\u001b[38;5;241;43m*\u001b[39;49m\u001b[43margs\u001b[49m\u001b[43m,\u001b[49m\u001b[43m \u001b[49m\u001b[38;5;241;43m*\u001b[39;49m\u001b[38;5;241;43m*\u001b[39;49m\u001b[43mkwds\u001b[49m\u001b[43m)\u001b[49m\n\u001b[1;32m    912\u001b[0m new_tracing_count \u001b[38;5;241m=\u001b[39m \u001b[38;5;28mself\u001b[39m\u001b[38;5;241m.\u001b[39mexperimental_get_tracing_count()\n\u001b[1;32m    913\u001b[0m without_tracing \u001b[38;5;241m=\u001b[39m (tracing_count \u001b[38;5;241m==\u001b[39m new_tracing_count)\n",
      "File \u001b[0;32m~/.pyenv/versions/eece571T/lib/python3.9/site-packages/tensorflow/python/eager/def_function.py:942\u001b[0m, in \u001b[0;36mFunction._call\u001b[0;34m(self, *args, **kwds)\u001b[0m\n\u001b[1;32m    939\u001b[0m   \u001b[38;5;28mself\u001b[39m\u001b[38;5;241m.\u001b[39m_lock\u001b[38;5;241m.\u001b[39mrelease()\n\u001b[1;32m    940\u001b[0m   \u001b[38;5;66;03m# In this case we have created variables on the first call, so we run the\u001b[39;00m\n\u001b[1;32m    941\u001b[0m   \u001b[38;5;66;03m# defunned version which is guaranteed to never create variables.\u001b[39;00m\n\u001b[0;32m--> 942\u001b[0m   \u001b[38;5;28;01mreturn\u001b[39;00m \u001b[38;5;28;43mself\u001b[39;49m\u001b[38;5;241;43m.\u001b[39;49m\u001b[43m_stateless_fn\u001b[49m\u001b[43m(\u001b[49m\u001b[38;5;241;43m*\u001b[39;49m\u001b[43margs\u001b[49m\u001b[43m,\u001b[49m\u001b[43m \u001b[49m\u001b[38;5;241;43m*\u001b[39;49m\u001b[38;5;241;43m*\u001b[39;49m\u001b[43mkwds\u001b[49m\u001b[43m)\u001b[49m  \u001b[38;5;66;03m# pylint: disable=not-callable\u001b[39;00m\n\u001b[1;32m    943\u001b[0m \u001b[38;5;28;01melif\u001b[39;00m \u001b[38;5;28mself\u001b[39m\u001b[38;5;241m.\u001b[39m_stateful_fn \u001b[38;5;129;01mis\u001b[39;00m \u001b[38;5;129;01mnot\u001b[39;00m \u001b[38;5;28;01mNone\u001b[39;00m:\n\u001b[1;32m    944\u001b[0m   \u001b[38;5;66;03m# Release the lock early so that multiple threads can perform the call\u001b[39;00m\n\u001b[1;32m    945\u001b[0m   \u001b[38;5;66;03m# in parallel.\u001b[39;00m\n\u001b[1;32m    946\u001b[0m   \u001b[38;5;28mself\u001b[39m\u001b[38;5;241m.\u001b[39m_lock\u001b[38;5;241m.\u001b[39mrelease()\n",
      "File \u001b[0;32m~/.pyenv/versions/eece571T/lib/python3.9/site-packages/tensorflow/python/eager/function.py:3130\u001b[0m, in \u001b[0;36mFunction.__call__\u001b[0;34m(self, *args, **kwargs)\u001b[0m\n\u001b[1;32m   3127\u001b[0m \u001b[38;5;28;01mwith\u001b[39;00m \u001b[38;5;28mself\u001b[39m\u001b[38;5;241m.\u001b[39m_lock:\n\u001b[1;32m   3128\u001b[0m   (graph_function,\n\u001b[1;32m   3129\u001b[0m    filtered_flat_args) \u001b[38;5;241m=\u001b[39m \u001b[38;5;28mself\u001b[39m\u001b[38;5;241m.\u001b[39m_maybe_define_function(args, kwargs)\n\u001b[0;32m-> 3130\u001b[0m \u001b[38;5;28;01mreturn\u001b[39;00m \u001b[43mgraph_function\u001b[49m\u001b[38;5;241;43m.\u001b[39;49m\u001b[43m_call_flat\u001b[49m\u001b[43m(\u001b[49m\n\u001b[1;32m   3131\u001b[0m \u001b[43m    \u001b[49m\u001b[43mfiltered_flat_args\u001b[49m\u001b[43m,\u001b[49m\u001b[43m \u001b[49m\u001b[43mcaptured_inputs\u001b[49m\u001b[38;5;241;43m=\u001b[39;49m\u001b[43mgraph_function\u001b[49m\u001b[38;5;241;43m.\u001b[39;49m\u001b[43mcaptured_inputs\u001b[49m\u001b[43m)\u001b[49m\n",
      "File \u001b[0;32m~/.pyenv/versions/eece571T/lib/python3.9/site-packages/tensorflow/python/eager/function.py:1959\u001b[0m, in \u001b[0;36mConcreteFunction._call_flat\u001b[0;34m(self, args, captured_inputs, cancellation_manager)\u001b[0m\n\u001b[1;32m   1955\u001b[0m possible_gradient_type \u001b[38;5;241m=\u001b[39m gradients_util\u001b[38;5;241m.\u001b[39mPossibleTapeGradientTypes(args)\n\u001b[1;32m   1956\u001b[0m \u001b[38;5;28;01mif\u001b[39;00m (possible_gradient_type \u001b[38;5;241m==\u001b[39m gradients_util\u001b[38;5;241m.\u001b[39mPOSSIBLE_GRADIENT_TYPES_NONE\n\u001b[1;32m   1957\u001b[0m     \u001b[38;5;129;01mand\u001b[39;00m executing_eagerly):\n\u001b[1;32m   1958\u001b[0m   \u001b[38;5;66;03m# No tape is watching; skip to running the function.\u001b[39;00m\n\u001b[0;32m-> 1959\u001b[0m   \u001b[38;5;28;01mreturn\u001b[39;00m \u001b[38;5;28mself\u001b[39m\u001b[38;5;241m.\u001b[39m_build_call_outputs(\u001b[38;5;28;43mself\u001b[39;49m\u001b[38;5;241;43m.\u001b[39;49m\u001b[43m_inference_function\u001b[49m\u001b[38;5;241;43m.\u001b[39;49m\u001b[43mcall\u001b[49m\u001b[43m(\u001b[49m\n\u001b[1;32m   1960\u001b[0m \u001b[43m      \u001b[49m\u001b[43mctx\u001b[49m\u001b[43m,\u001b[49m\u001b[43m \u001b[49m\u001b[43margs\u001b[49m\u001b[43m,\u001b[49m\u001b[43m \u001b[49m\u001b[43mcancellation_manager\u001b[49m\u001b[38;5;241;43m=\u001b[39;49m\u001b[43mcancellation_manager\u001b[49m\u001b[43m)\u001b[49m)\n\u001b[1;32m   1961\u001b[0m forward_backward \u001b[38;5;241m=\u001b[39m \u001b[38;5;28mself\u001b[39m\u001b[38;5;241m.\u001b[39m_select_forward_and_backward_functions(\n\u001b[1;32m   1962\u001b[0m     args,\n\u001b[1;32m   1963\u001b[0m     possible_gradient_type,\n\u001b[1;32m   1964\u001b[0m     executing_eagerly)\n\u001b[1;32m   1965\u001b[0m forward_function, args_with_tangents \u001b[38;5;241m=\u001b[39m forward_backward\u001b[38;5;241m.\u001b[39mforward()\n",
      "File \u001b[0;32m~/.pyenv/versions/eece571T/lib/python3.9/site-packages/tensorflow/python/eager/function.py:598\u001b[0m, in \u001b[0;36m_EagerDefinedFunction.call\u001b[0;34m(self, ctx, args, cancellation_manager)\u001b[0m\n\u001b[1;32m    596\u001b[0m \u001b[38;5;28;01mwith\u001b[39;00m _InterpolateFunctionError(\u001b[38;5;28mself\u001b[39m):\n\u001b[1;32m    597\u001b[0m   \u001b[38;5;28;01mif\u001b[39;00m cancellation_manager \u001b[38;5;129;01mis\u001b[39;00m \u001b[38;5;28;01mNone\u001b[39;00m:\n\u001b[0;32m--> 598\u001b[0m     outputs \u001b[38;5;241m=\u001b[39m \u001b[43mexecute\u001b[49m\u001b[38;5;241;43m.\u001b[39;49m\u001b[43mexecute\u001b[49m\u001b[43m(\u001b[49m\n\u001b[1;32m    599\u001b[0m \u001b[43m        \u001b[49m\u001b[38;5;28;43mstr\u001b[39;49m\u001b[43m(\u001b[49m\u001b[38;5;28;43mself\u001b[39;49m\u001b[38;5;241;43m.\u001b[39;49m\u001b[43msignature\u001b[49m\u001b[38;5;241;43m.\u001b[39;49m\u001b[43mname\u001b[49m\u001b[43m)\u001b[49m\u001b[43m,\u001b[49m\n\u001b[1;32m    600\u001b[0m \u001b[43m        \u001b[49m\u001b[43mnum_outputs\u001b[49m\u001b[38;5;241;43m=\u001b[39;49m\u001b[38;5;28;43mself\u001b[39;49m\u001b[38;5;241;43m.\u001b[39;49m\u001b[43m_num_outputs\u001b[49m\u001b[43m,\u001b[49m\n\u001b[1;32m    601\u001b[0m \u001b[43m        \u001b[49m\u001b[43minputs\u001b[49m\u001b[38;5;241;43m=\u001b[39;49m\u001b[43margs\u001b[49m\u001b[43m,\u001b[49m\n\u001b[1;32m    602\u001b[0m \u001b[43m        \u001b[49m\u001b[43mattrs\u001b[49m\u001b[38;5;241;43m=\u001b[39;49m\u001b[43mattrs\u001b[49m\u001b[43m,\u001b[49m\n\u001b[1;32m    603\u001b[0m \u001b[43m        \u001b[49m\u001b[43mctx\u001b[49m\u001b[38;5;241;43m=\u001b[39;49m\u001b[43mctx\u001b[49m\u001b[43m)\u001b[49m\n\u001b[1;32m    604\u001b[0m   \u001b[38;5;28;01melse\u001b[39;00m:\n\u001b[1;32m    605\u001b[0m     outputs \u001b[38;5;241m=\u001b[39m execute\u001b[38;5;241m.\u001b[39mexecute_with_cancellation(\n\u001b[1;32m    606\u001b[0m         \u001b[38;5;28mstr\u001b[39m(\u001b[38;5;28mself\u001b[39m\u001b[38;5;241m.\u001b[39msignature\u001b[38;5;241m.\u001b[39mname),\n\u001b[1;32m    607\u001b[0m         num_outputs\u001b[38;5;241m=\u001b[39m\u001b[38;5;28mself\u001b[39m\u001b[38;5;241m.\u001b[39m_num_outputs,\n\u001b[0;32m   (...)\u001b[0m\n\u001b[1;32m    610\u001b[0m         ctx\u001b[38;5;241m=\u001b[39mctx,\n\u001b[1;32m    611\u001b[0m         cancellation_manager\u001b[38;5;241m=\u001b[39mcancellation_manager)\n",
      "File \u001b[0;32m~/.pyenv/versions/eece571T/lib/python3.9/site-packages/tensorflow/python/eager/execute.py:58\u001b[0m, in \u001b[0;36mquick_execute\u001b[0;34m(op_name, num_outputs, inputs, attrs, ctx, name)\u001b[0m\n\u001b[1;32m     56\u001b[0m \u001b[38;5;28;01mtry\u001b[39;00m:\n\u001b[1;32m     57\u001b[0m   ctx\u001b[38;5;241m.\u001b[39mensure_initialized()\n\u001b[0;32m---> 58\u001b[0m   tensors \u001b[38;5;241m=\u001b[39m \u001b[43mpywrap_tfe\u001b[49m\u001b[38;5;241;43m.\u001b[39;49m\u001b[43mTFE_Py_Execute\u001b[49m\u001b[43m(\u001b[49m\u001b[43mctx\u001b[49m\u001b[38;5;241;43m.\u001b[39;49m\u001b[43m_handle\u001b[49m\u001b[43m,\u001b[49m\u001b[43m \u001b[49m\u001b[43mdevice_name\u001b[49m\u001b[43m,\u001b[49m\u001b[43m \u001b[49m\u001b[43mop_name\u001b[49m\u001b[43m,\u001b[49m\n\u001b[1;32m     59\u001b[0m \u001b[43m                                      \u001b[49m\u001b[43minputs\u001b[49m\u001b[43m,\u001b[49m\u001b[43m \u001b[49m\u001b[43mattrs\u001b[49m\u001b[43m,\u001b[49m\u001b[43m \u001b[49m\u001b[43mnum_outputs\u001b[49m\u001b[43m)\u001b[49m\n\u001b[1;32m     60\u001b[0m \u001b[38;5;28;01mexcept\u001b[39;00m core\u001b[38;5;241m.\u001b[39m_NotOkStatusException \u001b[38;5;28;01mas\u001b[39;00m e:\n\u001b[1;32m     61\u001b[0m   \u001b[38;5;28;01mif\u001b[39;00m name \u001b[38;5;129;01mis\u001b[39;00m \u001b[38;5;129;01mnot\u001b[39;00m \u001b[38;5;28;01mNone\u001b[39;00m:\n",
      "\u001b[0;31mKeyboardInterrupt\u001b[0m: "
     ]
    }
   ],
   "source": [
    "# The fitting method should be placed in a variable so that results can be easily extracted later...\n",
    "# For now, I would like to see training happening in real time, so making it verbose I guess.\n",
    "# Still need to adjust hyper-parameters for better results... if I can get better results.\n",
    "# batch_size=256 (default given on the website)\n",
    "model.fit(x=X_train, y=data_train['emotion_enc'], batch_size=1, epochs=40,\n",
    "                     shuffle=True, verbose=1, validation_data=[X_val, data_val['emotion_enc']])"
   ]
  },
  {
   "cell_type": "code",
   "execution_count": 29,
   "metadata": {},
   "outputs": [
    {
     "name": "stdout",
     "output_type": "stream",
     "text": [
      "1000/1000 [==============================] - 5s 3ms/step - loss: 0.7393 - accuracy: 0.7275\n"
     ]
    },
    {
     "data": {
      "text/plain": [
       "[0.7392883896827698, 0.7275000214576721]"
      ]
     },
     "execution_count": 29,
     "metadata": {},
     "output_type": "execute_result"
    }
   ],
   "source": [
    "model.evaluate(X_test, data_test[\"emotion_enc\"], batch_size=2)"
   ]
  },
  {
   "cell_type": "code",
   "execution_count": 36,
   "metadata": {},
   "outputs": [
    {
     "data": {
      "text/plain": [
       "array([[7.05300365e-03, 4.03906545e-03, 9.51157272e-01, 1.45240808e-02,\n",
       "        2.19184756e-02, 1.30812370e-03],\n",
       "       [7.76913315e-02, 1.95582933e-03, 1.19362362e-02, 4.50924417e-04,\n",
       "        9.07127917e-01, 8.37749278e-04],\n",
       "       [1.76157206e-01, 8.05409029e-02, 2.62332186e-02, 1.02013838e-03,\n",
       "        7.03148782e-01, 1.28997555e-02],\n",
       "       ...,\n",
       "       [8.01671180e-04, 2.16602487e-03, 9.66567695e-01, 6.98006805e-03,\n",
       "        1.12308040e-02, 1.22537604e-02],\n",
       "       [2.96376832e-02, 5.71211101e-03, 8.61365855e-01, 9.56519693e-02,\n",
       "        7.53415702e-03, 9.81168705e-05],\n",
       "       [7.51884803e-02, 2.93652564e-01, 5.51766641e-02, 1.67350080e-02,\n",
       "        2.61369050e-01, 2.97878206e-01]], dtype=float32)"
      ]
     },
     "execution_count": 36,
     "metadata": {},
     "output_type": "execute_result"
    }
   ],
   "source": [
    "model.predict(X_test)"
   ]
  },
  {
   "cell_type": "markdown",
   "metadata": {
    "id": "qshai5NXPbt0",
    "jp-MarkdownHeadingCollapsed": true,
    "tags": []
   },
   "source": [
    "#### [IGNORE] ~Using GloVe (Pre-trained Word Embeddings)~"
   ]
  },
  {
   "cell_type": "code",
   "execution_count": null,
   "metadata": {
    "id": "Q9-xZ59BPbt0"
   },
   "outputs": [],
   "source": [
    "# IGNORE this code block for now.\n",
    "# import numpy as np\n",
    "\n",
    "# def create_embedding_matrix(model, word_index, embedding_dim):\n",
    "#     counter=0\n",
    "#     vocab_size = len(word_index) + 1\n",
    "#     embedding_matrix = np.zeros((len(word_index)+1, embedding_dim))\n",
    "    \n",
    "#     for word in word_index:\n",
    "#         idx = word_index[word]\n",
    "#         try:\n",
    "#             tmp_vec = model[word]\n",
    "#         except:\n",
    "#             tmp_vec = np.zeros(embedding_dim)\n",
    "#             counter += 1\n",
    "\n",
    "#         embedding_matrix[idx] = np.array(tmp_vec, dtype=np.float32)[:embedding_dim]\n",
    "    \n",
    "#     # with open(filepath) as f:\n",
    "#     #     for line in f:\n",
    "#     #         word, *vector = line.split()\n",
    "#     #         if word in word_index:\n",
    "#     #             idx = word_index[word]\n",
    "#     #             embedding_matrix[idx] = np.array(vector, dtype=np.float32)[:embedding_dim]\n",
    "#     print(f\"Word Index length: {len(word_index)}. Total number of 0's: {counter}\")\n",
    "#     return embedding_matrix"
   ]
  },
  {
   "cell_type": "code",
   "execution_count": null,
   "metadata": {
    "id": "hDo_14cNPbt0"
   },
   "outputs": [],
   "source": [
    "# word_index['test']\n",
    "# word_embed['test']\n",
    "# t1, *test = model['test']\n",
    "# print(t1)\n",
    "# print(test)\n",
    "# print(*test)"
   ]
  },
  {
   "cell_type": "code",
   "execution_count": null,
   "metadata": {
    "id": "ReAo3-zuPbt1",
    "tags": []
   },
   "outputs": [],
   "source": [
    "# IGNORE this code block for now.\n",
    "# embedding_dim = 25\n",
    "# embedding_matrix = create_embedding_matrix(word_embed, tokenizer.word_index, embedding_dim)"
   ]
  },
  {
   "cell_type": "markdown",
   "metadata": {
    "id": "nqF_6VpyPbt1",
    "tags": []
   },
   "source": [
    "#### **[IGNORE]** Training Neural Network"
   ]
  },
  {
   "cell_type": "code",
   "execution_count": null,
   "metadata": {
    "id": "rTquW7oWPbt2"
   },
   "outputs": [],
   "source": [
    "# from sklearn import model_selection, preprocessing, linear_model, naive_bayes, metrics, svm\n",
    "# def train_model(classifier, feature_vector_train, label, feature_vector_valid, is_neural_net=False):\n",
    "#     # fit the training dataset on the classifier\n",
    "#     classifier.fit(feature_vector_train, label)\n",
    "    \n",
    "#     # predict the labels on validation dataset\n",
    "#     predictions = classifier.predict(feature_vector_valid)\n",
    "    \n",
    "#     if is_neural_net:\n",
    "#         predictions = predictions.argmax(axis=-1)\n",
    "    \n",
    "#     return metrics.accuracy_score(predictions, data_val['label_enc'])"
   ]
  },
  {
   "cell_type": "code",
   "execution_count": null,
   "metadata": {
    "id": "42r9ks6uPbt2"
   },
   "outputs": [],
   "source": [
    "# # Test CNN (This doesn't work of course lol...)\n",
    "# from keras.models import Sequential\n",
    "# from keras import layers, models, optimizers\n",
    "\n",
    "# # Add an Input Layer\n",
    "# input_layer = layers.Input((50, ))\n",
    "\n",
    "# # Add the word embedding Layer\n",
    "# embedding_layer = layers.Embedding(vocab_size, 25, weights=[embedding_matrix], trainable=False)(input_layer)\n",
    "# embedding_layer = layers.SpatialDropout1D(0.3)(embedding_layer)\n",
    "\n",
    "# # Add the convolutional Layer\n",
    "# conv_layer = layers.Convolution1D(100, 3, activation=\"relu\")(embedding_layer)\n",
    "\n",
    "# # Add the pooling Layer\n",
    "# pooling_layer = layers.GlobalMaxPool1D()(conv_layer)\n",
    "\n",
    "# # Add the output Layers\n",
    "# output_layer1 = layers.Dense(50, activation=\"relu\")(pooling_layer)\n",
    "# output_layer1 = layers.Dropout(0.25)(output_layer1)\n",
    "# output_layer2 = layers.Dense(1, activation=\"sigmoid\")(output_layer1)\n",
    "\n",
    "# # Compile the model\n",
    "# model = models.Model(inputs=input_layer, outputs=output_layer2)\n",
    "# model.compile(optimizer='adam', loss='binary_crossentropy', metrics=['accuracy'])\n",
    "\n",
    "# accuracy = train_model(model, X_train, data_train['label_enc'], X_val, is_neural_net=True)\n",
    "# print(\"CNN, Word Embeddings\", accuracy)\n",
    "\n",
    "# history = model.fit(X_train, data_train['label_enc'],\n",
    "#                     epochs=10,\n",
    "#                     validation_data=(X_test, data_test['label_enc']),\n",
    "#                     batch_size=10)\n",
    "\n",
    "\n",
    "\n",
    "# embedding_dim = 50\n",
    "# model = Sequential()\n",
    "# model.add(layers.Embedding(vocab_size, embedding_dim, input_length=maxlen))\n",
    "# model.add(layers.Conv1D(128, 5, activation='relu'))\n",
    "# model.add(layers.GlobalMaxPooling1D())\n",
    "# model.add(layers.Dense(10, activation='relu'))\n",
    "# model.add(layers.Dense(1, activation='sigmoid'))\n",
    "# model.compile(optimizer='adam',\n",
    "#               loss='binary_crossentropy',\n",
    "#               metrics=['accuracy'])\n",
    "# history = model.fit(X_train, data_train['label_enc'],\n",
    "#                     epochs=10,\n",
    "#                     validation_data=(X_test, data_test['label_enc']),\n",
    "#                     batch_size=10)"
   ]
  },
  {
   "cell_type": "markdown",
   "metadata": {
    "id": "lVrMKBCmPbt2",
    "jp-MarkdownHeadingCollapsed": true,
    "tags": []
   },
   "source": [
    "#### **[IGNORE]** Ignore commented code (below) for the rest of this section."
   ]
  },
  {
   "cell_type": "code",
   "execution_count": null,
   "metadata": {
    "id": "LQb6WF0yPbt2"
   },
   "outputs": [],
   "source": [
    "# Testing n-grams stuff here.\n",
    "# import nltk\n",
    "# from nltk.util import ngrams\n",
    "# from collections import Counter\n",
    "\n",
    "# corpus = data_train[\"sentence\"]\n",
    "# for string in corpus:\n",
    "#     token = nltk.word_tokenize(string)\n",
    "#     bigrams = ngrams(token,2)\n",
    "#     trigrams = ngrams(token,3)\n",
    "# print(Counter(trigrams))"
   ]
  },
  {
   "cell_type": "code",
   "execution_count": null,
   "metadata": {
    "id": "BpeHaMt8Pbt2"
   },
   "outputs": [],
   "source": [
    "# Train our own word embedding model based on our own data set.\n",
    "# corpus = data_train[\"sentence\"]\n",
    "\n",
    "# Create list of lists of unigrams\n",
    "# lst_corpus = []\n",
    "# for string in corpus:\n",
    "#     lst_words = string.split()\n",
    "#     lst_grams = [\" \".join(lst_words[i:i+1]) for i in range(0, len(lst_words), 1)]\n",
    "#     lst_corpus.append(lst_grams)\n",
    "\n",
    "\n",
    "# Detect bigrams and trigrams\n",
    "# bigrams_detector = gensim.models.phrases.Phrases(lst_corpus, delimiter=\" \".encode(), min_count=5, threshold=10)\n",
    "# bigrams_detector = gensim.models.phrases.Phraser(bigrams_detector)\n",
    "\n",
    "# trigrams_detector = gensim.models.phrases.Phrases(bigrams_detector[lst_corpus], delimiter=\" \".encode(), min_count=5, threshold=10)\n",
    "# trigrams_detector = gensim.models.phrases.Phraser(trigrams_detector)\n",
    "\n",
    "# nlp = gensim.models.word2vec.Word2Vec(lst_corpus, vector_size=25, window=8, min_count=1, sg=1, epochs=30)\n",
    "# word = \"data\"\n",
    "# nlp[word].shape"
   ]
  },
  {
   "cell_type": "code",
   "execution_count": null,
   "metadata": {
    "id": "vIpmKoilPbt2"
   },
   "outputs": [],
   "source": [
    "# Testing code from StackOverflow\n",
    "# https://stackoverflow.com/questions/46129335/get-bigrams-and-trigrams-in-word2vec-gensim\n",
    "# documents = [\"the mayor of new york was there\", \"machine learning can be useful sometimes\",\"new york mayor was present\"]\n",
    "\n",
    "# sentence_stream = [doc.split(\" \") for doc in documents]\n",
    "# print(sentence_stream)\n",
    "\n",
    "# bigram = gensim.models.phrases.Phrases(sentence_stream, min_count=1, threshold=2, delimiter=b' ')\n",
    "\n",
    "# bigram_phraser = gensim.models.phrases.Phraser(bigram)\n",
    "\n",
    "\n",
    "# print(bigram_phraser)\n",
    "\n",
    "# for sent in sentence_stream:\n",
    "#     tokens_ = bigram_phraser[sent]\n",
    "\n",
    "#     print(tokens_)"
   ]
  },
  {
   "cell_type": "code",
   "execution_count": null,
   "metadata": {
    "id": "hZRSSdaxsMy3"
   },
   "outputs": [],
   "source": [
    "# Testing: Gets the index of where the embedded model\n",
    "# model.vocab[\"whatever\"].index\n",
    "# Now use the source above, section 2.3 and follow instructions there.\n",
    "# (And write it in the section below)"
   ]
  },
  {
   "cell_type": "markdown",
   "metadata": {
    "id": "xjaWwtbek649",
    "jp-MarkdownHeadingCollapsed": true,
    "tags": []
   },
   "source": [
    "## IGNORE THINGS IN THIS SECTION."
   ]
  },
  {
   "cell_type": "markdown",
   "metadata": {
    "id": "OcywnEKFVxd9"
   },
   "source": [
    "**Ignore code blocks below this one please.**"
   ]
  },
  {
   "cell_type": "code",
   "execution_count": null,
   "metadata": {
    "id": "5WdV1IG0JCWf"
   },
   "outputs": [],
   "source": [
    "# import nltk\n",
    "# from nltk.corpus import stopwords\n",
    "# nltk.download('punkt')\n",
    "# nltk.download('stopwords')\n",
    "\n",
    "# # Filter out stopwords\n",
    "# stop_words = set(stopwords.words('english'))\n",
    "\n",
    "# words = [word for word in words if not word in stop_words]"
   ]
  },
  {
   "cell_type": "code",
   "execution_count": null,
   "metadata": {
    "id": "NC31INsoHmNE"
   },
   "outputs": [],
   "source": [
    "# from keras_preprocessing.text import Tokenizer\n",
    "# tokenizer = Tokenizer()\n",
    "# tokenizer.fit_on_texts(pd.concat(data_train, axis=0))"
   ]
  },
  {
   "cell_type": "code",
   "execution_count": null,
   "metadata": {
    "id": "eZjIwxrqH487"
   },
   "outputs": [],
   "source": [
    "# vocabSize = 15000"
   ]
  },
  {
   "cell_type": "markdown",
   "metadata": {
    "id": "4OGxJ0j5O__d"
   },
   "source": [
    "Padding will require the text to be already in numbers... so I can't run this yet."
   ]
  },
  {
   "cell_type": "code",
   "execution_count": null,
   "metadata": {
    "id": "rl0_r2neH690"
   },
   "outputs": [],
   "source": [
    "# from nltk.stem.porter import PorterStemmer\n",
    "# from tensorflow.keras.preprocessing.sequence import pad_sequences\n",
    "# import re\n",
    "\n",
    "# def text_cleaning(df, column):\n",
    "#   stemmer = PorterStemmer()\n",
    "#   corpus = []\n",
    "\n",
    "#   for text in df[column]:\n",
    "#     text = re.sub(\"[^a-zA-Z]\", \" \", text)\n",
    "#     text = text.lower()\n",
    "#     text = text.split()\n",
    "#     text = [stemmer.stem(word) for word in text if word not in stop_words]\n",
    "#     text = \" \".join(text)\n",
    "#     corpus.append(text)\n",
    "  \n",
    "#   # pad = pad_sequences(sequences=corpus, maxlen=max_len, padding='pre')\n",
    "#   # return pad\n",
    "#   return corpus"
   ]
  },
  {
   "cell_type": "code",
   "execution_count": null,
   "metadata": {
    "id": "nVLWdKpaKfex"
   },
   "outputs": [],
   "source": [
    "# data_train_clean = text_cleaning(data_train, 'sentence')\n",
    "# data_test_clean = text_cleaning(data_test, 'sentence')\n",
    "# data_val_clean = text_cleaning(data_val, 'sentence')"
   ]
  },
  {
   "cell_type": "markdown",
   "metadata": {
    "id": "1av-NH6N034E"
   },
   "source": [
    "### Pre-Processing: Method 1\n",
    "\n",
    "Source: https://towardsdatascience.com/using-word2vec-to-analyze-news-headlines-and-predict-article-success-cdeda5f14751"
   ]
  },
  {
   "cell_type": "code",
   "execution_count": null,
   "metadata": {
    "id": "S0TCQh74V32I"
   },
   "outputs": [],
   "source": [
    "# from sklearn import model_selection, preprocessing, linear_model, naive_bayes, metrics, svm\n",
    "# from sklearn.feature_extraction.text import TfidfVectorizer, CountVectorizer\n",
    "# from sklearn import decomposition, ensemble\n",
    "\n",
    "# import pandas, xgboost, numpy, textblob, string\n",
    "# from keras.preprocessing import text, sequence\n",
    "# from keras import layers, models, optimizers\n",
    "\n",
    "# train_seq_x = sequence.pad_sequences(token.texts_to_sequences(data_train['sentence']), maxlen=300)\n",
    "# test_seq_x = sequence.pad_sequences(token.texts_to_sequences(data_test['sentence']), maxlen=300)\n",
    "# valid_seq_x = sequence.pad_sequences(token.texts_to_sequences(data_val['sentence']), maxlen=300)"
   ]
  },
  {
   "cell_type": "code",
   "execution_count": null,
   "metadata": {
    "id": "1yLxfHPCx4fD"
   },
   "outputs": [],
   "source": [
    "# Create list of strings into a single long string for processing\n",
    "# title_list = [title for title in data_train['sentence']]\n",
    "\n",
    "# We definitely are not doing this.\n",
    "# Collapse the list of strings into a single long string for processing\n",
    "# big_title_string = ' '.join(title_list)"
   ]
  },
  {
   "cell_type": "code",
   "execution_count": null,
   "metadata": {
    "id": "O2mvRI_nzT4j"
   },
   "outputs": [],
   "source": [
    "# from nltk.tokenize import word_tokenize\n",
    "# Tokenize the string into words\n",
    "# tokens = word_tokenize(big_title_string)\n",
    "\n",
    "# Filter out stopwords\n",
    "# from nltk.corpus import stopwords\n",
    "# stop_words = set(stopwords.words('english'))\n",
    "\n",
    "# words = [word for word in words if not word in stop_words]"
   ]
  },
  {
   "cell_type": "markdown",
   "metadata": {
    "id": "wLKapia-1GDk"
   },
   "source": [
    "### Pre-Processing: Method 2\n",
    "\n",
    "Sources:\n",
    "\n",
    "* https://github.com/adsieg/Multi_Text_Classification/blob/master/%5BIntroduction%5D%20-%20Big%20tutorial%20-%20Text%20Classification.ipynb\n",
    "* https://www.tensorflow.org/text/guide/word_embeddings\n",
    "* Only BOW and TF-IDF: https://www.analyticsvidhya.com/blog/2021/06/part-5-step-by-step-guide-to-master-nlp-text-vectorization-approaches/"
   ]
  },
  {
   "cell_type": "code",
   "execution_count": null,
   "metadata": {
    "id": "4D4g0Y622mgc"
   },
   "outputs": [],
   "source": [
    "# from sklearn import model_selection, preprocessing, linear_model, naive_bayes, metrics, svm\n",
    "# from sklearn.feature_extraction.text import TfidfVectorizer, CountVectorizer\n",
    "# from sklearn import decomposition, ensemble\n",
    "\n",
    "# import pandas, xgboost, numpy, textblob, string\n",
    "# from keras.preprocessing import text, sequence\n",
    "# from keras import layers, models, optimizers"
   ]
  },
  {
   "cell_type": "code",
   "execution_count": null,
   "metadata": {
    "id": "RQtB1K1x3UU1"
   },
   "outputs": [],
   "source": [
    "# data_train['length'] = [len(x) for x in token]\n",
    "# data_train.head()\n",
    "# max_len = data_train['length'].max()\n",
    "# print(max_len)"
   ]
  },
  {
   "cell_type": "markdown",
   "metadata": {
    "id": "DHP0--sCkC-z"
   },
   "source": [
    "### Word Vectorization\n",
    "\n",
    "We can use the `gensim` library to train our own word2vec model on a custom corpus either with CBOW or Skip Gram."
   ]
  },
  {
   "cell_type": "markdown",
   "metadata": {
    "id": "9b9z05AQyy4P"
   },
   "source": [
    "word2vec cannot create a vector from a word that is not in its vocabulary. So we need to specify \"if word in model.vocab\" when creating the full list of word vectors (source: https://towardsdatascience.com/using-word2vec-to-analyze-news-headlines-and-predict-article-success-cdeda5f14751)"
   ]
  },
  {
   "cell_type": "code",
   "execution_count": null,
   "metadata": {
    "id": "nfwxCBpUmCBc"
   },
   "outputs": [],
   "source": [
    "# Relevant Libraries for Word Vectorization\n",
    "# from sklearn import model_selection, preprocessing, linear_model, naive_bayes, metrics, svm\n",
    "# from sklearn.feature_extraction.text import TfidfVectorizer, CountVectorizer\n",
    "# from sklearn import decomposition, ensemble\n",
    "# from sklearn.preprocessing import LabelEncoder\n",
    "\n",
    "# !pip install nltk\n",
    "# !pip install gensim\n",
    "# import gensim\n",
    "# from nltk.tokenize import sent_tokenize, word_tokenize\n",
    "# from gensim.models import Word2Vec"
   ]
  }
 ],
 "metadata": {
  "colab": {
   "collapsed_sections": [
    "ifCzi282UO64",
    "UFTJfJkrO06u",
    "LWVt__H7R9zl",
    "PLR3Zasdel1c",
    "qshai5NXPbt0",
    "nqF_6VpyPbt1",
    "lVrMKBCmPbt2",
    "xjaWwtbek649",
    "1av-NH6N034E",
    "wLKapia-1GDk",
    "DHP0--sCkC-z"
   ],
   "history_visible": true,
   "name": "EECE_571T_Project_Testing.ipynb",
   "provenance": []
  },
  "kernelspec": {
   "display_name": "eece571T",
   "language": "python",
   "name": "eece571t"
  },
  "language_info": {
   "codemirror_mode": {
    "name": "ipython",
    "version": 3
   },
   "file_extension": ".py",
   "mimetype": "text/x-python",
   "name": "python",
   "nbconvert_exporter": "python",
   "pygments_lexer": "ipython3",
   "version": "3.9.9"
  }
 },
 "nbformat": 4,
 "nbformat_minor": 4
}
